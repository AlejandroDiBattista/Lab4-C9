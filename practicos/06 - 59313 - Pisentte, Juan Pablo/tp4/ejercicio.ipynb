{
 "cells": [
  {
   "cell_type": "markdown",
   "metadata": {},
   "source": [
    "# Simulación del Truco"
   ]
  },
  {
   "cell_type": "markdown",
   "metadata": {},
   "source": [
    "Las **cartas** deben registra el numero, palo y valor de la carta. \n",
    "El valor debe reflejar la jerarquía de las cartas en el juego del truco."
   ]
  },
  {
   "cell_type": "code",
   "execution_count": 4,
   "metadata": {},
   "outputs": [],
   "source": [
    "import random\n",
    "\n",
    "def calcular_valor(numero, palo):\n",
    "    jerarquia = {\n",
    "        (1, 'espada'): 14, (1, 'basto'): 13, (7, 'espada'): 12, (7, 'oro'): 11,\n",
    "        (3, 'oro'): 10, (3, 'copa'): 10, (3, 'espada'): 10, (3, 'basto'): 10,\n",
    "        (2, 'oro'): 9, (2, 'copa'): 9, (2, 'espada'): 9, (2, 'basto'): 9,\n",
    "        (1, 'oro'): 8, (1, 'copa'): 8, (12, 'oro'): 7, (12, 'copa'): 7, \n",
    "        (12, 'espada'): 7, (12, 'basto'): 7, (11, 'oro'): 6, (11, 'copa'): 6, \n",
    "        (11, 'espada'): 6, (11, 'basto'): 6, (10, 'oro'): 5, (10, 'copa'): 5, \n",
    "        (10, 'espada'): 5, (10, 'basto'): 5, (7, 'copa'): 4, (7, 'basto'): 4,\n",
    "        (6, 'oro'): 3, (6, 'copa'): 3, (6, 'espada'): 3, (6, 'basto'): 3,\n",
    "        (5, 'oro'): 2, (5, 'copa'): 2, (5, 'espada'): 2, (5, 'basto'): 2,\n",
    "        (4, 'oro'): 1, (4, 'copa'): 1, (4, 'espada'): 1, (4, 'basto'): 1\n",
    "    }\n",
    "    return jerarquia.get((numero, palo), 0)\n",
    "\n",
    "\n",
    "class Carta:\n",
    "    def __init__(self, numero, palo):\n",
    "        self.numero = numero\n",
    "        self.palo = palo\n",
    "        self.valor = calcular_valor(numero, palo)\n",
    "    \n",
    "    def __str__(self):\n",
    "        return f\"{self.numero} de {self.palo} (valor: {self.valor})\""
   ]
  },
  {
   "cell_type": "markdown",
   "metadata": {},
   "source": [
    "**Mazo**: Representan las cartas españolas de 1 al 12, en los palos de oro, copa, espada y basto.\n",
    "\n",
    "Debe existir una función que permita barajar las cartas.\n",
    "y otra función que permita repartir las cartas a los jugadores."
   ]
  },
  {
   "cell_type": "code",
   "execution_count": 5,
   "metadata": {},
   "outputs": [
    {
     "name": "stdout",
     "output_type": "stream",
     "text": [
      "None\n"
     ]
    }
   ],
   "source": [
    "import random\n",
    "\n",
    "class Mazo:\n",
    "    def __init__(self):\n",
    "        self.cartas = [Carta(numero, palo) for numero in range(1, 13)\n",
    "                       for palo in ['oro', 'copa', 'espada', 'basto']]\n",
    "    \n",
    "    def mezclar(self):\n",
    "        random.shuffle(self.cartas)\n",
    "    \n",
    "    def repartir(self, cantidad):\n",
    "        return [self.cartas.pop() for _ in range(cantidad)]"
   ]
  },
  {
   "cell_type": "markdown",
   "metadata": {},
   "source": [
    "**Jugador**: Deben tener un nombre y las cartas que tiene en la mano. Debe acumular los puntos ganados.\n",
    "\n",
    "Nota: Para simplificar el problema, el jugador elige la carta a jugar de forma aleatoria."
   ]
  },
  {
   "cell_type": "code",
   "execution_count": 6,
   "metadata": {},
   "outputs": [
    {
     "name": "stdout",
     "output_type": "stream",
     "text": [
      "None\n"
     ]
    }
   ],
   "source": [
    "class Jugador:\n",
    "    def __init__(self, nombre):\n",
    "        self.nombre = nombre\n",
    "        self.cartas = []\n",
    "        self.puntos = 0\n",
    "    \n",
    "    def recibir_cartas(self, cartas):\n",
    "        self.cartas = cartas\n",
    "    \n",
    "    def jugar_carta(self):\n",
    "        return self.cartas.pop(random.randint(0, len(self.cartas) - 1))"
   ]
  },
  {
   "cell_type": "markdown",
   "metadata": {},
   "source": [
    "**Partida**: Debe tener dos jugadores, un mazo de cartas y un puntaje. Debe permitir jugar una carta por ronda y definir el ganador de la ronda. Debe permitir jugar hasta que se terminen las cartas del mazo."
   ]
  },
  {
   "cell_type": "code",
   "execution_count": null,
   "metadata": {},
   "outputs": [],
   "source": [
    "import random\n",
    "\n",
    "class Partida:\n",
    "    def __init__(self, juan, pedro):\n",
    "        self.juan = juan\n",
    "        self.pedro = pedro\n",
    "        self.mazo = Mazo()\n",
    "        self.puntos_juan = 0\n",
    "        self.puntos_pedro = 0\n",
    "    \n",
    "    def jugar_ronda(self):\n",
    "        carta_j1 = self.juan.jugar_carta()\n",
    "        carta_j2 = self.pedro.jugar_carta()\n",
    "        \n",
    "        print(f\"{self.juan.nombre} juega {carta_j1}\")\n",
    "        print(f\"{self.pedro.nombre} juega {carta_j2}\")\n",
    "        \n",
    "        if carta_j1.valor > carta_j2.valor:\n",
    "            self.puntos_juan += 1\n",
    "            print(f\"Ganó {self.juan.nombre}\")\n",
    "        elif carta_j1.valor < carta_j2.valor:\n",
    "            self.puntos_pedro += 1\n",
    "            print(f\"Ganó {self.pedro.nombre}\")\n",
    "        else:\n",
    "            print(\"Empate\")\n",
    "    \n",
    "    def jugar(self):\n",
    "        self.mazo.mezclar()\n",
    "        while self.puntos_juan < 15 and self.puntos_pedro < 15 and len(self.mazo.cartas) >= 6:\n",
    "            self.juan.recibir_cartas(self.mazo.repartir(3))\n",
    "            self.pedro.recibir_cartas(self.mazo.repartir(3))\n",
    "            \n",
    "            for _ in range(3):\n",
    "                self.jugar_ronda()\n",
    "            \n",
    "            print(f\"Puntaje: {self.juan.nombre}: {self.puntos_juan}, {self.pedro.nombre}: {self.puntos_pedro}\")\n",
    "        \n",
    "        if self.puntos_juan > self.puntos_pedro:\n",
    "            print(f\"Ganó la partida {self.juan.nombre}\")\n",
    "        else:\n",
    "            print(f\"Ganó la partida {self.pedro.nombre}\")\n",
    "\n",
    "\n",
    "p = Partida(Jugador(\"Juan\"), Jugador(\"Pedro\"))\n",
    "p.jugar()"
   ]
  }
 ],
 "metadata": {
  "kernelspec": {
   "display_name": "Python 3",
   "language": "python",
   "name": "python3"
  },
  "language_info": {
   "codemirror_mode": {
    "name": "ipython",
    "version": 3
   },
   "file_extension": ".py",
   "mimetype": "text/x-python",
   "name": "python",
   "nbconvert_exporter": "python",
   "pygments_lexer": "ipython3",
   "version": "3.12.5"
  }
 },
 "nbformat": 4,
 "nbformat_minor": 2
}
