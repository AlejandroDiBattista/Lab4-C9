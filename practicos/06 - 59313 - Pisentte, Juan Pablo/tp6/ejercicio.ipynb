{
 "cells": [
  {
   "cell_type": "markdown",
   "metadata": {},
   "source": [
    "# TP6\n",
    "\n",
    "### `Resolver usando Pandas`\n",
    "\n",
    "Resolver los ejercicios del TP3 utilizando la librería Pandas."
   ]
  },
  {
   "cell_type": "markdown",
   "metadata": {},
   "source": [
    "### Ejercicio 1: Cargar Datos de ventas.\n",
    "\n",
    "El archivo datos.dat contiene el registro de las ventas realizadas.\n",
    "\n",
    "Tiene un formato de ancho fijo:\n",
    "- `fecha`:    10 lugares\n",
    "- `producto`: 30 lugares\n",
    "- `precio`:   10 lugares\n",
    "- `cantidad`:  5 lugares\n",
    "\n",
    "Hacer una funcion que cargue los datos en un DataFrame de Pandas."
   ]
  },
  {
   "cell_type": "code",
   "execution_count": null,
   "metadata": {},
   "outputs": [],
   "source": [
    "import pandas as pd\n",
    "import numpy as np\n",
    "\n",
    "def cargar_datos():\n",
    "    \"\"\"\n",
    "    Carga datos desde un archivo de ancho fijo y aplica las conversiones necesarias.\n",
    "    \"\"\"\n",
    "    colspecs = [(0, 10), (10, 40), (40, 50), (50, 55)]\n",
    "    \n",
    "    try:\n",
    "        datos = pd.read_fwf('datos.dat', \n",
    "                           colspecs=colspecs,\n",
    "                           names=['fecha', 'producto', 'precio', 'cantidad'],\n",
    "                           dtype={'producto': str, 'precio': float, 'cantidad': int})\n",
    "        \n",
    "        datos['producto'] = datos['producto'].str.strip()\n",
    "        datos['fecha'] = pd.to_datetime(datos['fecha'], errors='coerce')\n",
    "        \n",
    "        if datos.isnull().any().any():\n",
    "            print(\"Advertencia: Se encontraron valores nulos en los datos\")\n",
    "            \n",
    "        return datos\n",
    "        \n",
    "    except FileNotFoundError:\n",
    "        print(\"Error: No se encontró el archivo datos.dat\")\n",
    "        return pd.DataFrame(columns=['fecha', 'producto', 'precio', 'cantidad'])\n",
    "    except Exception as e:\n",
    "        print(f\"Error al cargar los datos: {str(e)}\")\n",
    "        return pd.DataFrame(columns=['fecha', 'producto', 'precio', 'cantidad'])\n"
   ]
  },
  {
   "cell_type": "markdown",
   "metadata": {},
   "source": [
    "### Ejercicio 2: Calcular el total de ventas.\n",
    "Hacer una función que sume los importes vendidos (precio * cantidad) y las cantidades.\n"
   ]
  },
  {
   "cell_type": "code",
   "execution_count": null,
   "metadata": {},
   "outputs": [],
   "source": [
    "def calcular_totales(datos):\n",
    "    \"\"\"\n",
    "    Calcula los totales de ventas y cantidades con validación de datos.\n",
    "    \"\"\"\n",
    "    if datos.empty:\n",
    "        return 0, 0\n",
    "        \n",
    "    total_importe = np.sum(datos['precio'].values * datos['cantidad'].values)\n",
    "    total_cantidad = datos['cantidad'].sum()\n",
    "    \n",
    "    return total_importe, total_cantidad"
   ]
  },
  {
   "cell_type": "markdown",
   "metadata": {},
   "source": [
    "### Ejercicio 3: Listar las unidades vendidas.\n",
    "Listar cuántas unidades se vendieron en total para cada producto\n"
   ]
  },
  {
   "cell_type": "code",
   "execution_count": null,
   "metadata": {},
   "outputs": [],
   "source": [
    "def unidades_vendidas(datos):\n",
    "    \"\"\"\n",
    "    Calcula las unidades vendidas por producto con mejor manejo de datos.\n",
    "    \"\"\"\n",
    "    if datos.empty:\n",
    "        return pd.Series(dtype=int)\n",
    "        \n",
    "    return datos.groupby('producto', observed=True)['cantidad'].sum().sort_values(ascending=False)"
   ]
  },
  {
   "cell_type": "markdown",
   "metadata": {},
   "source": [
    "###  Ejercicio 4: Listar el precio promedio por producto.\n",
    "Hacer un listado del precio promedio por producto.\n"
   ]
  },
  {
   "cell_type": "code",
   "execution_count": null,
   "metadata": {},
   "outputs": [],
   "source": [
    "def precio_promedio(datos):\n",
    "    \"\"\"\n",
    "    Calcula el precio promedio por producto con manejo de casos especiales.\n",
    "    \"\"\"\n",
    "    if datos.empty:\n",
    "        return pd.Series(dtype=float)\n",
    "        \n",
    "    return (datos.groupby('producto')\n",
    "            .agg({'precio': 'mean'})\n",
    "            .round(2)\n",
    "            .squeeze())"
   ]
  },
  {
   "cell_type": "markdown",
   "metadata": {},
   "source": [
    "### Ejercicio 5: Ranking de productos\n",
    "Realizar un listado de los 3 productos más vendidos ordenados por la cantidad de unidades vendidas (ordenadas de mayor a menor)\n"
   ]
  },
  {
   "cell_type": "code",
   "execution_count": null,
   "metadata": {},
   "outputs": [],
   "source": [
    "def ranking_productos(datos, top=3):\n",
    "    \"\"\"\n",
    "    Obtiene el ranking de productos con mejor manejo de empates.\n",
    "    \"\"\"\n",
    "    if datos.empty:\n",
    "        return pd.Series(dtype=int)\n",
    "        \n",
    "    ventas = (datos.groupby('producto')['cantidad']\n",
    "             .sum()\n",
    "             .sort_values(ascending=False)\n",
    "             .head(top))\n",
    "    \n",
    "    return ventas"
   ]
  },
  {
   "cell_type": "markdown",
   "metadata": {},
   "source": [
    "### Ejercicio 6: Listar las ventas por mes\n",
    "Realizar un listado del total de unidades vendidas por producto separado por mes.\n"
   ]
  },
  {
   "cell_type": "code",
   "execution_count": null,
   "metadata": {},
   "outputs": [],
   "source": [
    "def ventas_por_mes(datos):\n",
    "    \"\"\"\n",
    "    Genera un informe mensual de ventas con mejor formato.\n",
    "    \"\"\"\n",
    "    if datos.empty:\n",
    "        return pd.DataFrame()\n",
    "        \n",
    "    datos = datos.copy()\n",
    "    datos['mes'] = datos['fecha'].dt.to_period('M')\n",
    "    \n",
    "    pivot_table = (datos.pivot_table(index='mes',\n",
    "                                   columns='producto',\n",
    "                                   values='cantidad',\n",
    "                                   aggfunc='sum',\n",
    "                                   fill_value=0))\n",
    "    \n",
    "    return pivot_table"
   ]
  },
  {
   "cell_type": "markdown",
   "metadata": {},
   "source": [
    "### Ejercicio 7: Informe general\n",
    "\n",
    "Mostrar un listado de productos ordenados alfabeticamente que contengan el precio promedio, la cantidad de unidades vendidas y el importe total vendido para cada producto"
   ]
  },
  {
   "cell_type": "code",
   "execution_count": null,
   "metadata": {},
   "outputs": [],
   "source": [
    "def resumen_ventas(datos):\n",
    "    \"\"\"\n",
    "    Genera un resumen completo de ventas con cálculos optimizados.\n",
    "    \"\"\"\n",
    "    if datos.empty:\n",
    "        return pd.DataFrame(columns=['importe_total', 'unidades_vendidas', 'precio_promedio'])\n",
    "    \n",
    "    resumen = (datos.groupby('producto')\n",
    "               .agg({\n",
    "                   'cantidad': 'sum',\n",
    "                   'precio': lambda x: (x * datos.loc[x.index, 'cantidad']).sum()\n",
    "               })\n",
    "               .rename(columns={\n",
    "                   'cantidad': 'unidades_vendidas',\n",
    "                   'precio': 'importe_total'\n",
    "               }))\n",
    "    \n",
    "    resumen['precio_promedio'] = (resumen['importe_total'] / \n",
    "                                 resumen['unidades_vendidas']).round(2)\n",
    "    \n",
    "    return resumen.sort_index()"
   ]
  },
  {
   "cell_type": "markdown",
   "metadata": {},
   "source": [
    "## `Resolver usando NumPy`\n",
    "## Resolver el ejercicio 2 del tp1 usando NumPy"
   ]
  },
  {
   "cell_type": "markdown",
   "metadata": {},
   "source": [
    "### Ejercicio 8\n",
    "\n",
    "Escribe una función en Python que encuentre los valores de `a`, `b`, y `c` para que la función cuadrática `f(x) = a x^2 + b x + c` pase exactamente por los siguientes puntos:\n",
    "\n",
    "| x  | y  |\n",
    "|---:|---:|\n",
    "|  0 |  0 |\n",
    "|  1 |  8 |\n",
    "|  2 | 12 |\n",
    "|  3 | 12 |\n",
    "|  5 |  0 |\n",
    "\n",
    "### Requisitos:\n",
    "- La función debe explorar posibles valores de `a`, `b`, y `c` utilizando un método de prueba y error.\n",
    "- Debe devolver los valores que hagan que la diferencia entre la función `f(x)` y los valores medidos `y` sea exactamente cero para cada punto.\n",
    "\n",
    "> **Pista**: Los valores de `a`, `b`, y `c` son números pequeños.\n",
    "\n",
    "La idea es implementar el mismo algoritmo que se uso en el TP1 pero usando NumPy en lugar de Python puro."
   ]
  },
  {
   "cell_type": "code",
   "execution_count": 4,
   "metadata": {},
   "outputs": [
    {
     "data": {
      "text/plain": [
       "(-2, 10, 0)"
      ]
     },
     "execution_count": 4,
     "metadata": {},
     "output_type": "execute_result"
    }
   ],
   "source": [
    "import numpy as np\n",
    "\n",
    "def f(x, coeficientes):\n",
    "    a, b, c = coeficientes\n",
    "    return a*x**2 + b*x + c\n",
    "\n",
    "X = np.array([0, 1, 2, 3, 5])\n",
    "Y = np.array([0, 8, 12, 12, 0])\n",
    "\n",
    "A = np.vstack([X**2, X, np.ones(len(X))]).T\n",
    "\n",
    "coeficientes, _, _, _ = np.linalg.lstsq(A, Y, rcond=None)\n",
    "\n",
    "print(\"Coeficientes a, b, c:\", coeficientes)\n",
    "\n",
    "Y_pred = f(X, coeficientes)\n",
    "print(\"Valores predichos por la función:\", Y_pred)\n",
    "\n",
    "error = np.abs(Y - Y_pred)\n",
    "print(\"Error en cada punto:\", error)\n",
    "\n",
    "tolerancia = 1e-10  \n",
    "if np.all(error < tolerancia):\n",
    "    print(\"La función pasa exactamente por todos los puntos dados.\")\n",
    "else:\n",
    "    print(\"La función no pasa exactamente por todos los puntos dados.\")"
   ]
  },
  {
   "cell_type": "markdown",
   "metadata": {},
   "source": [
    "### Ejercicio 9: Resolver el ejercicio 3 del TP1 usando NumPy\n",
    "Buscar los coeficientes de la función que minimice la suma de los cuadrados de las diferencias entre los valores medidos y los valores de la función.\n",
    "\n",
    "1. Crear un array con los coeficientes elegidos al azar (usar `randint(-10,10,3)`).\n",
    "2. Calcular el valor de la función y el error correspondiente.\n",
    "3. Mientras que el error sea mayor a 1:\n",
    "    1. Definir nuevos coeficientes agregándoles un pequeño valor al azar a los coeficientes actuales (aprendizaje = 0.001).\n",
    "    2. Si el error para los nuevos coeficientes es menor que el anterior, reemplazar los coeficientes actuales por los nuevos.\n"
   ]
  },
  {
   "cell_type": "code",
   "execution_count": 121,
   "metadata": {},
   "outputs": [
    {
     "name": "stdout",
     "output_type": "stream",
     "text": [
      "Los coeficientes son [-1.781  8.961  0.615] y el error es 0.9958049999998968\n"
     ]
    },
    {
     "data": {
      "text/plain": [
       "array([-1.781,  8.961,  0.615])"
      ]
     },
     "execution_count": 121,
     "metadata": {},
     "output_type": "execute_result"
    }
   ],
   "source": [
    "import numpy as np\n",
    "from numpy.random import randint\n",
    "\n",
    "def f(x, coeficientes):\n",
    "    a, b, c = coeficientes\n",
    "    return a*x**2 + b*x + c\n",
    "\n",
    "def error(y, y_pred):\n",
    "    return np.sum((y - y_pred)**2)\n",
    "\n",
    "X = np.array([0, 1, 2, 3, 5])\n",
    "Y = np.array([0, 8, 12, 11, 1])\n",
    "\n",
    "def buscar_coeficientes():\n",
    "    coeficientes = randint(-10, 10, 3)\n",
    "    \n",
    "    Y_pred = f(X, coeficientes)\n",
    "    error_actual = error(Y, Y_pred)\n",
    "    \n",
    "    aprendizaje = 0.001\n",
    "    \n",
    "    while error_actual > 1:\n",
    "        nuevos_coeficientes = coeficientes + np.random.uniform(-aprendizaje, aprendizaje, 3)\n",
    "        \n",
    "        Y_pred_nuevo = f(X, nuevos_coeficientes)\n",
    "        nuevo_error = error(Y, Y_pred_nuevo)\n",
    "        \n",
    "        \n",
    "        if nuevo_error < error_actual:\n",
    "            coeficientes = nuevos_coeficientes\n",
    "            error_actual = nuevo_error\n",
    "            \n",
    "    return coeficientes\n",
    "\n",
    "\n",
    "coeficientes = buscar_coeficientes()\n",
    "print(\"Coeficientes encontrados:\", coeficientes)"
   ]
  }
 ],
 "metadata": {
  "kernelspec": {
   "display_name": "Python 3",
   "language": "python",
   "name": "python3"
  },
  "language_info": {
   "codemirror_mode": {
    "name": "ipython",
    "version": 3
   },
   "file_extension": ".py",
   "mimetype": "text/x-python",
   "name": "python",
   "nbconvert_exporter": "python",
   "pygments_lexer": "ipython3",
   "version": "3.12.5"
  }
 },
 "nbformat": 4,
 "nbformat_minor": 2
}
