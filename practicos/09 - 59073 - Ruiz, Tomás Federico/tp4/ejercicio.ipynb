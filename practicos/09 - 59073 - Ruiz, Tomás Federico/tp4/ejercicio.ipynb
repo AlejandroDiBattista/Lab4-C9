{
 "cells": [
  {
   "cell_type": "markdown",
   "metadata": {},
   "source": [
    "# Simulación del Truco"
   ]
  },
  {
   "cell_type": "markdown",
   "metadata": {},
   "source": [
    "Las **cartas** deben registra el numero, palo y valor de la carta. \n",
    "El valor debe reflejar la jerarquía de las cartas en el juego del truco."
   ]
  },
  {
   "cell_type": "code",
   "execution_count": 4,
   "metadata": {},
   "outputs": [],
   "source": [
    "import random\n",
    "class Carta:\n",
    "    def __init__(self, valor, palo):\n",
    "        self.valor = valor\n",
    "        self.palo = palo\n",
    "\n",
    "    def __repr__(self):\n",
    "        return f\"{self.valor} de {self.palo}\"\n",
    "\n",
    "    def comparar(self, otra_carta):\n",
    "        orden_truco = {1: 14, 3: 13, 12: 12, 11: 11, 10: 10, 7: 9, 6: 8, 5: 7, 4: 6, 2: 5}\n",
    "        valor_self = orden_truco[self.valor]\n",
    "        valor_otra = orden_truco[otra_carta.valor]\n",
    "\n",
    "        if valor_self > valor_otra:\n",
    "            return 1\n",
    "        elif valor_self < valor_otra:\n",
    "            return -1\n",
    "        else:\n",
    "            return 0"
   ]
  },
  {
   "cell_type": "markdown",
   "metadata": {},
   "source": [
    "**Mazo**: Representan las cartas españolas de 1 al 12, en los palos de oro, copa, espada y basto.\n",
    "\n",
    "Debe existir una función que permita barajar las cartas.\n",
    "y otra función que permita repartir las cartas a los jugadores."
   ]
  },
  {
   "cell_type": "code",
   "execution_count": 3,
   "metadata": {},
   "outputs": [],
   "source": [
    "class Mazo:\n",
    "    def __init__(self):\n",
    "        valores = [1, 2, 3, 4, 5, 6, 7, 10, 11, 12]\n",
    "        palos = [\"Espada\", \"Basto\", \"Oro\", \"Copa\"]\n",
    "        self.cartas = [Carta(valor, palo) for valor in valores for palo in palos]\n",
    "\n",
    "    def barajar(self):\n",
    "        random.shuffle(self.cartas)\n",
    "\n",
    "    def repartir(self):\n",
    "        return [self.cartas.pop() for _ in range(3)]"
   ]
  },
  {
   "cell_type": "markdown",
   "metadata": {},
   "source": [
    "**Jugador**: Deben tener un nombre y las cartas que tiene en la mano. Debe acumular los puntos ganados.\n",
    "\n",
    "Nota: Para simplificar el problema, el jugador elige la carta a jugar de forma aleatoria."
   ]
  },
  {
   "cell_type": "code",
   "execution_count": 2,
   "metadata": {},
   "outputs": [],
   "source": [
    "class Jugador:\n",
    "    def __init__(self, nombre):\n",
    "        self.nombre = nombre\n",
    "        self.mano = []\n",
    "\n",
    "    def recibir_cartas(self, cartas):\n",
    "        self.mano = cartas\n",
    "\n",
    "    def jugar_carta(self):\n",
    "        return self.mano.pop()\n",
    "\n",
    "    def __repr__(self):\n",
    "        return f\"Jugador {self.nombre} con cartas {self.mano}\"\n"
   ]
  },
  {
   "cell_type": "markdown",
   "metadata": {},
   "source": [
    "**Partida**: Debe tener dos jugadores, un mazo de cartas y un puntaje. Debe permitir jugar una carta por ronda y definir el ganador de la ronda. Debe permitir jugar hasta que se terminen las cartas del mazo."
   ]
  },
  {
   "cell_type": "code",
   "execution_count": 1,
   "metadata": {},
   "outputs": [
    {
     "ename": "NameError",
     "evalue": "name 'Jugador' is not defined",
     "output_type": "error",
     "traceback": [
      "\u001b[1;31m---------------------------------------------------------------------------\u001b[0m",
      "\u001b[1;31mNameError\u001b[0m                                 Traceback (most recent call last)",
      "Cell \u001b[1;32mIn[1], line 50\u001b[0m\n\u001b[0;32m     47\u001b[0m         \u001b[38;5;28;01melif\u001b[39;00m \u001b[38;5;28mself\u001b[39m\u001b[38;5;241m.\u001b[39mpuntos_jugador2 \u001b[38;5;241m==\u001b[39m \u001b[38;5;241m15\u001b[39m:\n\u001b[0;32m     48\u001b[0m             \u001b[38;5;28mprint\u001b[39m(\u001b[38;5;124mf\u001b[39m\u001b[38;5;124m\"\u001b[39m\u001b[38;5;132;01m{\u001b[39;00m\u001b[38;5;28mself\u001b[39m\u001b[38;5;241m.\u001b[39mjugador2\u001b[38;5;241m.\u001b[39mnombre\u001b[38;5;132;01m}\u001b[39;00m\u001b[38;5;124m gana el juego final con 15 puntos\u001b[39m\u001b[38;5;124m\"\u001b[39m)\n\u001b[1;32m---> 50\u001b[0m jugador1 \u001b[38;5;241m=\u001b[39m \u001b[43mJugador\u001b[49m(\u001b[38;5;124m\"\u001b[39m\u001b[38;5;124mJugador 1\u001b[39m\u001b[38;5;124m\"\u001b[39m)\n\u001b[0;32m     51\u001b[0m jugador2 \u001b[38;5;241m=\u001b[39m Jugador(\u001b[38;5;124m\"\u001b[39m\u001b[38;5;124mJugador 2\u001b[39m\u001b[38;5;124m\"\u001b[39m)\n\u001b[0;32m     52\u001b[0m partida \u001b[38;5;241m=\u001b[39m Partida(jugador1, jugador2)\n",
      "\u001b[1;31mNameError\u001b[0m: name 'Jugador' is not defined"
     ]
    }
   ],
   "source": [
    "import random\n",
    "class Partida:\n",
    "    def __init__(self, jugador1, jugador2):\n",
    "        self.jugador1 = jugador1\n",
    "        self.jugador2 = jugador2\n",
    "        self.puntos_jugador1 = 0\n",
    "        self.puntos_jugador2 = 0\n",
    "\n",
    "    def jugar(self):\n",
    "        while self.puntos_jugador1 < 15 and self.puntos_jugador2 < 15:\n",
    "            mazo = Mazo()\n",
    "            mazo.barajar()\n",
    "\n",
    "            self.jugador1.recibir_cartas(mazo.repartir())\n",
    "            self.jugador2.recibir_cartas(mazo.repartir())\n",
    "\n",
    "            puntos_ronda_j1 = 0\n",
    "            puntos_ronda_j2 = 0\n",
    "\n",
    "            for _ in range(3):\n",
    "                carta_j1 = self.jugador1.jugar_carta()\n",
    "                carta_j2 = self.jugador2.jugar_carta()\n",
    "                resultado = carta_j1.comparar(carta_j2)\n",
    "\n",
    "                if resultado == 1:\n",
    "                    puntos_ronda_j1 += 1\n",
    "                    print(f\"{self.jugador1.nombre} gana la ronda con {carta_j1}\")\n",
    "                elif resultado == -1:\n",
    "                    puntos_ronda_j2 += 1\n",
    "                    print(f\"{self.jugador2.nombre} gana la ronda con {carta_j2}\")\n",
    "                else:\n",
    "                    print(f\"Empate en la ronda con {carta_j1} y {carta_j2}\")\n",
    "\n",
    "            if puntos_ronda_j1 > puntos_ronda_j2:\n",
    "                self.puntos_jugador1 += 1\n",
    "                print(f\"{self.jugador1.nombre} gana la partida\")\n",
    "            elif puntos_ronda_j2 > puntos_ronda_j1:\n",
    "                self.puntos_jugador2 += 1\n",
    "                print(f\"{self.jugador2.nombre} gana la partida\")\n",
    "            else:\n",
    "                print(\"Empate en la partida\")\n",
    "\n",
    "            print(f\"Marcador: {self.jugador1.nombre} {self.puntos_jugador1} - {self.jugador2.nombre} {self.puntos_jugador2}\")\n",
    "\n",
    "        if self.puntos_jugador1 == 15:\n",
    "            print(f\"{self.jugador1.nombre} gana el juego final con 15 puntos\")\n",
    "        elif self.puntos_jugador2 == 15:\n",
    "            print(f\"{self.jugador2.nombre} gana el juego final con 15 puntos\")\n",
    "\n",
    "jugador1 = Jugador(\"Jugador 1\")\n",
    "jugador2 = Jugador(\"Jugador 2\")\n",
    "partida = Partida(jugador1, jugador2)\n",
    "partida.jugar()"
   ]
  }
 ],
 "metadata": {
  "kernelspec": {
   "display_name": "Python 3",
   "language": "python",
   "name": "python3"
  },
  "language_info": {
   "codemirror_mode": {
    "name": "ipython",
    "version": 3
   },
   "file_extension": ".py",
   "mimetype": "text/x-python",
   "name": "python",
   "nbconvert_exporter": "python",
   "pygments_lexer": "ipython3",
   "version": "3.12.5"
  }
 },
 "nbformat": 4,
 "nbformat_minor": 2
}
