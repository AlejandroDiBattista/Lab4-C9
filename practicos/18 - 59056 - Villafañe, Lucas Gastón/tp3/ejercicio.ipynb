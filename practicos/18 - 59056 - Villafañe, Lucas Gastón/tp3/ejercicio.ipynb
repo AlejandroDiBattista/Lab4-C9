{
 "cells": [
  {
   "cell_type": "markdown",
   "metadata": {},
   "source": [
    "#TP3"
   ]
  },
  {
   "cell_type": "markdown",
   "metadata": {},
   "source": [
    "## Ejercicio 1: Cargar Datos de ventas.\n",
    "\n",
    "El archivo datos.dat contiene el registro de las ventas realizadas.\n",
    "\n",
    "Tiene un formato de ancho fijo:\n",
    "- fecha:    10 lugares\n",
    "- producto: 30 lugares\n",
    "- precio:   10 lugares\n",
    "- cantidad:  5 lugares\n",
    "\n",
    "hacer una funcion que carge los en una lista de diccionarios. \n",
    "\n",
    "nota: con \n",
    "```python\n",
    "lineas = open(\"datos.dat\", \"r\").readlines() \n",
    "```\n",
    "puede obtener la lista de string de todos los datos "
   ]
  },
  {
   "cell_type": "code",
   "execution_count": null,
   "metadata": {},
   "outputs": [],
   "source": [
    "def cargar_datos():\n",
    "    with open(\"datos.dat\", \"r\") as file:\n",
    "        lineas = file.readlines()\n",
    "\n",
    "    datos = []\n",
    "    for linea in lineas:\n",
    "        fecha = linea[:10].strip()\n",
    "        producto = linea[10:40].strip() \n",
    "        precio = int(linea[40:50].strip()) \n",
    "        cantidad = int(linea[50:].strip()) \n",
    "        \n",
    "        registro = {\n",
    "            \"fecha\": fecha,\n",
    "            \"producto\": producto,\n",
    "            \"precio\": precio,\n",
    "            \"cantidad\": cantidad\n",
    "        }\n",
    "        \n",
    "        datos.append(registro)\n",
    "    \n",
    "    return datos"
   ]
  },
  {
   "cell_type": "markdown",
   "metadata": {},
   "source": [
    "## Ejercicio 2: Calcular el total de ventas.\n",
    "\n",
    "Hacer una funcion que sume los importes vendidos (precio * cantidad) y las cantidades"
   ]
  },
  {
   "cell_type": "code",
   "execution_count": null,
   "metadata": {},
   "outputs": [],
   "source": [
    "def calcular_totales(datos):\n",
    "    total_importe = 0\n",
    "    total_cantidad = 0\n",
    "    \n",
    "    for registro in datos:\n",
    "        total_importe += registro['precio'] * registro['cantidad'] \n",
    "        total_cantidad += registro['cantidad'] \n",
    "    \n",
    "    return total_importe, total_cantidad"
   ]
  },
  {
   "cell_type": "markdown",
   "metadata": {},
   "source": [
    "## Ejercicio 3: Listar las unidades vendidas.\n",
    "\n",
    "Listar cuantas unidades se vendieron en total para cada producto"
   ]
  },
  {
   "cell_type": "code",
   "execution_count": null,
   "metadata": {},
   "outputs": [],
   "source": [
    "def unidades_vendidas(datos):\n",
    "    ventas = {}\n",
    "    for registro in datos:\n",
    "        producto = registro['producto']\n",
    "        cantidad = registro['cantidad']\n",
    "        ventas[producto] = ventas.get(producto, 0) + cantidad\n",
    "    return ventas\n",
    "\n",
    "def listar_ventas(ventas):\n",
    "    for producto, cantidad in ventas.items():\n",
    "        print(f\"Producto: {producto} - Unidades Vendidas: {cantidad}\")\n"
   ]
  },
  {
   "cell_type": "markdown",
   "metadata": {},
   "source": [
    "##  Ejercicio 4: Listar el precio promedio por producto.\n",
    "\n",
    "Hacer un listado del precio promedio por productos."
   ]
  },
  {
   "cell_type": "code",
   "execution_count": null,
   "metadata": {},
   "outputs": [],
   "source": [
    "def precio_promedio(datos):\n",
    "    precios = {}\n",
    "    conteo = {}\n",
    "    \n",
    "    for registro in datos:\n",
    "        producto = registro['producto']\n",
    "        precio = registro['precio']\n",
    "        \n",
    "        precios[producto] = precios.get(producto, 0) + precio\n",
    "        conteo[producto] = conteo.get(producto, 0) + 1\n",
    "    \n",
    "    promedio = {producto: precios[producto] / conteo[producto] for producto in precios}\n",
    "    return promedio\n",
    "\n",
    "def listar_precios(promedio):\n",
    "    for producto, precio in promedio.items():\n",
    "        print(f\"Producto: {producto} - Precio Promedio: ${precio:.2f}\")"
   ]
  },
  {
   "cell_type": "markdown",
   "metadata": {},
   "source": [
    "### Ejercicio 5: Ranking de productos\n",
    "\n",
    "Realizar un listado de los 3 productos mas vendidos ordenados la cantidad de unidades vendidas (ordenadas de mayor a menor)\n"
   ]
  },
  {
   "cell_type": "code",
   "execution_count": null,
   "metadata": {},
   "outputs": [],
   "source": [
    "def ranking_productos(datos, top=3):\n",
    "    ventas = unidades_vendidas(datos)\n",
    "    ranking = sorted(ventas.items(), key=lambda x: x[1], reverse=True)[:top]\n",
    "    return ranking\n",
    "\n",
    "def listar_ranking(ranking):\n",
    "    print(\"Ranking de Productos Más Vendidos:\")\n",
    "    for i, (producto, cantidad) in enumerate(ranking, 1):\n",
    "        print(f\"{i}. {producto} - Unidades Vendidas: {cantidad}\")\n"
   ]
  },
  {
   "cell_type": "markdown",
   "metadata": {},
   "source": [
    "### Ejercicio 6: Listar las ventas por mes\n",
    "\n",
    "Realizar un listado del total de unidades vendidas por productos separada por mes."
   ]
  },
  {
   "cell_type": "code",
   "execution_count": null,
   "metadata": {},
   "outputs": [],
   "source": [
    "\n",
    "def ventas_por_mes(datos):\n",
    "    ventas_mensuales = {}\n",
    "    for registro in datos:\n",
    "        mes = registro['fecha'][5:7]\n",
    "        producto = registro['producto']\n",
    "        cantidad = registro['cantidad']\n",
    "        \n",
    "        if mes not in ventas_mensuales:\n",
    "            ventas_mensuales[mes] = {}\n",
    "        \n",
    "        ventas_mensuales[mes][producto] = ventas_mensuales[mes].get(producto, 0) + cantidad\n",
    "    \n",
    "    return ventas_mensuales\n",
    "\n",
    "def listar_ventas_mensuales(ventas):\n",
    "    for mes, productos in ventas.items():\n",
    "        print(f\"Mes: {mes}\")\n",
    "        for producto, cantidad in productos.items():\n",
    "            print(f\"  Producto: {producto} - Unidades Vendidas: {cantidad}\")"
   ]
  },
  {
   "cell_type": "markdown",
   "metadata": {},
   "source": [
    "### Ejercicio 7: Informe general\n",
    "\n",
    "Mostrar un listado de productos ordenados alfabeticamente que contengan el precio promedio, la cantidad de unidades vendidas y el importe total vendido para cada producto"
   ]
  },
  {
   "cell_type": "code",
   "execution_count": null,
   "metadata": {},
   "outputs": [],
   "source": [
    "def resumen_ventas(datos):\n",
    "    resumen = {}\n",
    "    \n",
    "    for registro in datos:\n",
    "        producto = registro['producto']\n",
    "        precio = registro['precio']\n",
    "        cantidad = registro['cantidad']\n",
    "        importe = precio * cantidad\n",
    "        \n",
    "        if producto not in resumen:\n",
    "            resumen[producto] = {'cantidad': 0, 'importe': 0, 'precios': []}\n",
    "        \n",
    "        resumen[producto]['cantidad'] += cantidad\n",
    "        resumen[producto]['importe'] += importe\n",
    "        resumen[producto]['precios'].append(precio)\n",
    "    \n",
    "    for producto in resumen:\n",
    "        resumen[producto]['precio_promedio'] = sum(resumen[producto]['precios']) / len(resumen[producto]['precios'])\n",
    "    \n",
    "    return resumen\n",
    "\n",
    "def informe_ventas(resumen):\n",
    "    productos_ordenados = sorted(resumen.keys())\n",
    "    for producto in productos_ordenados:\n",
    "        datos = resumen[producto]\n",
    "        print(f\"Producto: {producto}\")\n",
    "        print(f\"  Precio Promedio: ${datos['precio_promedio']:.2f}\")\n",
    "        print(f\"  Unidades Vendidas: {datos['cantidad']}\")\n",
    "        print(f\"  Importe Total: ${datos['importe']:.2f}\")\n",
    "\n",
    "# \n",
    "if __name__ == \"__main__\":\n",
    "    datos = cargar_datos()\n",
    "    \n",
    "    importe, cantidad = calcular_totales(datos)\n",
    "    print(f\"Las ventas fueron de ${importe:.2f} en {cantidad} unidades\\n\")\n",
    "    \n",
    "    ventas = unidades_vendidas(datos)\n",
    "    listar_ventas(ventas)\n",
    "    \n",
    "    promedio = precio_promedio(datos)\n",
    "    listar_precios(promedio)\n",
    "    \n",
    "    ranking = ranking_productos(datos)\n",
    "    listar_ranking(ranking)\n",
    "    \n",
    "    ventas_mensuales = ventas_por_mes(datos)\n",
    "    listar_ventas_mensuales(ventas_mensuales)\n",
    "    \n",
    "    resumen = resumen_ventas(datos)\n",
    "    informe_ventas(resumen)"
   ]
  }
 ],
 "metadata": {
  "kernelspec": {
   "display_name": "Python 3",
   "language": "python",
   "name": "python3"
  },
  "language_info": {
   "codemirror_mode": {
    "name": "ipython",
    "version": 3
   },
   "file_extension": ".py",
   "mimetype": "text/x-python",
   "name": "python",
   "nbconvert_exporter": "python",
   "pygments_lexer": "ipython3",
   "version": "3.12.5"
  }
 },
 "nbformat": 4,
 "nbformat_minor": 2
}
