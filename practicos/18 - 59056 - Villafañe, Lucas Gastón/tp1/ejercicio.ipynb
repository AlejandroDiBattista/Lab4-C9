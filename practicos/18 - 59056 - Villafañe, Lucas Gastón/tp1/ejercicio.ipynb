{
 "cells": [
  {
   "cell_type": "markdown",
   "metadata": {},
   "source": [
    "# Trabajo práctico 1\n",
    "\n"
   ]
  },
  {
   "cell_type": "markdown",
   "metadata": {},
   "source": [
    "## Ejercicio 1 \n",
    "\n",
    "Escribe una función en Python que procese una lista de cadenas de texto y realice las siguientes acciones:\n",
    "\n",
    "1. Tomar una lista de frases y convertir cada frase en una lista de palabras.\n",
    "1. Luego, debe crear una nueva lista que contenga la cantidad de palabras en cada frase.\n",
    "1. Tambien debe crear un lista que contenga la cantidad de caracteres en cada frase.\n",
    "1. Finalmente, debe imprimir cada frase original junto con la cantidad de palabras que contiene.\n",
    "Ejemplo de uso:\n",
    "```python\n",
    "    frases = [\n",
    "        \"Python es un lenguaje de programación\",\n",
    "        \"Me gusta resolver problemas con código\",\n",
    "        \"Las listas y los bucles son muy útiles\"\n",
    "    ]\n",
    "\n",
    "    procesar_frases(frases)\n",
    "```\n",
    "\n",
    "ejemplo de salida:\n",
    "```bash\n",
    "    La frase: \"Python es un...\"\n",
    "    tiene 6 palabras y 38 caracteres\n",
    "```\n"
   ]
  },
  {
   "cell_type": "code",
   "execution_count": null,
   "metadata": {},
   "outputs": [],
   "source": [
    "def procesar_frases(frases):\n",
    "    conteos = []\n",
    "    for frase in frases:\n",
    "        palabras = frase.split() \n",
    "        conteos.append(len(palabras)) \n",
    "        print(f\"{frase} - {len(palabras)} palabra\") \n",
    "    return conteos\n",
    "\n",
    "frases = [\n",
    "    \"Python es un lenguaje de programación\",\n",
    "    \"Me gusta resolver problemas con código\",\n",
    "    \"Las listas y los bucles son muy útiles\"\n",
    "]\n",
    "conteos = procesar_frases(frases)\n",
    "print(\"Conteos de palabra:\", conteos)"
   ]
  },
  {
   "cell_type": "markdown",
   "metadata": {},
   "source": [
    "## Ejercicio 2\n",
    "\n",
    "Escribe una función en Python que encuentre los valores de `a`, `b`, y `c` para que la función cuadrática `f(x) = aX^2 + bX + c` pase exactamente por los siguientes puntos:\n",
    "\n",
    "| x  | y  |\n",
    "|---:|---:|\n",
    "|  0 |  0 |\n",
    "|  1 |  8 |\n",
    "|  2 | 12 |\n",
    "|  3 | 12 |\n",
    "|  5 |  0 |\n",
    "\n",
    "### Requisitos:\n",
    "- La función debe explorar posibles valores de `a`, `b`, y `c` utilizando un método de prueba y error.\n",
    "- Debe devolver los valores que hagan que la diferencia entre la función `f(x)` y los valores medidos `y` sea exactamente cero para cada punto.\n",
    "\n",
    "> **Pista**: Los valores de `a`, `b`, y `c` son números pequeños."
   ]
  },
  {
   "cell_type": "code",
   "execution_count": null,
   "metadata": {},
   "outputs": [],
   "source": [
    "def ver_funcion(a, b, c, x):\n",
    "    \"Ve la función cuadratica f(x) = ax^2 + bx + c en un valor de x\"\n",
    "    return a * x**2 + b * x + c\n",
    "\n",
    "def encontrar_coeficientes():\n",
    "    puntos = [(0, 0), (1, 8), (2, 12), (3, 12), (5, 0)]\n",
    "    intentos = 0 \n",
    "\n",
    "    for a in range(-5, 6):\n",
    "        for b in range(-5, 6):\n",
    "            for c in range(-5, 6):\n",
    "                intentos += 1  \n",
    "                if all(ver_funcion(a, b, c, x) == y for x, y in puntos):\n",
    "                    print(f\"Coeficientes encontrados despues de {intentos} intento\")\n",
    "                    return a, b, c\n",
    "    print(f\"Se probaron {intentos} combinaciones y no se encontraron coeficiente\")\n",
    "    return None\n",
    "\n",
    "resultado = encontrar_coeficientes()\n",
    "\n",
    "if resultado is not None:\n",
    "    a, b, c = resultado\n",
    "    print(f\"coeficientes encontrados: a = {a}, b = {b}, c = {c}\")\n",
    "else:\n",
    "    print(\"noo se encontraron coeficientes que cumplan con los puntos\")"
   ]
  }
 ],
 "metadata": {
  "language_info": {
   "name": "python"
  }
 },
 "nbformat": 4,
 "nbformat_minor": 2
}
