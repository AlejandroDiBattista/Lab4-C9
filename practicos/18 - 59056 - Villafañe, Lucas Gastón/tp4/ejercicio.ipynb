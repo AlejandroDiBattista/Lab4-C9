{
 "cells": [
  {
   "cell_type": "markdown",
   "metadata": {},
   "source": [
    "# Simulación del Truco"
   ]
  },
  {
   "cell_type": "markdown",
   "metadata": {},
   "source": [
    "Las **cartas** deben registra el numero, palo y valor de la carta. \n",
    "El valor debe reflejar la jerarquía de las cartas en el juego del truco."
   ]
  },
  {
   "cell_type": "code",
   "execution_count": 4,
   "metadata": {},
   "outputs": [],
   "source": [
    "import random\n",
    "\n",
    "class Carta:\n",
    "    def __init__(self, valor, palo):\n",
    "        self.valor = valor\n",
    "        self.palo = palo\n",
    "\n",
    "    def __str__(self):\n",
    "        return f\"{self.valor} de {self.palo}\"\n",
    "\n",
    "    def __lt__(self, other):\n",
    "        return self.valor < other.valor\n",
    "\n",
    "class Mazo:\n",
    "    palos = ['Espadas', 'Bastos', 'Oros', 'Copas']\n",
    "    valores = [1, 2, 3, 4, 5, 6, 7, 10, 11, 12]\n",
    "\n",
    "    def __init__(self):\n",
    "        self.cartas = [Carta(valor, palo) for valor in self.valores for palo in self.palos]\n",
    "\n",
    "    def barajar(self):\n",
    "        random.shuffle(self.cartas)\n",
    "\n",
    "    def repartir(self):\n",
    "        return [self.cartas.pop() for _ in range(3)]"
   ]
  },
  {
   "cell_type": "markdown",
   "metadata": {},
   "source": [
    "**Mazo**: Representan las cartas españolas de 1 al 12, en los palos de oro, copa, espada y basto.\n",
    "\n",
    "Debe existir una función que permita barajar las cartas.\n",
    "y otra función que permita repartir las cartas a los jugadores."
   ]
  },
  {
   "cell_type": "code",
   "execution_count": 5,
   "metadata": {},
   "outputs": [
    {
     "name": "stdout",
     "output_type": "stream",
     "text": [
      "None\n"
     ]
    }
   ],
   "source": [
    "class Jugador:\n",
    "    def __init__(self, nombre):\n",
    "        self.nombre = nombre\n",
    "        self.cartas = []\n",
    "        self.puntos = 0\n",
    "\n",
    "    def recibir_cartas(self, cartas):\n",
    "        self.cartas = cartas\n",
    "\n",
    "    def jugar_carta(self, indice=None):\n",
    "        if indice is not None:\n",
    "            return self.cartas[indice]\n",
    "        return self.cartas[0]\n"
   ]
  },
  {
   "cell_type": "markdown",
   "metadata": {},
   "source": [
    "**Jugador**: Deben tener un nombre y las cartas que tiene en la mano. Debe acumular los puntos ganados.\n",
    "\n",
    "Nota: Para simplificar el problema, el jugador elige la carta a jugar de forma aleatoria."
   ]
  },
  {
   "cell_type": "code",
   "execution_count": 6,
   "metadata": {},
   "outputs": [
    {
     "name": "stdout",
     "output_type": "stream",
     "text": [
      "None\n"
     ]
    }
   ],
   "source": [
    "class Partida:\n",
    "    def __init__(self, jugador1, jugador2):\n",
    "        self.jugador1 = jugador1\n",
    "        self.jugador2 = jugador2\n",
    "        self.rondas_ganadas_j1 = 0\n",
    "        self.rondas_ganadas_j2 = 0\n",
    "\n",
    "    def jugar(self):\n",
    "        while self.jugador1.puntos < 15 and self.jugador2.puntos < 15:\n",
    "            self.jugar_ronda()\n",
    "            print(f\"Puntaje actual - {self.jugador1.nombre}: {self.jugador1.puntos}, {self.jugador2.nombre}: {self.jugador2.puntos}\")\n",
    "            input(\"Presiona Enter para continuar a la siguiente ronda...\")\n",
    "\n",
    "        if self.jugador1.puntos >= 15:\n",
    "            print(f\"\\n{'='*40}\\n¡{self.jugador1.nombre} gana el juego con {self.jugador1.puntos} puntos!\\n{'='*40}\")\n",
    "        else:\n",
    "            print(f\"\\n{'='*40}\\n¡{self.jugador2.nombre} gana el juego con {self.jugador2.puntos} puntos!\\n{'='*40}\")\n",
    "\n",
    "    def jugar_ronda(self):\n",
    "        print(f\"\\n{'='*20}\\nNueva ronda\\n{'='*20}\")\n",
    "        mazo = Mazo() \n",
    "        mazo.barajar()\n",
    "        self.jugador1.recibir_cartas(mazo.repartir())\n",
    "        self.jugador2.recibir_cartas(mazo.repartir())\n",
    "\n",
    "        for ronda in range(3):\n",
    "            print(f\"\\nCartas de {self.jugador1.nombre}:\")\n",
    "            for i, carta in enumerate(self.jugador1.cartas):\n",
    "                print(f\"{i}: {carta}\")\n",
    "\n",
    "            print(f\"\\n{'-'*10} Ronda {ronda + 1} {'-'*10}\")\n",
    "            carta_j1 = self.elegir_carta_jugador()\n",
    "            carta_j2 = self.jugador2.jugar_carta()\n",
    "\n",
    "            print(f\"{self.jugador1.nombre} juega {carta_j1}\")\n",
    "            print(f\"{self.jugador2.nombre} juega {carta_j2}\")\n",
    "\n",
    "            if carta_j1 > carta_j2:\n",
    "                print(f\"¡Gana {self.jugador1.nombre} la ronda!\")\n",
    "                self.rondas_ganadas_j1 += 1\n",
    "            elif carta_j2 > carta_j1:\n",
    "                print(f\"¡Gana {self.jugador2.nombre} la ronda!\")\n",
    "                self.rondas_ganadas_j2 += 1\n",
    "            else:\n",
    "                print(\"¡Empate en esta ronda!\")\n",
    "\n",
    "            self.jugador1.cartas.remove(carta_j1)\n",
    "\n",
    "        if self.rondas_ganadas_j1 > self.rondas_ganadas_j2:\n",
    "            self.jugador1.puntos += 1\n",
    "            print(f\"\\n{self.jugador1.nombre} gana la partida con {self.rondas_ganadas_j1} rondas ganadas.\")\n",
    "        elif self.rondas_ganadas_j2 > self.rondas_ganadas_j1:\n",
    "            self.jugador2.puntos += 1\n",
    "            print(f\"\\n{self.jugador2.nombre} gana la partida con {self.rondas_ganadas_j2} rondas ganadas.\")\n",
    "        else:\n",
    "            print(\"\\nLa partida termina en empate.\")\n",
    "\n",
    "        self.rondas_ganadas_j1 = 0\n",
    "        self.rondas_ganadas_j2 = 0\n",
    "\n",
    "    def elegir_carta_jugador(self):\n",
    "        while True:\n",
    "            try:\n",
    "                indice = int(input(f\"Elige una carta: \"))\n",
    "                if 0 <= indice < len(self.jugador1.cartas):\n",
    "                    return self.jugador1.jugar_carta(indice)\n",
    "                else:\n",
    "                    print(\"Índice inválido, por favor elige una carta válida.\")\n",
    "            except ValueError:\n",
    "                print(\"Entrada inválida, por favor ingresa un número.\")\n"
   ]
  },
  {
   "cell_type": "markdown",
   "metadata": {},
   "source": [
    "**Partida**: Debe tener dos jugadores, un mazo de cartas y un puntaje. Debe permitir jugar una carta por ronda y definir el ganador de la ronda. Debe permitir jugar hasta que se terminen las cartas del mazo."
   ]
  },
  {
   "cell_type": "code",
   "execution_count": null,
   "metadata": {},
   "outputs": [],
   "source": [
    "jugador_humano = Jugador(\"Jugador\")\n",
    "jugador_bot = Jugador(\"Bot\")\n",
    "partida = Partida(jugador_humano, jugador_bot)\n",
    "partida.jugar()\n"
   ]
  }
 ],
 "metadata": {
  "kernelspec": {
   "display_name": "Python 3",
   "language": "python",
   "name": "python3"
  },
  "language_info": {
   "codemirror_mode": {
    "name": "ipython",
    "version": 3
   },
   "file_extension": ".py",
   "mimetype": "text/x-python",
   "name": "python",
   "nbconvert_exporter": "python",
   "pygments_lexer": "ipython3",
   "version": "3.12.5"
  }
 },
 "nbformat": 4,
 "nbformat_minor": 2
}
