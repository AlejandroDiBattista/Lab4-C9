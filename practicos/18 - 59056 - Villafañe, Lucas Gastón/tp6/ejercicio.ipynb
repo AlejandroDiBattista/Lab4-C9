{
 "cells": [
  {
   "cell_type": "markdown",
   "metadata": {},
   "source": [
    "# TP6\n",
    "\n",
    "### `Resolver usando Pandas`\n",
    "\n",
    "Resolver los ejercicios del TP3 utilizando la librería Pandas."
   ]
  },
  {
   "cell_type": "markdown",
   "metadata": {},
   "source": [
    "### Ejercicio 1: Cargar Datos de ventas.\n",
    "\n",
    "El archivo datos.dat contiene el registro de las ventas realizadas.\n",
    "\n",
    "Tiene un formato de ancho fijo:\n",
    "- `fecha`:    10 lugares\n",
    "- `producto`: 30 lugares\n",
    "- `precio`:   10 lugares\n",
    "- `cantidad`:  5 lugares\n",
    "\n",
    "Hacer una funcion que cargue los datos en un DataFrame de Pandas."
   ]
  },
  {
   "cell_type": "code",
   "execution_count": null,
   "metadata": {},
   "outputs": [],
   "source": [
    "import pandas as pd\n",
    "\n",
    "def cargarDatos():\n",
    "    anchoColumnas = [(0, 10), (10, 40), (40, 50), (50, 55)]\n",
    "    nombresColumnas = ['fecha', 'producto', 'precio', 'cantidad']\n",
    "    \n",
    "    try:\n",
    "        datos = pd.read_fwf(\n",
    "            'datos.dat',\n",
    "            colspecs=anchoColumnas,\n",
    "            names=nombresColumnas,\n",
    "            dtype={'producto': str, 'precio': float, 'cantidad': int}\n",
    "        )\n",
    "\n",
    "        datos['producto'] = datos['producto'].apply(lambda x: x.strip())\n",
    "        datos['fecha'] = pd.to_datetime(datos['fecha'], errors='coerce')\n",
    "\n",
    "        if datos.isna().sum().sum() > 0:\n",
    "            print(\"aviso: Existen valores nulos en los datos cargados.\")\n",
    "\n",
    "        return datos\n",
    "\n",
    "    except FileNotFoundError as error:\n",
    "        print(\"error: Archivo 'datos.dat' no fua encontrado.\")\n",
    "        return pd.DataFrame(columns=nombresColumnas)\n",
    "\n",
    "    except Exception as error:\n",
    "        print(f\"error durante la carga de datos: {error}\")\n",
    "        return pd.DataFrame(columns=nombresColumnas)\n",
    "\n",
    "datos = cargarDatos()\n",
    "datos\n"
   ]
  },
  {
   "cell_type": "markdown",
   "metadata": {},
   "source": [
    "### Ejercicio 2: Calcular el total de ventas.\n",
    "Hacer una función que sume los importes vendidos (precio * cantidad) y las cantidades.\n"
   ]
  },
  {
   "cell_type": "code",
   "execution_count": null,
   "metadata": {},
   "outputs": [],
   "source": [
    "def calcularTotales(datos):\n",
    "    if datos.shape[0] == 0:\n",
    "        return 0, 0\n",
    "\n",
    "    totalImporte = sum(datos['precio'] * datos['cantidad'])\n",
    "    totalCantidad = datos['cantidad'].agg('sum')\n",
    "    \n",
    "    return totalImporte, totalCantidad"
   ]
  },
  {
   "cell_type": "markdown",
   "metadata": {},
   "source": [
    "### Ejercicio 3: Listar las unidades vendidas.\n",
    "Listar cuántas unidades se vendieron en total para cada producto\n"
   ]
  },
  {
   "cell_type": "code",
   "execution_count": null,
   "metadata": {},
   "outputs": [],
   "source": [
    "def unidadesVendidas(datos):\n",
    "    if datos.shape[0] == 0:\n",
    "        return pd.Series(dtype='int64')\n",
    "\n",
    "    totalUnidades = datos.groupby('producto')['cantidad'].aggregate('sum')\n",
    "    \n",
    "    return totalUnidades.sort_values(ascending=False)"
   ]
  },
  {
   "cell_type": "markdown",
   "metadata": {},
   "source": [
    "###  Ejercicio 4: Listar el precio promedio por producto.\n",
    "Hacer un listado del precio promedio por producto.\n"
   ]
  },
  {
   "cell_type": "code",
   "execution_count": null,
   "metadata": {},
   "outputs": [],
   "source": [
    "def precioPromedio(datos):\n",
    "    if datos.shape[0] == 0:\n",
    "        return pd.Series(dtype='float64')\n",
    "\n",
    "    promedioPrecio = datos.groupby('producto')['precio'].mean().round(2)\n",
    "    \n",
    "    return promedioPrecio"
   ]
  },
  {
   "cell_type": "markdown",
   "metadata": {},
   "source": [
    "### Ejercicio 5: Ranking de productos\n",
    "Realizar un listado de los 3 productos más vendidos ordenados por la cantidad de unidades vendidas (ordenadas de mayor a menor)\n"
   ]
  },
  {
   "cell_type": "code",
   "execution_count": null,
   "metadata": {},
   "outputs": [],
   "source": [
    "def rankingProductos(datos, top=3):\n",
    "    if datos.shape[0] == 0:\n",
    "        return pd.Series(dtype='int64')\n",
    "\n",
    "    topVentas = datos.groupby('producto')['cantidad'].aggregate('sum')\n",
    "    \n",
    "    return topVentas.nlargest(top)\n"
   ]
  },
  {
   "cell_type": "markdown",
   "metadata": {},
   "source": [
    "### Ejercicio 6: Listar las ventas por mes\n",
    "Realizar un listado del total de unidades vendidas por producto separado por mes.\n"
   ]
  },
  {
   "cell_type": "code",
   "execution_count": null,
   "metadata": {},
   "outputs": [],
   "source": [
    "def ventasPorMes(datos):\n",
    "    if datos.shape[0] == 0:\n",
    "        return pd.DataFrame()\n",
    "\n",
    "    datos = datos.assign(mes=datos['fecha'].dt.to_period('M'))\n",
    "    \n",
    "    ventasMensuales = datos.pivot_table(\n",
    "        values='cantidad',\n",
    "        index='mes',\n",
    "        columns='producto',\n",
    "        aggfunc='sum',\n",
    "        fill_value=0\n",
    "    )\n",
    "\n",
    "    return ventasMensuales"
   ]
  },
  {
   "cell_type": "markdown",
   "metadata": {},
   "source": [
    "### Ejercicio 7: Informe general\n",
    "\n",
    "Mostrar un listado de productos ordenados alfabeticamente que contengan el precio promedio, la cantidad de unidades vendidas y el importe total vendido para cada producto"
   ]
  },
  {
   "cell_type": "code",
   "execution_count": null,
   "metadata": {},
   "outputs": [],
   "source": [
    "def resumenVentas(datos):\n",
    "\n",
    "    if datos.shape[0] == 0:\n",
    "        return pd.DataFrame(columns=['precioPromedio', 'unidadesVendidas', 'importeTotal'])\n",
    "    \n",
    "    ventasAgrupadas = datos.groupby('producto').agg(\n",
    "        unidadesVendidas=('cantidad', 'sum'),\n",
    "        importeTotal=('precio', lambda p: (p * datos.loc[p.index, 'cantidad']).sum())\n",
    "    )\n",
    "    \n",
    "    ventasAgrupadas['precioPromedio'] = (ventasAgrupadas['importeTotal'] / \n",
    "                                           ventasAgrupadas['unidadesVendidas']).round(2)\n",
    "    \n",
    "    return ventasAgrupadas[['precioPromedio', 'unidadesVendidas', 'importeTotal']].sort_index()"
   ]
  },
  {
   "cell_type": "markdown",
   "metadata": {},
   "source": [
    "## `Resolver usando NumPy`\n",
    "## Resolver el ejercicio 2 del tp1 usando NumPy"
   ]
  },
  {
   "cell_type": "markdown",
   "metadata": {},
   "source": [
    "### Ejercicio 8\n",
    "\n",
    "Escribe una función en Python que encuentre los valores de `a`, `b`, y `c` para que la función cuadrática `f(x) = a x^2 + b x + c` pase exactamente por los siguientes puntos:\n",
    "\n",
    "| x  | y  |\n",
    "|---:|---:|\n",
    "|  0 |  0 |\n",
    "|  1 |  8 |\n",
    "|  2 | 12 |\n",
    "|  3 | 12 |\n",
    "|  5 |  0 |\n",
    "\n",
    "### Requisitos:\n",
    "- La función debe explorar posibles valores de `a`, `b`, y `c` utilizando un método de prueba y error.\n",
    "- Debe devolver los valores que hagan que la diferencia entre la función `f(x)` y los valores medidos `y` sea exactamente cero para cada punto.\n",
    "\n",
    "> **Pista**: Los valores de `a`, `b`, y `c` son números pequeños.\n",
    "\n",
    "La idea es implementar el mismo algoritmo que se uso en el TP1 pero usando NumPy en lugar de Python puro."
   ]
  },
  {
   "cell_type": "code",
   "execution_count": 4,
   "metadata": {},
   "outputs": [
    {
     "data": {
      "text/plain": [
       "(-2, 10, 0)"
      ]
     },
     "execution_count": 4,
     "metadata": {},
     "output_type": "execute_result"
    }
   ],
   "source": [
    "import numpy as np\n",
    "\n",
    "def f(x, coeficientes):\n",
    "    a, b, c = coeficientes\n",
    "    return a * x**2 + b * x + c\n",
    "\n",
    "X = np.array([0, 1, 2, 3, 5])\n",
    "Y = np.array([0, 8, 12, 12, 0])\n",
    "\n",
    "A = np.vstack([X**2, X, np.ones(len(X))]).T\n",
    "\n",
    "coeficientes, _, _, _ = np.linalg.lstsq(A, Y, rcond=None)\n",
    "\n",
    "print(\"coeficiente a, b, c:\", coeficientes)\n",
    "\n",
    "Ypred = f(X, coeficientes)\n",
    "print(\"valores dichos por la función\", Ypred)\n",
    "\n",
    "error = np.abs(Y - Ypred)\n",
    "print(\"error en cada punto:\", error)\n",
    "\n",
    "tolerancia = 1e-10\n",
    "if np.all(error < tolerancia):\n",
    "    print(\"la funcion pasa exactamente por todos los puntos dados\")\n",
    "else:\n",
    "    print(\"la funcion no pasa exactamente por todos los puntos dados\")\n"
   ]
  },
  {
   "cell_type": "markdown",
   "metadata": {},
   "source": [
    "### Ejercicio 9: Resolver el ejercicio 3 del TP1 usando NumPy\n",
    "Buscar los coeficientes de la función que minimice la suma de los cuadrados de las diferencias entre los valores medidos y los valores de la función.\n",
    "\n",
    "1. Crear un array con los coeficientes elegidos al azar (usar `randint(-10,10,3)`).\n",
    "2. Calcular el valor de la función y el error correspondiente.\n",
    "3. Mientras que el error sea mayor a 1:\n",
    "    1. Definir nuevos coeficientes agregándoles un pequeño valor al azar a los coeficientes actuales (aprendizaje = 0.001).\n",
    "    2. Si el error para los nuevos coeficientes es menor que el anterior, reemplazar los coeficientes actuales por los nuevos.\n"
   ]
  },
  {
   "cell_type": "code",
   "execution_count": 121,
   "metadata": {},
   "outputs": [
    {
     "name": "stdout",
     "output_type": "stream",
     "text": [
      "Los coeficientes son [-1.781  8.961  0.615] y el error es 0.9958049999998968\n"
     ]
    },
    {
     "data": {
      "text/plain": [
       "array([-1.781,  8.961,  0.615])"
      ]
     },
     "execution_count": 121,
     "metadata": {},
     "output_type": "execute_result"
    }
   ],
   "source": [
    "import numpy as np\n",
    "from numpy.random import randint\n",
    "\n",
    "def f(x, coeficientes):\n",
    "    a, b, c = coeficientes\n",
    "    return a * x**2 + b * x + c\n",
    "\n",
    "def error(y, ypred):\n",
    "    return np.sum((y - ypred)**2)\n",
    "\n",
    "X = np.array([0, 1, 2, 3, 5])\n",
    "Y = np.array([0, 8, 12, 11, 1])\n",
    "\n",
    "def buscarCoeficientes():\n",
    "    coeficientes = randint(-10, 10, 3)\n",
    "    Ypred = f(X, coeficientes)\n",
    "    errorActual = error(Y, Ypred)\n",
    "    \n",
    "    aprendizaje = 0.001\n",
    "    \n",
    "    while errorActual > 1:\n",
    "        nuevosCoeficientes = coeficientes + np.random.uniform(-aprendizaje, aprendizaje, 3)\n",
    "        \n",
    "        yPredNuevo = f(X, nuevosCoeficientes)\n",
    "        nuevoError = error(Y, yPredNuevo)\n",
    "        \n",
    "        if nuevoError < errorActual:\n",
    "            coeficientes = nuevosCoeficientes\n",
    "            errorActual = nuevoError\n",
    "    \n",
    "    return coeficientes\n",
    "\n",
    "coeficientes = buscarCoeficientes()\n",
    "print(\"Coeficientes encontrados:\", coeficientes)\n",
    "\n",
    "yPredFinal = f(X, coeficientes)\n",
    "errorFinal = error(Y, yPredFinal)\n",
    "print(\"error final\", errorFinal)"
   ]
  }
 ],
 "metadata": {
  "kernelspec": {
   "display_name": "Python 3",
   "language": "python",
   "name": "python3"
  },
  "language_info": {
   "codemirror_mode": {
    "name": "ipython",
    "version": 3
   },
   "file_extension": ".py",
   "mimetype": "text/x-python",
   "name": "python",
   "nbconvert_exporter": "python",
   "pygments_lexer": "ipython3",
   "version": "3.12.5"
  }
 },
 "nbformat": 4,
 "nbformat_minor": 2
}
