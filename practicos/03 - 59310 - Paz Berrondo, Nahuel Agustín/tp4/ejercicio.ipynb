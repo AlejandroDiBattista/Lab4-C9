{
 "cells": [
  {
   "cell_type": "markdown",
   "metadata": {},
   "source": [
    "# Simulación del Truco"
   ]
  },
  {
   "cell_type": "markdown",
   "metadata": {},
   "source": [
    "Las **cartas** deben registra el numero, palo y valor de la carta. \n",
    "El valor debe reflejar la jerarquía de las cartas en el juego del truco."
   ]
  },
  {
   "cell_type": "code",
   "execution_count": 1,
   "metadata": {},
   "outputs": [
    {
     "name": "stdout",
     "output_type": "stream",
     "text": [
      "1 de oro (Valor: 13)\n"
     ]
    }
   ],
   "source": [
    "def calcular_valor(numero, palo):\n",
    "\n",
    "    jerarquia = {\n",
    "        1: 14 if palo in [\"espada\", \"basto\"] else 13,\n",
    "        3: 12, 2: 11,\n",
    "        12: 10, 11: 9, 10: 8,\n",
    "        7: 7 if palo in [\"oro\", \"copa\"] else 15, \n",
    "        6: 6, 5: 5, 4: 4\n",
    "    }\n",
    "    return jerarquia.get(numero, numero)\n",
    "\n",
    "class Carta:\n",
    "    def __init__(self, numero, palo):\n",
    "        self.numero = numero\n",
    "        self.palo = palo\n",
    "        self.valor = calcular_valor(numero, palo)\n",
    "\n",
    "    def __str__(self):\n",
    "        return f\"{self.numero} de {self.palo} (Valor: {self.valor})\"\n",
    "\n",
    "# Ejemplo de carta\n",
    "c = Carta(1, \"oro\")\n",
    "print(c)\n"
   ]
  },
  {
   "cell_type": "markdown",
   "metadata": {},
   "source": [
    "**Mazo**: Representan las cartas españolas de 1 al 12, en los palos de oro, copa, espada y basto.\n",
    "\n",
    "Debe existir una función que permita barajar las cartas.\n",
    "y otra función que permita repartir las cartas a los jugadores."
   ]
  },
  {
   "cell_type": "code",
   "execution_count": 3,
   "metadata": {},
   "outputs": [
    {
     "name": "stdout",
     "output_type": "stream",
     "text": [
      "['6 de oro (Valor: 6)', '3 de basto (Valor: 12)', '2 de oro (Valor: 11)']\n"
     ]
    }
   ],
   "source": [
    "import random\n",
    "\n",
    "class Mazo:\n",
    "    def __init__(self):\n",
    "        self.cartas = []\n",
    "        palos = [\"oro\", \"copa\", \"espada\", \"basto\"]\n",
    "        numeros = [1, 2, 3, 4, 5, 6, 7, 10, 11, 12] \n",
    "        for palo in palos:\n",
    "            for numero in numeros:\n",
    "                self.cartas.append(Carta(numero, palo))\n",
    "\n",
    "    def mezclar(self):\n",
    "        random.shuffle(self.cartas)\n",
    "\n",
    "    def repartir(self, cantidad):\n",
    "        repartidas = self.cartas[:cantidad]\n",
    "        self.cartas = self.cartas[cantidad:]\n",
    "        return repartidas\n",
    "\n",
    "# Ejemplo de uso del mazo\n",
    "m = Mazo()\n",
    "m.mezclar()\n",
    "print([str(carta) for carta in m.repartir(3)])\n"
   ]
  },
  {
   "cell_type": "markdown",
   "metadata": {},
   "source": [
    "**Jugador**: Deben tener un nombre y las cartas que tiene en la mano. Debe acumular los puntos ganados.\n",
    "\n",
    "Nota: Para simplificar el problema, el jugador elige la carta a jugar de forma aleatoria."
   ]
  },
  {
   "cell_type": "code",
   "execution_count": 4,
   "metadata": {},
   "outputs": [
    {
     "name": "stdout",
     "output_type": "stream",
     "text": [
      "10 de oro (Valor: 8)\n"
     ]
    }
   ],
   "source": [
    "class Jugador:\n",
    "    def __init__(self, nombre):\n",
    "        self.nombre = nombre\n",
    "        self.mano = []\n",
    "        self.puntos = 0\n",
    "\n",
    "    def recibir_cartas(self, cartas):\n",
    "        self.mano = cartas\n",
    "\n",
    "    def jugar_carta(self):\n",
    "        carta_jugada = random.choice(self.mano)\n",
    "        self.mano.remove(carta_jugada)\n",
    "        return carta_jugada\n",
    "\n",
    "    def __str__(self):\n",
    "        return f\"Jugador: {self.nombre}, Puntos: {self.puntos}\"\n",
    "\n",
    "# Ejemplo de jugador\n",
    "j = Jugador(\"Juan\")\n",
    "j.recibir_cartas(m.repartir(3))\n",
    "print(j.jugar_carta())\n"
   ]
  },
  {
   "cell_type": "markdown",
   "metadata": {},
   "source": [
    "**Partida**: Debe tener dos jugadores, un mazo de cartas y un puntaje. Debe permitir jugar una carta por ronda y definir el ganador de la ronda. Debe permitir jugar hasta que se terminen las cartas del mazo."
   ]
  },
  {
   "cell_type": "code",
   "execution_count": 5,
   "metadata": {},
   "outputs": [
    {
     "name": "stdout",
     "output_type": "stream",
     "text": [
      "Juan juega 10 de espada (Valor: 8)\n",
      "Pedro juega 5 de copa (Valor: 5)\n",
      "Juan gana la ronda\n",
      "Juan juega 5 de oro (Valor: 5)\n",
      "Pedro juega 2 de espada (Valor: 11)\n",
      "Pedro gana la ronda\n",
      "Juan juega 5 de basto (Valor: 5)\n",
      "Pedro juega 6 de oro (Valor: 6)\n",
      "Pedro gana la ronda\n",
      "Juan juega 7 de copa (Valor: 7)\n",
      "Pedro juega 11 de espada (Valor: 9)\n",
      "Pedro gana la ronda\n",
      "Juan juega 12 de espada (Valor: 10)\n",
      "Pedro juega 4 de copa (Valor: 4)\n",
      "Juan gana la ronda\n",
      "Juan juega 11 de oro (Valor: 9)\n",
      "Pedro juega 10 de oro (Valor: 8)\n",
      "Juan gana la ronda\n",
      "Juan juega 7 de basto (Valor: 15)\n",
      "Pedro juega 7 de oro (Valor: 7)\n",
      "Juan gana la ronda\n",
      "Juan juega 6 de basto (Valor: 6)\n",
      "Pedro juega 3 de espada (Valor: 12)\n",
      "Pedro gana la ronda\n",
      "Juan juega 11 de copa (Valor: 9)\n",
      "Pedro juega 6 de copa (Valor: 6)\n",
      "Juan gana la ronda\n",
      "Juan juega 1 de oro (Valor: 13)\n",
      "Pedro juega 3 de copa (Valor: 12)\n",
      "Juan gana la ronda\n",
      "Juan juega 7 de espada (Valor: 15)\n",
      "Pedro juega 3 de oro (Valor: 12)\n",
      "Juan gana la ronda\n",
      "Juan juega 1 de basto (Valor: 14)\n",
      "Pedro juega 10 de copa (Valor: 8)\n",
      "Juan gana la ronda\n",
      "Juan juega 1 de espada (Valor: 14)\n",
      "Pedro juega 4 de espada (Valor: 4)\n",
      "Juan gana la ronda\n",
      "Juan juega 2 de oro (Valor: 11)\n",
      "Pedro juega 5 de espada (Valor: 5)\n",
      "Juan gana la ronda\n",
      "Juan juega 12 de basto (Valor: 10)\n",
      "Pedro juega 3 de basto (Valor: 12)\n",
      "Pedro gana la ronda\n",
      "Juan juega 12 de oro (Valor: 10)\n",
      "Pedro juega 4 de basto (Valor: 4)\n",
      "Juan gana la ronda\n",
      "Juan juega 12 de copa (Valor: 10)\n",
      "Pedro juega 6 de espada (Valor: 6)\n",
      "Juan gana la ronda\n",
      "Juan juega 11 de basto (Valor: 9)\n",
      "Pedro juega 1 de copa (Valor: 13)\n",
      "Pedro gana la ronda\n",
      "El mazo no tiene suficientes cartas para continuar. Fin del juego.\n"
     ]
    }
   ],
   "source": [
    "class Partida:\n",
    "    def __init__(self, jugador1, jugador2):\n",
    "        self.jugador1 = jugador1\n",
    "        self.jugador2 = jugador2\n",
    "        self.mazo = Mazo()\n",
    "        self.mazo.mezclar()\n",
    "\n",
    "    def jugar_ronda(self):\n",
    "        if len(self.jugador1.mano) == 0 or len(self.jugador2.mano) == 0:\n",
    "            print(\"No hay suficientes cartas para jugar la ronda.\")\n",
    "            return False \n",
    "\n",
    "        carta_j1 = self.jugador1.jugar_carta()\n",
    "        carta_j2 = self.jugador2.jugar_carta()\n",
    "        \n",
    "        print(f\"{self.jugador1.nombre} juega {carta_j1}\")\n",
    "        print(f\"{self.jugador2.nombre} juega {carta_j2}\")\n",
    "        \n",
    "        if carta_j1.valor > carta_j2.valor:\n",
    "            print(f\"{self.jugador1.nombre} gana la ronda\")\n",
    "            self.jugador1.puntos += 1\n",
    "        elif carta_j2.valor > carta_j1.valor:\n",
    "            print(f\"{self.jugador2.nombre} gana la ronda\")\n",
    "            self.jugador2.puntos += 1\n",
    "        else:\n",
    "            print(\"Empate en la ronda\")\n",
    "        \n",
    "        return True \n",
    "\n",
    "    def jugar(self):\n",
    "        while self.jugador1.puntos < 15 and self.jugador2.puntos < 15:\n",
    "            if len(self.mazo.cartas) < 6:\n",
    "                print(\"El mazo no tiene suficientes cartas para continuar. Fin del juego.\")\n",
    "                break\n",
    "\n",
    "            self.jugador1.recibir_cartas(self.mazo.repartir(3))\n",
    "            self.jugador2.recibir_cartas(self.mazo.repartir(3))\n",
    "\n",
    "            for _ in range(3):\n",
    "                if not self.jugar_ronda():\n",
    "                    break  \n",
    "\n",
    "            if self.jugador1.puntos >= 15:\n",
    "                print(f\"{self.jugador1.nombre} ha ganado la partida!\")\n",
    "                break\n",
    "            elif self.jugador2.puntos >= 15:\n",
    "                print(f\"{self.jugador2.nombre} ha ganado la partida!\")\n",
    "                break\n",
    "\n",
    "# Iniciar una partida\n",
    "p = Partida(Jugador(\"Juan\"), Jugador(\"Pedro\"))\n",
    "p.jugar()\n"
   ]
  }
 ],
 "metadata": {
  "kernelspec": {
   "display_name": "Python 3",
   "language": "python",
   "name": "python3"
  },
  "language_info": {
   "codemirror_mode": {
    "name": "ipython",
    "version": 3
   },
   "file_extension": ".py",
   "mimetype": "text/x-python",
   "name": "python",
   "nbconvert_exporter": "python",
   "pygments_lexer": "ipython3",
   "version": "3.12.6"
  }
 },
 "nbformat": 4,
 "nbformat_minor": 2
}
