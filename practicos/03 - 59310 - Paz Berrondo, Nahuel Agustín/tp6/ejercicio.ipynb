{
 "cells": [
  {
   "cell_type": "markdown",
   "metadata": {},
   "source": [
    "# TP6\n",
    "\n",
    "### `Resolver usando Pandas`\n",
    "\n",
    "Resolver los ejercicios del TP3 utilizando la librería Pandas."
   ]
  },
  {
   "cell_type": "markdown",
   "metadata": {},
   "source": [
    "### Ejercicio 1: Cargar Datos de ventas.\n",
    "\n",
    "El archivo datos.dat contiene el registro de las ventas realizadas.\n",
    "\n",
    "Tiene un formato de ancho fijo:\n",
    "- `fecha`:    10 lugares\n",
    "- `producto`: 30 lugares\n",
    "- `precio`:   10 lugares\n",
    "- `cantidad`:  5 lugares\n",
    "\n",
    "Hacer una funcion que cargue los datos en un DataFrame de Pandas."
   ]
  },
  {
   "cell_type": "code",
   "execution_count": 11,
   "metadata": {},
   "outputs": [
    {
     "name": "stdout",
     "output_type": "stream",
     "text": [
      "        fecha    producto  precio  cantidad\n",
      "0  2024-08-27     Mirinda    1510        14\n",
      "1  2024-08-27     Mirinda    1560        12\n",
      "2  2024-08-28     Torasso     940         8\n",
      "3  2024-08-29  Pepsi Cola    1210        10\n",
      "4  2024-08-30     Mirinda    1520         1\n",
      "5  2024-09-01     Mirinda    1550        15\n",
      "6  2024-09-01      Sprite     810         4\n",
      "7  2024-09-02   Coca Cola    1100         4\n",
      "8  2024-09-02  Pepsi Cola    1220        13\n",
      "9  2024-09-02     Torasso     910         5\n",
      "10 2024-09-02     Torasso     920         3\n",
      "11 2024-09-03   Coca Cola    1020         8\n",
      "12 2024-09-03     Mirinda    1570         7\n",
      "13 2024-09-03     Mirinda    1590         2\n",
      "14 2024-09-04  Pepsi Cola    1220        13\n",
      "15 2024-09-05     Mirinda    1500         3\n",
      "16 2024-09-05  Pepsi Cola    1300         5\n",
      "17 2024-09-06   Coca Cola    1080         1\n",
      "18 2024-09-06      Sprite     860        12\n",
      "19 2024-09-06     Torasso     930         3\n",
      "20 2024-09-07   Coca Cola    1080        14\n",
      "21 2024-09-07      Sprite     870        13\n",
      "22 2024-09-08   Coca Cola    1040        10\n",
      "23 2024-09-08     Mirinda    1580         2\n",
      "24 2024-09-08  Pepsi Cola    1240         9\n",
      "25 2024-09-09     Mirinda    1500         3\n",
      "26 2024-09-09      Sprite     850         9\n",
      "27 2024-09-10     Mirinda    1590         8\n",
      "28 2024-09-10  Pepsi Cola    1250        12\n",
      "29 2024-09-11      Sprite     810         6\n",
      "30 2024-09-11      Sprite     820        14\n",
      "31 2024-09-12   Coca Cola    1080         4\n",
      "32 2024-09-13     Mirinda    1580         5\n",
      "33 2024-09-13  Pepsi Cola    1250        13\n",
      "34 2024-09-14   Coca Cola    1080        15\n",
      "35 2024-09-14  Pepsi Cola    1270        14\n",
      "36 2024-09-15   Coca Cola    1100         1\n",
      "37 2024-09-15     Mirinda    1500        13\n",
      "38 2024-09-15      Sprite     870        14\n",
      "39 2024-09-15     Torasso     900        13\n"
     ]
    }
   ],
   "source": [
    "import pandas as pd\n",
    "def cargar_datos():\n",
    "    # Read the fixed-width file\n",
    "    datos = pd.read_fwf('datos.dat', \n",
    "                        widths=[10, 30, 10, 5], \n",
    "                        names=['fecha', 'producto', 'precio', 'cantidad'])\n",
    "    \n",
    "    # Convert fecha to datetime, precio and cantidad to numeric\n",
    "    datos['fecha'] = pd.to_datetime(datos['fecha'])\n",
    "    datos['precio'] = pd.to_numeric(datos['precio'])\n",
    "    datos['cantidad'] = pd.to_numeric(datos['cantidad'])\n",
    "    \n",
    "    return datos\n",
    "\n",
    "datos = cargar_datos()\n",
    "print(datos)"
   ]
  },
  {
   "cell_type": "markdown",
   "metadata": {},
   "source": [
    "### Ejercicio 2: Calcular el total de ventas.\n",
    "Hacer una función que sume los importes vendidos (precio * cantidad) y las cantidades.\n"
   ]
  },
  {
   "cell_type": "code",
   "execution_count": 12,
   "metadata": {},
   "outputs": [
    {
     "name": "stdout",
     "output_type": "stream",
     "text": [
      "Las ventas fueron de $392730.00 en 335 unidades\n"
     ]
    }
   ],
   "source": [
    "def calcular_totales(datos):\n",
    "    total_importe = (datos['precio'] * datos['cantidad']).sum()\n",
    "    total_cantidad = datos['cantidad'].sum()\n",
    "    return total_importe, total_cantidad\n",
    "\n",
    "importe, cantidad = calcular_totales(datos)\n",
    "print(f\"Las ventas fueron de ${importe:.2f} en {cantidad} unidades\")"
   ]
  },
  {
   "cell_type": "markdown",
   "metadata": {},
   "source": [
    "### Ejercicio 3: Listar las unidades vendidas.\n",
    "Listar cuántas unidades se vendieron en total para cada producto\n"
   ]
  },
  {
   "cell_type": "code",
   "execution_count": 13,
   "metadata": {},
   "outputs": [
    {
     "name": "stdout",
     "output_type": "stream",
     "text": [
      "producto\n",
      "Coca Cola     57\n",
      "Mirinda       85\n",
      "Pepsi Cola    89\n",
      "Sprite        72\n",
      "Torasso       32\n",
      "Name: cantidad, dtype: int64\n"
     ]
    }
   ],
   "source": [
    "def unidades_vendidas(datos):\n",
    "    return datos.groupby('producto')['cantidad'].sum()\n",
    "\n",
    "ventas = unidades_vendidas(datos)\n",
    "print(ventas)"
   ]
  },
  {
   "cell_type": "markdown",
   "metadata": {},
   "source": [
    "###  Ejercicio 4: Listar el precio promedio por producto.\n",
    "Hacer un listado del precio promedio por producto.\n"
   ]
  },
  {
   "cell_type": "code",
   "execution_count": 14,
   "metadata": {},
   "outputs": [
    {
     "name": "stdout",
     "output_type": "stream",
     "text": [
      "producto\n",
      "Coca Cola     1072.500000\n",
      "Mirinda       1545.833333\n",
      "Pepsi Cola    1245.000000\n",
      "Sprite         841.428571\n",
      "Torasso        920.000000\n",
      "Name: precio, dtype: float64\n"
     ]
    }
   ],
   "source": [
    "def precio_promedio(datos):\n",
    "    return datos.groupby('producto')['precio'].mean()\n",
    "\n",
    "precios = precio_promedio(datos)\n",
    "print(precios)"
   ]
  },
  {
   "cell_type": "markdown",
   "metadata": {},
   "source": [
    "### Ejercicio 5: Ranking de productos\n",
    "Realizar un listado de los 3 productos más vendidos ordenados por la cantidad de unidades vendidas (ordenadas de mayor a menor)\n"
   ]
  },
  {
   "cell_type": "code",
   "execution_count": 15,
   "metadata": {},
   "outputs": [
    {
     "name": "stdout",
     "output_type": "stream",
     "text": [
      "producto\n",
      "Pepsi Cola    89\n",
      "Mirinda       85\n",
      "Sprite        72\n",
      "Name: cantidad, dtype: int64\n"
     ]
    }
   ],
   "source": [
    "def ranking_productos(datos, top=3):\n",
    "    return datos.groupby('producto')['cantidad'].sum().sort_values(ascending=False).head(top)\n",
    "\n",
    "ranking = ranking_productos(datos)\n",
    "print(ranking)"
   ]
  },
  {
   "cell_type": "markdown",
   "metadata": {},
   "source": [
    "### Ejercicio 6: Listar las ventas por mes\n",
    "Realizar un listado del total de unidades vendidas por producto separado por mes.\n"
   ]
  },
  {
   "cell_type": "code",
   "execution_count": 16,
   "metadata": {},
   "outputs": [
    {
     "name": "stdout",
     "output_type": "stream",
     "text": [
      "producto  Coca Cola  Mirinda  Pepsi Cola  Sprite  Torasso\n",
      "mes                                                      \n",
      "2024-08           0       27          10       0        8\n",
      "2024-09          57       58          79      72       24\n"
     ]
    }
   ],
   "source": [
    "def ventas_por_mes(datos):\n",
    "    datos['mes'] = datos['fecha'].dt.to_period('M')\n",
    "    return datos.groupby(['mes', 'producto'])['cantidad'].sum().unstack(fill_value=0)\n",
    "\n",
    "ventas_mensuales = ventas_por_mes(datos)\n",
    "print(ventas_mensuales)"
   ]
  },
  {
   "cell_type": "markdown",
   "metadata": {},
   "source": [
    "### Ejercicio 7: Informe general\n",
    "\n",
    "Mostrar un listado de productos ordenados alfabeticamente que contengan el precio promedio, la cantidad de unidades vendidas y el importe total vendido para cada producto"
   ]
  },
  {
   "cell_type": "code",
   "execution_count": 17,
   "metadata": {},
   "outputs": [
    {
     "name": "stdout",
     "output_type": "stream",
     "text": [
      "            importe_total  unidades_vendidas  precio_promedio\n",
      "producto                                                     \n",
      "Coca Cola           60780                 57      1066.315789\n",
      "Mirinda            131080                 85      1542.117647\n",
      "Pepsi Cola         110510                 89      1241.685393\n",
      "Sprite              61040                 72       847.777778\n",
      "Torasso             29320                 32       916.250000\n"
     ]
    }
   ],
   "source": [
    "def resumen_ventas(datos):\n",
    "    resumen = datos.groupby('producto').agg({\n",
    "        'precio': 'mean',\n",
    "        'cantidad': 'sum',\n",
    "        'precio': lambda x: (x * datos.loc[x.index, 'cantidad']).sum()\n",
    "    }).rename(columns={'precio': 'importe_total', 'cantidad': 'unidades_vendidas'})\n",
    "    resumen['precio_promedio'] = resumen['importe_total'] / resumen['unidades_vendidas']\n",
    "    return resumen.sort_index()\n",
    "\n",
    "resumen = resumen_ventas(datos)\n",
    "print(resumen)"
   ]
  },
  {
   "cell_type": "markdown",
   "metadata": {},
   "source": [
    "## `Resolver usando NumPy`\n",
    "## Resolver el ejercicio 2 del tp1 usando NumPy"
   ]
  },
  {
   "cell_type": "markdown",
   "metadata": {},
   "source": [
    "### Ejercicio 8\n",
    "\n",
    "Escribe una función en Python que encuentre los valores de `a`, `b`, y `c` para que la función cuadrática `f(x) = a x^2 + b x + c` pase exactamente por los siguientes puntos:\n",
    "\n",
    "| x  | y  |\n",
    "|---:|---:|\n",
    "|  0 |  0 |\n",
    "|  1 |  8 |\n",
    "|  2 | 12 |\n",
    "|  3 | 12 |\n",
    "|  5 |  0 |\n",
    "\n",
    "### Requisitos:\n",
    "- La función debe explorar posibles valores de `a`, `b`, y `c` utilizando un método de prueba y error.\n",
    "- Debe devolver los valores que hagan que la diferencia entre la función `f(x)` y los valores medidos `y` sea exactamente cero para cada punto.\n",
    "\n",
    "> **Pista**: Los valores de `a`, `b`, y `c` son números pequeños.\n",
    "\n",
    "La idea es implementar el mismo algoritmo que se uso en el TP1 pero usando NumPy en lugar de Python puro."
   ]
  },
  {
   "cell_type": "code",
   "execution_count": 18,
   "metadata": {},
   "outputs": [
    {
     "name": "stdout",
     "output_type": "stream",
     "text": [
      "Ejercicio 8:\n",
      "Los coeficientes son [-2 10  0]\n"
     ]
    }
   ],
   "source": [
    "import numpy as np\n",
    "\n",
    "\n",
    "def f(x, coeficientes):\n",
    "    a, b, c = coeficientes\n",
    "    return a*x**2 + b*x + c\n",
    "\n",
    "def error(y, y_pred):\n",
    "    return y - y_pred\n",
    "\n",
    "X = np.array([0, 1, 2, 3, 5])\n",
    "Y = np.array([0, 8, 12, 12, 0])\n",
    "\n",
    "def buscar_coeficientes():\n",
    "    for a in range(-10, 11):\n",
    "        for b in range(-10, 11):\n",
    "            for c in range(-10, 11):\n",
    "                coeficientes = np.array([a, b, c])\n",
    "                y_pred = f(X, coeficientes)\n",
    "                if np.all(np.abs(error(Y, y_pred)) < 1e-10):\n",
    "                    return coeficientes\n",
    "    return None\n",
    "\n",
    "coeficientes = buscar_coeficientes()\n",
    "print(\"Ejercicio 8:\")\n",
    "print(f\"Los coeficientes son {coeficientes}\")"
   ]
  },
  {
   "cell_type": "markdown",
   "metadata": {},
   "source": [
    "### Ejercicio 9: Resolver el ejercicio 3 del TP1 usando NumPy\n",
    "Buscar los coeficientes de la función que minimice la suma de los cuadrados de las diferencias entre los valores medidos y los valores de la función.\n",
    "\n",
    "1. Crear un array con los coeficientes elegidos al azar (usar `randint(-10,10,3)`).\n",
    "2. Calcular el valor de la función y el error correspondiente.\n",
    "3. Mientras que el error sea mayor a 1:\n",
    "    1. Definir nuevos coeficientes agregándoles un pequeño valor al azar a los coeficientes actuales (aprendizaje = 0.001).\n",
    "    2. Si el error para los nuevos coeficientes es menor que el anterior, reemplazar los coeficientes actuales por los nuevos.\n"
   ]
  },
  {
   "cell_type": "code",
   "execution_count": 19,
   "metadata": {},
   "outputs": [
    {
     "name": "stdout",
     "output_type": "stream",
     "text": [
      "\n",
      "Ejercicio 9:\n",
      "Los coeficientes son [-1.90114185  9.69255709 -0.14532469] y el error es 0.9997901452616865\n"
     ]
    }
   ],
   "source": [
    "X = np.array([0, 1, 2, 3, 5])\n",
    "Y = np.array([0, 8, 12, 11, 1])\n",
    "\n",
    "def buscar_coeficientes():\n",
    "    coeficientes = np.random.randint(-10, 11, 3)\n",
    "    mejor_error = float('inf')\n",
    "    aprendizaje = 0.001\n",
    "    \n",
    "    while mejor_error > 1:\n",
    "        y_pred = f(X, coeficientes)\n",
    "        error_actual = error(Y, y_pred)\n",
    "        error_total = np.sum(error_actual**2)\n",
    "        \n",
    "        if error_total < mejor_error:\n",
    "            mejor_error = error_total\n",
    "        \n",
    "        nuevos_coeficientes = coeficientes + np.random.uniform(-aprendizaje, aprendizaje, 3)\n",
    "        nuevos_y_pred = f(X, nuevos_coeficientes)\n",
    "        nuevo_error_total = np.sum(error(Y, nuevos_y_pred)**2)\n",
    "        \n",
    "        if nuevo_error_total < error_total:\n",
    "            coeficientes = nuevos_coeficientes\n",
    "    \n",
    "    return coeficientes\n",
    "\n",
    "coeficientes = buscar_coeficientes()\n",
    "y_pred = f(X, coeficientes)\n",
    "error_final = np.sum(error(Y, y_pred)**2)\n",
    "print(\"\\nEjercicio 9:\")\n",
    "print(f\"Los coeficientes son {coeficientes} y el error es {error_final}\")"
   ]
  }
 ],
 "metadata": {
  "kernelspec": {
   "display_name": "Python 3",
   "language": "python",
   "name": "python3"
  },
  "language_info": {
   "codemirror_mode": {
    "name": "ipython",
    "version": 3
   },
   "file_extension": ".py",
   "mimetype": "text/x-python",
   "name": "python",
   "nbconvert_exporter": "python",
   "pygments_lexer": "ipython3",
   "version": "3.13.0"
  }
 },
 "nbformat": 4,
 "nbformat_minor": 2
}
