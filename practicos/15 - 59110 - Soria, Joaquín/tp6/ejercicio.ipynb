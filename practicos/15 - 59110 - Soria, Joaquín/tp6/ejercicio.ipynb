{
 "cells": [
  {
   "cell_type": "markdown",
   "metadata": {},
   "source": [
    "# TP6\n",
    "\n",
    "### `Resolver usando Pandas`\n",
    "\n",
    "Resolver los ejercicios del TP3 utilizando la librería Pandas."
   ]
  },
  {
   "cell_type": "markdown",
   "metadata": {},
   "source": [
    "### Ejercicio 1: Cargar Datos de ventas.\n",
    "\n",
    "El archivo datos.dat contiene el registro de las ventas realizadas.\n",
    "\n",
    "Tiene un formato de ancho fijo:\n",
    "- `fecha`:    10 lugares\n",
    "- `producto`: 30 lugares\n",
    "- `precio`:   10 lugares\n",
    "- `cantidad`:  5 lugares\n",
    "\n",
    "Hacer una funcion que cargue los datos en un DataFrame de Pandas."
   ]
  },
  {
   "cell_type": "code",
   "execution_count": 99,
   "metadata": {},
   "outputs": [
    {
     "name": "stdout",
     "output_type": "stream",
     "text": [
      "       fecha    producto  precio  cantidad\n",
      "0 2024-08-27     Mirinda  1510.0        14\n",
      "1 2024-08-27     Mirinda  1560.0        12\n",
      "2 2024-08-28     Torasso   940.0         8\n",
      "3 2024-08-29  Pepsi Cola  1210.0        10\n",
      "4 2024-08-30     Mirinda  1520.0         1\n"
     ]
    }
   ],
   "source": [
    "import pandas as pd\n",
    "\n",
    "def cargar_datos():\n",
    "    columnas = [('fecha', 10), ('producto', 30), ('precio', 10), ('cantidad', 5)]\n",
    "    \n",
    "    col_specs = [(sum([c[1] for c in columnas[:i]]), sum([c[1] for c in columnas[:i+1]])) for i in range(len(columnas))]\n",
    "    \n",
    "    df = pd.read_fwf('datos.dat', colspecs=col_specs, header=None, names=[c[0] for c in columnas])\n",
    "    \n",
    "    df['fecha'] = pd.to_datetime(df['fecha'])\n",
    "    df['precio'] = df['precio'].astype(float)\n",
    "    df['cantidad'] = df['cantidad'].astype(int)\n",
    "    \n",
    "    return df\n",
    "\n",
    "datos = cargar_datos()\n",
    "\n",
    "print(datos.head())"
   ]
  },
  {
   "cell_type": "markdown",
   "metadata": {},
   "source": [
    "### Ejercicio 2: Calcular el total de ventas.\n",
    "Hacer una función que sume los importes vendidos (precio * cantidad) y las cantidades.\n"
   ]
  },
  {
   "cell_type": "code",
   "execution_count": 100,
   "metadata": {},
   "outputs": [
    {
     "name": "stdout",
     "output_type": "stream",
     "text": [
      "Las ventas fueron de $392730.00 en 335 unidades\n"
     ]
    }
   ],
   "source": [
    "\n",
    "def calcular_totales(datos):\n",
    "\n",
    "    datos['importe'] = datos['precio'] * datos['cantidad']\n",
    "    importe_total = datos['importe'].sum()\n",
    "    \n",
    "    cantidad_total = datos['cantidad'].sum()\n",
    "    \n",
    "    return importe_total, cantidad_total\n",
    "\n",
    "importe, cantidad = calcular_totales(datos)\n",
    "\n",
    "print(f\"Las ventas fueron de ${importe:.2f} en {cantidad} unidades\")"
   ]
  },
  {
   "cell_type": "markdown",
   "metadata": {},
   "source": [
    "### Ejercicio 3: Listar las unidades vendidas.\n",
    "Listar cuántas unidades se vendieron en total para cada producto\n"
   ]
  },
  {
   "cell_type": "code",
   "execution_count": 101,
   "metadata": {},
   "outputs": [
    {
     "data": {
      "text/html": [
       "<div>\n",
       "<style scoped>\n",
       "    .dataframe tbody tr th:only-of-type {\n",
       "        vertical-align: middle;\n",
       "    }\n",
       "\n",
       "    .dataframe tbody tr th {\n",
       "        vertical-align: top;\n",
       "    }\n",
       "\n",
       "    .dataframe thead th {\n",
       "        text-align: right;\n",
       "    }\n",
       "</style>\n",
       "<table border=\"1\" class=\"dataframe\">\n",
       "  <thead>\n",
       "    <tr style=\"text-align: right;\">\n",
       "      <th></th>\n",
       "      <th>Producto</th>\n",
       "      <th>Unidades Vendidas</th>\n",
       "    </tr>\n",
       "  </thead>\n",
       "  <tbody>\n",
       "    <tr>\n",
       "      <th>0</th>\n",
       "      <td>Pepsi Cola</td>\n",
       "      <td>89</td>\n",
       "    </tr>\n",
       "    <tr>\n",
       "      <th>1</th>\n",
       "      <td>Mirinda</td>\n",
       "      <td>85</td>\n",
       "    </tr>\n",
       "    <tr>\n",
       "      <th>2</th>\n",
       "      <td>Sprite</td>\n",
       "      <td>72</td>\n",
       "    </tr>\n",
       "    <tr>\n",
       "      <th>3</th>\n",
       "      <td>Coca Cola</td>\n",
       "      <td>57</td>\n",
       "    </tr>\n",
       "    <tr>\n",
       "      <th>4</th>\n",
       "      <td>Torasso</td>\n",
       "      <td>32</td>\n",
       "    </tr>\n",
       "  </tbody>\n",
       "</table>\n",
       "</div>"
      ],
      "text/plain": [
       "     Producto  Unidades Vendidas\n",
       "0  Pepsi Cola                 89\n",
       "1     Mirinda                 85\n",
       "2      Sprite                 72\n",
       "3   Coca Cola                 57\n",
       "4     Torasso                 32"
      ]
     },
     "execution_count": 101,
     "metadata": {},
     "output_type": "execute_result"
    }
   ],
   "source": [
    "\n",
    "def unidades_vendidas(datos):\n",
    "    ventas_por_producto = datos.groupby('producto')['cantidad'].sum().sort_values(ascending=False)\n",
    "    \n",
    "    resultado = ventas_por_producto.reset_index()\n",
    "    resultado.columns = ['Producto', 'Unidades Vendidas']\n",
    "        \n",
    "    return resultado\n",
    "\n",
    "# Asumiendo que 'datos' es el DataFrame que obtuvimos de cargar_datos()\n",
    "unidades_vendidas(datos)"
   ]
  },
  {
   "cell_type": "markdown",
   "metadata": {},
   "source": [
    "###  Ejercicio 4: Listar el precio promedio por producto.\n",
    "Hacer un listado del precio promedio por producto.\n"
   ]
  },
  {
   "cell_type": "code",
   "execution_count": 102,
   "metadata": {},
   "outputs": [
    {
     "data": {
      "text/html": [
       "<div>\n",
       "<style scoped>\n",
       "    .dataframe tbody tr th:only-of-type {\n",
       "        vertical-align: middle;\n",
       "    }\n",
       "\n",
       "    .dataframe tbody tr th {\n",
       "        vertical-align: top;\n",
       "    }\n",
       "\n",
       "    .dataframe thead th {\n",
       "        text-align: right;\n",
       "    }\n",
       "</style>\n",
       "<table border=\"1\" class=\"dataframe\">\n",
       "  <thead>\n",
       "    <tr style=\"text-align: right;\">\n",
       "      <th></th>\n",
       "      <th>Producto</th>\n",
       "      <th>Precio Promedio</th>\n",
       "    </tr>\n",
       "  </thead>\n",
       "  <tbody>\n",
       "    <tr>\n",
       "      <th>0</th>\n",
       "      <td>Mirinda</td>\n",
       "      <td>1545.83</td>\n",
       "    </tr>\n",
       "    <tr>\n",
       "      <th>1</th>\n",
       "      <td>Pepsi Cola</td>\n",
       "      <td>1245.00</td>\n",
       "    </tr>\n",
       "    <tr>\n",
       "      <th>2</th>\n",
       "      <td>Coca Cola</td>\n",
       "      <td>1072.50</td>\n",
       "    </tr>\n",
       "    <tr>\n",
       "      <th>3</th>\n",
       "      <td>Torasso</td>\n",
       "      <td>920.00</td>\n",
       "    </tr>\n",
       "    <tr>\n",
       "      <th>4</th>\n",
       "      <td>Sprite</td>\n",
       "      <td>841.43</td>\n",
       "    </tr>\n",
       "  </tbody>\n",
       "</table>\n",
       "</div>"
      ],
      "text/plain": [
       "     Producto  Precio Promedio\n",
       "0     Mirinda          1545.83\n",
       "1  Pepsi Cola          1245.00\n",
       "2   Coca Cola          1072.50\n",
       "3     Torasso           920.00\n",
       "4      Sprite           841.43"
      ]
     },
     "execution_count": 102,
     "metadata": {},
     "output_type": "execute_result"
    }
   ],
   "source": [
    "def precio_promedio(datos):\n",
    "    promedio_por_producto = datos.groupby('producto')['precio'].mean().sort_values(ascending=False)\n",
    "    \n",
    "    resultado = promedio_por_producto.reset_index()\n",
    "    resultado.columns = ['Producto', 'Precio Promedio']\n",
    "    \n",
    "    resultado['Precio Promedio'] = resultado['Precio Promedio'].round(2)\n",
    "        \n",
    "    return resultado\n",
    "\n",
    "precio_promedio(datos)"
   ]
  },
  {
   "cell_type": "markdown",
   "metadata": {},
   "source": [
    "### Ejercicio 5: Ranking de productos\n",
    "Realizar un listado de los 3 productos más vendidos ordenados por la cantidad de unidades vendidas (ordenadas de mayor a menor)\n"
   ]
  },
  {
   "cell_type": "code",
   "execution_count": 103,
   "metadata": {},
   "outputs": [
    {
     "data": {
      "text/html": [
       "<div>\n",
       "<style scoped>\n",
       "    .dataframe tbody tr th:only-of-type {\n",
       "        vertical-align: middle;\n",
       "    }\n",
       "\n",
       "    .dataframe tbody tr th {\n",
       "        vertical-align: top;\n",
       "    }\n",
       "\n",
       "    .dataframe thead th {\n",
       "        text-align: right;\n",
       "    }\n",
       "</style>\n",
       "<table border=\"1\" class=\"dataframe\">\n",
       "  <thead>\n",
       "    <tr style=\"text-align: right;\">\n",
       "      <th></th>\n",
       "      <th>Ranking</th>\n",
       "      <th>Producto</th>\n",
       "      <th>Unidades Vendidas</th>\n",
       "    </tr>\n",
       "  </thead>\n",
       "  <tbody>\n",
       "    <tr>\n",
       "      <th>0</th>\n",
       "      <td>1</td>\n",
       "      <td>Pepsi Cola</td>\n",
       "      <td>89</td>\n",
       "    </tr>\n",
       "    <tr>\n",
       "      <th>1</th>\n",
       "      <td>2</td>\n",
       "      <td>Mirinda</td>\n",
       "      <td>85</td>\n",
       "    </tr>\n",
       "    <tr>\n",
       "      <th>2</th>\n",
       "      <td>3</td>\n",
       "      <td>Sprite</td>\n",
       "      <td>72</td>\n",
       "    </tr>\n",
       "  </tbody>\n",
       "</table>\n",
       "</div>"
      ],
      "text/plain": [
       "   Ranking    Producto  Unidades Vendidas\n",
       "0        1  Pepsi Cola                 89\n",
       "1        2     Mirinda                 85\n",
       "2        3      Sprite                 72"
      ]
     },
     "execution_count": 103,
     "metadata": {},
     "output_type": "execute_result"
    }
   ],
   "source": [
    "def ranking_productos(datos, top=3):\n",
    "    ventas_por_producto = datos.groupby('producto')['cantidad'].sum().sort_values(ascending=False)\n",
    "    \n",
    "    top_productos = ventas_por_producto.head(top)\n",
    "    \n",
    "    resultado = top_productos.reset_index()\n",
    "    resultado.columns = ['Producto', 'Unidades Vendidas']\n",
    "    \n",
    "    resultado.insert(0, 'Ranking', range(1, len(resultado) + 1))\n",
    "        \n",
    "    return resultado\n",
    "\n",
    "ranking_productos(datos)"
   ]
  },
  {
   "cell_type": "markdown",
   "metadata": {},
   "source": [
    "### Ejercicio 6: Listar las ventas por mes\n",
    "Realizar un listado del total de unidades vendidas por producto separado por mes.\n"
   ]
  },
  {
   "cell_type": "code",
   "execution_count": 104,
   "metadata": {},
   "outputs": [
    {
     "data": {
      "text/html": [
       "<div>\n",
       "<style scoped>\n",
       "    .dataframe tbody tr th:only-of-type {\n",
       "        vertical-align: middle;\n",
       "    }\n",
       "\n",
       "    .dataframe tbody tr th {\n",
       "        vertical-align: top;\n",
       "    }\n",
       "\n",
       "    .dataframe thead th {\n",
       "        text-align: right;\n",
       "    }\n",
       "</style>\n",
       "<table border=\"1\" class=\"dataframe\">\n",
       "  <thead>\n",
       "    <tr style=\"text-align: right;\">\n",
       "      <th>mes</th>\n",
       "      <th>2024-08</th>\n",
       "      <th>2024-09</th>\n",
       "      <th>Total</th>\n",
       "    </tr>\n",
       "    <tr>\n",
       "      <th>producto</th>\n",
       "      <th></th>\n",
       "      <th></th>\n",
       "      <th></th>\n",
       "    </tr>\n",
       "  </thead>\n",
       "  <tbody>\n",
       "    <tr>\n",
       "      <th>Pepsi Cola</th>\n",
       "      <td>10</td>\n",
       "      <td>79</td>\n",
       "      <td>89</td>\n",
       "    </tr>\n",
       "    <tr>\n",
       "      <th>Mirinda</th>\n",
       "      <td>27</td>\n",
       "      <td>58</td>\n",
       "      <td>85</td>\n",
       "    </tr>\n",
       "    <tr>\n",
       "      <th>Sprite</th>\n",
       "      <td>0</td>\n",
       "      <td>72</td>\n",
       "      <td>72</td>\n",
       "    </tr>\n",
       "    <tr>\n",
       "      <th>Coca Cola</th>\n",
       "      <td>0</td>\n",
       "      <td>57</td>\n",
       "      <td>57</td>\n",
       "    </tr>\n",
       "    <tr>\n",
       "      <th>Torasso</th>\n",
       "      <td>8</td>\n",
       "      <td>24</td>\n",
       "      <td>32</td>\n",
       "    </tr>\n",
       "  </tbody>\n",
       "</table>\n",
       "</div>"
      ],
      "text/plain": [
       "mes         2024-08  2024-09  Total\n",
       "producto                           \n",
       "Pepsi Cola       10       79     89\n",
       "Mirinda          27       58     85\n",
       "Sprite            0       72     72\n",
       "Coca Cola         0       57     57\n",
       "Torasso           8       24     32"
      ]
     },
     "execution_count": 104,
     "metadata": {},
     "output_type": "execute_result"
    }
   ],
   "source": [
    "def ventas_por_mes(datos):\n",
    "    datos['fecha'] = pd.to_datetime(datos['fecha'])\n",
    "    \n",
    "    datos['mes'] = datos['fecha'].dt.to_period('M')\n",
    "    \n",
    "    ventas = datos.groupby(['producto', 'mes'])['cantidad'].sum().unstack(level='mes')\n",
    "    \n",
    "    ventas = ventas.fillna(0)\n",
    "    \n",
    "    ventas = ventas.sort_index(axis=1)\n",
    "    \n",
    "    ventas['Total'] = ventas.sum(axis=1)\n",
    "    \n",
    "    ventas = ventas.sort_values('Total', ascending=False)\n",
    "    \n",
    "    ventas = ventas.astype(int)\n",
    "    \n",
    "    \n",
    "    return ventas\n",
    "\n",
    "ventas_por_mes(datos)"
   ]
  },
  {
   "cell_type": "markdown",
   "metadata": {},
   "source": [
    "### Ejercicio 7: Informe general\n",
    "\n",
    "Mostrar un listado de productos ordenados alfabeticamente que contengan el precio promedio, la cantidad de unidades vendidas y el importe total vendido para cada producto"
   ]
  },
  {
   "cell_type": "code",
   "execution_count": 105,
   "metadata": {},
   "outputs": [
    {
     "data": {
      "text/html": [
       "<div>\n",
       "<style scoped>\n",
       "    .dataframe tbody tr th:only-of-type {\n",
       "        vertical-align: middle;\n",
       "    }\n",
       "\n",
       "    .dataframe tbody tr th {\n",
       "        vertical-align: top;\n",
       "    }\n",
       "\n",
       "    .dataframe thead th {\n",
       "        text-align: right;\n",
       "    }\n",
       "</style>\n",
       "<table border=\"1\" class=\"dataframe\">\n",
       "  <thead>\n",
       "    <tr style=\"text-align: right;\">\n",
       "      <th></th>\n",
       "      <th>Precio Promedio</th>\n",
       "      <th>Unidades Vendidas</th>\n",
       "      <th>Importe Total</th>\n",
       "    </tr>\n",
       "    <tr>\n",
       "      <th>producto</th>\n",
       "      <th></th>\n",
       "      <th></th>\n",
       "      <th></th>\n",
       "    </tr>\n",
       "  </thead>\n",
       "  <tbody>\n",
       "    <tr>\n",
       "      <th>Coca Cola</th>\n",
       "      <td>1072.50</td>\n",
       "      <td>57</td>\n",
       "      <td>60780.0</td>\n",
       "    </tr>\n",
       "    <tr>\n",
       "      <th>Mirinda</th>\n",
       "      <td>1545.83</td>\n",
       "      <td>85</td>\n",
       "      <td>131080.0</td>\n",
       "    </tr>\n",
       "    <tr>\n",
       "      <th>Pepsi Cola</th>\n",
       "      <td>1245.00</td>\n",
       "      <td>89</td>\n",
       "      <td>110510.0</td>\n",
       "    </tr>\n",
       "    <tr>\n",
       "      <th>Sprite</th>\n",
       "      <td>841.43</td>\n",
       "      <td>72</td>\n",
       "      <td>61040.0</td>\n",
       "    </tr>\n",
       "    <tr>\n",
       "      <th>Torasso</th>\n",
       "      <td>920.00</td>\n",
       "      <td>32</td>\n",
       "      <td>29320.0</td>\n",
       "    </tr>\n",
       "  </tbody>\n",
       "</table>\n",
       "</div>"
      ],
      "text/plain": [
       "            Precio Promedio  Unidades Vendidas  Importe Total\n",
       "producto                                                     \n",
       "Coca Cola           1072.50                 57        60780.0\n",
       "Mirinda             1545.83                 85       131080.0\n",
       "Pepsi Cola          1245.00                 89       110510.0\n",
       "Sprite               841.43                 72        61040.0\n",
       "Torasso              920.00                 32        29320.0"
      ]
     },
     "execution_count": 105,
     "metadata": {},
     "output_type": "execute_result"
    }
   ],
   "source": [
    "def resumen_ventas(datos):\n",
    "    precio_promedio = datos.groupby('producto')['precio'].mean()\n",
    "    \n",
    "    unidades_vendidas = datos.groupby('producto')['cantidad'].sum()\n",
    "    \n",
    "    datos['importe'] = datos['precio'] * datos['cantidad']\n",
    "    importe_total = datos.groupby('producto')['importe'].sum()\n",
    "    \n",
    "    resumen = pd.DataFrame({\n",
    "        'Precio Promedio': precio_promedio,\n",
    "        'Unidades Vendidas': unidades_vendidas,\n",
    "        'Importe Total': importe_total\n",
    "    })\n",
    "    \n",
    "    resumen = resumen.sort_index()\n",
    "    \n",
    "    resumen['Precio Promedio'] = resumen['Precio Promedio'].round(2)\n",
    "    resumen['Importe Total'] = resumen['Importe Total'].round(2)\n",
    "    \n",
    "    \n",
    "    return resumen\n",
    "\n",
    "resumen_ventas(datos)"
   ]
  },
  {
   "cell_type": "markdown",
   "metadata": {},
   "source": [
    "## `Resolver usando NumPy`\n",
    "## Resolver el ejercicio 2 del tp1 usando NumPy"
   ]
  },
  {
   "cell_type": "markdown",
   "metadata": {},
   "source": [
    "### Ejercicio 8\n",
    "\n",
    "Escribe una función en Python que encuentre los valores de `a`, `b`, y `c` para que la función cuadrática `f(x) = a x^2 + b x + c` pase exactamente por los siguientes puntos:\n",
    "\n",
    "| x  | y  |\n",
    "|---:|---:|\n",
    "|  0 |  0 |\n",
    "|  1 |  8 |\n",
    "|  2 | 12 |\n",
    "|  3 | 12 |\n",
    "|  5 |  0 |\n",
    "\n",
    "### Requisitos:\n",
    "- La función debe explorar posibles valores de `a`, `b`, y `c` utilizando un método de prueba y error.\n",
    "- Debe devolver los valores que hagan que la diferencia entre la función `f(x)` y los valores medidos `y` sea exactamente cero para cada punto.\n",
    "\n",
    "> **Pista**: Los valores de `a`, `b`, y `c` son números pequeños.\n",
    "\n",
    "La idea es implementar el mismo algoritmo que se uso en el TP1 pero usando NumPy en lugar de Python puro."
   ]
  },
  {
   "cell_type": "code",
   "execution_count": 106,
   "metadata": {},
   "outputs": [
    {
     "name": "stdout",
     "output_type": "stream",
     "text": [
      "Los coeficientes encontrados son: a = -2, b = 10, c = 0\n",
      "\n",
      "Verificación de los puntos:\n",
      "Para x = 0: y calculada = 0, y real = 0\n",
      "Para x = 1: y calculada = 8, y real = 8\n",
      "Para x = 2: y calculada = 12, y real = 12\n",
      "Para x = 3: y calculada = 12, y real = 12\n",
      "Para x = 5: y calculada = 0, y real = 0\n",
      "\n",
      "Coeficientes encontrados: [-2 10  0]\n"
     ]
    }
   ],
   "source": [
    "import numpy as np\n",
    "\n",
    "def f(x, coeficientes):\n",
    "    a, b, c = coeficientes\n",
    "    return a * x**2 + b * x + c\n",
    "\n",
    "def error(y, y_pred):\n",
    "    return np.sum(np.abs(y - y_pred))\n",
    "\n",
    "X = np.array([0, 1, 2, 3, 5])\n",
    "Y = np.array([0, 8, 12, 12, 0])\n",
    "\n",
    "def buscar_coeficientes():\n",
    "    for a in range(-10, 11):\n",
    "        for b in range(-10, 11):\n",
    "            for c in range(-10, 11):\n",
    "                coeficientes = np.array([a, b, c])\n",
    "                y_pred = f(X, coeficientes)\n",
    "                if error(Y, y_pred) == 0:\n",
    "                    return coeficientes\n",
    "    return None\n",
    "\n",
    "coeficientes = buscar_coeficientes()\n",
    "\n",
    "if coeficientes is not None:\n",
    "    a, b, c = coeficientes\n",
    "    print(f\"Los coeficientes encontrados son: a = {a}, b = {b}, c = {c}\")\n",
    "    \n",
    "    print(\"\\nVerificación de los puntos:\")\n",
    "    for x, y in zip(X, Y):\n",
    "        y_calculada = f(x, coeficientes)\n",
    "        print(f\"Para x = {x}: y calculada = {y_calculada}, y real = {y}\")\n",
    "else:\n",
    "    print(\"No se encontró una solución con números enteros pequeños.\")\n",
    "\n",
    "print(\"\\nCoeficientes encontrados:\", coeficientes)"
   ]
  },
  {
   "cell_type": "markdown",
   "metadata": {},
   "source": [
    "### Ejercicio 9: Resolver el ejercicio 3 del TP1 usando NumPy\n",
    "Buscar los coeficientes de la función que minimice la suma de los cuadrados de las diferencias entre los valores medidos y los valores de la función.\n",
    "\n",
    "1. Crear un array con los coeficientes elegidos al azar (usar `randint(-10,10,3)`).\n",
    "2. Calcular el valor de la función y el error correspondiente.\n",
    "3. Mientras que el error sea mayor a 1:\n",
    "    1. Definir nuevos coeficientes agregándoles un pequeño valor al azar a los coeficientes actuales (aprendizaje = 0.001).\n",
    "    2. Si el error para los nuevos coeficientes es menor que el anterior, reemplazar los coeficientes actuales por los nuevos.\n"
   ]
  },
  {
   "cell_type": "code",
   "execution_count": 107,
   "metadata": {},
   "outputs": [
    {
     "name": "stdout",
     "output_type": "stream",
     "text": [
      "Coeficientes encontrados: [-1.77998719  8.96197415  0.62605864]\n",
      "Error final: 0.9998525496879495\n",
      "\n",
      "Verificación de los puntos:\n",
      "Para x = 0: y calculada = 0.63, y real = 0\n",
      "Para x = 1: y calculada = 7.81, y real = 8\n",
      "Para x = 2: y calculada = 11.43, y real = 12\n",
      "Para x = 3: y calculada = 11.49, y real = 11\n",
      "Para x = 5: y calculada = 0.94, y real = 1\n"
     ]
    }
   ],
   "source": [
    "import numpy as np\n",
    "from numpy.random import randint\n",
    "\n",
    "def f(x, coeficientes):\n",
    "    a, b, c = coeficientes\n",
    "    return a*x**2 + b*x + c\n",
    "\n",
    "def error(y, y_pred):\n",
    "    return np.sum((y - y_pred)**2)\n",
    "\n",
    "X = np.array([0, 1, 2, 3, 5])\n",
    "Y = np.array([0, 8, 12, 11, 1])\n",
    "\n",
    "def buscar_coeficientes():\n",
    "    coeficientes = randint(-10, 11, 3)\n",
    "    \n",
    "    y_pred = f(X, coeficientes)\n",
    "    error_actual = error(Y, y_pred)\n",
    "    \n",
    "    aprendizaje = 0.001\n",
    "    \n",
    "    while error_actual > 1:\n",
    "        nuevos_coeficientes = coeficientes + np.random.uniform(-1, 1, 3) * aprendizaje\n",
    "        \n",
    "        y_pred_nuevo = f(X, nuevos_coeficientes)\n",
    "        nuevo_error = error(Y, y_pred_nuevo)\n",
    "        \n",
    "        if nuevo_error < error_actual:\n",
    "            coeficientes = nuevos_coeficientes\n",
    "            error_actual = nuevo_error\n",
    "    \n",
    "    return coeficientes\n",
    "\n",
    "coeficientes = buscar_coeficientes()\n",
    "\n",
    "print(\"Coeficientes encontrados:\", coeficientes)\n",
    "print(\"Error final:\", error(Y, f(X, coeficientes)))\n",
    "\n",
    "print(\"\\nVerificación de los puntos:\")\n",
    "for x, y in zip(X, Y):\n",
    "    y_calculada = f(x, coeficientes)\n",
    "    print(f\"Para x = {x}: y calculada = {y_calculada:.2f}, y real = {y}\")"
   ]
  }
 ],
 "metadata": {
  "kernelspec": {
   "display_name": "Python 3",
   "language": "python",
   "name": "python3"
  },
  "language_info": {
   "codemirror_mode": {
    "name": "ipython",
    "version": 3
   },
   "file_extension": ".py",
   "mimetype": "text/x-python",
   "name": "python",
   "nbconvert_exporter": "python",
   "pygments_lexer": "ipython3",
   "version": "3.11.9"
  }
 },
 "nbformat": 4,
 "nbformat_minor": 2
}
