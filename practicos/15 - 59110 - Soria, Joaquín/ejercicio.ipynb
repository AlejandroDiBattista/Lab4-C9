{
 "cells": [
  {
   "cell_type": "markdown",
   "metadata": {},
   "source": [
    "# Trabajo práctico 1\n",
    "\n"
   ]
  },
  {
   "cell_type": "markdown",
   "metadata": {},
   "source": [
    "## Ejercicio 1 \n",
    "\n",
    "Escribe una función en Python que procese una lista de cadenas de texto y realice las siguientes acciones:\n",
    "\n",
    "1. Tomar una lista de frases y convertir cada frase en una lista de palabras.\n",
    "1. Luego, debe crear una nueva lista que contenga la cantidad de palabras en cada frase.\n",
    "1. Tambien debe crear un lista que contenga la cantidad de caracteres en cada frase.\n",
    "1. Finalmente, debe imprimir cada frase original junto con la cantidad de palabras que contiene.\n",
    "Ejemplo de uso:\n",
    "```python\n",
    "    frases = [\n",
    "        \"Python es un lenguaje de programación\",\n",
    "        \"Me gusta resolver problemas con código\",\n",
    "        \"Las listas y los bucles son muy útiles\"\n",
    "    ]\n",
    "\n",
    "    procesar_frases(frases)\n",
    "```\n",
    "\n",
    "ejemplo de salida:\n",
    "```bash\n",
    "    La frase: \"Python es un...\"\n",
    "    tiene 6 palabras y 38 caracteres\n",
    "```\n"
   ]
  },
  {
   "cell_type": "code",
   "execution_count": 4,
   "metadata": {},
   "outputs": [
    {
     "name": "stdout",
     "output_type": "stream",
     "text": [
      "Frase: 'Python es un lenguaje de programación'\n",
      "Cantidad de palabras: 6 y 37 caracteres\n",
      "Frase: 'Me gusta resolver problemas con código'\n",
      "Cantidad de palabras: 6 y 38 caracteres\n",
      "Frase: 'Las listas y los bucles son muy útiles'\n",
      "Cantidad de palabras: 8 y 38 caracteres\n",
      "Lista de conteos de palabras: ([6, 6, 8], [37, 38, 38])\n"
     ]
    }
   ],
   "source": [
    "def procesar_frases(frases):\n",
    "    cantidad_palabras = []\n",
    "    cantidad_caracteres = []\n",
    "    \n",
    "    for frase in frases:\n",
    "        palabras = frase.split()\n",
    "        cantidad = len(palabras)\n",
    "        caracteres = len(frase)\n",
    "        \n",
    "        cantidad_palabras.append(cantidad)\n",
    "        cantidad_caracteres.append(caracteres)\n",
    "        \n",
    "        print(f\"Frase: '{frase}'\")\n",
    "        print(f\"Cantidad de palabras: {cantidad} y {caracteres} caracteres\" )\n",
    "    \n",
    "    return cantidad_palabras,cantidad_caracteres\n",
    "\n",
    "frases = [\n",
    "    \"Python es un lenguaje de programación\",\n",
    "    \"Me gusta resolver problemas con código\",\n",
    "    \"Las listas y los bucles son muy útiles\"\n",
    "]\n",
    "\n",
    "resultado = procesar_frases(frases)\n",
    "print(\"Lista de conteos de palabras:\", resultado)"
   ]
  },
  {
   "cell_type": "markdown",
   "metadata": {},
   "source": [
    "## Ejercicio 2\n",
    "\n",
    "Escribe una función en Python que encuentre los valores de `a`, `b`, y `c` para que la función cuadrática `f(x) = aX^2 + bX + c` pase exactamente por los siguientes puntos:\n",
    "\n",
    "| x  | y  |\n",
    "|---:|---:|\n",
    "|  0 |  0 |\n",
    "|  1 |  8 |\n",
    "|  2 | 12 |\n",
    "|  3 | 12 |\n",
    "|  5 |  0 |\n",
    "\n",
    "### Requisitos:\n",
    "- La función debe explorar posibles valores de `a`, `b`, y `c` utilizando un método de prueba y error.\n",
    "- Debe devolver los valores que hagan que la diferencia entre la función `f(x)` y los valores medidos `y` sea exactamente cero para cada punto.\n",
    "\n",
    "> **Pista**: Los valores de `a`, `b`, y `c` son números pequeños."
   ]
  },
  {
   "cell_type": "code",
   "execution_count": 2,
   "metadata": {},
   "outputs": [
    {
     "name": "stdout",
     "output_type": "stream",
     "text": [
      "Los coeficientes encontrados son: a = -2, b = 10, c = 0\n",
      "\n",
      "Verificación de los puntos:\n",
      "Para x = 0: y calculada = 0, y real = 0\n",
      "Para x = 1: y calculada = 8, y real = 8\n",
      "Para x = 2: y calculada = 12, y real = 12\n",
      "Para x = 3: y calculada = 12, y real = 12\n",
      "Para x = 5: y calculada = 0, y real = 0\n"
     ]
    }
   ],
   "source": [
    "def encontrar_coeficientes_cuadraticos():\n",
    "    puntos = [(0, 0), (1, 8), (2, 12), (3, 12), (5, 0)]\n",
    "    \n",
    "    def f(x, a, b, c):\n",
    "        return a * x**2 + b * x + c\n",
    "    \n",
    "    for a in range(-10, 11): \n",
    "        for b in range(-10, 11):  \n",
    "            for c in range(-10, 11):  \n",
    "                if all(f(x, a, b, c) == y for x, y in puntos):\n",
    "                    return a, b, c\n",
    "    \n",
    "    return None  \n",
    "\n",
    "resultado = encontrar_coeficientes_cuadraticos()\n",
    "\n",
    "if resultado:\n",
    "    a, b, c = resultado\n",
    "    print(f\"Los coeficientes encontrados son: a = {a}, b = {b}, c = {c}\")\n",
    "\n",
    "    print(\"\\nVerificación de los puntos:\")\n",
    "    for x, y in [(0, 0), (1, 8), (2, 12), (3, 12), (5, 0)]:\n",
    "        y_calculada = a * x**2 + b * x + c\n",
    "        print(f\"Para x = {x}: y calculada = {y_calculada}, y real = {y}\")\n",
    "else:\n",
    "    print(\"No se encontró una solución con números enteros pequeños.\")"
   ]
  }
 ],
 "metadata": {
  "kernelspec": {
   "display_name": "Python 3",
   "language": "python",
   "name": "python3"
  },
  "language_info": {
   "name": "python",
   "version": "3.12.5"
  }
 },
 "nbformat": 4,
 "nbformat_minor": 2
}
