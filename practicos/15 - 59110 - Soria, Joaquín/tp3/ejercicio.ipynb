{
 "cells": [
  {
   "cell_type": "markdown",
   "metadata": {},
   "source": [
    "#TP3"
   ]
  },
  {
   "cell_type": "markdown",
   "metadata": {},
   "source": [
    "## Ejercicio 1: Cargar Datos de ventas.\n",
    "\n",
    "El archivo datos.dat contiene el registro de las ventas realizadas.\n",
    "\n",
    "Tiene un formato de ancho fijo:\n",
    "- fecha:    10 lugares\n",
    "- producto: 40 lugares\n",
    "- precio:   10 lugares\n",
    "- cantidad:  5 lugares\n",
    "\n",
    "hacer una funcion que carge los en una lista de diccionarios. \n",
    "\n",
    "nota: con \n",
    "```python\n",
    "lineas = open(\"datos.dat\", \"r\").readlines() \n",
    "```\n",
    "puede obtener la lista de string de todos los datos "
   ]
  },
  {
   "cell_type": "code",
   "execution_count": 19,
   "metadata": {},
   "outputs": [
    {
     "name": "stdout",
     "output_type": "stream",
     "text": [
      "Los datos cargados son: \n",
      "Fecha: 2024-08-27, Producto: Mirinda, Precio: 1510.0, Cantidad: 14\n",
      "Fecha: 2024-08-27, Producto: Mirinda, Precio: 1560.0, Cantidad: 12\n",
      "Fecha: 2024-08-28, Producto: Torasso, Precio: 940.0, Cantidad: 8\n",
      "Fecha: 2024-08-29, Producto: Pepsi Cola, Precio: 1210.0, Cantidad: 10\n",
      "Fecha: 2024-08-30, Producto: Mirinda, Precio: 1520.0, Cantidad: 1\n",
      "Fecha: 2024-09-01, Producto: Mirinda, Precio: 1550.0, Cantidad: 15\n",
      "Fecha: 2024-09-01, Producto: Sprite, Precio: 810.0, Cantidad: 4\n",
      "Fecha: 2024-09-02, Producto: Coca Cola, Precio: 1100.0, Cantidad: 4\n",
      "Fecha: 2024-09-02, Producto: Pepsi Cola, Precio: 1220.0, Cantidad: 13\n",
      "Fecha: 2024-09-02, Producto: Torasso, Precio: 910.0, Cantidad: 5\n",
      "Fecha: 2024-09-02, Producto: Torasso, Precio: 920.0, Cantidad: 3\n",
      "Fecha: 2024-09-03, Producto: Coca Cola, Precio: 1020.0, Cantidad: 8\n",
      "Fecha: 2024-09-03, Producto: Mirinda, Precio: 1570.0, Cantidad: 7\n",
      "Fecha: 2024-09-03, Producto: Mirinda, Precio: 1590.0, Cantidad: 2\n",
      "Fecha: 2024-09-04, Producto: Pepsi Cola, Precio: 1220.0, Cantidad: 13\n",
      "Fecha: 2024-09-05, Producto: Mirinda, Precio: 1500.0, Cantidad: 3\n",
      "Fecha: 2024-09-05, Producto: Pepsi Cola, Precio: 1300.0, Cantidad: 5\n",
      "Fecha: 2024-09-06, Producto: Coca Cola, Precio: 1080.0, Cantidad: 1\n",
      "Fecha: 2024-09-06, Producto: Sprite, Precio: 860.0, Cantidad: 12\n",
      "Fecha: 2024-09-06, Producto: Torasso, Precio: 930.0, Cantidad: 3\n",
      "Fecha: 2024-09-07, Producto: Coca Cola, Precio: 1080.0, Cantidad: 14\n",
      "Fecha: 2024-09-07, Producto: Sprite, Precio: 870.0, Cantidad: 13\n",
      "Fecha: 2024-09-08, Producto: Coca Cola, Precio: 1040.0, Cantidad: 10\n",
      "Fecha: 2024-09-08, Producto: Mirinda, Precio: 1580.0, Cantidad: 2\n",
      "Fecha: 2024-09-08, Producto: Pepsi Cola, Precio: 1240.0, Cantidad: 9\n",
      "Fecha: 2024-09-09, Producto: Mirinda, Precio: 1500.0, Cantidad: 3\n",
      "Fecha: 2024-09-09, Producto: Sprite, Precio: 850.0, Cantidad: 9\n",
      "Fecha: 2024-09-10, Producto: Mirinda, Precio: 1590.0, Cantidad: 8\n",
      "Fecha: 2024-09-10, Producto: Pepsi Cola, Precio: 1250.0, Cantidad: 12\n",
      "Fecha: 2024-09-11, Producto: Sprite, Precio: 810.0, Cantidad: 6\n",
      "Fecha: 2024-09-11, Producto: Sprite, Precio: 820.0, Cantidad: 14\n",
      "Fecha: 2024-09-12, Producto: Coca Cola, Precio: 1080.0, Cantidad: 4\n",
      "Fecha: 2024-09-13, Producto: Mirinda, Precio: 1580.0, Cantidad: 5\n",
      "Fecha: 2024-09-13, Producto: Pepsi Cola, Precio: 1250.0, Cantidad: 13\n",
      "Fecha: 2024-09-14, Producto: Coca Cola, Precio: 1080.0, Cantidad: 15\n",
      "Fecha: 2024-09-14, Producto: Pepsi Cola, Precio: 1270.0, Cantidad: 14\n",
      "Fecha: 2024-09-15, Producto: Coca Cola, Precio: 1100.0, Cantidad: 1\n",
      "Fecha: 2024-09-15, Producto: Mirinda, Precio: 1500.0, Cantidad: 13\n",
      "Fecha: 2024-09-15, Producto: Sprite, Precio: 870.0, Cantidad: 14\n",
      "Fecha: 2024-09-15, Producto: Torasso, Precio: 900.0, Cantidad: 13\n"
     ]
    }
   ],
   "source": [
    "def cargar_datos():\n",
    "    datos = []\n",
    "    lineas = open(\"datos.dat\", \"r\").readlines() \n",
    "    for linea in lineas:\n",
    "        venta = {\n",
    "            'fecha': linea[:10].strip(),\n",
    "            'producto': linea[10:40].strip(),\n",
    "            'precio': float(linea[40:50].strip()),\n",
    "            'cantidad': int(linea[50:60].strip())\n",
    "        }\n",
    "        datos.append(venta)\n",
    "    return datos\n",
    "datos = cargar_datos()\n",
    "print('Los datos cargados son: ')\n",
    "for venta in datos:\n",
    "    print(f\"Fecha: {venta['fecha']}, Producto: {venta['producto']}, Precio: {venta['precio']}, Cantidad: {venta['cantidad']}\")\n"
   ]
  },
  {
   "cell_type": "markdown",
   "metadata": {},
   "source": [
    "## Ejercicio 2: Calcular el total de ventas.\n",
    "\n",
    "Hacer una funcion que sume los importes vendidos (precio * cantidad) y las cantidades"
   ]
  },
  {
   "cell_type": "code",
   "execution_count": 20,
   "metadata": {},
   "outputs": [
    {
     "name": "stdout",
     "output_type": "stream",
     "text": [
      "Las ventas fueron de $392730.000000 en 335 unidades\n"
     ]
    }
   ],
   "source": [
    "def calcular_totales(datos):\n",
    "    importe = 0\n",
    "    cantidad = 0\n",
    "    for venta in datos:\n",
    "        importe += venta['precio'] * venta['cantidad']\n",
    "        cantidad += venta['cantidad']\n",
    "    return importe, cantidad\n",
    "\n",
    "datos = cargar_datos()\n",
    "\n",
    "importe, cantidad = calcular_totales(datos)\n",
    "\n",
    "print(f\"Las ventas fueron de ${importe:2f} en {cantidad} unidades\")"
   ]
  },
  {
   "cell_type": "markdown",
   "metadata": {},
   "source": [
    "## Ejercicio 3: Listar las unidades vendidas.\n",
    "\n",
    "Listar cuantas unidades se vendieron en total para cada producto"
   ]
  },
  {
   "cell_type": "code",
   "execution_count": 21,
   "metadata": {},
   "outputs": [
    {
     "name": "stdout",
     "output_type": "stream",
     "text": [
      "Unidades vendidas por producto:\n",
      "Mirinda: 85 unidades\n",
      "Torasso: 32 unidades\n",
      "Pepsi Cola: 89 unidades\n",
      "Sprite: 72 unidades\n",
      "Coca Cola: 57 unidades\n"
     ]
    }
   ],
   "source": [
    "def unidades_vendidas(datos):\n",
    "    ventas_por_producto = {}\n",
    "    for venta in datos:\n",
    "        producto = venta['producto']\n",
    "        cantidad = venta['cantidad']\n",
    "        if producto in ventas_por_producto:\n",
    "            ventas_por_producto[producto] += cantidad\n",
    "        else:\n",
    "            ventas_por_producto[producto] = cantidad\n",
    "    return ventas_por_producto\n",
    "\n",
    "def listar_ventas(ventas):\n",
    "    print(\"Unidades vendidas por producto:\")\n",
    "    for producto, cantidad in ventas.items():\n",
    "        print(f\"{producto}: {cantidad} unidades\")\n",
    "\n",
    "datos = cargar_datos()\n",
    "importe, cantidad = calcular_totales(datos)\n",
    "\n",
    "ventas = unidades_vendidas(datos)\n",
    "listar_ventas(ventas)"
   ]
  },
  {
   "cell_type": "markdown",
   "metadata": {},
   "source": [
    "##  Ejercicio 4: Listar el precio promedio por producto.\n",
    "\n",
    "Hacer un listado del precio promedio por productos."
   ]
  },
  {
   "cell_type": "code",
   "execution_count": 22,
   "metadata": {},
   "outputs": [
    {
     "name": "stdout",
     "output_type": "stream",
     "text": [
      "Lista de precios promedio por producto:\n",
      "Mirinda: $1545.83\n",
      "Torasso: $920.00\n",
      "Pepsi Cola: $1245.00\n",
      "Sprite: $841.43\n",
      "Coca Cola: $1072.50\n"
     ]
    }
   ],
   "source": [
    "def precio_promedio(datos):\n",
    "    suma_precios = {}\n",
    "    conteo_productos = {}\n",
    "    for venta in datos:\n",
    "        producto = venta['producto']\n",
    "        precio = venta['precio']\n",
    "        if producto in suma_precios:\n",
    "            suma_precios[producto] += precio\n",
    "            conteo_productos[producto] += 1\n",
    "        else:\n",
    "            suma_precios[producto] = precio\n",
    "            conteo_productos[producto] = 1\n",
    "    \n",
    "    promedio = {producto: suma_precios[producto] / conteo_productos[producto] \n",
    "                for producto in suma_precios}\n",
    "    return promedio\n",
    "\n",
    "\n",
    "def listar_precios(precios):\n",
    "    print(\"Lista de precios promedio por producto:\")\n",
    "    for producto, precio in precios.items():\n",
    "        print(f\"{producto}: ${precio:.2f}\")\n",
    "\n",
    "precios = precio_promedio(datos)\n",
    "listar_precios(precios)"
   ]
  },
  {
   "cell_type": "markdown",
   "metadata": {},
   "source": [
    "### Ejercicio 5: Ranking de productos\n",
    "\n",
    "Realizar un listado de los 3 productos mas vendidos ordenados la cantidad de unidades vendidas (ordenadas de mayor a menor)\n"
   ]
  },
  {
   "cell_type": "code",
   "execution_count": 23,
   "metadata": {},
   "outputs": [
    {
     "name": "stdout",
     "output_type": "stream",
     "text": [
      "Los 3 productos más vendidos son:\n",
      "1. Pepsi Cola: 89 unidades\n",
      "2. Mirinda: 85 unidades\n",
      "3. Sprite: 72 unidades\n"
     ]
    }
   ],
   "source": [
    "def ranking_productos(datos, top=3):\n",
    "    ventas_por_producto = {}\n",
    "    for venta in datos:\n",
    "        producto = venta['producto']\n",
    "        cantidad = venta['cantidad']\n",
    "        ventas_por_producto[producto] = ventas_por_producto.get(producto, 0) + cantidad\n",
    "    \n",
    "    ranking = sorted(ventas_por_producto.items(), key=lambda x: x[1], reverse=True)\n",
    "    return ranking[:top]\n",
    "\n",
    "def listar_ranking(ranking):\n",
    "    print(\"Los 3 productos más vendidos son:\")\n",
    "    for i, (producto, cantidad) in enumerate(ranking, 1):\n",
    "        print(f\"{i}. {producto}: {cantidad} unidades\")\n",
    "\n",
    "ranking = ranking_productos(datos)\n",
    "listar_ranking(ranking)"
   ]
  },
  {
   "cell_type": "markdown",
   "metadata": {},
   "source": [
    "### Ejercicio 6: Listar las ventas por mes\n",
    "\n",
    "Realizar un listado del total de unidades vendidas por productos separada por mes."
   ]
  },
  {
   "cell_type": "code",
   "execution_count": 24,
   "metadata": {},
   "outputs": [
    {
     "name": "stdout",
     "output_type": "stream",
     "text": [
      "Ventas mensuales por producto:\n",
      "\n",
      "Mes: 2024-08\n",
      "  Mirinda: 27 unidades\n",
      "  Pepsi Cola: 10 unidades\n",
      "  Torasso: 8 unidades\n",
      "\n",
      "Mes: 2024-09\n",
      "  Pepsi Cola: 79 unidades\n",
      "  Sprite: 72 unidades\n",
      "  Mirinda: 58 unidades\n",
      "  Coca Cola: 57 unidades\n",
      "  Torasso: 24 unidades\n"
     ]
    }
   ],
   "source": [
    "def ventas_por_mes(datos):\n",
    "    ventas = {}\n",
    "    for venta in datos:\n",
    "        mes = venta['fecha'][:7]\n",
    "        producto = venta['producto']\n",
    "        cantidad = venta['cantidad']\n",
    "        \n",
    "        if mes not in ventas:\n",
    "            ventas[mes] = {}\n",
    "        \n",
    "        if producto not in ventas[mes]:\n",
    "            ventas[mes][producto] = 0\n",
    "        \n",
    "        ventas[mes][producto] += cantidad\n",
    "    \n",
    "    return ventas\n",
    "\n",
    "def listar_ventas_mensuales(ventas):\n",
    "    print(\"Ventas mensuales por producto:\")\n",
    "    for mes in sorted(ventas.keys()):\n",
    "        print(f\"\\nMes: {mes}\")\n",
    "        productos_ordenados = sorted(ventas[mes].items(), key=lambda x: x[1], reverse=True)\n",
    "        for producto, cantidad in productos_ordenados:\n",
    "            print(f\"  {producto}: {cantidad} unidades\")\n",
    "\n",
    "ventas = ventas_por_mes(datos)\n",
    "listar_ventas_mensuales(ventas)"
   ]
  },
  {
   "cell_type": "markdown",
   "metadata": {},
   "source": [
    "### Ejercicio 7: Informe general\n",
    "\n",
    "Mostrar un listado de productos ordenados alfabeticamente que contengan el precio promedio, la cantidad de unidades vendidas y el importe total vendido para cada producto"
   ]
  },
  {
   "cell_type": "code",
   "execution_count": 25,
   "metadata": {},
   "outputs": [
    {
     "name": "stdout",
     "output_type": "stream",
     "text": [
      "Informe general de ventas:\n",
      "Coca Cola: Precio promedio $1072.50 - Unidades vendidas: 57 - Importe total: $60780.00\n",
      "Mirinda: Precio promedio $1545.83 - Unidades vendidas: 85 - Importe total: $131080.00\n",
      "Pepsi Cola: Precio promedio $1245.00 - Unidades vendidas: 89 - Importe total: $110510.00\n",
      "Sprite: Precio promedio $841.43 - Unidades vendidas: 72 - Importe total: $61040.00\n",
      "Torasso: Precio promedio $920.00 - Unidades vendidas: 32 - Importe total: $29320.00\n"
     ]
    }
   ],
   "source": [
    "def resumen_ventas(datos):\n",
    "    resumen = {}\n",
    "    for venta in datos:\n",
    "        producto = venta['producto']\n",
    "        precio = venta['precio']\n",
    "        cantidad = venta['cantidad']\n",
    "        \n",
    "        if producto not in resumen:\n",
    "            resumen[producto] = {'total_unidades': 0, 'suma_precios': 0, 'importe_total': 0, 'conteo': 0}\n",
    "        \n",
    "        resumen[producto]['total_unidades'] += cantidad\n",
    "        resumen[producto]['suma_precios'] += precio\n",
    "        resumen[producto]['importe_total'] += precio * cantidad\n",
    "        resumen[producto]['conteo'] += 1\n",
    "    \n",
    "    for producto in resumen:\n",
    "        resumen[producto]['precio_promedio'] = resumen[producto]['suma_precios'] / resumen[producto]['conteo']\n",
    "    \n",
    "    return resumen\n",
    "\n",
    "def informe_ventas(resumen):\n",
    "    print(\"Informe general de ventas:\")\n",
    "    for producto in sorted(resumen.keys()):\n",
    "        datos = resumen[producto]\n",
    "        print(f\"{producto}: Precio promedio ${datos['precio_promedio']:.2f} - \"\n",
    "              f\"Unidades vendidas: {datos['total_unidades']} - \"\n",
    "              f\"Importe total: ${datos['importe_total']:.2f}\")\n",
    "\n",
    "resumen = resumen_ventas(datos)\n",
    "informe_ventas(resumen)"
   ]
  }
 ],
 "metadata": {
  "kernelspec": {
   "display_name": "Python 3",
   "language": "python",
   "name": "python3"
  },
  "language_info": {
   "codemirror_mode": {
    "name": "ipython",
    "version": 3
   },
   "file_extension": ".py",
   "mimetype": "text/x-python",
   "name": "python",
   "nbconvert_exporter": "python",
   "pygments_lexer": "ipython3",
   "version": "3.12.5"
  }
 },
 "nbformat": 4,
 "nbformat_minor": 2
}
