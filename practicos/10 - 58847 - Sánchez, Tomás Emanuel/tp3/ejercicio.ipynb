{
 "cells": [
  {
   "cell_type": "markdown",
   "metadata": {},
   "source": [
    "#TP3"
   ]
  },
  {
   "cell_type": "markdown",
   "metadata": {},
   "source": [
    "## Ejercicio 1: Cargar Datos de ventas.\n",
    "\n",
    "El archivo datos.dat contiene el registro de las ventas realizadas.\n",
    "\n",
    "Tiene un formato de ancho fijo:\n",
    "- fecha:    10 lugares\n",
    "- producto: 30 lugares\n",
    "- precio:   10 lugares\n",
    "- cantidad:  5 lugares\n",
    "\n",
    "hacer una funcion que carge los en una lista de diccionarios. \n",
    "\n",
    "nota: con \n",
    "```python\n",
    "lineas = open(\"datos.dat\", \"r\").readlines() \n",
    "```\n",
    "puede obtener la lista de string de todos los datos "
   ]
  },
  {
   "cell_type": "code",
   "execution_count": 2,
   "metadata": {},
   "outputs": [
    {
     "name": "stdout",
     "output_type": "stream",
     "text": [
      "[{'fecha': '2024-08-27', 'producto': 'Mirinda', 'precio': 1510.0, 'cantidad': 14}, {'fecha': '2024-08-27', 'producto': 'Mirinda', 'precio': 1560.0, 'cantidad': 12}, {'fecha': '2024-08-28', 'producto': 'Torasso', 'precio': 940.0, 'cantidad': 8}, {'fecha': '2024-08-29', 'producto': 'Pepsi Cola', 'precio': 1210.0, 'cantidad': 10}, {'fecha': '2024-08-30', 'producto': 'Mirinda', 'precio': 1520.0, 'cantidad': 1}, {'fecha': '2024-09-01', 'producto': 'Mirinda', 'precio': 1550.0, 'cantidad': 15}, {'fecha': '2024-09-01', 'producto': 'Sprite', 'precio': 810.0, 'cantidad': 4}, {'fecha': '2024-09-02', 'producto': 'Coca Cola', 'precio': 1100.0, 'cantidad': 4}, {'fecha': '2024-09-02', 'producto': 'Pepsi Cola', 'precio': 1220.0, 'cantidad': 13}, {'fecha': '2024-09-02', 'producto': 'Torasso', 'precio': 910.0, 'cantidad': 5}, {'fecha': '2024-09-02', 'producto': 'Torasso', 'precio': 920.0, 'cantidad': 3}, {'fecha': '2024-09-03', 'producto': 'Coca Cola', 'precio': 1020.0, 'cantidad': 8}, {'fecha': '2024-09-03', 'producto': 'Mirinda', 'precio': 1570.0, 'cantidad': 7}, {'fecha': '2024-09-03', 'producto': 'Mirinda', 'precio': 1590.0, 'cantidad': 2}, {'fecha': '2024-09-04', 'producto': 'Pepsi Cola', 'precio': 1220.0, 'cantidad': 13}, {'fecha': '2024-09-05', 'producto': 'Mirinda', 'precio': 1500.0, 'cantidad': 3}, {'fecha': '2024-09-05', 'producto': 'Pepsi Cola', 'precio': 1300.0, 'cantidad': 5}, {'fecha': '2024-09-06', 'producto': 'Coca Cola', 'precio': 1080.0, 'cantidad': 1}, {'fecha': '2024-09-06', 'producto': 'Sprite', 'precio': 860.0, 'cantidad': 12}, {'fecha': '2024-09-06', 'producto': 'Torasso', 'precio': 930.0, 'cantidad': 3}, {'fecha': '2024-09-07', 'producto': 'Coca Cola', 'precio': 1080.0, 'cantidad': 14}, {'fecha': '2024-09-07', 'producto': 'Sprite', 'precio': 870.0, 'cantidad': 13}, {'fecha': '2024-09-08', 'producto': 'Coca Cola', 'precio': 1040.0, 'cantidad': 10}, {'fecha': '2024-09-08', 'producto': 'Mirinda', 'precio': 1580.0, 'cantidad': 2}, {'fecha': '2024-09-08', 'producto': 'Pepsi Cola', 'precio': 1240.0, 'cantidad': 9}, {'fecha': '2024-09-09', 'producto': 'Mirinda', 'precio': 1500.0, 'cantidad': 3}, {'fecha': '2024-09-09', 'producto': 'Sprite', 'precio': 850.0, 'cantidad': 9}, {'fecha': '2024-09-10', 'producto': 'Mirinda', 'precio': 1590.0, 'cantidad': 8}, {'fecha': '2024-09-10', 'producto': 'Pepsi Cola', 'precio': 1250.0, 'cantidad': 12}, {'fecha': '2024-09-11', 'producto': 'Sprite', 'precio': 810.0, 'cantidad': 6}, {'fecha': '2024-09-11', 'producto': 'Sprite', 'precio': 820.0, 'cantidad': 14}, {'fecha': '2024-09-12', 'producto': 'Coca Cola', 'precio': 1080.0, 'cantidad': 4}, {'fecha': '2024-09-13', 'producto': 'Mirinda', 'precio': 1580.0, 'cantidad': 5}, {'fecha': '2024-09-13', 'producto': 'Pepsi Cola', 'precio': 1250.0, 'cantidad': 13}, {'fecha': '2024-09-14', 'producto': 'Coca Cola', 'precio': 1080.0, 'cantidad': 15}, {'fecha': '2024-09-14', 'producto': 'Pepsi Cola', 'precio': 1270.0, 'cantidad': 14}, {'fecha': '2024-09-15', 'producto': 'Coca Cola', 'precio': 1100.0, 'cantidad': 1}, {'fecha': '2024-09-15', 'producto': 'Mirinda', 'precio': 1500.0, 'cantidad': 13}, {'fecha': '2024-09-15', 'producto': 'Sprite', 'precio': 870.0, 'cantidad': 14}, {'fecha': '2024-09-15', 'producto': 'Torasso', 'precio': 900.0, 'cantidad': 13}]\n"
     ]
    }
   ],
   "source": [
    "def cargar_datos():\n",
    "    lineas = open(\"datos.dat\", \"r\").readlines()\n",
    "    \n",
    "    ventas = []\n",
    "    \n",
    "    for linea in lineas:\n",
    "        \n",
    "        fecha = linea[0:10].strip()         \n",
    "        producto = linea[10:40].strip()      \n",
    "        precio = float(linea[40:50].strip()) \n",
    "        cantidad = int(linea[50:55].strip()) \n",
    "        \n",
    "        venta = {\n",
    "            \"fecha\": fecha,\n",
    "            \"producto\": producto,\n",
    "            \"precio\": precio,\n",
    "            \"cantidad\": cantidad\n",
    "        }\n",
    "        \n",
    "        ventas.append(venta)\n",
    "    \n",
    "    return ventas\n",
    "\n",
    "datos = cargar_datos()\n",
    "print(datos)\n"
   ]
  },
  {
   "cell_type": "markdown",
   "metadata": {},
   "source": [
    "## Ejercicio 2: Calcular el total de ventas.\n",
    "\n",
    "Hacer una funcion que sume los importes vendidos (precio * cantidad) y las cantidades"
   ]
  },
  {
   "cell_type": "code",
   "execution_count": 4,
   "metadata": {},
   "outputs": [
    {
     "name": "stdout",
     "output_type": "stream",
     "text": [
      "Las ventas fueron de $392730.00 en 335 unidades\n"
     ]
    }
   ],
   "source": [
    "def calcular_totales(datos):\n",
    "    total_importe = 0\n",
    "    total_cantidad = 0\n",
    "    \n",
    "    for venta in datos:\n",
    "        total_importe += venta['precio'] * venta['cantidad']\n",
    "        total_cantidad += venta['cantidad']\n",
    "    \n",
    "    return total_importe, total_cantidad\n",
    "\n",
    "importe, cantidad = calcular_totales(datos)\n",
    "\n",
    "print(f\"Las ventas fueron de ${importe:.2f} en {cantidad} unidades\")\n"
   ]
  },
  {
   "cell_type": "markdown",
   "metadata": {},
   "source": [
    "## Ejercicio 3: Listar las unidades vendidas.\n",
    "\n",
    "Listar cuantas unidades se vendieron en total para cada producto"
   ]
  },
  {
   "cell_type": "code",
   "execution_count": 5,
   "metadata": {},
   "outputs": [
    {
     "name": "stdout",
     "output_type": "stream",
     "text": [
      "Producto: Producto A, Unidades vendidas: 8\n",
      "Producto: Producto B, Unidades vendidas: 8\n"
     ]
    }
   ],
   "source": [
    "def unidades_vendidas(datos):\n",
    "    ventas_totales = {}\n",
    "    for venta in datos:\n",
    "        producto = venta['producto']\n",
    "        unidades = venta['unidades']\n",
    "        if producto in ventas_totales:\n",
    "            ventas_totales[producto] += unidades\n",
    "        else:\n",
    "            ventas_totales[producto] = unidades\n",
    "    return ventas_totales\n",
    "\n",
    "def listar_ventas(ventas):\n",
    "    for producto, unidades in ventas.items():\n",
    "        print(f\"Producto: {producto}, Unidades vendidas: {unidades}\")\n",
    "\n",
    "\n",
    "datos = [\n",
    "    {'producto': 'Producto A', 'unidades': 3},\n",
    "    {'producto': 'Producto B', 'unidades': 8},\n",
    "    {'producto': 'Producto A', 'unidades': 5},\n",
    "]\n",
    "\n",
    "ventas = unidades_vendidas(datos)\n",
    "listar_ventas(ventas)\n",
    "\n"
   ]
  },
  {
   "cell_type": "markdown",
   "metadata": {},
   "source": [
    "##  Ejercicio 4: Listar el precio promedio por producto.\n",
    "\n",
    "Hacer un listado del precio promedio por productos."
   ]
  },
  {
   "cell_type": "code",
   "execution_count": 10,
   "metadata": {},
   "outputs": [
    {
     "name": "stdout",
     "output_type": "stream",
     "text": [
      "Producto: Producto A, Precio promedio: 155.00\n",
      "Producto: Producto B, Precio promedio: 150.00\n"
     ]
    }
   ],
   "source": [
    "def precio_promedio(datos):\n",
    "    suma_precios = {}\n",
    "    conteo_ventas = {}\n",
    "\n",
    "    for venta in datos:\n",
    "        producto = venta['producto']\n",
    "        precio = venta['precio']\n",
    "        \n",
    "        if producto in suma_precios:\n",
    "            suma_precios[producto] += precio\n",
    "            conteo_ventas[producto] += 1\n",
    "        else:\n",
    "            suma_precios[producto] = precio\n",
    "            conteo_ventas[producto] = 1\n",
    "\n",
    "    precios_promedio = {producto: suma_precios[producto] / conteo_ventas[producto] for producto in suma_precios}\n",
    "    \n",
    "    return precios_promedio\n",
    "\n",
    "def listar_precios(precios):\n",
    "    for producto, promedio in precios.items():\n",
    "        print(f\"Producto: {producto}, Precio promedio: {promedio:.2f}\")\n",
    "\n",
    "datos = [\n",
    "    {'producto': 'Producto A', 'precio': 130},\n",
    "    {'producto': 'Producto B', 'precio': 150},\n",
    "    {'producto': 'Producto A', 'precio': 180},\n",
    "]\n",
    "\n",
    "precios = precio_promedio(datos)\n",
    "listar_precios(precios)\n"
   ]
  },
  {
   "cell_type": "markdown",
   "metadata": {},
   "source": [
    "### Ejercicio 5: Ranking de productos\n",
    "\n",
    "Realizar un listado de los 3 productos mas vendidos ordenados la cantidad de unidades vendidas (ordenadas de mayor a menor)\n"
   ]
  },
  {
   "cell_type": "code",
   "execution_count": 13,
   "metadata": {},
   "outputs": [
    {
     "name": "stdout",
     "output_type": "stream",
     "text": [
      "1. Producto D - 267 unidades vendidas\n",
      "2. Producto B - 200 unidades vendidas\n",
      "3. Producto C - 190 unidades vendidas\n"
     ]
    }
   ],
   "source": [
    "def ranking_productos(datos, top=3):\n",
    "    productos_ordenados = sorted(datos, key=lambda x: x['unidades_vendidas'], reverse=True)\n",
    "    return productos_ordenados[:top]\n",
    "\n",
    "def listar_ranking(ranking):\n",
    "    for i, producto in enumerate(ranking, 1):\n",
    "        print(f\"{i}. {producto['nombre']} - {producto['unidades_vendidas']} unidades vendidas\")\n",
    "\n",
    "datos = [\n",
    "    {'nombre': 'Producto A', 'unidades_vendidas': 150},\n",
    "    {'nombre': 'Producto B', 'unidades_vendidas': 200},\n",
    "    {'nombre': 'Producto C', 'unidades_vendidas': 190},\n",
    "    {'nombre': 'Producto D', 'unidades_vendidas': 267},\n",
    "]\n",
    "\n",
    "ranking = ranking_productos(datos)\n",
    "\n",
    "listar_ranking(ranking)\n"
   ]
  },
  {
   "cell_type": "markdown",
   "metadata": {},
   "source": [
    "### Ejercicio 6: Listar las ventas por mes\n",
    "\n",
    "Realizar un listado del total de unidades vendidas por productos separada por mes."
   ]
  },
  {
   "cell_type": "code",
   "execution_count": 16,
   "metadata": {},
   "outputs": [
    {
     "name": "stdout",
     "output_type": "stream",
     "text": [
      "Enero: 80 unidades vendidas\n",
      "Febrero: 60 unidades vendidas\n"
     ]
    }
   ],
   "source": [
    "def ventas_por_mes(datos):\n",
    "    ventas_mensuales = {}\n",
    "    \n",
    "    for producto in datos:\n",
    "        for mes, ventas in producto['ventas'].items():\n",
    "            if mes not in ventas_mensuales:\n",
    "                ventas_mensuales[mes] = 0\n",
    "            ventas_mensuales[mes] += ventas\n",
    "\n",
    "    return ventas_mensuales\n",
    "\n",
    "def listar_ventas_mensuales(ventas):\n",
    "    for mes, total_ventas in ventas.items():\n",
    "        print(f\"{mes}: {total_ventas} unidades vendidas\")\n",
    "\n",
    "datos = [\n",
    "    {'producto': 'Producto A', 'ventas': {'Enero': 60, 'Febrero': 20}},\n",
    "    {'producto': 'Producto B', 'ventas': {'Enero': 20, 'Febrero': 40}},\n",
    "]\n",
    "\n",
    "ventas = ventas_por_mes(datos)\n",
    "\n",
    "listar_ventas_mensuales(ventas)\n"
   ]
  },
  {
   "cell_type": "markdown",
   "metadata": {},
   "source": [
    "### Ejercicio 7: Informe general\n",
    "\n",
    "Mostrar un listado de productos ordenados alfabeticamente que contengan el precio promedio, la cantidad de unidades vendidas y el importe total vendido para cada producto"
   ]
  },
  {
   "cell_type": "code",
   "execution_count": 20,
   "metadata": {},
   "outputs": [
    {
     "name": "stdout",
     "output_type": "stream",
     "text": [
      "Producto: Producto A\n",
      "Precio promedio: $13.00\n",
      "Unidades vendidas: 150\n",
      "Total vendido: $1950.00\n",
      "-------------------------\n",
      "Producto: Producto B\n",
      "Precio promedio: $20.00\n",
      "Unidades vendidas: 243\n",
      "Total vendido: $4860.00\n",
      "-------------------------\n",
      "Producto: Producto C\n",
      "Precio promedio: $15.00\n",
      "Unidades vendidas: 120\n",
      "Total vendido: $1800.00\n",
      "-------------------------\n"
     ]
    }
   ],
   "source": [
    "def resumen_ventas(datos):\n",
    "    resumen = []\n",
    "    \n",
    "    for producto in datos:\n",
    "        nombre = producto['nombre']\n",
    "        precio_promedio = producto['precio_promedio']\n",
    "        unidades_vendidas = producto['unidades_vendidas']\n",
    "        total_vendido = precio_promedio * unidades_vendidas\n",
    "        \n",
    "        resumen.append({\n",
    "            'nombre': nombre,\n",
    "            'precio_promedio': precio_promedio,\n",
    "            'unidades_vendidas': unidades_vendidas,\n",
    "            'total_vendido': total_vendido\n",
    "        })\n",
    "\n",
    "    resumen_ordenado = sorted(resumen, key=lambda x: x['nombre'])\n",
    "    \n",
    "    return resumen_ordenado\n",
    "\n",
    "def informe_ventas(resumen):\n",
    "    for producto in resumen:\n",
    "        print(f\"Producto: {producto['nombre']}\")\n",
    "        print(f\"Precio promedio: ${producto['precio_promedio']:.2f}\")\n",
    "        print(f\"Unidades vendidas: {producto['unidades_vendidas']}\")\n",
    "        print(f\"Total vendido: ${producto['total_vendido']:.2f}\")\n",
    "        print(\"-\" * 25)\n",
    "\n",
    "datos = [\n",
    "    {'nombre': 'Producto A', 'precio_promedio': 13.0, 'unidades_vendidas': 150},\n",
    "    {'nombre': 'Producto B', 'precio_promedio': 20.0, 'unidades_vendidas': 243},\n",
    "    {'nombre': 'Producto C', 'precio_promedio': 15.0, 'unidades_vendidas': 120},\n",
    "]\n",
    "\n",
    "resumen = resumen_ventas(datos)\n",
    "\n",
    "informe_ventas(resumen)\n"
   ]
  }
 ],
 "metadata": {
  "kernelspec": {
   "display_name": "Python 3",
   "language": "python",
   "name": "python3"
  },
  "language_info": {
   "codemirror_mode": {
    "name": "ipython",
    "version": 3
   },
   "file_extension": ".py",
   "mimetype": "text/x-python",
   "name": "python",
   "nbconvert_exporter": "python",
   "pygments_lexer": "ipython3",
   "version": "3.12.5"
  }
 },
 "nbformat": 4,
 "nbformat_minor": 2
}
