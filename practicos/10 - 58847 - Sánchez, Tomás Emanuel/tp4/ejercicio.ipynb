{
 "cells": [
  {
   "cell_type": "markdown",
   "metadata": {},
   "source": [
    "# Simulación del Truco"
   ]
  },
  {
   "cell_type": "markdown",
   "metadata": {},
   "source": [
    "Las **cartas** deben registra el numero, palo y valor de la carta. \n",
    "El valor debe reflejar la jerarquía de las cartas en el juego del truco."
   ]
  },
  {
   "cell_type": "code",
   "execution_count": 10,
   "metadata": {},
   "outputs": [
    {
     "name": "stdout",
     "output_type": "stream",
     "text": [
      "1 de oro (Valor: 8)\n"
     ]
    }
   ],
   "source": [
    "def calcular_valor(numero, palo):\n",
    "    pass \n",
    "class Carta:\n",
    "    jerarquia_truco = {\n",
    "        (1, 'espada'): 14,\n",
    "        (1, 'basto'): 13,\n",
    "        (7, 'espada'): 12,\n",
    "        (7, 'oro'): 11,\n",
    "        (3, 'oro'): 10, (3, 'copa'): 10, (3, 'basto'): 10, (3, 'espada'): 10,\n",
    "        (2, 'oro'): 9, (2, 'copa'): 9, (2, 'basto'): 9, (2, 'espada'): 9,\n",
    "        (1, 'oro'): 8, (1, 'copa'): 8,\n",
    "        (12, 'oro'): 7, (12, 'copa'): 7, (12, 'basto'): 7, (12, 'espada'): 7,\n",
    "        (11, 'oro'): 6, (11, 'copa'): 6, (11, 'basto'): 6, (11, 'espada'): 6,\n",
    "        (10, 'oro'): 5, (10, 'copa'): 5, (10, 'basto'): 5, (10, 'espada'): 5,\n",
    "        (7, 'copa'): 4, (7, 'basto'): 4,\n",
    "        (6, 'oro'): 3, (6, 'copa'): 3, (6, 'basto'): 3, (6, 'espada'): 3,\n",
    "        (5, 'oro'): 2, (5, 'copa'): 2, (5, 'basto'): 2, (5, 'espada'): 2,\n",
    "        (4, 'oro'): 1, (4, 'copa'): 1, (4, 'basto'): 1, (4, 'espada'): 1,\n",
    "    }\n",
    "\n",
    "    def __init__(self, numero, palo):\n",
    "        self.numero = numero\n",
    "        self.palo = palo\n",
    "        self.valor = self.calcular_valor()\n",
    "\n",
    "    def calcular_valor(self):\n",
    "        return Carta.jerarquia_truco.get((self.numero, self.palo), 0)\n",
    "\n",
    "    def __repr__(self):\n",
    "        return f\"{self.numero} de {self.palo} (Valor: {self.valor})\"\n",
    "c = Carta(1, 'oro')\n",
    "print(c)\n"
   ]
  },
  {
   "cell_type": "markdown",
   "metadata": {},
   "source": [
    "**Mazo**: Representan las cartas españolas de 1 al 12, en los palos de oro, copa, espada y basto.\n",
    "\n",
    "Debe existir una función que permita barajar las cartas.\n",
    "y otra función que permita repartir las cartas a los jugadores."
   ]
  },
  {
   "cell_type": "code",
   "execution_count": 11,
   "metadata": {},
   "outputs": [
    {
     "name": "stdout",
     "output_type": "stream",
     "text": [
      "[7 de basto (Valor: 4), 3 de basto (Valor: 10), 9 de copa (Valor: 0)]\n"
     ]
    }
   ],
   "source": [
    "import random\n",
    "\n",
    "class Mazo:\n",
    "    def __init__(self):\n",
    "        palos = ['oro', 'copa', 'basto', 'espada']\n",
    "        numeros = range(1, 13)  # Números del 1 al 12\n",
    "        self.cartas = [Carta(numero, palo) for numero in numeros for palo in palos]\n",
    "    \n",
    "    def mezclar(self):\n",
    "        random.shuffle(self.cartas)\n",
    "    \n",
    "    def repartir(self, cantidad):\n",
    "        cartas_repartidas = self.cartas[:cantidad]\n",
    "        self.cartas = self.cartas[cantidad:]\n",
    "        return cartas_repartidas\n",
    "\n",
    "m = Mazo()\n",
    "m.mezclar()\n",
    "print(m.repartir(3))"
   ]
  },
  {
   "cell_type": "markdown",
   "metadata": {},
   "source": [
    "**Jugador**: Deben tener un nombre y las cartas que tiene en la mano. Debe acumular los puntos ganados.\n",
    "\n",
    "Nota: Para simplificar el problema, el jugador elige la carta a jugar de forma aleatoria."
   ]
  },
  {
   "cell_type": "code",
   "execution_count": 12,
   "metadata": {},
   "outputs": [
    {
     "name": "stdout",
     "output_type": "stream",
     "text": [
      "8 de basto (Valor: 0)\n"
     ]
    }
   ],
   "source": [
    "class Jugador:\n",
    "    pass\n",
    "    def __init__(self, nombre):\n",
    "        self.nombre = nombre\n",
    "        self.cartas = []\n",
    "        self.puntos = 0\n",
    "\n",
    "    def recibir_cartas(self, cartas):\n",
    "        self.cartas = cartas\n",
    "\n",
    "    def jugar_carta(self):\n",
    "        carta_jugada = random.choice(self.cartas)\n",
    "        self.cartas.remove(carta_jugada)\n",
    "        return carta_jugada\n",
    "\n",
    "j = Jugador(\"Juan\")\n",
    "j.recibir_cartas(m.repartir(3))\n",
    "print(j.jugar_carta())"
   ]
  },
  {
   "cell_type": "markdown",
   "metadata": {},
   "source": [
    "**Partida**: Debe tener dos jugadores, un mazo de cartas y un puntaje. Debe permitir jugar una carta por ronda y definir el ganador de la ronda. Debe permitir jugar hasta que se terminen las cartas del mazo."
   ]
  },
  {
   "cell_type": "code",
   "execution_count": 13,
   "metadata": {},
   "outputs": [
    {
     "name": "stdout",
     "output_type": "stream",
     "text": [
      "Juan juega 12 de copa (Valor: 7)\n",
      "Pedro juega 7 de oro (Valor: 11)\n",
      "Pedro gana la ronda\n",
      "Juan juega 10 de copa (Valor: 5)\n",
      "Pedro juega 6 de copa (Valor: 3)\n",
      "Juan gana la ronda\n",
      "Juan juega 3 de copa (Valor: 10)\n",
      "Pedro juega 5 de oro (Valor: 2)\n",
      "Juan gana la ronda\n",
      "Juan juega 8 de oro (Valor: 0)\n",
      "Pedro juega 12 de oro (Valor: 7)\n",
      "Pedro gana la ronda\n",
      "Juan juega 2 de copa (Valor: 9)\n",
      "Pedro juega 6 de espada (Valor: 3)\n",
      "Juan gana la ronda\n",
      "Juan juega 11 de copa (Valor: 6)\n",
      "Pedro juega 7 de copa (Valor: 4)\n",
      "Juan gana la ronda\n",
      "Juan juega 3 de oro (Valor: 10)\n",
      "Pedro juega 4 de espada (Valor: 1)\n",
      "Juan gana la ronda\n",
      "Juan juega 1 de oro (Valor: 8)\n",
      "Pedro juega 5 de basto (Valor: 2)\n",
      "Juan gana la ronda\n"
     ]
    }
   ],
   "source": [
    "class Partida:\n",
    "    def __init__(self, jugador1, jugador2):\n",
    "        self.jugador1 = jugador1\n",
    "        self.jugador2 = jugador2\n",
    "        self.mazo = Mazo()\n",
    "        self.mazo.mezclar()\n",
    "\n",
    "\n",
    "    def jugar_ronda(self):\n",
    "        carta1 = self.jugador1.jugar_carta()\n",
    "        carta2 = self.jugador2.jugar_carta()\n",
    "\n",
    "        print(f\"{self.jugador1.nombre} juega {carta1}\")\n",
    "        print(f\"{self.jugador2.nombre} juega {carta2}\")\n",
    "\n",
    "        if carta1.valor > carta2.valor:\n",
    "            self.jugador1.puntos += 1\n",
    "            print(f\"{self.jugador1.nombre} gana la ronda\")\n",
    "        elif carta1.valor < carta2.valor:\n",
    "            self.jugador2.puntos += 1\n",
    "            print(f\"{self.jugador2.nombre} gana la ronda\")\n",
    "        else:\n",
    "            print(\"Empate en la ronda\")\n",
    "\n",
    "\n",
    "    def jugar(self):\n",
    "        while len(self.mazo.cartas) > 0 and self.jugador1.puntos < 15 and self.jugador2.puntos < 15:\n",
    "            self.jugador1.recibir_cartas(self.mazo.repartir(3))\n",
    "            self.jugador2.recibir_cartas(self.mazo.repartir(3))\n",
    "            self.jugar_ronda()\n",
    "\n",
    "        if self.jugador1.puntos >= 15:\n",
    "            print(f\"{self.jugador1.nombre} gana la partida\")\n",
    "        elif self.jugador2.puntos >= 15:\n",
    "            print(f\"{self.jugador2.nombre} gana la partida\")\n",
    "p = Partida(Jugador(\"Juan\"), Jugador(\"Pedro\"))\n",
    "p.jugar()"
   ]
  }
 ],
 "metadata": {
  "kernelspec": {
   "display_name": "Python 3",
   "language": "python",
   "name": "python3"
  },
  "language_info": {
   "codemirror_mode": {
    "name": "ipython",
    "version": 3
   },
   "file_extension": ".py",
   "mimetype": "text/x-python",
   "name": "python",
   "nbconvert_exporter": "python",
   "pygments_lexer": "ipython3",
   "version": "3.12.5"
  }
 },
 "nbformat": 4,
 "nbformat_minor": 2
}
