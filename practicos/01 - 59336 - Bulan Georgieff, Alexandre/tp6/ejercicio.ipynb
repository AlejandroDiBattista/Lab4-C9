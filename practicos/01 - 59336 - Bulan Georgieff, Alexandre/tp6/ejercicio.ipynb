{
 "cells": [
  {
   "cell_type": "markdown",
   "metadata": {},
   "source": [
    "# TP6\n",
    "\n",
    "### `Resolver usando Pandas`\n",
    "\n",
    "Resolver los ejercicios del TP3 utilizando la librería Pandas."
   ]
  },
  {
   "cell_type": "markdown",
   "metadata": {},
   "source": [
    "### Ejercicio 1: Cargar Datos de ventas.\n",
    "\n",
    "El archivo datos.dat contiene el registro de las ventas realizadas.\n",
    "\n",
    "Tiene un formato de ancho fijo:\n",
    "- `fecha`:    10 lugares\n",
    "- `producto`: 30 lugares\n",
    "- `precio`:   10 lugares\n",
    "- `cantidad`:  5 lugares\n",
    "\n",
    "Hacer una funcion que cargue los datos en un DataFrame de Pandas."
   ]
  },
  {
   "cell_type": "code",
   "execution_count": 1,
   "metadata": {},
   "outputs": [],
   "source": [
    "import pandas as pd\n",
    "import numpy as np\n",
    "from numpy.random import randint\n",
    "\n",
    "# ej1\n",
    "def cargar_datos():\n",
    "    \n",
    "    widths = [10, 30, 10, 5]\n",
    "    \n",
    "    \n",
    "    raw_data = \"\"\"2024-08-27Mirinda                             1510   14\n",
    "2024-08-27Mirinda                             1560   12\n",
    "2024-08-28Torasso                              940    8\n",
    "2024-08-29Pepsi Cola                          1210   10\n",
    "2024-08-30Mirinda                             1520    1\n",
    "2024-09-01Mirinda                             1550   15\n",
    "2024-09-01Sprite                               810    4\n",
    "2024-09-02Coca Cola                           1100    4\n",
    "2024-09-02Pepsi Cola                          1220   13\n",
    "2024-09-02Torasso                              910    5\n",
    "2024-09-02Torasso                              920    3\n",
    "2024-09-03Coca Cola                           1020    8\n",
    "2024-09-03Mirinda                             1570    7\n",
    "2024-09-03Mirinda                             1590    2\n",
    "2024-09-04Pepsi Cola                          1220   13\n",
    "2024-09-05Mirinda                             1500    3\n",
    "2024-09-05Pepsi Cola                          1300    5\n",
    "2024-09-06Coca Cola                           1080    1\n",
    "2024-09-06Sprite                               860   12\n",
    "2024-09-06Torasso                              930    3\n",
    "2024-09-07Coca Cola                           1080   14\n",
    "2024-09-07Sprite                               870   13\n",
    "2024-09-08Coca Cola                           1040   10\n",
    "2024-09-08Mirinda                             1580    2\n",
    "2024-09-08Pepsi Cola                          1240    9\n",
    "2024-09-09Mirinda                             1500    3\n",
    "2024-09-09Sprite                               850    9\n",
    "2024-09-10Mirinda                             1590    8\n",
    "2024-09-10Pepsi Cola                          1250   12\n",
    "2024-09-11Sprite                               810    6\n",
    "2024-09-11Sprite                               820   14\n",
    "2024-09-12Coca Cola                           1080    4\n",
    "2024-09-13Mirinda                             1580    5\n",
    "2024-09-13Pepsi Cola                          1250   13\n",
    "2024-09-14Coca Cola                           1080   15\n",
    "2024-09-14Pepsi Cola                          1270   14\n",
    "2024-09-15Coca Cola                           1100    1\n",
    "2024-09-15Mirinda                             1500   13\n",
    "2024-09-15Sprite                               870   14\n",
    "2024-09-15Torasso                              900   13\"\"\"\n",
    "\n",
    "    data = []\n",
    "    for line in raw_data.split('\\n'):\n",
    "        fecha = line[:widths[0]].strip()\n",
    "        producto = line[widths[0]:widths[0]+widths[1]].strip()\n",
    "        precio = float(line[widths[0]+widths[1]:widths[0]+widths[1]+widths[2]].strip())\n",
    "        cantidad = int(line[widths[0]+widths[1]+widths[2]:].strip())\n",
    "        data.append([fecha, producto, precio, cantidad])\n",
    "    \n",
    "    \n",
    "    df = pd.DataFrame(data, columns=['fecha', 'producto', 'precio', 'cantidad'])\n",
    "    df['fecha'] = pd.to_datetime(df['fecha'])\n",
    "    return df\n",
    "\n",
    "datos = cargar_datos()\n"
   ]
  },
  {
   "cell_type": "markdown",
   "metadata": {},
   "source": [
    "### Ejercicio 2: Calcular el total de ventas.\n",
    "Hacer una función que sume los importes vendidos (precio * cantidad) y las cantidades.\n"
   ]
  },
  {
   "cell_type": "code",
   "execution_count": 2,
   "metadata": {},
   "outputs": [
    {
     "name": "stdout",
     "output_type": "stream",
     "text": [
      "Las ventas fueron de $392730.00 en 335 unidades\n"
     ]
    }
   ],
   "source": [
    "\n",
    "# ej 2\n",
    "def calcular_totales(datos):\n",
    "    datos['importe'] = datos['precio'] * datos['cantidad']\n",
    "    importe_total = datos['importe'].sum()\n",
    "    cantidad_total = datos['cantidad'].sum()\n",
    "    return importe_total, cantidad_total\n",
    "\n",
    "importe, cantidad = calcular_totales(datos)\n",
    "\n",
    "print(f\"Las ventas fueron de ${importe:0.2f} en {cantidad} unidades\")"
   ]
  },
  {
   "cell_type": "markdown",
   "metadata": {},
   "source": [
    "### Ejercicio 3: Listar las unidades vendidas.\n",
    "Listar cuántas unidades se vendieron en total para cada producto\n"
   ]
  },
  {
   "cell_type": "code",
   "execution_count": 3,
   "metadata": {},
   "outputs": [
    {
     "data": {
      "text/plain": [
       "producto\n",
       "Pepsi Cola    89\n",
       "Mirinda       85\n",
       "Sprite        72\n",
       "Coca Cola     57\n",
       "Torasso       32\n",
       "Name: cantidad, dtype: int64"
      ]
     },
     "execution_count": 3,
     "metadata": {},
     "output_type": "execute_result"
    }
   ],
   "source": [
    "def unidades_vendidas(datos):\n",
    "    return datos.groupby('producto')['cantidad'].sum().sort_values(ascending=False)\n",
    "\n",
    "unidades_vendidas(datos)"
   ]
  },
  {
   "cell_type": "markdown",
   "metadata": {},
   "source": [
    "###  Ejercicio 4: Listar el precio promedio por producto.\n",
    "Hacer un listado del precio promedio por producto.\n"
   ]
  },
  {
   "cell_type": "code",
   "execution_count": 4,
   "metadata": {},
   "outputs": [
    {
     "data": {
      "text/plain": [
       "producto\n",
       "Coca Cola     1072.50\n",
       "Mirinda       1545.83\n",
       "Pepsi Cola    1245.00\n",
       "Sprite         841.43\n",
       "Torasso        920.00\n",
       "Name: precio, dtype: float64"
      ]
     },
     "execution_count": 4,
     "metadata": {},
     "output_type": "execute_result"
    }
   ],
   "source": [
    "def precio_promedio(datos):\n",
    "    return datos.groupby('producto')['precio'].mean().round(2)\n",
    "\n",
    "\n",
    "precio_promedio(datos)"
   ]
  },
  {
   "cell_type": "markdown",
   "metadata": {},
   "source": [
    "### Ejercicio 5: Ranking de productos\n",
    "Realizar un listado de los 3 productos más vendidos ordenados por la cantidad de unidades vendidas (ordenadas de mayor a menor)\n"
   ]
  },
  {
   "cell_type": "code",
   "execution_count": 5,
   "metadata": {},
   "outputs": [
    {
     "data": {
      "text/plain": [
       "producto\n",
       "Pepsi Cola    89\n",
       "Mirinda       85\n",
       "Sprite        72\n",
       "Name: cantidad, dtype: int64"
      ]
     },
     "execution_count": 5,
     "metadata": {},
     "output_type": "execute_result"
    }
   ],
   "source": [
    "def ranking_productos(datos, top=3):\n",
    "    return unidades_vendidas(datos).head(top)\n",
    "\n",
    "ranking_productos(datos)"
   ]
  },
  {
   "cell_type": "markdown",
   "metadata": {},
   "source": [
    "### Ejercicio 6: Listar las ventas por mes\n",
    "Realizar un listado del total de unidades vendidas por producto separado por mes.\n"
   ]
  },
  {
   "cell_type": "code",
   "execution_count": 6,
   "metadata": {},
   "outputs": [
    {
     "data": {
      "text/html": [
       "<div>\n",
       "<style scoped>\n",
       "    .dataframe tbody tr th:only-of-type {\n",
       "        vertical-align: middle;\n",
       "    }\n",
       "\n",
       "    .dataframe tbody tr th {\n",
       "        vertical-align: top;\n",
       "    }\n",
       "\n",
       "    .dataframe thead th {\n",
       "        text-align: right;\n",
       "    }\n",
       "</style>\n",
       "<table border=\"1\" class=\"dataframe\">\n",
       "  <thead>\n",
       "    <tr style=\"text-align: right;\">\n",
       "      <th>mes</th>\n",
       "      <th>2024-08</th>\n",
       "      <th>2024-09</th>\n",
       "    </tr>\n",
       "    <tr>\n",
       "      <th>producto</th>\n",
       "      <th></th>\n",
       "      <th></th>\n",
       "    </tr>\n",
       "  </thead>\n",
       "  <tbody>\n",
       "    <tr>\n",
       "      <th>Coca Cola</th>\n",
       "      <td>0</td>\n",
       "      <td>57</td>\n",
       "    </tr>\n",
       "    <tr>\n",
       "      <th>Mirinda</th>\n",
       "      <td>27</td>\n",
       "      <td>58</td>\n",
       "    </tr>\n",
       "    <tr>\n",
       "      <th>Pepsi Cola</th>\n",
       "      <td>10</td>\n",
       "      <td>79</td>\n",
       "    </tr>\n",
       "    <tr>\n",
       "      <th>Sprite</th>\n",
       "      <td>0</td>\n",
       "      <td>72</td>\n",
       "    </tr>\n",
       "    <tr>\n",
       "      <th>Torasso</th>\n",
       "      <td>8</td>\n",
       "      <td>24</td>\n",
       "    </tr>\n",
       "  </tbody>\n",
       "</table>\n",
       "</div>"
      ],
      "text/plain": [
       "mes         2024-08  2024-09\n",
       "producto                    \n",
       "Coca Cola         0       57\n",
       "Mirinda          27       58\n",
       "Pepsi Cola       10       79\n",
       "Sprite            0       72\n",
       "Torasso           8       24"
      ]
     },
     "execution_count": 6,
     "metadata": {},
     "output_type": "execute_result"
    }
   ],
   "source": [
    "def ventas_por_mes(datos):\n",
    "    datos['mes'] = datos['fecha'].dt.strftime('%Y-%m')\n",
    "    return datos.pivot_table(\n",
    "        values='cantidad',\n",
    "        index='producto',\n",
    "        columns='mes',\n",
    "        aggfunc='sum',\n",
    "        fill_value=0\n",
    "    )\n",
    "\n",
    "ventas_por_mes(datos)"
   ]
  },
  {
   "cell_type": "markdown",
   "metadata": {},
   "source": [
    "### Ejercicio 7: Informe general\n",
    "\n",
    "Mostrar un listado de productos ordenados alfabeticamente que contengan el precio promedio, la cantidad de unidades vendidas y el importe total vendido para cada producto"
   ]
  },
  {
   "cell_type": "code",
   "execution_count": 7,
   "metadata": {},
   "outputs": [
    {
     "name": "stderr",
     "output_type": "stream",
     "text": [
      "/var/folders/6n/z412hmln0wn4g5vby875r5s00000gn/T/ipykernel_25973/3337271935.py:5: DeprecationWarning: DataFrameGroupBy.apply operated on the grouping columns. This behavior is deprecated, and in a future version of pandas the grouping columns will be excluded from the operation. Either pass `include_groups=False` to exclude the groupings or explicitly select the grouping columns after groupby to silence this warning.\n",
      "  'importe_total': datos.groupby('producto').apply(\n"
     ]
    },
    {
     "data": {
      "text/html": [
       "<div>\n",
       "<style scoped>\n",
       "    .dataframe tbody tr th:only-of-type {\n",
       "        vertical-align: middle;\n",
       "    }\n",
       "\n",
       "    .dataframe tbody tr th {\n",
       "        vertical-align: top;\n",
       "    }\n",
       "\n",
       "    .dataframe thead th {\n",
       "        text-align: right;\n",
       "    }\n",
       "</style>\n",
       "<table border=\"1\" class=\"dataframe\">\n",
       "  <thead>\n",
       "    <tr style=\"text-align: right;\">\n",
       "      <th></th>\n",
       "      <th>precio_promedio</th>\n",
       "      <th>unidades_vendidas</th>\n",
       "      <th>importe_total</th>\n",
       "    </tr>\n",
       "    <tr>\n",
       "      <th>producto</th>\n",
       "      <th></th>\n",
       "      <th></th>\n",
       "      <th></th>\n",
       "    </tr>\n",
       "  </thead>\n",
       "  <tbody>\n",
       "    <tr>\n",
       "      <th>Coca Cola</th>\n",
       "      <td>1072.50</td>\n",
       "      <td>57</td>\n",
       "      <td>60780.0</td>\n",
       "    </tr>\n",
       "    <tr>\n",
       "      <th>Mirinda</th>\n",
       "      <td>1545.83</td>\n",
       "      <td>85</td>\n",
       "      <td>131080.0</td>\n",
       "    </tr>\n",
       "    <tr>\n",
       "      <th>Pepsi Cola</th>\n",
       "      <td>1245.00</td>\n",
       "      <td>89</td>\n",
       "      <td>110510.0</td>\n",
       "    </tr>\n",
       "    <tr>\n",
       "      <th>Sprite</th>\n",
       "      <td>841.43</td>\n",
       "      <td>72</td>\n",
       "      <td>61040.0</td>\n",
       "    </tr>\n",
       "    <tr>\n",
       "      <th>Torasso</th>\n",
       "      <td>920.00</td>\n",
       "      <td>32</td>\n",
       "      <td>29320.0</td>\n",
       "    </tr>\n",
       "  </tbody>\n",
       "</table>\n",
       "</div>"
      ],
      "text/plain": [
       "            precio_promedio  unidades_vendidas  importe_total\n",
       "producto                                                     \n",
       "Coca Cola           1072.50                 57        60780.0\n",
       "Mirinda             1545.83                 85       131080.0\n",
       "Pepsi Cola          1245.00                 89       110510.0\n",
       "Sprite               841.43                 72        61040.0\n",
       "Torasso              920.00                 32        29320.0"
      ]
     },
     "execution_count": 7,
     "metadata": {},
     "output_type": "execute_result"
    }
   ],
   "source": [
    "def resumen_ventas(datos):\n",
    "    resumen = pd.DataFrame({\n",
    "        'precio_promedio': precio_promedio(datos),\n",
    "        'unidades_vendidas': unidades_vendidas(datos),\n",
    "        'importe_total': datos.groupby('producto').apply(\n",
    "            lambda x: (x['precio'] * x['cantidad']).sum()\n",
    "        )\n",
    "    }).round(2)\n",
    "    return resumen.sort_index()\n",
    "\n",
    "\n",
    "resumen_ventas(datos)"
   ]
  },
  {
   "cell_type": "markdown",
   "metadata": {},
   "source": [
    "## `Resolver usando NumPy`\n",
    "## Resolver el ejercicio 2 del tp1 usando NumPy"
   ]
  },
  {
   "cell_type": "markdown",
   "metadata": {},
   "source": [
    "### Ejercicio 8\n",
    "\n",
    "Escribe una función en Python que encuentre los valores de `a`, `b`, y `c` para que la función cuadrática `f(x) = a x^2 + b x + c` pase exactamente por los siguientes puntos:\n",
    "\n",
    "| x  | y  |\n",
    "|---:|---:|\n",
    "|  0 |  0 |\n",
    "|  1 |  8 |\n",
    "|  2 | 12 |\n",
    "|  3 | 12 |\n",
    "|  5 |  0 |\n",
    "\n",
    "### Requisitos:\n",
    "- La función debe explorar posibles valores de `a`, `b`, y `c` utilizando un método de prueba y error.\n",
    "- Debe devolver los valores que hagan que la diferencia entre la función `f(x)` y los valores medidos `y` sea exactamente cero para cada punto.\n",
    "\n",
    "> **Pista**: Los valores de `a`, `b`, y `c` son números pequeños.\n",
    "\n",
    "La idea es implementar el mismo algoritmo que se uso en el TP1 pero usando NumPy en lugar de Python puro."
   ]
  },
  {
   "cell_type": "code",
   "execution_count": 8,
   "metadata": {},
   "outputs": [],
   "source": [
    "import numpy as np\n",
    "def f(x, coeficientes):\n",
    "    a, b, c = coeficientes\n",
    "    return a*x**2 + b*x + c\n",
    "\n",
    "def error(y, y_pred):\n",
    "    return y - y_pred\n",
    "\n",
    "def buscar_coeficientes_exactos():\n",
    "    X = np.array([0,1,2,3,5])\n",
    "    Y = np.array([0,8,12,12,0])\n",
    "    \n",
    "    # \n",
    "    for a in range(-5, 6):\n",
    "        for b in range(-10, 11):\n",
    "            for c in range(-5, 6):\n",
    "                y_pred = f(X, (a,b,c))\n",
    "                if np.all(np.abs(error(Y, y_pred)) < 0.0001):  \n",
    "                    return a, b, c\n",
    "    return None\n"
   ]
  },
  {
   "cell_type": "markdown",
   "metadata": {},
   "source": [
    "### Ejercicio 9: Resolver el ejercicio 3 del TP1 usando NumPy\n",
    "Buscar los coeficientes de la función que minimice la suma de los cuadrados de las diferencias entre los valores medidos y los valores de la función.\n",
    "\n",
    "1. Crear un array con los coeficientes elegidos al azar (usar `randint(-10,10,3)`).\n",
    "2. Calcular el valor de la función y el error correspondiente.\n",
    "3. Mientras que el error sea mayor a 1:\n",
    "    1. Definir nuevos coeficientes agregándoles un pequeño valor al azar a los coeficientes actuales (aprendizaje = 0.001).\n",
    "    2. Si el error para los nuevos coeficientes es menor que el anterior, reemplazar los coeficientes actuales por los nuevos.\n"
   ]
  },
  {
   "cell_type": "code",
   "execution_count": 9,
   "metadata": {},
   "outputs": [
    {
     "name": "stdout",
     "output_type": "stream",
     "text": [
      "\n",
      "=== Ejercicio 2: Totales ===\n",
      "Las ventas fueron de $392730.00 en 335 unidades\n",
      "\n",
      "=== Ejercicio 3: Unidades vendidas por producto ===\n",
      "producto\n",
      "Pepsi Cola    89\n",
      "Mirinda       85\n",
      "Sprite        72\n",
      "Coca Cola     57\n",
      "Torasso       32\n",
      "Name: cantidad, dtype: int64\n",
      "\n",
      "=== Ejercicio 4: Precio promedio por producto ===\n",
      "producto\n",
      "Coca Cola     1072.50\n",
      "Mirinda       1545.83\n",
      "Pepsi Cola    1245.00\n",
      "Sprite         841.43\n",
      "Torasso        920.00\n",
      "Name: precio, dtype: float64\n",
      "\n",
      "=== Ejercicio 5: Top 3 productos más vendidos ===\n",
      "producto\n",
      "Pepsi Cola    89\n",
      "Mirinda       85\n",
      "Sprite        72\n",
      "Name: cantidad, dtype: int64\n",
      "\n",
      "=== Ejercicio 6: Ventas por mes ===\n",
      "mes         2024-08  2024-09\n",
      "producto                    \n",
      "Coca Cola         0       57\n",
      "Mirinda          27       58\n",
      "Pepsi Cola       10       79\n",
      "Sprite            0       72\n",
      "Torasso           8       24\n",
      "\n",
      "=== Ejercicio 7: Resumen general de ventas ===\n",
      "            precio_promedio  unidades_vendidas  importe_total\n",
      "producto                                                     \n",
      "Coca Cola           1072.50                 57        60780.0\n",
      "Mirinda             1545.83                 85       131080.0\n",
      "Pepsi Cola          1245.00                 89       110510.0\n",
      "Sprite               841.43                 72        61040.0\n",
      "Torasso              920.00                 32        29320.0\n",
      "\n",
      "=== Ejercicio 8: Coeficientes exactos ===\n",
      "Coeficientes exactos: (-2, 10, 0)\n",
      "\n",
      "=== Ejercicio 9: Coeficientes minimización ===\n"
     ]
    },
    {
     "name": "stderr",
     "output_type": "stream",
     "text": [
      "/var/folders/6n/z412hmln0wn4g5vby875r5s00000gn/T/ipykernel_25973/3337271935.py:5: DeprecationWarning: DataFrameGroupBy.apply operated on the grouping columns. This behavior is deprecated, and in a future version of pandas the grouping columns will be excluded from the operation. Either pass `include_groups=False` to exclude the groupings or explicitly select the grouping columns after groupby to silence this warning.\n",
      "  'importe_total': datos.groupby('producto').apply(\n"
     ]
    },
    {
     "name": "stdout",
     "output_type": "stream",
     "text": [
      "Coeficientes minimización: [-1.90201806  9.69267812 -0.14522676]\n"
     ]
    },
    {
     "data": {
      "text/plain": [
       "array([-1.78113496,  8.96268952,  0.62664753])"
      ]
     },
     "execution_count": 9,
     "metadata": {},
     "output_type": "execute_result"
    }
   ],
   "source": [
    "import numpy as np\n",
    "from numpy.random import randint\n",
    "\n",
    "def f(x, coeficientes):\n",
    "    a,b,c = coeficientes\n",
    "    return a*x**2 + b*x + c\n",
    "\n",
    "def error(y, y_pred):\n",
    "    return np.sum((y - y_pred)**2)\n",
    "\n",
    "X = np.array([0, 1, 2, 3, 5])\n",
    "Y = np.array([0, 8,12,11, 1]) # Observar que no son los mismos valores que en el ejemplo anterior\n",
    "\n",
    "def buscar_coeficientes():\n",
    "    pass # Implementar\n",
    "\n",
    "\n",
    "coeficientes = buscar_coeficientes()\n",
    "coeficientes\n",
    "\n",
    "\n",
    "# ej 9\n",
    "def buscar_coeficientes():\n",
    "    X = np.array([0, 1, 2, 3, 5])\n",
    "    Y = np.array([0, 8, 12, 11, 1])\n",
    "    \n",
    "    \n",
    "    coeficientes = randint(-10, 10, 3)\n",
    "    learning_rate = 0.001\n",
    "    \n",
    "    mejor_error = float('inf')\n",
    "    mejor_coef = coeficientes.copy()\n",
    "    \n",
    "    while mejor_error > 1:\n",
    "        \n",
    "        y_pred = f(X, coeficientes)\n",
    "        current_error = error(Y, y_pred)\n",
    "        \n",
    "        \n",
    "        nuevos_coef = coeficientes + np.random.normal(0, learning_rate, 3)\n",
    "        y_pred_nuevo = f(X, nuevos_coef)\n",
    "        nuevo_error = error(Y, y_pred_nuevo)\n",
    "        \n",
    "        \n",
    "        if np.sum(nuevo_error**2) < mejor_error:\n",
    "            mejor_error = np.sum(nuevo_error**2)\n",
    "            mejor_coef = nuevos_coef.copy()\n",
    "            coeficientes = nuevos_coef.copy()\n",
    "    \n",
    "    return mejor_coef\n",
    "\n",
    "if __name__ == \"__main__\":\n",
    "    # panda\n",
    "    datos = cargar_datos()\n",
    "    \n",
    "    print(\"\\n=== Ejercicio 2: Totales ===\")\n",
    "    importe, cantidad = calcular_totales(datos)\n",
    "    print(f\"Las ventas fueron de ${importe:.2f} en {cantidad} unidades\")\n",
    "    \n",
    "    print(\"\\n=== Ejercicio 3: Unidades vendidas por producto ===\")\n",
    "    print(unidades_vendidas(datos))\n",
    "    \n",
    "    print(\"\\n=== Ejercicio 4: Precio promedio por producto ===\")\n",
    "    print(precio_promedio(datos))\n",
    "    \n",
    "    print(\"\\n=== Ejercicio 5: Top 3 productos más vendidos ===\")\n",
    "    print(ranking_productos(datos))\n",
    "    \n",
    "    print(\"\\n=== Ejercicio 6: Ventas por mes ===\")\n",
    "    print(ventas_por_mes(datos))\n",
    "    \n",
    "    print(\"\\n=== Ejercicio 7: Resumen general de ventas ===\")\n",
    "    print(resumen_ventas(datos))\n",
    "    \n",
    "    # numpyy\n",
    "    print(\"\\n=== Ejercicio 8: Coeficientes exactos ===\")\n",
    "    coef_exactos = buscar_coeficientes_exactos()\n",
    "    print(f\"Coeficientes exactos: {coef_exactos}\")\n",
    "    \n",
    "    print(\"\\n=== Ejercicio 9: Coeficientes minimización ===\")\n",
    "    coef_min = buscar_coeficientes()\n",
    "    print(f\"Coeficientes minimización: {coef_min}\")\n",
    "\n",
    "coeficientes = buscar_coeficientes()\n",
    "coeficientes"
   ]
  }
 ],
 "metadata": {
  "kernelspec": {
   "display_name": "Python 3",
   "language": "python",
   "name": "python3"
  },
  "language_info": {
   "codemirror_mode": {
    "name": "ipython",
    "version": 3
   },
   "file_extension": ".py",
   "mimetype": "text/x-python",
   "name": "python",
   "nbconvert_exporter": "python",
   "pygments_lexer": "ipython3",
   "version": "3.12.5"
  }
 },
 "nbformat": 4,
 "nbformat_minor": 2
}
