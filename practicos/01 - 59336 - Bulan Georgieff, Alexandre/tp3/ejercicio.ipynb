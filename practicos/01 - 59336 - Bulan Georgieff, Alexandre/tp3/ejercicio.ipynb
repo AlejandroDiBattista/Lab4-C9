{
 "cells": [
  {
   "cell_type": "markdown",
   "metadata": {},
   "source": [
    "#TP3"
   ]
  },
  {
   "cell_type": "markdown",
   "metadata": {},
   "source": [
    "## Ejercicio 1: Cargar Datos de ventas.\n",
    "\n",
    "El archivo datos.dat contiene el registro de las ventas realizadas.\n",
    "\n",
    "Tiene un formato de ancho fijo:\n",
    "- fecha:    10 lugares\n",
    "- producto: 30 lugares\n",
    "- precio:   10 lugares\n",
    "- cantidad:  5 lugares\n",
    "\n",
    "hacer una funcion que carge los en una lista de diccionarios. \n",
    "\n",
    "nota: con \n",
    "```python\n",
    "lineas = open(\"datos.dat\", \"r\").readlines() \n",
    "```\n",
    "puede obtener la lista de string de todos los datos "
   ]
  },
  {
   "cell_type": "code",
   "execution_count": 9,
   "metadata": {},
   "outputs": [],
   "source": [
    "import datetime\n",
    "from collections import defaultdict\n",
    "\n",
    "def cargar_datos():\n",
    "    datos = []\n",
    "    with open(\"datos.dat\", \"r\") as file:\n",
    "        for linea in file:\n",
    "            fecha = datetime.datetime.strptime(linea[:10].strip(), \"%Y-%m-%d\").date()\n",
    "            producto = linea[10:40].strip()\n",
    "            precio = float(linea[40:50].strip())\n",
    "            cantidad = int(linea[50:].strip())\n",
    "            datos.append({\n",
    "                \"fecha\": fecha,\n",
    "                \"producto\": producto,\n",
    "                \"precio\": precio,\n",
    "                \"cantidad\": cantidad\n",
    "            })\n",
    "    return datos\n",
    "\n",
    "datos = cargar_datos()"
   ]
  },
  {
   "cell_type": "markdown",
   "metadata": {},
   "source": [
    "## Ejercicio 2: Calcular el total de ventas.\n",
    "\n",
    "Hacer una funcion que sume los importes vendidos (precio * cantidad) y las cantidades"
   ]
  },
  {
   "cell_type": "code",
   "execution_count": 10,
   "metadata": {},
   "outputs": [
    {
     "name": "stdout",
     "output_type": "stream",
     "text": [
      "Las ventas fueron de $392730.00 en 335 unidades\n"
     ]
    }
   ],
   "source": [
    "def calcular_totales(datos):\n",
    "    importe_total = sum(item[\"precio\"] * item[\"cantidad\"] for item in datos)\n",
    "    cantidad_total = sum(item[\"cantidad\"] for item in datos)\n",
    "    return importe_total, cantidad_total\n",
    "\n",
    "importe, cantidad = calcular_totales(datos)\n",
    "\n",
    "print(f\"Las ventas fueron de ${importe:.2f} en {cantidad} unidades\")"
   ]
  },
  {
   "cell_type": "markdown",
   "metadata": {},
   "source": [
    "## Ejercicio 3: Listar las unidades vendidas.\n",
    "\n",
    "Listar cuantas unidades se vendieron en total para cada producto"
   ]
  },
  {
   "cell_type": "code",
   "execution_count": 11,
   "metadata": {},
   "outputs": [
    {
     "name": "stdout",
     "output_type": "stream",
     "text": [
      "Mirinda: 85 unidades\n",
      "Torasso: 32 unidades\n",
      "Pepsi Cola: 89 unidades\n",
      "Sprite: 72 unidades\n",
      "Coca Cola: 57 unidades\n"
     ]
    }
   ],
   "source": [
    "\n",
    "def unidades_vendidas(datos):\n",
    "    ventas = defaultdict(int)\n",
    "    for item in datos:\n",
    "        ventas[item[\"producto\"]] += item[\"cantidad\"]\n",
    "    return dict(ventas)\n",
    "\n",
    "def listar_ventas(ventas):\n",
    "    for producto, cantidad in ventas.items():\n",
    "        print(f\"{producto}: {cantidad} unidades\")\n",
    "        \n",
    "ventas = unidades_vendidas(datos)\n",
    "listar_ventas(ventas)\n"
   ]
  },
  {
   "cell_type": "markdown",
   "metadata": {},
   "source": [
    "##  Ejercicio 4: Listar el precio promedio por producto.\n",
    "\n",
    "Hacer un listado del precio promedio por productos."
   ]
  },
  {
   "cell_type": "code",
   "execution_count": 12,
   "metadata": {},
   "outputs": [
    {
     "name": "stdout",
     "output_type": "stream",
     "text": [
      "Mirinda: $1542.12\n",
      "Torasso: $916.25\n",
      "Pepsi Cola: $1241.69\n",
      "Sprite: $847.78\n",
      "Coca Cola: $1066.32\n"
     ]
    }
   ],
   "source": [
    "def precio_promedio(datos):\n",
    "    totales = defaultdict(lambda: {\"suma\": 0, \"cantidad\": 0})\n",
    "    for item in datos:\n",
    "        producto = item[\"producto\"]\n",
    "        totales[producto][\"suma\"] += item[\"precio\"] * item[\"cantidad\"]\n",
    "        totales[producto][\"cantidad\"] += item[\"cantidad\"]\n",
    "    \n",
    "    return {producto: info[\"suma\"] / info[\"cantidad\"] for producto, info in totales.items()}\n",
    "\n",
    "def listar_precios(precios):\n",
    "    for producto, precio in precios.items():\n",
    "        print(f\"{producto}: ${precio:.2f}\")\n",
    "        \n",
    "precios = precio_promedio(datos)\n",
    "listar_precios(precios)"
   ]
  },
  {
   "cell_type": "markdown",
   "metadata": {},
   "source": [
    "### Ejercicio 5: Ranking de productos\n",
    "\n",
    "Realizar un listado de los 3 productos mas vendidos ordenados la cantidad de unidades vendidas (ordenadas de mayor a menor)\n"
   ]
  },
  {
   "cell_type": "code",
   "execution_count": 13,
   "metadata": {},
   "outputs": [],
   "source": [
    "def ranking_productos(datos, top=3):\n",
    "    pass # Implementar\n",
    "\n",
    "def listar_ranking(ranking):\n",
    "    pass # Implementar\n",
    "\n",
    "ranking = ranking_productos(datos)\n",
    "listar_ranking(ranking)"
   ]
  },
  {
   "cell_type": "markdown",
   "metadata": {},
   "source": [
    "### Ejercicio 6: Listar las ventas por mes\n",
    "\n",
    "Realizar un listado del total de unidades vendidas por productos separada por mes."
   ]
  },
  {
   "cell_type": "code",
   "execution_count": 14,
   "metadata": {},
   "outputs": [],
   "source": [
    "def ranking_productos(datos, top=3):\n",
    "    ventas = unidades_vendidas(datos)\n",
    "    return sorted(ventas.items(), key=lambda x: x[1], reverse=True)[:top]\n",
    "\n",
    "def listar_ranking(ranking):\n",
    "    for i, (producto, cantidad) in enumerate(ranking, 1):\n",
    "        print(f\"{i}. {producto}: {cantidad} unidades\")\n",
    "\n",
    "# ventas = ventas_por_mes(datos)\n",
    "# listar_ventas_mensuales(ventas)"
   ]
  },
  {
   "cell_type": "markdown",
   "metadata": {},
   "source": [
    "### Ejercicio 7: Informe general\n",
    "\n",
    "Mostrar un listado de productos ordenados alfabeticamente que contengan el precio promedio, la cantidad de unidades vendidas y el importe total vendido para cada producto"
   ]
  },
  {
   "cell_type": "code",
   "execution_count": 15,
   "metadata": {},
   "outputs": [
    {
     "name": "stdout",
     "output_type": "stream",
     "text": [
      "Coca Cola:\n",
      "  Precio promedio: $1066.32\n",
      "  Unidades vendidas: 57\n",
      "  Importe total: $60780.00\n",
      "\n",
      "Mirinda:\n",
      "  Precio promedio: $1542.12\n",
      "  Unidades vendidas: 85\n",
      "  Importe total: $131080.00\n",
      "\n",
      "Pepsi Cola:\n",
      "  Precio promedio: $1241.69\n",
      "  Unidades vendidas: 89\n",
      "  Importe total: $110510.00\n",
      "\n",
      "Sprite:\n",
      "  Precio promedio: $847.78\n",
      "  Unidades vendidas: 72\n",
      "  Importe total: $61040.00\n",
      "\n",
      "Torasso:\n",
      "  Precio promedio: $916.25\n",
      "  Unidades vendidas: 32\n",
      "  Importe total: $29320.00\n",
      "\n"
     ]
    }
   ],
   "source": [
    "def resumen_ventas(datos):\n",
    "    resumen = defaultdict(lambda: {\"total\": 0, \"cantidad\": 0, \"importe\": 0})\n",
    "    for item in datos:\n",
    "        producto = item[\"producto\"]\n",
    "        precio = item[\"precio\"]\n",
    "        cantidad = item[\"cantidad\"]\n",
    "        resumen[producto][\"total\"] += precio * cantidad\n",
    "        resumen[producto][\"cantidad\"] += cantidad\n",
    "        resumen[producto][\"importe\"] += precio * cantidad\n",
    "    \n",
    "    for producto, info in resumen.items():\n",
    "        info[\"promedio\"] = info[\"total\"] / info[\"cantidad\"]\n",
    "    \n",
    "    return dict(resumen)\n",
    "\n",
    "def informe_ventas(resumen):\n",
    "    for producto in sorted(resumen.keys()):\n",
    "        datos = resumen[producto]\n",
    "        print(f\"{producto}:\")\n",
    "        print(f\"  Precio promedio: ${datos['promedio']:.2f}\")\n",
    "        print(f\"  Unidades vendidas: {datos['cantidad']}\")\n",
    "        print(f\"  Importe total: ${datos['importe']:.2f}\")\n",
    "        print()\n",
    "\n",
    "\n",
    "resumen = resumen_ventas(datos)\n",
    "informe_ventas(resumen)\n"
   ]
  }
 ],
 "metadata": {
  "kernelspec": {
   "display_name": "Python 3",
   "language": "python",
   "name": "python3"
  },
  "language_info": {
   "codemirror_mode": {
    "name": "ipython",
    "version": 3
   },
   "file_extension": ".py",
   "mimetype": "text/x-python",
   "name": "python",
   "nbconvert_exporter": "python",
   "pygments_lexer": "ipython3",
   "version": "3.12.5"
  }
 },
 "nbformat": 4,
 "nbformat_minor": 2
}
