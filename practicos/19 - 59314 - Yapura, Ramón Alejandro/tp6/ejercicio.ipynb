{
 "cells": [
  {
   "cell_type": "markdown",
   "metadata": {},
   "source": [
    "# TP6\n",
    "\n",
    "### `Resolver usando Pandas`\n",
    "\n",
    "Resolver los ejercicios del TP3 utilizando la librería Pandas."
   ]
  },
  {
   "cell_type": "markdown",
   "metadata": {},
   "source": [
    "### Ejercicio 1: Cargar Datos de ventas.\n",
    "\n",
    "El archivo datos.dat contiene el registro de las ventas realizadas.\n",
    "\n",
    "Tiene un formato de ancho fijo:\n",
    "- `fecha`:    10 lugares\n",
    "- `producto`: 30 lugares\n",
    "- `precio`:   10 lugares\n",
    "- `cantidad`:  5 lugares\n",
    "\n",
    "Hacer una funcion que cargue los datos en un DataFrame de Pandas."
   ]
  },
  {
   "cell_type": "code",
   "execution_count": 1,
   "metadata": {},
   "outputs": [
    {
     "name": "stdout",
     "output_type": "stream",
     "text": [
      "        fecha    producto  precio  cantidad\n",
      "0  2024-08-27     Mirinda  1510.0        14\n",
      "1  2024-08-27     Mirinda  1560.0        12\n",
      "2  2024-08-28     Torasso   940.0         8\n",
      "3  2024-08-29  Pepsi Cola  1210.0        10\n",
      "4  2024-08-30     Mirinda  1520.0         1\n",
      "5  2024-09-01     Mirinda  1550.0        15\n",
      "6  2024-09-01      Sprite   810.0         4\n",
      "7  2024-09-02   Coca Cola  1100.0         4\n",
      "8  2024-09-02  Pepsi Cola  1220.0        13\n",
      "9  2024-09-02     Torasso   910.0         5\n",
      "10 2024-09-02     Torasso   920.0         3\n",
      "11 2024-09-03   Coca Cola  1020.0         8\n",
      "12 2024-09-03     Mirinda  1570.0         7\n",
      "13 2024-09-03     Mirinda  1590.0         2\n",
      "14 2024-09-04  Pepsi Cola  1220.0        13\n",
      "15 2024-09-05     Mirinda  1500.0         3\n",
      "16 2024-09-05  Pepsi Cola  1300.0         5\n",
      "17 2024-09-06   Coca Cola  1080.0         1\n",
      "18 2024-09-06      Sprite   860.0        12\n",
      "19 2024-09-06     Torasso   930.0         3\n",
      "20 2024-09-07   Coca Cola  1080.0        14\n",
      "21 2024-09-07      Sprite   870.0        13\n",
      "22 2024-09-08   Coca Cola  1040.0        10\n",
      "23 2024-09-08     Mirinda  1580.0         2\n",
      "24 2024-09-08  Pepsi Cola  1240.0         9\n",
      "25 2024-09-09     Mirinda  1500.0         3\n",
      "26 2024-09-09      Sprite   850.0         9\n",
      "27 2024-09-10     Mirinda  1590.0         8\n",
      "28 2024-09-10  Pepsi Cola  1250.0        12\n",
      "29 2024-09-11      Sprite   810.0         6\n",
      "30 2024-09-11      Sprite   820.0        14\n",
      "31 2024-09-12   Coca Cola  1080.0         4\n",
      "32 2024-09-13     Mirinda  1580.0         5\n",
      "33 2024-09-13  Pepsi Cola  1250.0        13\n",
      "34 2024-09-14   Coca Cola  1080.0        15\n",
      "35 2024-09-14  Pepsi Cola  1270.0        14\n",
      "36 2024-09-15   Coca Cola  1100.0         1\n",
      "37 2024-09-15     Mirinda  1500.0        13\n",
      "38 2024-09-15      Sprite   870.0        14\n",
      "39 2024-09-15     Torasso   900.0        13\n"
     ]
    }
   ],
   "source": [
    "import pandas as pd\n",
    "\n",
    "def cargar_datos():\n",
    "    anchos = [10, 30, 10, 5]\n",
    "\n",
    "    nombres = ['fecha', 'producto', 'precio', 'cantidad']\n",
    "\n",
    "    df = pd.read_fwf('datos.dat', widths=anchos, names=nombres)\n",
    "\n",
    "    df['fecha'] = pd.to_datetime(df['fecha'])\n",
    "\n",
    "    df['precio'] = df['precio'].astype(float)\n",
    "    df['cantidad'] = df['cantidad'].astype(int)\n",
    "\n",
    "    return df\n",
    "\n",
    "datos = cargar_datos()\n",
    "\n",
    "print(datos)"
   ]
  },
  {
   "cell_type": "markdown",
   "metadata": {},
   "source": [
    "### Ejercicio 2: Calcular el total de ventas.\n",
    "Hacer una función que sume los importes vendidos (precio * cantidad) y las cantidades.\n"
   ]
  },
  {
   "cell_type": "code",
   "execution_count": 2,
   "metadata": {},
   "outputs": [
    {
     "name": "stdout",
     "output_type": "stream",
     "text": [
      "Las ventas fueron de $392730.00 en 335 unidades\n"
     ]
    }
   ],
   "source": [
    "def calcular_totales(datos):\n",
    "    datos['importe'] = datos['precio'] * datos['cantidad']\n",
    "    \n",
    "    importe_total = datos['importe'].sum()\n",
    "    \n",
    "    cantidad_total = datos['cantidad'].sum()\n",
    "    \n",
    "    return importe_total, cantidad_total\n",
    "\n",
    "importe, cantidad = calcular_totales(datos)\n",
    "\n",
    "print(f\"Las ventas fueron de ${importe:.2f} en {cantidad} unidades\")"
   ]
  },
  {
   "cell_type": "markdown",
   "metadata": {},
   "source": [
    "### Ejercicio 3: Listar las unidades vendidas.\n",
    "Listar cuántas unidades se vendieron en total para cada producto\n"
   ]
  },
  {
   "cell_type": "code",
   "execution_count": 3,
   "metadata": {},
   "outputs": [
    {
     "name": "stdout",
     "output_type": "stream",
     "text": [
      "Unidades vendidas por producto:\n",
      "Pepsi Cola: 89 unidades\n",
      "Mirinda: 85 unidades\n",
      "Sprite: 72 unidades\n",
      "Coca Cola: 57 unidades\n",
      "Torasso: 32 unidades\n"
     ]
    }
   ],
   "source": [
    "def unidades_vendidas(datos):\n",
    "    ventas_por_producto = datos.groupby('producto') ['cantidad'].sum()\n",
    "\n",
    "    ventas_ordenadas = ventas_por_producto.sort_values (ascending = False)\n",
    "\n",
    "    print(\"Unidades vendidas por producto:\")\n",
    "    for producto, cantidad in ventas_ordenadas.items():\n",
    "        print(f\"{producto}: {cantidad} unidades\")\n",
    "\n",
    "unidades_vendidas(datos)"
   ]
  },
  {
   "cell_type": "markdown",
   "metadata": {},
   "source": [
    "###  Ejercicio 4: Listar el precio promedio por producto.\n",
    "Hacer un listado del precio promedio por producto.\n"
   ]
  },
  {
   "cell_type": "code",
   "execution_count": 4,
   "metadata": {},
   "outputs": [
    {
     "name": "stdout",
     "output_type": "stream",
     "text": [
      "Precio promedio por producto:\n",
      "Mirinda: $1545.83\n",
      "Pepsi Cola: $1245.00\n",
      "Coca Cola: $1072.50\n",
      "Torasso: $920.00\n",
      "Sprite: $841.43\n"
     ]
    }
   ],
   "source": [
    "def precio_promedio(datos):\n",
    "    promedio_por_producto = datos.groupby('producto')['precio'].mean()\n",
    "    \n",
    "    promedio_ordenado = promedio_por_producto.sort_values(ascending=False)\n",
    "    \n",
    "    print(\"Precio promedio por producto:\")\n",
    "    for producto, precio in promedio_ordenado.items():\n",
    "        print(f\"{producto}: ${precio:.2f}\")\n",
    "    \n",
    "precio_promedio(datos)"
   ]
  },
  {
   "cell_type": "markdown",
   "metadata": {},
   "source": [
    "### Ejercicio 5: Ranking de productos\n",
    "Realizar un listado de los 3 productos más vendidos ordenados por la cantidad de unidades vendidas (ordenadas de mayor a menor)\n"
   ]
  },
  {
   "cell_type": "code",
   "execution_count": 5,
   "metadata": {},
   "outputs": [
    {
     "name": "stdout",
     "output_type": "stream",
     "text": [
      "Los 3 productos más vendidos son:\n",
      "1. Pepsi Cola: 89 unidades\n",
      "2. Mirinda: 85 unidades\n",
      "3. Sprite: 72 unidades\n"
     ]
    }
   ],
   "source": [
    "def ranking_productos(datos, top=3):\n",
    "    ventas_por_producto = datos.groupby('producto')['cantidad'].sum()\n",
    "    \n",
    "    top_productos = ventas_por_producto.sort_values(ascending=False).head(top)\n",
    "    \n",
    "    print(f\"Los {top} productos más vendidos son:\")\n",
    "    for i, (producto, cantidad) in enumerate(top_productos.items(), 1):\n",
    "        print(f\"{i}. {producto}: {cantidad} unidades\")\n",
    "    \n",
    "\n",
    "ranking_productos(datos)"
   ]
  },
  {
   "cell_type": "markdown",
   "metadata": {},
   "source": [
    "### Ejercicio 6: Listar las ventas por mes\n",
    "Realizar un listado del total de unidades vendidas por producto separado por mes.\n"
   ]
  },
  {
   "cell_type": "code",
   "execution_count": 6,
   "metadata": {},
   "outputs": [
    {
     "name": "stdout",
     "output_type": "stream",
     "text": [
      "\n",
      "Ventas en 2024-08:\n",
      " Mirinda: 27 unidades\n",
      " Pepsi Cola: 10 unidades\n",
      " Torasso: 8 unidades\n",
      "\n",
      "Ventas en 2024-09:\n",
      " Coca Cola: 57 unidades\n",
      " Mirinda: 58 unidades\n",
      " Pepsi Cola: 79 unidades\n",
      " Sprite: 72 unidades\n",
      " Torasso: 24 unidades\n"
     ]
    }
   ],
   "source": [
    "def ventas_por_mes(datos):\n",
    "    datos['fecha'] = pd.to_datetime(datos['fecha'])\n",
    "\n",
    "    datos['año'] = datos['fecha'].dt.year\n",
    "    datos['mes'] = datos['fecha'].dt.month\n",
    "\n",
    "    ventas_agrupadas = datos.groupby(['año', 'mes', 'producto'])['cantidad'].sum().unstack(fill_value=0)\n",
    "\n",
    "    ventas_agrupadas = ventas_agrupadas.sort_index()\n",
    "\n",
    "    for (año, mes), fila in ventas_agrupadas.groupby(level=[0,1]):\n",
    "        print(f\"\\nVentas en {año}-{mes:02d}:\")\n",
    "        for producto in fila.columns:\n",
    "            cantidad = fila[producto].values[0]\n",
    "            if cantidad > 0:\n",
    "                print(f\" {producto}: {cantidad} unidades\")\n",
    "\n",
    "ventas_por_mes(datos)"
   ]
  },
  {
   "cell_type": "markdown",
   "metadata": {},
   "source": [
    "### Ejercicio 7: Informe general\n",
    "\n",
    "Mostrar un listado de productos ordenados alfabeticamente que contengan el precio promedio, la cantidad de unidades vendidas y el importe total vendido para cada producto"
   ]
  },
  {
   "cell_type": "code",
   "execution_count": 7,
   "metadata": {},
   "outputs": [
    {
     "name": "stdout",
     "output_type": "stream",
     "text": [
      "Resumen de ventas por producto:\n",
      "\n",
      "Coca Cola:\n",
      "  Precio Promedio: $1072.50\n",
      "  Unidades Vendidas: 57.0\n",
      "  Importe Total: $60780.00\n",
      "\n",
      "Mirinda:\n",
      "  Precio Promedio: $1545.83\n",
      "  Unidades Vendidas: 85.0\n",
      "  Importe Total: $131080.00\n",
      "\n",
      "Pepsi Cola:\n",
      "  Precio Promedio: $1245.00\n",
      "  Unidades Vendidas: 89.0\n",
      "  Importe Total: $110510.00\n",
      "\n",
      "Sprite:\n",
      "  Precio Promedio: $841.43\n",
      "  Unidades Vendidas: 72.0\n",
      "  Importe Total: $61040.00\n",
      "\n",
      "Torasso:\n",
      "  Precio Promedio: $920.00\n",
      "  Unidades Vendidas: 32.0\n",
      "  Importe Total: $29320.00\n"
     ]
    }
   ],
   "source": [
    "def resumen_ventas(datos):\n",
    "    datos['importe_total'] = datos['precio'] * datos['cantidad']\n",
    "    \n",
    "    resumen = datos.groupby('producto').agg({\n",
    "        'precio': 'mean',\n",
    "        'cantidad': 'sum',\n",
    "        'importe_total': 'sum'\n",
    "    })\n",
    "    \n",
    "    resumen.columns = ['Precio Promedio', 'Unidades Vendidas', 'Importe Total']\n",
    "    \n",
    "    resumen = resumen.sort_index()\n",
    "    \n",
    "    print(\"Resumen de ventas por producto:\")\n",
    "    for producto, fila in resumen.iterrows():\n",
    "        print(f\"\\n{producto}:\")\n",
    "        print(f\"  Precio Promedio: ${fila['Precio Promedio']:.2f}\")\n",
    "        print(f\"  Unidades Vendidas: {fila['Unidades Vendidas']}\")\n",
    "        print(f\"  Importe Total: ${fila['Importe Total']:.2f}\")\n",
    "\n",
    "resumen_ventas(datos)"
   ]
  },
  {
   "cell_type": "markdown",
   "metadata": {},
   "source": [
    "## `Resolver usando NumPy`\n",
    "## Resolver el ejercicio 2 del tp1 usando NumPy"
   ]
  },
  {
   "cell_type": "markdown",
   "metadata": {},
   "source": [
    "### Ejercicio 8\n",
    "\n",
    "Escribe una función en Python que encuentre los valores de `a`, `b`, y `c` para que la función cuadrática `f(x) = a x^2 + b x + c` pase exactamente por los siguientes puntos:\n",
    "\n",
    "| x  | y  |\n",
    "|---:|---:|\n",
    "|  0 |  0 |\n",
    "|  1 |  8 |\n",
    "|  2 | 12 |\n",
    "|  3 | 12 |\n",
    "|  5 |  0 |\n",
    "\n",
    "### Requisitos:\n",
    "- La función debe explorar posibles valores de `a`, `b`, y `c` utilizando un método de prueba y error.\n",
    "- Debe devolver los valores que hagan que la diferencia entre la función `f(x)` y los valores medidos `y` sea exactamente cero para cada punto.\n",
    "\n",
    "> **Pista**: Los valores de `a`, `b`, y `c` son números pequeños.\n",
    "\n",
    "La idea es implementar el mismo algoritmo que se uso en el TP1 pero usando NumPy en lugar de Python puro."
   ]
  },
  {
   "cell_type": "code",
   "execution_count": 8,
   "metadata": {},
   "outputs": [
    {
     "name": "stdout",
     "output_type": "stream",
     "text": [
      "Coeficientes encontrados: a = -2.00, b = 10.00, c = -0.00\n",
      "\n",
      "Verificación:\n",
      "x = 0, y real = 0, y predicho = -0.00\n",
      "x = 1, y real = 8, y predicho = 8.00\n",
      "x = 2, y real = 12, y predicho = 12.00\n",
      "x = 3, y real = 12, y predicho = 12.00\n",
      "x = 5, y real = 0, y predicho = 0.00\n",
      "\n",
      "Error total: 0.000000\n"
     ]
    }
   ],
   "source": [
    "import numpy as np\n",
    "\n",
    "def f(x, coeficientes):\n",
    "    a, b, c = coeficientes\n",
    "    return a*x**2 + b*x + c\n",
    "\n",
    "def error(y, y_pred):\n",
    "    return np.sum(np.abs(y - y_pred))\n",
    "\n",
    "X = np.array([0, 1, 2, 3, 5])\n",
    "Y = np.array([0, 8, 12, 12, 0])\n",
    "\n",
    "def buscar_coeficientes():\n",
    "    mejor_error = float('inf')\n",
    "    mejores_coeficientes = None\n",
    "    \n",
    "    for a in np.arange(-5, 5, 0.1):\n",
    "        for b in np.arange(-20, 20, 0.1):\n",
    "            for c in np.arange(-10, 10, 0.1):\n",
    "                coeficientes = (a, b, c)\n",
    "                y_pred = f(X, coeficientes)\n",
    "                error_actual = error(Y, y_pred)\n",
    "                \n",
    "                if error_actual < mejor_error:\n",
    "                    mejor_error = error_actual\n",
    "                    mejores_coeficientes = coeficientes\n",
    "                \n",
    "                if np.isclose(error_actual, 0, atol=1e-6):\n",
    "                    return coeficientes\n",
    "    \n",
    "    return mejores_coeficientes\n",
    "\n",
    "coeficientes = buscar_coeficientes()\n",
    "print(f\"Coeficientes encontrados: a = {coeficientes[0]:.2f}, b = {coeficientes[1]:.2f}, c = {coeficientes[2]:.2f}\")\n",
    "\n",
    "y_pred = f(X, coeficientes)\n",
    "print(\"\\nVerificación:\")\n",
    "for x, y, y_p in zip(X, Y, y_pred):\n",
    "    print(f\"x = {x}, y real = {y}, y predicho = {y_p:.2f}\")\n",
    "\n",
    "print(f\"\\nError total: {error(Y, y_pred):.6f}\")"
   ]
  },
  {
   "cell_type": "markdown",
   "metadata": {},
   "source": [
    "### Ejercicio 9: Resolver el ejercicio 3 del TP1 usando NumPy\n",
    "Buscar los coeficientes de la función que minimice la suma de los cuadrados de las diferencias entre los valores medidos y los valores de la función.\n",
    "\n",
    "1. Crear un array con los coeficientes elegidos al azar (usar `randint(-10,10,3)`).\n",
    "2. Calcular el valor de la función y el error correspondiente.\n",
    "3. Mientras que el error sea mayor a 1:\n",
    "    1. Definir nuevos coeficientes agregándoles un pequeño valor al azar a los coeficientes actuales (aprendizaje = 0.001).\n",
    "    2. Si el error para los nuevos coeficientes es menor que el anterior, reemplazar los coeficientes actuales por los nuevos.\n"
   ]
  },
  {
   "cell_type": "code",
   "execution_count": 9,
   "metadata": {},
   "outputs": [
    {
     "name": "stdout",
     "output_type": "stream",
     "text": [
      "Coeficientes encontrados:\n",
      "a = -1.7820\n",
      "b = 8.9610\n",
      "c = 0.6140\n",
      "\n",
      "Error final: 0.9982\n",
      "\n",
      "Comparación de valores:\n",
      "x  |  y real   |  y predicho\n",
      "0  |     0.00  |        0.61\n",
      "1  |     8.00  |        7.79\n",
      "2  |    12.00  |       11.41\n",
      "3  |    11.00  |       11.46\n",
      "5  |     1.00  |        0.87\n"
     ]
    }
   ],
   "source": [
    "import numpy as np\n",
    "from numpy.random import randint\n",
    "\n",
    "def f(x, coeficientes):\n",
    "    a, b, c = coeficientes\n",
    "    return a*x**2 + b*x + c\n",
    "\n",
    "def error(y, y_pred):\n",
    "    return np.sum((y - y_pred)**2)\n",
    "\n",
    "X = np.array([0, 1, 2, 3, 5])\n",
    "Y = np.array([0, 8, 12, 11, 1])\n",
    "\n",
    "def buscar_coeficientes():\n",
    "    coeficientes = randint(-10, 10, 3)\n",
    "    \n",
    "    y_pred = f(X, coeficientes)\n",
    "    error_actual = error(Y, y_pred)\n",
    "    \n",
    "    while error_actual > 1:\n",
    "        aprendizaje = 0.001\n",
    "        nuevos_coeficientes = coeficientes + randint(-10, 10, 3) * aprendizaje\n",
    "        \n",
    "        nuevos_y_pred = f(X, nuevos_coeficientes)\n",
    "        nuevo_error = error(Y, nuevos_y_pred)\n",
    "        \n",
    "        if nuevo_error < error_actual:\n",
    "            coeficientes = nuevos_coeficientes\n",
    "            error_actual = nuevo_error\n",
    "    \n",
    "    return coeficientes\n",
    "\n",
    "coeficientes = buscar_coeficientes()\n",
    "\n",
    "print(\"Coeficientes encontrados:\")\n",
    "print(f\"a = {coeficientes[0]:.4f}\")\n",
    "print(f\"b = {coeficientes[1]:.4f}\")\n",
    "print(f\"c = {coeficientes[2]:.4f}\")\n",
    "\n",
    "y_pred = f(X, coeficientes)\n",
    "error_final = error(Y, y_pred)\n",
    "print(f\"\\nError final: {error_final:.4f}\")\n",
    "\n",
    "print(\"\\nComparación de valores:\")\n",
    "print(\"x  |  y real   |  y predicho\")\n",
    "for x, y_real, y_p in zip(X, Y, y_pred):\n",
    "    print(f\"{x}  |  {y_real:7.2f}  |  {y_p:10.2f}\")"
   ]
  }
 ],
 "metadata": {
  "kernelspec": {
   "display_name": "Python 3",
   "language": "python",
   "name": "python3"
  },
  "language_info": {
   "codemirror_mode": {
    "name": "ipython",
    "version": 3
   },
   "file_extension": ".py",
   "mimetype": "text/x-python",
   "name": "python",
   "nbconvert_exporter": "python",
   "pygments_lexer": "ipython3",
   "version": "3.11.9"
  }
 },
 "nbformat": 4,
 "nbformat_minor": 2
}
