{
 "cells": [
  {
   "cell_type": "markdown",
   "metadata": {},
   "source": [
    "# Trabajo práctico 1\n",
    "\n"
   ]
  },
  {
   "cell_type": "markdown",
   "metadata": {},
   "source": [
    "## Ejercicio 1 \n",
    "\n",
    "Escribe una función en Python que procese una lista de cadenas de texto y realice las siguientes acciones:\n",
    "\n",
    "1. Tomar una lista de frases y convertir cada frase en una lista de palabras.\n",
    "1. Luego, debe crear una nueva lista que contenga la cantidad de palabras en cada frase.\n",
    "1. Tambien debe crear un lista que contenga la cantidad de caracteres en cada frase.\n",
    "1. Finalmente, debe imprimir cada frase original junto con la cantidad de palabras que contiene.\n",
    "Ejemplo de uso:\n",
    "```python\n",
    "    frases = [\n",
    "        \"Python es un lenguaje de programación\",\n",
    "        \"Me gusta resolver problemas con código\",\n",
    "        \"Las listas y los bucles son muy útiles\"\n",
    "    ]\n",
    "\n",
    "    procesar_frases(frases)\n",
    "```\n",
    "\n",
    "ejemplo de salida:\n",
    "```bash\n",
    "    La frase: \"Python es un...\"\n",
    "    tiene 6 palabras y 38 caracteres\n",
    "```\n"
   ]
  },
  {
   "cell_type": "code",
   "execution_count": 1,
   "metadata": {},
   "outputs": [
    {
     "name": "stdout",
     "output_type": "stream",
     "text": [
      "La frase: \"Python es un lenguaje de programación\"\n",
      "tiene 6 palabras y 37 carácteres\n",
      "La frase: \"Me gusta resolver problemas con código\"\n",
      "tiene 6 palabras y 38 carácteres\n",
      "La frase: \"Las listas y los bucles son muy útiles\"\n",
      "tiene 8 palabras y 38 carácteres\n"
     ]
    },
    {
     "data": {
      "text/plain": [
       "([6, 6, 8], [37, 38, 38])"
      ]
     },
     "execution_count": 1,
     "metadata": {},
     "output_type": "execute_result"
    }
   ],
   "source": [
    "def procesar_frases(frases):\n",
    "    palabras_numero = []\n",
    "    caracteres_numero = []\n",
    "    for frase in frases:\n",
    "        palabras = frase.split()\n",
    "        contador_palabra = len(palabras)\n",
    "        contador_caracteres = len(frase)\n",
    "        palabras_numero.append(contador_palabra)\n",
    "        caracteres_numero.append(contador_caracteres)\n",
    "        print(f'La frase: \"{frase}\"')\n",
    "        print(f'tiene {contador_palabra} palabras y {contador_caracteres} carácteres')\n",
    "    return palabras_numero, caracteres_numero\n",
    "\n",
    "frases = [\n",
    "        \"Python es un lenguaje de programación\",\n",
    "        \"Me gusta resolver problemas con código\",\n",
    "        \"Las listas y los bucles son muy útiles\"\n",
    "    ]\n",
    "\n",
    "procesar_frases(frases)"
   ]
  },
  {
   "cell_type": "markdown",
   "metadata": {},
   "source": [
    "## Ejercicio 2\n",
    "\n",
    "Escribe una función en Python que encuentre los valores de `a`, `b`, y `c` para que la función cuadrática `f(x) = aX^2 + bX + c` pase exactamente por los siguientes puntos:\n",
    "\n",
    "| x  | y  |\n",
    "|---:|---:|\n",
    "|  0 |  0 |\n",
    "|  1 |  8 |\n",
    "|  2 | 12 |\n",
    "|  3 | 12 |\n",
    "|  5 |  0 |\n",
    "\n",
    "### Requisitos:\n",
    "- La función debe explorar posibles valores de `a`, `b`, y `c` utilizando un método de prueba y error.\n",
    "- Debe devolver los valores que hagan que la diferencia entre la función `f(x)` y los valores medidos `y` sea exactamente cero para cada punto.\n",
    "\n",
    "> **Pista**: Los valores de `a`, `b`, y `c` son números pequeños."
   ]
  },
  {
   "cell_type": "code",
   "execution_count": 2,
   "metadata": {},
   "outputs": [
    {
     "name": "stdout",
     "output_type": "stream",
     "text": [
      "-2 10 0\n"
     ]
    }
   ],
   "source": [
    "puntos = [(0,0), (1,8), (2,12), (3,12), (5,0)]\n",
    "\n",
    "def descubrir_coeficiente(puntos):\n",
    "    funcion = lambda x, a, b, c : a * x ** 2 + b * x + c\n",
    "    for a in range(-20, 21):\n",
    "        for b in range(-20, 21):\n",
    "            for c in range(-20, 21):\n",
    "                if all(funcion(x, a, b, c) == y for x, y in puntos):\n",
    "                    return a, b, c\n",
    "    return None\n",
    "solucion = descubrir_coeficiente(puntos)\n",
    "a, b, c = solucion\n",
    "print(a, b, c)"
   ]
  }
 ],
 "metadata": {
  "kernelspec": {
   "display_name": "Python 3",
   "language": "python",
   "name": "python3"
  },
  "language_info": {
   "codemirror_mode": {
    "name": "ipython",
    "version": 3
   },
   "file_extension": ".py",
   "mimetype": "text/x-python",
   "name": "python",
   "nbconvert_exporter": "python",
   "pygments_lexer": "ipython3",
   "version": "3.11.9"
  }
 },
 "nbformat": 4,
 "nbformat_minor": 2
}
