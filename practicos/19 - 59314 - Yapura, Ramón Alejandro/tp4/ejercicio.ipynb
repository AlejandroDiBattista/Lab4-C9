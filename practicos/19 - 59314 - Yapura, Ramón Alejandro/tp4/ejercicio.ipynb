{
 "cells": [
  {
   "cell_type": "markdown",
   "metadata": {},
   "source": [
    "# Simulación del Truco"
   ]
  },
  {
   "cell_type": "markdown",
   "metadata": {},
   "source": [
    "Las **cartas** deben registra el numero, palo y valor de la carta. \n",
    "El valor debe reflejar la jerarquía de las cartas en el juego del truco."
   ]
  },
  {
   "cell_type": "code",
   "execution_count": 75,
   "metadata": {},
   "outputs": [],
   "source": [
    "def calcular_valor(numero, palo):\n",
    "    valores = {\n",
    "        (1, \"espada\"): 14,\n",
    "        (1, \"basto\"): 13,\n",
    "        (7, \"espada\"): 12,\n",
    "        (7, \"oro\"): 11,\n",
    "        (3,): 10,\n",
    "        (2,): 9,\n",
    "        (1,): 8,\n",
    "        (12,): 7,\n",
    "        (11,): 6,\n",
    "        (10,): 5,\n",
    "        (7,): 4,\n",
    "        (6,): 3,\n",
    "        (5,): 2,\n",
    "        (4,): 1\n",
    "    }\n",
    "    \n",
    "    if (numero, palo) in valores:\n",
    "        return valores[(numero, palo)]\n",
    "    elif (numero,) in valores:\n",
    "        return valores[(numero,)]\n",
    "    return numero\n",
    "\n",
    "class Carta:\n",
    "    def __init__(self, numero, palo):\n",
    "        self.numero = numero\n",
    "        self.palo = palo\n",
    "        self.valor = calcular_valor(numero, palo)\n",
    "    \n",
    "    def __str__(self):\n",
    "        return f\"{self.numero} de {self.palo}\"\n",
    "\n",
    "c = Carta(1, \"oro\")"
   ]
  },
  {
   "cell_type": "markdown",
   "metadata": {},
   "source": [
    "**Mazo**: Representan las cartas españolas de 1 al 12, en los palos de oro, copa, espada y basto.\n",
    "\n",
    "Debe existir una función que permita barajar las cartas.\n",
    "y otra función que permita repartir las cartas a los jugadores."
   ]
  },
  {
   "cell_type": "code",
   "execution_count": 76,
   "metadata": {},
   "outputs": [
    {
     "name": "stdout",
     "output_type": "stream",
     "text": [
      "['11 de copa', '10 de espada', '5 de espada']\n"
     ]
    }
   ],
   "source": [
    "import random\n",
    "\n",
    "class Mazo:\n",
    "    def __init__(self):\n",
    "        numeros = [1, 2, 3, 4, 5, 6, 7, 10, 11, 12]\n",
    "        palos = [\"oro\", \"copa\", \"espada\", \"basto\"]\n",
    "        self.cartas = [Carta(numero, palo) for numero in numeros for palo in palos]\n",
    "    \n",
    "    def mezclar(self):\n",
    "        random.shuffle(self.cartas)\n",
    "    \n",
    "    def repartir(self):\n",
    "        if len(self.cartas) < 3:\n",
    "            print(\"No hay suficientes cartas en el mazo\")\n",
    "            return []\n",
    "        \n",
    "        cartas_repartidas = []\n",
    "        for _ in range(3):\n",
    "            carta = self.cartas.pop(0)\n",
    "            cartas_repartidas.append(carta)\n",
    "        \n",
    "        return cartas_repartidas\n",
    "\n",
    "m = Mazo()\n",
    "m.mezclar()\n",
    "print([str(carta) for carta in m.repartir()])"
   ]
  },
  {
   "cell_type": "markdown",
   "metadata": {},
   "source": [
    "**Jugador**: Deben tener un nombre y las cartas que tiene en la mano. Debe acumular los puntos ganados.\n",
    "\n",
    "Nota: Para simplificar el problema, el jugador elige la carta a jugar de forma aleatoria."
   ]
  },
  {
   "cell_type": "code",
   "execution_count": 77,
   "metadata": {},
   "outputs": [
    {
     "name": "stdout",
     "output_type": "stream",
     "text": [
      "Juan jugó: 3 de oro\n"
     ]
    }
   ],
   "source": [
    "class Jugador:\n",
    "    def __init__(self, nombre):\n",
    "        self.nombre = nombre\n",
    "        self.cartas = []\n",
    "        self.puntos = 0\n",
    "    \n",
    "    def recibir_cartas(self, cartas):\n",
    "        self.cartas.extend(cartas)\n",
    "    \n",
    "    def jugar_carta(self):\n",
    "        if not self.cartas:\n",
    "            print(f\"{self.nombre} no tiene más cartas para jugar.\")\n",
    "            return None\n",
    "        carta_jugada = random.choice(self.cartas)\n",
    "        self.cartas.remove(carta_jugada)\n",
    "        return carta_jugada\n",
    "    \n",
    "    def sumar_puntos(self, puntos):\n",
    "        self.puntos += puntos\n",
    "\n",
    "j = Jugador(\"Juan\")\n",
    "j.recibir_cartas(m.repartir())\n",
    "carta_jugada = j.jugar_carta()\n",
    "print(f\"{j.nombre} jugó: {carta_jugada}\")"
   ]
  },
  {
   "cell_type": "markdown",
   "metadata": {},
   "source": [
    "**Partida**: Debe tener dos jugadores, un mazo de cartas y un puntaje. Debe permitir jugar una carta por ronda y definir el ganador de la ronda. Debe permitir jugar hasta que se terminen las cartas del mazo."
   ]
  },
  {
   "cell_type": "code",
   "execution_count": 78,
   "metadata": {},
   "outputs": [
    {
     "name": "stdout",
     "output_type": "stream",
     "text": [
      "Juan jugó: 1 de oro - Pedro jugó: 10 de espada\n",
      "Juan jugó: 5 de espada - Pedro jugó: 11 de espada\n",
      "Juan jugó: 6 de oro - Pedro jugó: 5 de oro\n",
      "Juan jugó: 3 de basto - Pedro jugó: 10 de basto\n",
      "Juan jugó: 12 de basto - Pedro jugó: 12 de oro\n",
      "Empate en la ronda.\n",
      "Juan jugó: 4 de espada - Pedro jugó: 10 de oro\n",
      "Juan jugó: 5 de copa - Pedro jugó: 4 de oro\n",
      "Juan jugó: 1 de basto - Pedro jugó: 1 de espada\n",
      "Juan jugó: 7 de oro - Pedro jugó: 4 de basto\n",
      "Juan jugó: 5 de basto - Pedro jugó: 3 de espada\n",
      "Juan jugó: 2 de copa - Pedro jugó: 7 de basto\n",
      "Juan jugó: 3 de oro - Pedro jugó: 3 de copa\n",
      "Empate en la ronda.\n",
      "Juan jugó: 1 de copa - Pedro jugó: 2 de basto\n",
      "Juan jugó: 6 de copa - Pedro jugó: 11 de basto\n",
      "Juan jugó: 6 de basto - Pedro jugó: 11 de copa\n",
      "Juan jugó: 12 de espada - Pedro jugó: 7 de espada\n",
      "Juan jugó: 4 de copa - Pedro jugó: 2 de oro\n",
      "Juan jugó: 7 de copa - Pedro jugó: 6 de espada\n",
      "El ganador es Pedro con 9 puntos\n"
     ]
    }
   ],
   "source": [
    "class Partida:\n",
    "    def __init__(self, jugador1, jugador2):\n",
    "        self.jugadores = [jugador1, jugador2]\n",
    "        self.mazo = Mazo()\n",
    "        self.mazo.mezclar()\n",
    "\n",
    "    def jugar_ronda(self):\n",
    "        jugada_j1 = self.jugadores[0].jugar_carta()\n",
    "        jugada_j2 = self.jugadores[1].jugar_carta()\n",
    "        \n",
    "        if jugada_j1 and jugada_j2:\n",
    "            print(f\"{self.jugadores[0].nombre} jugó: {jugada_j1} - {self.jugadores[1].nombre} jugó: {jugada_j2}\")\n",
    "            if jugada_j1.valor > jugada_j2.valor:\n",
    "                self.jugadores[0].sumar_puntos(1)\n",
    "            elif jugada_j1.valor < jugada_j2.valor:\n",
    "                self.jugadores[1].sumar_puntos(1)\n",
    "            else:\n",
    "                print(\"Empate en la ronda.\")\n",
    "        else:\n",
    "            print(f\"{self.jugadores[0].nombre} o {self.jugadores[1].nombre} no tienen cartas suficientes para jugar.\")\n",
    "\n",
    "    def jugar(self):\n",
    "        while len(self.mazo.cartas) >= 6 or any(jugador.cartas for jugador in self.jugadores):\n",
    "            if len(self.mazo.cartas) >= 6:\n",
    "\n",
    "                for jugador in self.jugadores:\n",
    "                    jugador.recibir_cartas(self.mazo.repartir())\n",
    "\n",
    "            for _ in range(3):\n",
    "                self.jugar_ronda()\n",
    "                if not any(jugador.cartas for jugador in self.jugadores):\n",
    "                    break\n",
    "\n",
    "        if self.jugadores[0].puntos > self.jugadores[1].puntos:\n",
    "            print(f\"El ganador es {self.jugadores[0].nombre} con {self.jugadores[0].puntos} puntos\")\n",
    "        elif self.jugadores[1].puntos > self.jugadores[0].puntos:\n",
    "            print(f\"El ganador es {self.jugadores[1].nombre} con {self.jugadores[1].puntos} puntos\")\n",
    "        else:\n",
    "            print(\"Empate entre ambos jugadores.\")\n",
    "\n",
    "p = Partida(Jugador(\"Juan\"), Jugador(\"Pedro\"))\n",
    "\n",
    "p.jugar()"
   ]
  }
 ],
 "metadata": {
  "kernelspec": {
   "display_name": "Python 3",
   "language": "python",
   "name": "python3"
  },
  "language_info": {
   "codemirror_mode": {
    "name": "ipython",
    "version": 3
   },
   "file_extension": ".py",
   "mimetype": "text/x-python",
   "name": "python",
   "nbconvert_exporter": "python",
   "pygments_lexer": "ipython3",
   "version": "3.11.9"
  }
 },
 "nbformat": 4,
 "nbformat_minor": 2
}
