{
 "cells": [
  {
   "cell_type": "markdown",
   "metadata": {},
   "source": [
    "# TP6\n",
    "\n",
    "### `Resolver usando Pandas`\n",
    "\n",
    "Resolver los ejercicios del TP3 utilizando la librería Pandas."
   ]
  },
  {
   "cell_type": "markdown",
   "metadata": {},
   "source": [
    "### Ejercicio 1: Cargar Datos de ventas.\n",
    "\n",
    "El archivo datos.dat contiene el registro de las ventas realizadas.\n",
    "\n",
    "Tiene un formato de ancho fijo:\n",
    "- `fecha`:    10 lugares\n",
    "- `producto`: 30 lugares\n",
    "- `precio`:   10 lugares\n",
    "- `cantidad`:  5 lugares\n",
    "\n",
    "Hacer una funcion que cargue los datos en un DataFrame de Pandas."
   ]
  },
  {
   "cell_type": "code",
   "execution_count": null,
   "metadata": {},
   "outputs": [],
   "source": [
    "import pandas as pd\n",
    "\n",
    "def cargar_datos():\n",
    "    widths = [10, 30, 7, 5]\n",
    "    \n",
    "    names = ['fecha', 'producto', 'precio', 'cantidad']\n",
    "    \n",
    "    df = pd.read_fwf('datos.dat', widths=widths, names=names, encoding='utf-8')\n",
    "    \n",
    "    df['fecha'] = pd.to_datetime(df['fecha'])\n",
    "    \n",
    "    df['precio'] = pd.to_numeric(df['precio'])\n",
    "    df['cantidad'] = pd.to_numeric(df['cantidad'])\n",
    "    \n",
    "    df['producto'] = df['producto'].str.strip()\n",
    "    \n",
    "    return df\n",
    "\n",
    "datos = cargar_datos()\n",
    "\n",
    "print(datos.head())\n",
    "\n",
    "print(datos.info())\n",
    "\n",
    "print(datos.describe())\n",
    "\n",
    "print(datos.isnull().sum())\n",
    "\n"
   ]
  },
  {
   "cell_type": "markdown",
   "metadata": {},
   "source": [
    "### Ejercicio 2: Calcular el total de ventas.\n",
    "Hacer una función que sume los importes vendidos (precio * cantidad) y las cantidades.\n"
   ]
  },
  {
   "cell_type": "code",
   "execution_count": null,
   "metadata": {},
   "outputs": [],
   "source": [
    "import pandas as pd\n",
    "\n",
    "def cargar_datos():\n",
    "    widths = [10, 30, 7, 5]\n",
    "    names = ['fecha', 'producto', 'precio', 'cantidad']\n",
    "    df = pd.read_fwf('datos.dat', widths=widths, names=names, encoding='utf-8')\n",
    "    df['fecha'] = pd.to_datetime(df['fecha'])\n",
    "    df['precio'] = pd.to_numeric(df['precio'])\n",
    "    df['cantidad'] = pd.to_numeric(df['cantidad'])\n",
    "    df['producto'] = df['producto'].str.strip()\n",
    "    return df\n",
    "\n",
    "def calcular_totales(datos):\n",
    "    importe_total = (datos['precio'] * datos['cantidad']).sum()\n",
    "    \n",
    "    cantidad_total = datos['cantidad'].sum()\n",
    "    \n",
    "    return importe_total, cantidad_total\n",
    "\n",
    "datos = cargar_datos()\n",
    "\n",
    "importe, cantidad = calcular_totales(datos)\n",
    "\n",
    "print(f\"Las ventas fueron de ${importe:.2f} en {cantidad} unidades\")\n",
    "\n"
   ]
  },
  {
   "cell_type": "markdown",
   "metadata": {},
   "source": [
    "### Ejercicio 3: Listar las unidades vendidas.\n",
    "Listar cuántas unidades se vendieron en total para cada producto\n"
   ]
  },
  {
   "cell_type": "code",
   "execution_count": null,
   "metadata": {},
   "outputs": [],
   "source": [
    "import pandas as pd\n",
    "\n",
    "def cargar_datos():\n",
    "    widths = [10, 30, 7, 5]\n",
    "    names = ['fecha', 'producto', 'precio', 'cantidad']\n",
    "    df = pd.read_fwf('datos.dat', widths=widths, names=names, encoding='utf-8')\n",
    "    df['fecha'] = pd.to_datetime(df['fecha'])\n",
    "    df['precio'] = pd.to_numeric(df['precio'])\n",
    "    df['cantidad'] = pd.to_numeric(df['cantidad'])\n",
    "    df['producto'] = df['producto'].str.strip()\n",
    "    return df\n",
    "\n",
    "def unidades_vendidas(datos):\n",
    "    unidades_por_producto = datos.groupby('producto')['cantidad'].sum().sort_values(ascending=False)\n",
    "    \n",
    "    resultado = unidades_por_producto.reset_index()\n",
    "    resultado.columns = ['Producto', 'Unidades Vendidas']\n",
    "    \n",
    "    return resultado\n",
    "\n",
    "datos = cargar_datos()\n",
    "\n",
    "resultado = unidades_vendidas(datos)\n",
    "print(resultado.to_string(index=False))"
   ]
  },
  {
   "cell_type": "markdown",
   "metadata": {},
   "source": [
    "###  Ejercicio 4: Listar el precio promedio por producto.\n",
    "Hacer un listado del precio promedio por producto.\n"
   ]
  },
  {
   "cell_type": "code",
   "execution_count": null,
   "metadata": {},
   "outputs": [],
   "source": [
    "import pandas as pd\n",
    "\n",
    "def cargar_datos():\n",
    "    widths = [10, 30, 10, 5]\n",
    "    names = ['fecha', 'producto', 'precio', 'cantidad']\n",
    "    df = pd.read_fwf('datos.dat', widths=widths, names=names, encoding='utf-8')\n",
    "    df['fecha'] = pd.to_datetime(df['fecha'])\n",
    "    df['precio'] = pd.to_numeric(df['precio'])\n",
    "    df['cantidad'] = pd.to_numeric(df['cantidad'])\n",
    "    df['producto'] = df['producto'].str.strip()\n",
    "    return df\n",
    "\n",
    "def precio_promedio(datos):\n",
    "    precio_promedio_por_producto = datos.groupby('producto')['precio'].mean().sort_values(ascending=False)\n",
    "    \n",
    "    resultado = precio_promedio_por_producto.reset_index()\n",
    "    resultado.columns = ['Producto', 'Precio Promedio']\n",
    "    \n",
    "    resultado['Precio Promedio'] = resultado['Precio Promedio'].round(2)\n",
    "    \n",
    "    return resultado\n",
    "\n",
    "datos = cargar_datos()\n",
    "\n",
    "print(\"Primeras filas de los datos cargados:\")\n",
    "print(datos.head())\n",
    "print(\"\\nInformación del DataFrame:\")\n",
    "print(datos.info())\n",
    "\n",
    "resultado = precio_promedio(datos)\n",
    "print(\"\\nPrecio promedio por producto:\")\n",
    "print(resultado.to_string(index=False))"
   ]
  },
  {
   "cell_type": "markdown",
   "metadata": {},
   "source": [
    "### Ejercicio 5: Ranking de productos\n",
    "Realizar un listado de los 3 productos más vendidos ordenados por la cantidad de unidades vendidas (ordenadas de mayor a menor)\n"
   ]
  },
  {
   "cell_type": "code",
   "execution_count": null,
   "metadata": {},
   "outputs": [
    {
     "name": "stdout",
     "output_type": "stream",
     "text": [
      "           Producto  Unidades Vendidas\n",
      "Ranking                               \n",
      "1        Pepsi Cola                 89\n",
      "2           Mirinda                 85\n",
      "3            Sprite                 72\n"
     ]
    }
   ],
   "source": [
    "import pandas as pd\n",
    "\n",
    "def cargar_datos():\n",
    "    widths = [10, 30, 10, 5]\n",
    "    names = ['fecha', 'producto', 'precio', 'cantidad']\n",
    "    df = pd.read_fwf('datos.dat', widths=widths, names=names, encoding='utf-8')\n",
    "    df['fecha'] = pd.to_datetime(df['fecha'])\n",
    "    df['precio'] = pd.to_numeric(df['precio'])\n",
    "    df['cantidad'] = pd.to_numeric(df['cantidad'])\n",
    "    df['producto'] = df['producto'].str.strip()\n",
    "    return df\n",
    "\n",
    "def ranking_productos(datos, top=3):\n",
    "    ventas_por_producto = datos.groupby('producto')['cantidad'].sum().sort_values(ascending=False)\n",
    "    \n",
    "    top_productos = ventas_por_producto.head(top)\n",
    "    \n",
    "    ranking = pd.DataFrame({\n",
    "        'Producto': top_productos.index,\n",
    "        'Unidades Vendidas': top_productos.values\n",
    "    }).reset_index(drop=True)\n",
    "    \n",
    "    ranking.index = ranking.index + 1\n",
    "    ranking = ranking.rename_axis('Ranking')\n",
    "    \n",
    "    return ranking\n",
    "\n",
    "datos = cargar_datos()\n",
    "\n",
    "resultado = ranking_productos(datos)\n",
    "print(resultado)"
   ]
  },
  {
   "cell_type": "markdown",
   "metadata": {},
   "source": [
    "### Ejercicio 6: Listar las ventas por mes\n",
    "Realizar un listado del total de unidades vendidas por producto separado por mes.\n"
   ]
  },
  {
   "cell_type": "code",
   "execution_count": null,
   "metadata": {},
   "outputs": [
    {
     "name": "stdout",
     "output_type": "stream",
     "text": [
      "producto  Coca Cola  Mirinda  Pepsi Cola  Sprite  Torasso\n",
      "mes                                                      \n",
      "2024-08           0       27          10       0        8\n",
      "2024-09          57       58          79      72       24\n"
     ]
    }
   ],
   "source": [
    "import pandas as pd\n",
    "\n",
    "def cargar_datos():\n",
    "    widths = [10, 30, 10, 5]\n",
    "    names = ['fecha', 'producto', 'precio', 'cantidad']\n",
    "    df = pd.read_fwf('datos.dat', widths=widths, names=names, encoding='utf-8')\n",
    "    df['fecha'] = pd.to_datetime(df['fecha'])\n",
    "    df['precio'] = pd.to_numeric(df['precio'])\n",
    "    df['cantidad'] = pd.to_numeric(df['cantidad'])\n",
    "    df['producto'] = df['producto'].str.strip()\n",
    "    return df\n",
    "\n",
    "def ventas_por_mes(datos):\n",
    "    datos['mes'] = datos['fecha'].dt.to_period('M')\n",
    "    \n",
    "    ventas_mensuales = datos.groupby(['mes', 'producto'])['cantidad'].sum().unstack(fill_value=0)\n",
    "    \n",
    "    ventas_mensuales = ventas_mensuales.sort_index(axis=1)\n",
    "    \n",
    "    ventas_mensuales.index = ventas_mensuales.index.strftime('%Y-%m')\n",
    "    \n",
    "    return ventas_mensuales\n",
    "\n",
    "datos = cargar_datos()\n",
    "\n",
    "resultado = ventas_por_mes(datos)\n",
    "print(resultado)"
   ]
  },
  {
   "cell_type": "markdown",
   "metadata": {},
   "source": [
    "### Ejercicio 7: Informe general\n",
    "\n",
    "Mostrar un listado de productos ordenados alfabeticamente que contengan el precio promedio, la cantidad de unidades vendidas y el importe total vendido para cada producto"
   ]
  },
  {
   "cell_type": "code",
   "execution_count": 16,
   "metadata": {},
   "outputs": [
    {
     "name": "stdout",
     "output_type": "stream",
     "text": [
      "            Precio Promedio  Unidades Vendidas  Importe Total\n",
      "producto                                                     \n",
      "Coca Cola           1072.50                 57          60780\n",
      "Mirinda             1545.83                 85         131080\n",
      "Pepsi Cola          1245.00                 89         110510\n",
      "Sprite               841.43                 72          61040\n",
      "Torasso              920.00                 32          29320\n"
     ]
    },
    {
     "name": "stderr",
     "output_type": "stream",
     "text": [
      "C:\\Users\\User\\AppData\\Local\\Temp\\ipykernel_3524\\696954579.py:18: DeprecationWarning: DataFrameGroupBy.apply operated on the grouping columns. This behavior is deprecated, and in a future version of pandas the grouping columns will be excluded from the operation. Either pass `include_groups=False` to exclude the groupings or explicitly select the grouping columns after groupby to silence this warning.\n",
      "  importe_total = datos.groupby('producto').apply(lambda x: (x['precio'] * x['cantidad']).sum())\n"
     ]
    }
   ],
   "source": [
    "import pandas as pd\n",
    "\n",
    "def cargar_datos():\n",
    "    widths = [10, 30, 10, 5]\n",
    "    names = ['fecha', 'producto', 'precio', 'cantidad']\n",
    "    df = pd.read_fwf('datos.dat', widths=widths, names=names, encoding='utf-8')\n",
    "    df['fecha'] = pd.to_datetime(df['fecha'])\n",
    "    df['precio'] = pd.to_numeric(df['precio'])\n",
    "    df['cantidad'] = pd.to_numeric(df['cantidad'])\n",
    "    df['producto'] = df['producto'].str.strip()\n",
    "    return df\n",
    "\n",
    "def resumen_ventas(datos):\n",
    "    precio_promedio = datos.groupby('producto')['precio'].mean()\n",
    "    \n",
    "    cantidad_total = datos.groupby('producto')['cantidad'].sum()\n",
    "    \n",
    "    importe_total = datos.groupby('producto').apply(lambda x: (x['precio'] * x['cantidad']).sum())\n",
    "    \n",
    "    resumen = pd.DataFrame({\n",
    "        'Precio Promedio': precio_promedio,\n",
    "        'Unidades Vendidas': cantidad_total,\n",
    "        'Importe Total': importe_total\n",
    "    })\n",
    "    \n",
    "    resumen = resumen.sort_index()\n",
    "    \n",
    "    resumen = resumen.round(2)\n",
    "    \n",
    "    return resumen\n",
    "\n",
    "datos = cargar_datos()\n",
    "\n",
    "resultado = resumen_ventas(datos)\n",
    "print(resultado)"
   ]
  },
  {
   "cell_type": "markdown",
   "metadata": {},
   "source": [
    "## `Resolver usando NumPy`\n",
    "## Resolver el ejercicio 2 del tp1 usando NumPy"
   ]
  },
  {
   "cell_type": "markdown",
   "metadata": {},
   "source": [
    "### Ejercicio 8\n",
    "\n",
    "Escribe una función en Python que encuentre los valores de `a`, `b`, y `c` para que la función cuadrática `f(x) = a x^2 + b x + c` pase exactamente por los siguientes puntos:\n",
    "\n",
    "| x  | y  |\n",
    "|---:|---:|\n",
    "|  0 |  0 |\n",
    "|  1 |  8 |\n",
    "|  2 | 12 |\n",
    "|  3 | 12 |\n",
    "|  5 |  0 |\n",
    "\n",
    "### Requisitos:\n",
    "- La función debe explorar posibles valores de `a`, `b`, y `c` utilizando un método de prueba y error.\n",
    "- Debe devolver los valores que hagan que la diferencia entre la función `f(x)` y los valores medidos `y` sea exactamente cero para cada punto.\n",
    "\n",
    "> **Pista**: Los valores de `a`, `b`, y `c` son números pequeños.\n",
    "\n",
    "La idea es implementar el mismo algoritmo que se uso en el TP1 pero usando NumPy en lugar de Python puro."
   ]
  },
  {
   "cell_type": "code",
   "execution_count": 17,
   "metadata": {},
   "outputs": [
    {
     "name": "stdout",
     "output_type": "stream",
     "text": [
      "Coeficientes encontrados: [-2 10  0]\n",
      "La función cuadrática es: f(x) = -2x^2 + 10x + 0\n"
     ]
    }
   ],
   "source": [
    "import numpy as np\n",
    "\n",
    "def f(x, coeficientes):\n",
    "    a, b, c = coeficientes\n",
    "    return a * x**2 + b * x + c\n",
    "\n",
    "def error(y, y_pred):\n",
    "    return np.sum(np.abs(y - y_pred))\n",
    "\n",
    "X = np.array([0, 1, 2, 3, 5])\n",
    "Y = np.array([0, 8, 12, 12, 0])\n",
    "\n",
    "def buscar_coeficientes():\n",
    "    for a in range(-10, 11):\n",
    "        for b in range(-10, 11):\n",
    "            for c in range(-10, 11):\n",
    "                coeficientes = np.array([a, b, c])\n",
    "                y_pred = f(X, coeficientes)\n",
    "                if error(Y, y_pred) == 0:\n",
    "                    return coeficientes\n",
    "    return None\n",
    "\n",
    "coeficientes = buscar_coeficientes()\n",
    "print(\"Coeficientes encontrados:\", coeficientes)\n",
    "\n",
    "if coeficientes is not None:\n",
    "    a, b, c = coeficientes\n",
    "    print(f\"La función cuadrática es: f(x) = {a}x^2 + {b}x + {c}\")\n",
    "else:\n",
    "    print(\"No se encontraron coeficientes que satisfagan exactamente todos los puntos.\")\n",
    "\n"
   ]
  },
  {
   "cell_type": "markdown",
   "metadata": {},
   "source": [
    "### Ejercicio 9: Resolver el ejercicio 3 del TP1 usando NumPy\n",
    "Buscar los coeficientes de la función que minimice la suma de los cuadrados de las diferencias entre los valores medidos y los valores de la función.\n",
    "\n",
    "1. Crear un array con los coeficientes elegidos al azar (usar `randint(-10,10,3)`).\n",
    "2. Calcular el valor de la función y el error correspondiente.\n",
    "3. Mientras que el error sea mayor a 1:\n",
    "    1. Definir nuevos coeficientes agregándoles un pequeño valor al azar a los coeficientes actuales (aprendizaje = 0.001).\n",
    "    2. Si el error para los nuevos coeficientes es menor que el anterior, reemplazar los coeficientes actuales por los nuevos.\n"
   ]
  },
  {
   "cell_type": "code",
   "execution_count": null,
   "metadata": {},
   "outputs": [
    {
     "name": "stdout",
     "output_type": "stream",
     "text": [
      "Coeficientes encontrados: [-1.76882389  8.9391142   0.51583671]\n",
      "La función cuadrática aproximada es: f(x) = -1.7688x^2 + 8.9391x + 0.5158\n",
      "Error final: 0.999964\n"
     ]
    }
   ],
   "source": [
    "import numpy as np\n",
    "\n",
    "def f(x, coeficientes):\n",
    "    a, b, c = coeficientes\n",
    "    return a * x**2 + b * x + c\n",
    "\n",
    "def error(y, y_pred):\n",
    "    return np.sum((y - y_pred)**2)\n",
    "\n",
    "X = np.array([0, 1, 2, 3, 5])\n",
    "Y = np.array([0, 8, 12, 11, 1])\n",
    "\n",
    "def buscar_coeficientes():\n",
    "    coeficientes = np.random.randint(-10, 11, 3)\n",
    "    mejor_error = float('inf')\n",
    "    aprendizaje = 0.001\n",
    "    \n",
    "    while mejor_error > 1:\n",
    "        y_pred = f(X, coeficientes)\n",
    "        error_actual = error(Y, y_pred)\n",
    "        \n",
    "        if error_actual < mejor_error:\n",
    "            mejor_error = error_actual\n",
    "        \n",
    "        nuevos_coeficientes = coeficientes + np.random.uniform(-aprendizaje, aprendizaje, 3)\n",
    "        nuevos_y_pred = f(X, nuevos_coeficientes)\n",
    "        nuevo_error = error(Y, nuevos_y_pred)\n",
    "        \n",
    "        if nuevo_error < error_actual:\n",
    "            coeficientes = nuevos_coeficientes\n",
    "    \n",
    "    return coeficientes\n",
    "\n",
    "coeficientes = buscar_coeficientes()\n",
    "print(\"Coeficientes encontrados:\", coeficientes)\n",
    "\n",
    "a, b, c = coeficientes\n",
    "print(f\"La función cuadrática aproximada es: f(x) = {a:.4f}x^2 + {b:.4f}x + {c:.4f}\")\n",
    "\n",
    "y_pred = f(X, coeficientes)\n",
    "error_final = error(Y, y_pred)\n",
    "print(f\"Error final: {error_final:.6f}\")"
   ]
  }
 ],
 "metadata": {
  "kernelspec": {
   "display_name": "Python 3",
   "language": "python",
   "name": "python3"
  },
  "language_info": {
   "codemirror_mode": {
    "name": "ipython",
    "version": 3
   },
   "file_extension": ".py",
   "mimetype": "text/x-python",
   "name": "python",
   "nbconvert_exporter": "python",
   "pygments_lexer": "ipython3",
   "version": "3.13.0"
  }
 },
 "nbformat": 4,
 "nbformat_minor": 2
}
