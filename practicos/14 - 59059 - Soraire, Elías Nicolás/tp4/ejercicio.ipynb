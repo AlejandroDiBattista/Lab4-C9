{
 "cells": [
  {
   "cell_type": "markdown",
   "metadata": {},
   "source": [
    "# Simulación del Truco"
   ]
  },
  {
   "cell_type": "markdown",
   "metadata": {},
   "source": [
    "Las **cartas** deben registra el numero, palo y valor de la carta. \n",
    "El valor debe reflejar la jerarquía de las cartas en el juego del truco."
   ]
  },
  {
   "cell_type": "code",
   "execution_count": 4,
   "metadata": {},
   "outputs": [],
   "source": [
    "def calcular_valor(numero, palo):\n",
    "    if numero == 1 and palo == \"espada\":\n",
    "        return 14\n",
    "    elif numero == 1 and palo == \"basto\":\n",
    "        return 13\n",
    "    elif numero == 7 and palo == \"espada\":\n",
    "        return 12\n",
    "    elif numero == 7 and palo == \"oro\":\n",
    "        return 11\n",
    "    elif numero == 3:\n",
    "        return 10\n",
    "    elif numero == 2:\n",
    "        return 9\n",
    "    elif numero == 1:\n",
    "        return 8\n",
    "    elif numero == 12:\n",
    "        return 7\n",
    "    elif numero == 11:\n",
    "        return 6\n",
    "    elif numero == 10:\n",
    "        return 5\n",
    "    elif numero == 7:\n",
    "        return 4\n",
    "    elif numero == 6:\n",
    "        return 3\n",
    "    elif numero == 5:\n",
    "        return 2\n",
    "    elif numero == 4:\n",
    "        return 1\n",
    "    else:\n",
    "        return 0\n",
    "\n",
    "class Carta:\n",
    "    def __init__(self, numero, palo):\n",
    "        self.numero = numero\n",
    "        self.palo = palo\n",
    "        self.valor = calcular_valor(numero, palo)\n",
    "\n",
    "    def __repr__(self):\n",
    "        return f\"{self.numero} de {self.palo} (valor: {self.valor})\"\n",
    "\n",
    "c = Carta(1, \"oro\")\n",
    "print(c)"
   ]
  },
  {
   "cell_type": "markdown",
   "metadata": {},
   "source": [
    "**Mazo**: Representan las cartas españolas de 1 al 12, en los palos de oro, copa, espada y basto.\n",
    "\n",
    "Debe existir una función que permita barajar las cartas.\n",
    "y otra función que permita repartir las cartas a los jugadores."
   ]
  },
  {
   "cell_type": "code",
   "execution_count": 5,
   "metadata": {},
   "outputs": [
    {
     "name": "stdout",
     "output_type": "stream",
     "text": [
      "None\n"
     ]
    }
   ],
   "source": [
    "import random\n",
    "\n",
    "class Carta:\n",
    "    def __init__(self, numero, palo):\n",
    "        self.numero = numero\n",
    "        self.palo = palo\n",
    "    \n",
    "    def __repr__(self):\n",
    "        return f\"{self.numero} de {self.palo}\"\n",
    "\n",
    "class Mazo:\n",
    "    palos = [\"oro\", \"copa\", \"espada\", \"basto\"]\n",
    "    numeros = list(range(1, 13))\n",
    "\n",
    "    def __init__(self):\n",
    "        self.cartas = [Carta(numero, palo) for palo in self.palos for numero in self.numeros]\n",
    "\n",
    "    def mezclar(self):\n",
    "        random.shuffle(self.cartas)\n",
    "\n",
    "    def repartir(self, cantidad):\n",
    "        return [self.cartas.pop() for _ in range(cantidad)]\n",
    "\n",
    "m = Mazo()\n",
    "m.mezclar()\n",
    "print(m.repartir(3))\n"
   ]
  },
  {
   "cell_type": "markdown",
   "metadata": {},
   "source": [
    "**Jugador**: Deben tener un nombre y las cartas que tiene en la mano. Debe acumular los puntos ganados.\n",
    "\n",
    "Nota: Para simplificar el problema, el jugador elige la carta a jugar de forma aleatoria."
   ]
  },
  {
   "cell_type": "code",
   "execution_count": 6,
   "metadata": {},
   "outputs": [
    {
     "name": "stdout",
     "output_type": "stream",
     "text": [
      "None\n"
     ]
    }
   ],
   "source": [
    "import random\n",
    "\n",
    "class Jugador:\n",
    "    def __init__(self, nombre):\n",
    "        self.nombre = nombre\n",
    "        self.mano = []\n",
    "        self.puntos = 0\n",
    "\n",
    "    def recibir_cartas(self, cartas):\n",
    "        self.mano = cartas\n",
    "\n",
    "    def jugar_carta(self):\n",
    "        if self.mano:\n",
    "            carta_jugada = random.choice(self.mano)\n",
    "            self.mano.remove(carta_jugada) \n",
    "            return carta_jugada\n",
    "        return None\n",
    "\n",
    "m = Mazo()\n",
    "m.mezclar()\n",
    "\n",
    "j = Jugador(\"Juan\")\n",
    "j.recibir_cartas(m.repartir(3))\n",
    "print(f\"Cartas en mano: {j.mano}\")\n",
    "print(f\"Carta jugada: {j.jugar_carta()}\")\n",
    "print(f\"Cartas restantes: {j.mano}\")\n"
   ]
  },
  {
   "cell_type": "markdown",
   "metadata": {},
   "source": [
    "**Partida**: Debe tener dos jugadores, un mazo de cartas y un puntaje. Debe permitir jugar una carta por ronda y definir el ganador de la ronda. Debe permitir jugar hasta que se terminen las cartas del mazo."
   ]
  },
  {
   "cell_type": "code",
   "execution_count": null,
   "metadata": {},
   "outputs": [],
   "source": [
    "import random\n",
    "\n",
    "class Partida:\n",
    "    def __init__(self, jugador1, jugador2):\n",
    "        self.jugador1 = jugador1\n",
    "        self.jugador2 = jugador2\n",
    "        self.mazo = Mazo()\n",
    "        self.puntaje_maximo = 15\n",
    "\n",
    "    def jugar_ronda(self):\n",
    "        carta_j1 = self.jugador1.jugar_carta()\n",
    "        carta_j2 = self.jugador2.jugar_carta()\n",
    "\n",
    "        print(f\"{self.jugador1.nombre} juega: {carta_j1}\")\n",
    "        print(f\"{self.jugador2.nombre} juega: {carta_j2}\")\n",
    "\n",
    "        if carta_j1[\"valor\"] > carta_j2[\"valor\"]:\n",
    "            print(f\"Ronda ganada por {self.jugador1.nombre}\")\n",
    "            self.jugador1.puntos += 1\n",
    "        elif carta_j1[\"valor\"] < carta_j2[\"valor\"]:\n",
    "            print(f\"Ronda ganada por {self.jugador2.nombre}\")\n",
    "            self.jugador2.puntos += 1\n",
    "        else:\n",
    "            print(\"Empate en esta ronda.\")\n",
    "\n",
    "    def jugar(self):\n",
    "        while self.jugador1.puntos < self.puntaje_maximo and self.jugador2.puntos < self.puntaje_maximo:\n",
    "            self.mazo.mezclar()\n",
    "            self.jugador1.recibir_cartas(self.mazo.repartir(3))\n",
    "            self.jugador2.recibir_cartas(self.mazo.repartir(3))\n",
    "\n",
    "            for _ in range(3):\n",
    "                self.jugar_ronda()\n",
    "\n",
    "            print(f\"Puntaje: {self.jugador1.nombre} {self.jugador1.puntos} - {self.jugador2.puntos} {self.jugador2.nombre}\\n\")\n",
    "\n",
    "        if self.jugador1.puntos >= self.puntaje_maximo:\n",
    "            print(f\"El ganador es {self.jugador1.nombre}!\")\n",
    "        else:\n",
    "            print(f\"El ganador es {self.jugador2.nombre}!\")\n",
    "\n",
    "p = Partida(Jugador(\"Juan\"), Jugador(\"Pedro\"))\n",
    "p.jugar()"
   ]
  }
 ],
 "metadata": {
  "kernelspec": {
   "display_name": "Python 3",
   "language": "python",
   "name": "python3"
  },
  "language_info": {
   "codemirror_mode": {
    "name": "ipython",
    "version": 3
   },
   "file_extension": ".py",
   "mimetype": "text/x-python",
   "name": "python",
   "nbconvert_exporter": "python",
   "pygments_lexer": "ipython3",
   "version": "3.12.5"
  }
 },
 "nbformat": 4,
 "nbformat_minor": 2
}
