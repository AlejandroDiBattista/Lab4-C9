{
 "cells": [
  {
   "cell_type": "markdown",
   "metadata": {},
   "source": [
    "# Simulación del Truco"
   ]
  },
  {
   "cell_type": "markdown",
   "metadata": {},
   "source": [
    "Las **cartas** deben registra el numero, palo y valor de la carta. \n",
    "El valor debe reflejar la jerarquía de las cartas en el juego del truco."
   ]
  },
  {
   "cell_type": "code",
   "execution_count": 2,
   "metadata": {},
   "outputs": [
    {
     "name": "stdout",
     "output_type": "stream",
     "text": [
      "1 de espada (valor: 14)\n"
     ]
    }
   ],
   "source": [
    "def calcular_valor(numero, palo):\n",
    "    jerarquia = {\n",
    "        (1, 'espada'): 14, (1, 'basto'): 13, (7, 'espada'): 12, (7, 'oro'): 11,\n",
    "        (3, 'oro'): 10, (3, 'copa'): 10, (3, 'espada'): 10, (3, 'basto'): 10,\n",
    "        (2, 'oro'): 9, (2, 'copa'): 9, (2, 'espada'): 9, (2, 'basto'): 9,\n",
    "        (1, 'oro'): 8, (1, 'copa'): 8, (12, 'oro'): 7, (12, 'copa'): 7,\n",
    "        (12, 'espada'): 7, (12, 'basto'): 7, (11, 'oro'): 6, (11, 'copa'): 6,\n",
    "        (11, 'espada'): 6, (11, 'basto'): 6, (10, 'oro'): 5, (10, 'copa'): 5,\n",
    "        (10, 'espada'): 5, (10, 'basto'): 5, (7, 'copa'): 4, (7, 'basto'): 4,\n",
    "        (6, 'oro'): 3, (6, 'copa'): 3, (6, 'espada'): 3, (6, 'basto'): 3,\n",
    "        (5, 'oro'): 2, (5, 'copa'): 2, (5, 'espada'): 2, (5, 'basto'): 2,\n",
    "        (4, 'oro'): 1, (4, 'copa'): 1, (4, 'espada'): 1, (4, 'basto'): 1\n",
    "    }\n",
    "    if (numero, palo) in jerarquia:\n",
    "        return jerarquia[(numero, palo)]\n",
    "    else:\n",
    "        return 0\n",
    "\n",
    "class Carta:\n",
    "    def __init__(self, numero, palo):\n",
    "        self.numero = numero\n",
    "        self.palo = palo\n",
    "        self.valor = calcular_valor(numero, palo)\n",
    "\n",
    "    def mostrar(self):\n",
    "        return str(self.numero) + \" de \" + self.palo + \" (valor: \" + str(self.valor) + \")\"\n",
    "\n",
    "\n",
    "carta = Carta(1, 'espada')\n",
    "print(carta.mostrar())\n",
    "\n"
   ]
  },
  {
   "cell_type": "markdown",
   "metadata": {},
   "source": [
    "**Mazo**: Representan las cartas españolas de 1 al 12, en los palos de oro, copa, espada y basto.\n",
    "\n",
    "Debe existir una función que permita barajar las cartas.\n",
    "y otra función que permita repartir las cartas a los jugadores."
   ]
  },
  {
   "cell_type": "code",
   "execution_count": 20,
   "metadata": {},
   "outputs": [
    {
     "name": "stdout",
     "output_type": "stream",
     "text": [
      "8 de oro\n",
      "8 de espada\n",
      "1 de oro\n",
      "2 de oro\n",
      "10 de copa\n"
     ]
    },
    {
     "data": {
      "text/plain": [
       "['8 de oro', '8 de espada', '1 de oro', '2 de oro', '10 de copa']"
      ]
     },
     "execution_count": 20,
     "metadata": {},
     "output_type": "execute_result"
    }
   ],
   "source": [
    "import random\n",
    "\n",
    "class Carta:\n",
    "    def __init__(self, numero, palo):\n",
    "        self.numero = numero\n",
    "        self.palo = palo\n",
    "\n",
    "    def mostrar(self):\n",
    "        return str(self.numero) + \" de \" + self.palo\n",
    "\n",
    "class Mazo:\n",
    "    def __init__(self):\n",
    "        self.cartas = []\n",
    "        for numero in range(1, 13):\n",
    "            for palo in ['oro', 'copa', 'espada', 'basto']:\n",
    "                self.cartas.append(Carta(numero, palo))\n",
    "\n",
    "    def mezclar(self):\n",
    "        random.shuffle(self.cartas)\n",
    "\n",
    "    def repartir(self, cantidad):\n",
    "        cartas_repartidas = []\n",
    "        for i in range(cantidad):\n",
    "            carta = self.cartas.pop()\n",
    "            print(carta.mostrar())\n",
    "            cartas_repartidas.append(carta.mostrar())\n",
    "        return cartas_repartidas\n",
    "\n",
    "mazo = Mazo()\n",
    "mazo.mezclar()\n",
    "mazo.repartir(5)\n",
    "\n"
   ]
  },
  {
   "cell_type": "markdown",
   "metadata": {},
   "source": [
    "**Jugador**: Deben tener un nombre y las cartas que tiene en la mano. Debe acumular los puntos ganados.\n",
    "\n",
    "Nota: Para simplificar el problema, el jugador elige la carta a jugar de forma aleatoria."
   ]
  },
  {
   "cell_type": "code",
   "execution_count": 24,
   "metadata": {},
   "outputs": [
    {
     "name": "stdout",
     "output_type": "stream",
     "text": [
      "QPX jugó: 1 de espada\n"
     ]
    },
    {
     "data": {
      "text/plain": [
       "'1 de espada'"
      ]
     },
     "execution_count": 24,
     "metadata": {},
     "output_type": "execute_result"
    }
   ],
   "source": [
    "import random\n",
    "\n",
    "class Carta:\n",
    "    def __init__(self, numero, palo):\n",
    "        self.numero = numero\n",
    "        self.palo = palo\n",
    "\n",
    "    def mostrar(self):\n",
    "        return str(self.numero) + \" de \" + self.palo\n",
    "\n",
    "class Jugador:\n",
    "    def __init__(self, nombre):\n",
    "        self.nombre = nombre\n",
    "        self.cartas = []\n",
    "        self.puntos = 0\n",
    "\n",
    "    def recibir_cartas(self, cartas):\n",
    "        self.cartas = cartas\n",
    "\n",
    "    def jugar_carta(self):\n",
    "        if len(self.cartas) > 0:\n",
    "            indice = random.randint(0, len(self.cartas) - 1)\n",
    "            carta_jugada = self.cartas[indice]\n",
    "            print(self.nombre + \" jugó: \" + carta_jugada.mostrar())\n",
    "            self.cartas.pop(indice)\n",
    "            return carta_jugada.mostrar()\n",
    "        else:\n",
    "            print(self.nombre + \" no tiene cartas para jugar.\")\n",
    "            return None\n",
    "        \n",
    "jugador = Jugador(\"QPX\")\n",
    "jugador.recibir_cartas([Carta(1, 'espada'), Carta(7, 'oro'), Carta(5, 'basto')])\n",
    "jugador.jugar_carta()\n"
   ]
  },
  {
   "cell_type": "markdown",
   "metadata": {},
   "source": [
    "**Partida**: Debe tener dos jugadores, un mazo de cartas y un puntaje. Debe permitir jugar una carta por ronda y definir el ganador de la ronda. Debe permitir jugar hasta que se terminen las cartas del mazo."
   ]
  },
  {
   "cell_type": "code",
   "execution_count": 29,
   "metadata": {},
   "outputs": [
    {
     "name": "stdout",
     "output_type": "stream",
     "text": [
      "Juan juega: 11 de basto\n",
      "Pedro juega: 2 de espada\n",
      "Juan juega 11 de basto\n",
      "Pedro juega 2 de espada\n",
      "Ganó Juan\n",
      "Juan juega: 1 de oro\n",
      "Pedro juega: 10 de oro\n",
      "Juan juega 1 de oro\n",
      "Pedro juega 10 de oro\n",
      "Ganó Pedro\n",
      "Juan juega: 8 de basto\n",
      "Pedro juega: 10 de basto\n",
      "Juan juega 8 de basto\n",
      "Pedro juega 10 de basto\n",
      "Ganó Pedro\n",
      "Puntaje: Juan: 1, Pedro: 2\n",
      "Juan juega: 5 de oro\n",
      "Pedro juega: 6 de oro\n",
      "Juan juega 5 de oro\n",
      "Pedro juega 6 de oro\n",
      "Ganó Pedro\n",
      "Juan juega: 3 de espada\n",
      "Pedro juega: 9 de basto\n",
      "Juan juega 3 de espada\n",
      "Pedro juega 9 de basto\n",
      "Ganó Pedro\n",
      "Juan juega: 3 de copa\n",
      "Pedro juega: 12 de espada\n",
      "Juan juega 3 de copa\n",
      "Pedro juega 12 de espada\n",
      "Ganó Pedro\n",
      "Puntaje: Juan: 1, Pedro: 5\n",
      "Juan juega: 4 de oro\n",
      "Pedro juega: 1 de espada\n",
      "Juan juega 4 de oro\n",
      "Pedro juega 1 de espada\n",
      "Ganó Juan\n",
      "Juan juega: 8 de oro\n",
      "Pedro juega: 7 de espada\n",
      "Juan juega 8 de oro\n",
      "Pedro juega 7 de espada\n",
      "Ganó Juan\n",
      "Juan juega: 6 de copa\n",
      "Pedro juega: 1 de basto\n",
      "Juan juega 6 de copa\n",
      "Pedro juega 1 de basto\n",
      "Ganó Juan\n",
      "Puntaje: Juan: 4, Pedro: 5\n",
      "Juan juega: 5 de basto\n",
      "Pedro juega: 7 de copa\n",
      "Juan juega 5 de basto\n",
      "Pedro juega 7 de copa\n",
      "Ganó Pedro\n",
      "Juan juega: 6 de espada\n",
      "Pedro juega: 12 de copa\n",
      "Juan juega 6 de espada\n",
      "Pedro juega 12 de copa\n",
      "Ganó Pedro\n",
      "Juan juega: 12 de oro\n",
      "Pedro juega: 5 de copa\n",
      "Juan juega 12 de oro\n",
      "Pedro juega 5 de copa\n",
      "Ganó Juan\n",
      "Puntaje: Juan: 5, Pedro: 7\n",
      "Juan juega: 7 de oro\n",
      "Pedro juega: 11 de espada\n",
      "Juan juega 7 de oro\n",
      "Pedro juega 11 de espada\n",
      "Ganó Pedro\n",
      "Juan juega: 9 de copa\n",
      "Pedro juega: 10 de espada\n",
      "Juan juega 9 de copa\n",
      "Pedro juega 10 de espada\n",
      "Ganó Pedro\n",
      "Juan juega: 7 de basto\n",
      "Pedro juega: 9 de espada\n",
      "Juan juega 7 de basto\n",
      "Pedro juega 9 de espada\n",
      "Ganó Pedro\n",
      "Puntaje: Juan: 5, Pedro: 10\n",
      "Juan juega: 6 de basto\n",
      "Pedro juega: 5 de espada\n",
      "Juan juega 6 de basto\n",
      "Pedro juega 5 de espada\n",
      "Ganó Juan\n",
      "Juan juega: 12 de basto\n",
      "Pedro juega: 2 de copa\n",
      "Juan juega 12 de basto\n",
      "Pedro juega 2 de copa\n",
      "Ganó Juan\n",
      "Juan juega: 8 de copa\n",
      "Pedro juega: 4 de copa\n",
      "Juan juega 8 de copa\n",
      "Pedro juega 4 de copa\n",
      "Ganó Juan\n",
      "Puntaje: Juan: 8, Pedro: 10\n",
      "Juan juega: 9 de oro\n",
      "Pedro juega: 3 de basto\n",
      "Juan juega 9 de oro\n",
      "Pedro juega 3 de basto\n",
      "Ganó Juan\n",
      "Juan juega: 4 de espada\n",
      "Pedro juega: 8 de espada\n",
      "Juan juega 4 de espada\n",
      "Pedro juega 8 de espada\n",
      "Ganó Pedro\n",
      "Juan juega: 10 de copa\n",
      "Pedro juega: 4 de basto\n",
      "Juan juega 10 de copa\n",
      "Pedro juega 4 de basto\n",
      "Ganó Juan\n",
      "Puntaje: Juan: 10, Pedro: 11\n",
      "Juan juega: 11 de copa\n",
      "Pedro juega: 3 de oro\n",
      "Juan juega 11 de copa\n",
      "Pedro juega 3 de oro\n",
      "Ganó Juan\n",
      "Juan juega: 2 de basto\n",
      "Pedro juega: 11 de oro\n",
      "Juan juega 2 de basto\n",
      "Pedro juega 11 de oro\n",
      "Ganó Pedro\n",
      "Juan juega: 2 de oro\n",
      "Pedro juega: 1 de copa\n",
      "Juan juega 2 de oro\n",
      "Pedro juega 1 de copa\n",
      "Ganó Juan\n",
      "Puntaje: Juan: 12, Pedro: 12\n",
      "Ganó la partida Pedro\n"
     ]
    }
   ],
   "source": [
    "import random\n",
    "\n",
    "class Partida:\n",
    "    def __init__(self, juan, pedro):\n",
    "        self.juan = juan\n",
    "        self.pedro = pedro\n",
    "        self.mazo = Mazo()\n",
    "        self.puntos_juan = 0\n",
    "        self.puntos_pedro = 0\n",
    "\n",
    "    def jugar_ronda(self):\n",
    "        carta_j1 = self.juan.jugar_carta()\n",
    "        carta_j2 = self.pedro.jugar_carta()\n",
    "\n",
    "        if carta_j1 and carta_j2:\n",
    "            print(self.juan.nombre + \" juega \" + carta_j1.mostrar())\n",
    "            print(self.pedro.nombre + \" juega \" + carta_j2.mostrar())\n",
    "\n",
    "            if carta_j1.numero > carta_j2.numero:  \n",
    "                self.puntos_juan += 1\n",
    "                print(\"Ganó \" + self.juan.nombre)\n",
    "            elif carta_j1.numero < carta_j2.numero:\n",
    "                self.puntos_pedro += 1\n",
    "                print(\"Ganó \" + self.pedro.nombre)\n",
    "            else:\n",
    "                print(\"Empate\")\n",
    "\n",
    "    def jugar(self):\n",
    "        self.mazo.mezclar()\n",
    "        while self.puntos_juan < 15 and self.puntos_pedro < 15 and len(self.mazo.cartas) >= 6:\n",
    "            self.juan.recibir_cartas(self.mazo.repartir(3))\n",
    "            self.pedro.recibir_cartas(self.mazo.repartir(3))\n",
    "\n",
    "            for i in range(3):  # Corrección aquí\n",
    "                self.jugar_ronda()\n",
    "\n",
    "            print(\"Puntaje: \" + self.juan.nombre + \": \" + str(self.puntos_juan) + \", \" + self.pedro.nombre + \": \" + str(self.puntos_pedro))\n",
    "\n",
    "        if self.puntos_juan > self.puntos_pedro:\n",
    "            print(\"Ganó la partida \" + self.juan.nombre)\n",
    "        else:\n",
    "            print(\"Ganó la partida \" + self.pedro.nombre)\n",
    "\n",
    "p = Partida(Jugador(\"Juan\"), Jugador(\"Pedro\"))\n",
    "p.jugar()\n",
    "\n"
   ]
  }
 ],
 "metadata": {
  "kernelspec": {
   "display_name": "Python 3",
   "language": "python",
   "name": "python3"
  },
  "language_info": {
   "codemirror_mode": {
    "name": "ipython",
    "version": 3
   },
   "file_extension": ".py",
   "mimetype": "text/x-python",
   "name": "python",
   "nbconvert_exporter": "python",
   "pygments_lexer": "ipython3",
   "version": "3.12.5"
  }
 },
 "nbformat": 4,
 "nbformat_minor": 2
}
