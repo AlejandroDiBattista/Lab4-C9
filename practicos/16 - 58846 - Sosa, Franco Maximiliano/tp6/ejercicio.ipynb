{
 "cells": [
  {
   "cell_type": "markdown",
   "metadata": {},
   "source": [
    "# TP6\n",
    "\n",
    "### `Resolver usando Pandas`\n",
    "\n",
    "Resolver los ejercicios del TP3 utilizando la librería Pandas."
   ]
  },
  {
   "cell_type": "markdown",
   "metadata": {},
   "source": [
    "### Ejercicio 1: Cargar Datos de ventas.\n",
    "\n",
    "El archivo datos.dat contiene el registro de las ventas realizadas.\n",
    "\n",
    "Tiene un formato de ancho fijo:\n",
    "- `fecha`:    10 lugares\n",
    "- `producto`: 30 lugares\n",
    "- `precio`:   10 lugares\n",
    "- `cantidad`:  5 lugares\n",
    "\n",
    "Hacer una funcion que cargue los datos en un DataFrame de Pandas."
   ]
  },
  {
   "cell_type": "code",
   "execution_count": null,
   "metadata": {},
   "outputs": [],
   "source": [
    "import pandas as pd\n",
    "import numpy as np\n",
    "from typing import Tuple, List\n",
    "\n",
    "def cargar_datos() -> pd.DataFrame:\n",
    "    columnas = ['fecha', 'producto', 'precio', 'cantidad']\n",
    "    anchos = [10, 30, 10, 5]\n",
    "    df = pd.read_fwf('datos.dat', widths=anchos, names=columnas)\n",
    "    df['fecha'] = pd.to_datetime(df['fecha'])\n",
    "    df[['precio', 'cantidad']] = df[['precio', 'cantidad']].apply(pd.to_numeric)\n",
    "    return df\n",
    "\n",
    "datos = cargar_datos()\n",
    "print(datos.head())"
   ]
  },
  {
   "cell_type": "markdown",
   "metadata": {},
   "source": [
    "### Ejercicio 2: Calcular el total de ventas.\n",
    "Hacer una función que sume los importes vendidos (precio * cantidad) y las cantidades.\n"
   ]
  },
  {
   "cell_type": "code",
   "execution_count": null,
   "metadata": {},
   "outputs": [],
   "source": [
    "def calcular_totales(df: pd.DataFrame) -> Tuple[float, int]:\n",
    "    importe_total = (df['precio'] * df['cantidad']).sum()\n",
    "    cantidad_total = df['cantidad'].sum()\n",
    "    return importe_total, cantidad_total\n",
    "\n",
    "importe, cantidad = calcular_totales(datos)\n",
    "print(f\"Las ventas fueron de ${importe:.2f} en {cantidad} unidades\")"
   ]
  },
  {
   "cell_type": "markdown",
   "metadata": {},
   "source": [
    "### Ejercicio 3: Listar las unidades vendidas.\n",
    "Listar cuántas unidades se vendieron en total para cada producto\n"
   ]
  },
  {
   "cell_type": "code",
   "execution_count": null,
   "metadata": {},
   "outputs": [],
   "source": [
    "def unidades_vendidas(df: pd.DataFrame) -> pd.Series:\n",
    "    return df.groupby('producto')['cantidad'].sum().sort_values(ascending=False)\n",
    "\n",
    "ventas = unidades_vendidas(datos)\n",
    "print(ventas)\n",
    "\n"
   ]
  },
  {
   "cell_type": "markdown",
   "metadata": {},
   "source": [
    "###  Ejercicio 4: Listar el precio promedio por producto.\n",
    "Hacer un listado del precio promedio por producto.\n"
   ]
  },
  {
   "cell_type": "code",
   "execution_count": null,
   "metadata": {},
   "outputs": [],
   "source": [
    "def precio_promedio(df: pd.DataFrame) -> pd.Series:\n",
    "    return df.groupby('producto')['precio'].mean().round(2)\n",
    "\n",
    "precios = precio_promedio(datos)\n",
    "print(precios)"
   ]
  },
  {
   "cell_type": "markdown",
   "metadata": {},
   "source": [
    "### Ejercicio 5: Ranking de productos\n",
    "Realizar un listado de los 3 productos más vendidos ordenados por la cantidad de unidades vendidas (ordenadas de mayor a menor)\n"
   ]
  },
  {
   "cell_type": "code",
   "execution_count": null,
   "metadata": {},
   "outputs": [],
   "source": [
    "def ranking_productos(df: pd.DataFrame, n: int = 3) -> pd.Series:\n",
    "    return unidades_vendidas(df).head(n)\n",
    "\n",
    "ranking = ranking_productos(datos)\n",
    "print(ranking)"
   ]
  },
  {
   "cell_type": "markdown",
   "metadata": {},
   "source": [
    "### Ejercicio 6: Listar las ventas por mes\n",
    "Realizar un listado del total de unidades vendidas por producto separado por mes.\n"
   ]
  },
  {
   "cell_type": "code",
   "execution_count": null,
   "metadata": {},
   "outputs": [],
   "source": [
    "def ventas_por_mes(df: pd.DataFrame) -> pd.DataFrame:\n",
    "    df['mes'] = df['fecha'].dt.to_period('M')\n",
    "    return df.pivot_table(values='cantidad', index='mes', columns='producto', aggfunc='sum', fill_value=0)\n",
    "\n",
    "ventas_mensuales = ventas_por_mes(datos)\n",
    "print(ventas_mensuales)"
   ]
  },
  {
   "cell_type": "markdown",
   "metadata": {},
   "source": [
    "### Ejercicio 7: Informe general\n",
    "\n",
    "Mostrar un listado de productos ordenados alfabeticamente que contengan el precio promedio, la cantidad de unidades vendidas y el importe total vendido para cada producto"
   ]
  },
  {
   "cell_type": "code",
   "execution_count": null,
   "metadata": {},
   "outputs": [],
   "source": [
    "def resumen_ventas(df: pd.DataFrame) -> pd.DataFrame:\n",
    "    resumen = df.groupby('producto').agg({\n",
    "        'precio': ['mean', lambda x: (x * df.loc[x.index, 'cantidad']).sum()],\n",
    "        'cantidad': 'sum'\n",
    "    })\n",
    "    resumen.columns = ['precio_promedio', 'importe_total', 'unidades_vendidas']\n",
    "    resumen['precio_promedio'] = resumen['importe_total'] / resumen['unidades_vendidas']\n",
    "    return resumen.sort_index()\n",
    "\n",
    "resumen = resumen_ventas(datos)\n",
    "print(resumen)"
   ]
  },
  {
   "cell_type": "markdown",
   "metadata": {},
   "source": [
    "## `Resolver usando NumPy`\n",
    "## Resolver el ejercicio 2 del tp1 usando NumPy"
   ]
  },
  {
   "cell_type": "markdown",
   "metadata": {},
   "source": [
    "### Ejercicio 8\n",
    "\n",
    "Escribe una función en Python que encuentre los valores de `a`, `b`, y `c` para que la función cuadrática `f(x) = a x^2 + b x + c` pase exactamente por los siguientes puntos:\n",
    "\n",
    "| x  | y  |\n",
    "|---:|---:|\n",
    "|  0 |  0 |\n",
    "|  1 |  8 |\n",
    "|  2 | 12 |\n",
    "|  3 | 12 |\n",
    "|  5 |  0 |\n",
    "\n",
    "### Requisitos:\n",
    "- La función debe explorar posibles valores de `a`, `b`, y `c` utilizando un método de prueba y error.\n",
    "- Debe devolver los valores que hagan que la diferencia entre la función `f(x)` y los valores medidos `y` sea exactamente cero para cada punto.\n",
    "\n",
    "> **Pista**: Los valores de `a`, `b`, y `c` son números pequeños.\n",
    "\n",
    "La idea es implementar el mismo algoritmo que se uso en el TP1 pero usando NumPy en lugar de Python puro."
   ]
  },
  {
   "cell_type": "code",
   "execution_count": null,
   "metadata": {},
   "outputs": [],
   "source": [
    "def cuadratic_function(x: np.ndarray, coefs: np.ndarray) -> np.ndarray:\n",
    "    return coefs[0] * x**2 + coefs[1] * x + coefs[2]\n",
    "\n",
    "def find_coefficients(X: np.ndarray, Y: np.ndarray) -> np.ndarray:\n",
    "    for a in range(-10, 11):\n",
    "        for b in range(-10, 11):\n",
    "            for c in range(-10, 11):\n",
    "                coefs = np.array([a, b, c])\n",
    "                if np.allclose(cuadratic_function(X, coefs), Y):\n",
    "                    return coefs\n",
    "    return np.array([])\n",
    "\n",
    "X = np.array([0, 1, 2, 3, 5])\n",
    "Y = np.array([0, 8, 12, 12, 0])\n",
    "\n",
    "coeficientes = find_coefficients(X, Y)\n",
    "print(\"Ejercicio 8:\")\n",
    "print(f\"Los coeficientes son {coeficientes}\")"
   ]
  },
  {
   "cell_type": "markdown",
   "metadata": {},
   "source": [
    "### Ejercicio 9: Resolver el ejercicio 3 del TP1 usando NumPy\n",
    "Buscar los coeficientes de la función que minimice la suma de los cuadrados de las diferencias entre los valores medidos y los valores de la función.\n",
    "\n",
    "1. Crear un array con los coeficientes elegidos al azar (usar `randint(-10,10,3)`).\n",
    "2. Calcular el valor de la función y el error correspondiente.\n",
    "3. Mientras que el error sea mayor a 1:\n",
    "    1. Definir nuevos coeficientes agregándoles un pequeño valor al azar a los coeficientes actuales (aprendizaje = 0.001).\n",
    "    2. Si el error para los nuevos coeficientes es menor que el anterior, reemplazar los coeficientes actuales por los nuevos.\n"
   ]
  },
  {
   "cell_type": "code",
   "execution_count": null,
   "metadata": {},
   "outputs": [],
   "source": [
    "def optimize_coefficients(X: np.ndarray, Y: np.ndarray, max_iterations: int = 10000) -> Tuple[np.ndarray, float]:\n",
    "    coefs = np.random.randint(-10, 11, 3)\n",
    "    learning_rate = 0.001\n",
    "    best_error = float('inf')\n",
    "    \n",
    "    for _ in range(max_iterations):\n",
    "        y_pred = cuadratic_function(X, coefs)\n",
    "        error = np.sum((Y - y_pred)**2)\n",
    "        \n",
    "        if error < best_error:\n",
    "            best_error = error\n",
    "        \n",
    "        if best_error <= 1:\n",
    "            break\n",
    "        \n",
    "        new_coefs = coefs + np.random.uniform(-learning_rate, learning_rate, 3)\n",
    "        new_y_pred = cuadratic_function(X, new_coefs)\n",
    "        new_error = np.sum((Y - new_y_pred)**2)\n",
    "        \n",
    "        if new_error < error:\n",
    "            coefs = new_coefs\n",
    "    \n",
    "    return coefs, best_error\n",
    "\n",
    "X = np.array([0, 1, 2, 3, 5])\n",
    "Y = np.array([0, 8, 12, 11, 1])\n",
    "\n",
    "coeficientes, error_final = optimize_coefficients(X, Y)\n",
    "print(\"\\nEjercicio 9:\")\n",
    "print(f\"Los coeficientes son {coeficientes} y el error es {error_final}\")"
   ]
  }
 ],
 "metadata": {
  "kernelspec": {
   "display_name": "Python 3",
   "language": "python",
   "name": "python3"
  },
  "language_info": {
   "codemirror_mode": {
    "name": "ipython",
    "version": 3
   },
   "file_extension": ".py",
   "mimetype": "text/x-python",
   "name": "python",
   "nbconvert_exporter": "python",
   "pygments_lexer": "ipython3",
   "version": "3.12.5"
  }
 },
 "nbformat": 4,
 "nbformat_minor": 2
}
