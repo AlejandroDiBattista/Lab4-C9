{
 "cells": [
  {
   "cell_type": "markdown",
   "metadata": {},
   "source": [
    "# TP6\n",
    "\n",
    "### `Resolver usando Pandas`\n",
    "\n",
    "Resolver los ejercicios del TP3 utilizando la librería Pandas."
   ]
  },
  {
   "cell_type": "markdown",
   "metadata": {},
   "source": [
    "### Ejercicio 1: Cargar Datos de ventas.\n",
    "\n",
    "El archivo datos.dat contiene el registro de las ventas realizadas.\n",
    "\n",
    "Tiene un formato de ancho fijo:\n",
    "- `fecha`:    10 lugares\n",
    "- `producto`: 30 lugares\n",
    "- `precio`:   10 lugares\n",
    "- `cantidad`:  5 lugares\n",
    "\n",
    "Hacer una funcion que cargue los datos en un DataFrame de Pandas."
   ]
  },
  {
   "cell_type": "code",
   "execution_count": 3,
   "metadata": {},
   "outputs": [
    {
     "name": "stdout",
     "output_type": "stream",
     "text": [
      "         fecha    producto  precio  cantidad\n",
      "0   2024-08-27     Mirinda    1510        14\n",
      "1   2024-08-27     Mirinda    1560        12\n",
      "2   2024-08-28     Torasso     940         8\n",
      "3   2024-08-29  Pepsi Cola    1210        10\n",
      "4   2024-08-30     Mirinda    1520         1\n",
      "5   2024-09-01     Mirinda    1550        15\n",
      "6   2024-09-01      Sprite     810         4\n",
      "7   2024-09-02   Coca Cola    1100         4\n",
      "8   2024-09-02  Pepsi Cola    1220        13\n",
      "9   2024-09-02     Torasso     910         5\n",
      "10  2024-09-02     Torasso     920         3\n",
      "11  2024-09-03   Coca Cola    1020         8\n",
      "12  2024-09-03     Mirinda    1570         7\n",
      "13  2024-09-03     Mirinda    1590         2\n",
      "14  2024-09-04  Pepsi Cola    1220        13\n",
      "15  2024-09-05     Mirinda    1500         3\n",
      "16  2024-09-05  Pepsi Cola    1300         5\n",
      "17  2024-09-06   Coca Cola    1080         1\n",
      "18  2024-09-06      Sprite     860        12\n",
      "19  2024-09-06     Torasso     930         3\n",
      "20  2024-09-07   Coca Cola    1080        14\n",
      "21  2024-09-07      Sprite     870        13\n",
      "22  2024-09-08   Coca Cola    1040        10\n",
      "23  2024-09-08     Mirinda    1580         2\n",
      "24  2024-09-08  Pepsi Cola    1240         9\n",
      "25  2024-09-09     Mirinda    1500         3\n",
      "26  2024-09-09      Sprite     850         9\n",
      "27  2024-09-10     Mirinda    1590         8\n",
      "28  2024-09-10  Pepsi Cola    1250        12\n",
      "29  2024-09-11      Sprite     810         6\n",
      "30  2024-09-11      Sprite     820        14\n",
      "31  2024-09-12   Coca Cola    1080         4\n",
      "32  2024-09-13     Mirinda    1580         5\n",
      "33  2024-09-13  Pepsi Cola    1250        13\n",
      "34  2024-09-14   Coca Cola    1080        15\n",
      "35  2024-09-14  Pepsi Cola    1270        14\n",
      "36  2024-09-15   Coca Cola    1100         1\n",
      "37  2024-09-15     Mirinda    1500        13\n",
      "38  2024-09-15      Sprite     870        14\n",
      "39  2024-09-15     Torasso     900        13\n"
     ]
    }
   ],
   "source": [
    "import pandas as pd\n",
    "\n",
    "def cargar_datos():\n",
    "    columnas = ['fecha', 'producto', 'precio', 'cantidad']\n",
    "    anchos_col = [10, 30, 10, 5]  \n",
    "    datos = pd.read_fwf('datos.dat', widths=anchos_col, header=None, names=columnas)\n",
    "    return datos\n",
    "\n",
    "datos = cargar_datos()\n",
    "print(datos)"
   ]
  },
  {
   "cell_type": "markdown",
   "metadata": {},
   "source": [
    "### Ejercicio 2: Calcular el total de ventas.\n",
    "Hacer una función que sume los importes vendidos (precio * cantidad) y las cantidades.\n"
   ]
  },
  {
   "cell_type": "code",
   "execution_count": 4,
   "metadata": {},
   "outputs": [
    {
     "name": "stdout",
     "output_type": "stream",
     "text": [
      "Las ventas fueron de $392730.00 en 335 unidades\n"
     ]
    }
   ],
   "source": [
    "\n",
    "def calcular_totales(datos):\n",
    "    total_importe = (datos['precio'] * datos['cantidad']).sum()\n",
    "    total_cantidad = datos['cantidad'].sum()\n",
    "    return total_importe, total_cantidad\n",
    "\n",
    "importe, cantidad = calcular_totales(datos)\n",
    "\n",
    "print(f\"Las ventas fueron de ${importe:.2f} en {cantidad} unidades\")\n"
   ]
  },
  {
   "cell_type": "markdown",
   "metadata": {},
   "source": [
    "### Ejercicio 3: Listar las unidades vendidas.\n",
    "Listar cuántas unidades se vendieron en total para cada producto\n"
   ]
  },
  {
   "cell_type": "code",
   "execution_count": 7,
   "metadata": {},
   "outputs": [
    {
     "name": "stdout",
     "output_type": "stream",
     "text": [
      "producto\n",
      "Coca Cola     57\n",
      "Mirinda       85\n",
      "Pepsi Cola    89\n",
      "Sprite        72\n",
      "Torasso       32\n",
      "Name: cantidad, dtype: int64\n"
     ]
    }
   ],
   "source": [
    "def unidades_vendidas(datos):\n",
    "    ventasproducto = datos.groupby('producto')['cantidad'].sum()\n",
    "    return ventasproducto\n",
    "    \n",
    "resultado = unidades_vendidas(datos)\n",
    "print(resultado)"
   ]
  },
  {
   "cell_type": "markdown",
   "metadata": {},
   "source": [
    "###  Ejercicio 4: Listar el precio promedio por producto.\n",
    "Hacer un listado del precio promedio por producto.\n"
   ]
  },
  {
   "cell_type": "code",
   "execution_count": 8,
   "metadata": {},
   "outputs": [
    {
     "name": "stdout",
     "output_type": "stream",
     "text": [
      "producto\n",
      "Coca Cola      7.125000\n",
      "Mirinda        7.083333\n",
      "Pepsi Cola    11.125000\n",
      "Sprite        10.285714\n",
      "Torasso        6.400000\n",
      "Name: cantidad, dtype: float64\n"
     ]
    }
   ],
   "source": [
    "def precio_promedio(datos):\n",
    "    promedioproducto = datos.groupby('producto')['cantidad'].mean()\n",
    "    return promedioproducto\n",
    "\n",
    "resultado = precio_promedio(datos)\n",
    "print(resultado)"
   ]
  },
  {
   "cell_type": "markdown",
   "metadata": {},
   "source": [
    "### Ejercicio 5: Ranking de productos\n",
    "Realizar un listado de los 3 productos más vendidos ordenados por la cantidad de unidades vendidas (ordenadas de mayor a menor)\n"
   ]
  },
  {
   "cell_type": "code",
   "execution_count": 11,
   "metadata": {},
   "outputs": [
    {
     "name": "stdout",
     "output_type": "stream",
     "text": [
      "producto\n",
      "Pepsi Cola    11.125000\n",
      "Sprite        10.285714\n",
      "Coca Cola      7.125000\n",
      "Name: cantidad, dtype: float64\n"
     ]
    }
   ],
   "source": [
    "def ranking_productos(datos, top=3):\n",
    "    precio_prom = precio_promedio(datos)\n",
    "    ranking = precio_prom.sort_values(ascending=False)\n",
    "    top_productos = ranking.head(top)\n",
    "    return top_productos\n",
    "\n",
    "top = ranking_productos(datos)\n",
    "print (top)"
   ]
  },
  {
   "cell_type": "markdown",
   "metadata": {},
   "source": [
    "### Ejercicio 6: Listar las ventas por mes\n",
    "Realizar un listado del total de unidades vendidas por producto separado por mes.\n"
   ]
  },
  {
   "cell_type": "code",
   "execution_count": 19,
   "metadata": {},
   "outputs": [
    {
     "name": "stdout",
     "output_type": "stream",
     "text": [
      "     producto  mes  cantidad\n",
      "1     Mirinda    8        27\n",
      "3  Pepsi Cola    8        10\n",
      "6     Torasso    8         8\n",
      "0   Coca Cola    9        57\n",
      "2     Mirinda    9        58\n",
      "4  Pepsi Cola    9        79\n",
      "5      Sprite    9        72\n",
      "7     Torasso    9        24\n"
     ]
    }
   ],
   "source": [
    "def ventas_por_mes(datos):\n",
    "    datos['fecha'] = pd.to_datetime(datos['fecha'], format='%Y-%m-%d')\n",
    "    \n",
    "    datos['mes'] = datos['fecha'].dt.month\n",
    "    \n",
    "    ventas_mes = datos.groupby(['producto', 'mes'])['cantidad'].sum().reset_index()\n",
    "    \n",
    "    ventas_mes = ventas_mes.sort_values(by='mes')\n",
    "    \n",
    "    return ventas_mes\n",
    "\n",
    "ventas_mes = ventas_por_mes(datos)\n",
    "\n",
    "print(ventas_mes)"
   ]
  },
  {
   "cell_type": "markdown",
   "metadata": {},
   "source": [
    "### Ejercicio 7: Informe general\n",
    "\n",
    "Mostrar un listado de productos ordenados alfabeticamente que contengan el precio promedio, la cantidad de unidades vendidas y el importe total vendido para cada producto"
   ]
  },
  {
   "cell_type": "code",
   "execution_count": 27,
   "metadata": {},
   "outputs": [
    {
     "name": "stdout",
     "output_type": "stream",
     "text": [
      "            Precio Promedio  Cantidad Vendida  Impoorte Total\n",
      "producto                                                     \n",
      "Coca Cola          7.125000                57           60780\n",
      "Mirinda            7.083333                85          131080\n",
      "Pepsi Cola        11.125000                89          110510\n",
      "Sprite            10.285714                72           61040\n",
      "Torasso            6.400000                32           29320\n"
     ]
    }
   ],
   "source": [
    "def resumen_ventas(datos):\n",
    "    promedio = precio_promedio(datos)\n",
    "    cantidad_vendida = unidades_vendidas(datos)\n",
    "    importe_total = (datos['precio'] * datos['cantidad']).groupby(datos['producto']).sum()\n",
    "    \n",
    "    \n",
    "    informe = pd.DataFrame({\n",
    "        'Precio Promedio': promedio,\n",
    "        'Cantidad Vendida': cantidad_vendida,\n",
    "        'Impoorte Total': importe_total\n",
    "    })\n",
    "    \n",
    "    informe = informe.sort_index()  \n",
    "    \n",
    "    return informe\n",
    "\n",
    "resumen = resumen_ventas(datos)\n",
    "print(resumen)"
   ]
  },
  {
   "cell_type": "markdown",
   "metadata": {},
   "source": [
    "## `Resolver usando NumPy`\n",
    "## Resolver el ejercicio 2 del tp1 usando NumPy"
   ]
  },
  {
   "cell_type": "markdown",
   "metadata": {},
   "source": [
    "### Ejercicio 8\n",
    "\n",
    "Escribe una función en Python que encuentre los valores de `a`, `b`, y `c` para que la función cuadrática `f(x) = a x^2 + b x + c` pase exactamente por los siguientes puntos:\n",
    "\n",
    "| x  | y  |\n",
    "|---:|---:|\n",
    "|  0 |  0 |\n",
    "|  1 |  8 |\n",
    "|  2 | 12 |\n",
    "|  3 | 12 |\n",
    "|  5 |  0 |\n",
    "\n",
    "### Requisitos:\n",
    "- La función debe explorar posibles valores de `a`, `b`, y `c` utilizando un método de prueba y error.\n",
    "- Debe devolver los valores que hagan que la diferencia entre la función `f(x)` y los valores medidos `y` sea exactamente cero para cada punto.\n",
    "\n",
    "> **Pista**: Los valores de `a`, `b`, y `c` son números pequeños.\n",
    "\n",
    "La idea es implementar el mismo algoritmo que se uso en el TP1 pero usando NumPy en lugar de Python puro."
   ]
  },
  {
   "cell_type": "code",
   "execution_count": 28,
   "metadata": {},
   "outputs": [
    {
     "data": {
      "text/plain": [
       "(np.int64(-2), np.int64(10), np.int64(0))"
      ]
     },
     "execution_count": 28,
     "metadata": {},
     "output_type": "execute_result"
    }
   ],
   "source": [
    "import numpy as np\n",
    "def f(x, coeficientes):\n",
    "    a,b,c = coeficientes\n",
    "    return a*x**2 + b*x + c\n",
    "\n",
    "def error(y, y_pred):\n",
    "    return y - y_pred\n",
    "\n",
    "X = np.array([0,1,2,3,5])\n",
    "Y = np.array([0,8,12,12,0])\n",
    "\n",
    "def buscar_coeficientes():\n",
    "    rangos = np.arange(-10, 11, 1)\n",
    "    for a in rangos:\n",
    "        for b in rangos: \n",
    "            for c in rangos:\n",
    "                y_pred = f(X, (a, b, c))\n",
    "                if np.all(y_pred == Y):\n",
    "                    return a, b, c\n",
    "    return None\n",
    "\n",
    "coeficientes = buscar_coeficientes()\n",
    "coeficientes"
   ]
  },
  {
   "cell_type": "markdown",
   "metadata": {},
   "source": [
    "### Ejercicio 9: Resolver el ejercicio 3 del TP1 usando NumPy\n",
    "Buscar los coeficientes de la función que minimice la suma de los cuadrados de las diferencias entre los valores medidos y los valores de la función.\n",
    "\n",
    "1. Crear un array con los coeficientes elegidos al azar (usar `randint(-10,10,3)`).\n",
    "2. Calcular el valor de la función y el error correspondiente.\n",
    "3. Mientras que el error sea mayor a 1:\n",
    "    1. Definir nuevos coeficientes agregándoles un pequeño valor al azar a los coeficientes actuales (aprendizaje = 0.001).\n",
    "    2. Si el error para los nuevos coeficientes es menor que el anterior, reemplazar los coeficientes actuales por los nuevos.\n"
   ]
  },
  {
   "cell_type": "code",
   "execution_count": 36,
   "metadata": {},
   "outputs": [
    {
     "name": "stdout",
     "output_type": "stream",
     "text": [
      "Los coeficientes son [-1.77831273  8.95557345  0.61831039] y el error es 0.9993210482978152\n"
     ]
    },
    {
     "data": {
      "text/plain": [
       "array([-1.77831273,  8.95557345,  0.61831039])"
      ]
     },
     "execution_count": 36,
     "metadata": {},
     "output_type": "execute_result"
    }
   ],
   "source": [
    "import numpy as np\n",
    "from numpy.random import randint\n",
    "\n",
    "def f(x, coeficientes):\n",
    "    a,b,c = coeficientes\n",
    "    return a*x**2 + b*x + c\n",
    "\n",
    "def error(y, y_pred):\n",
    "    return np.sum((y - y_pred)**2)\n",
    "\n",
    "X = np.array([0, 1, 2, 3, 5])\n",
    "Y = np.array([0, 8,12,11, 1]) # Observar que no son los mismos valores que en el ejemplo anterior\n",
    "\n",
    "def buscar_coeficientes():\n",
    "    coeficientes = randint(-10, 10, 3)\n",
    "    tasa = 0.001\n",
    "    error_actual = float('inf') \n",
    "\n",
    "    y_pred = f(X, coeficientes)\n",
    "    error_actual = error(Y, y_pred)\n",
    "\n",
    "    while error_actual > 1:\n",
    "        nuevos_coeficientes = coeficientes + np.random.rand(3) * tasa * (np.random.choice([-1, 1], 3))\n",
    "\n",
    "        y_pred_nuevo = f(X, nuevos_coeficientes)\n",
    "        nuevo_error = error(Y, y_pred_nuevo)\n",
    "\n",
    "        if nuevo_error < error_actual:\n",
    "            coeficientes = nuevos_coeficientes\n",
    "            error_actual = nuevo_error\n",
    "\n",
    "    return coeficientes, error_actual\n",
    "        \n",
    "\n",
    "coeficientes, error_final = buscar_coeficientes()\n",
    "\n",
    "print(f\"Los coeficientes son {coeficientes} y el error es {error_final}\")\n",
    "coeficientes"
   ]
  }
 ],
 "metadata": {
  "kernelspec": {
   "display_name": "Python 3",
   "language": "python",
   "name": "python3"
  },
  "language_info": {
   "codemirror_mode": {
    "name": "ipython",
    "version": 3
   },
   "file_extension": ".py",
   "mimetype": "text/x-python",
   "name": "python",
   "nbconvert_exporter": "python",
   "pygments_lexer": "ipython3",
   "version": "3.13.0"
  }
 },
 "nbformat": 4,
 "nbformat_minor": 2
}
