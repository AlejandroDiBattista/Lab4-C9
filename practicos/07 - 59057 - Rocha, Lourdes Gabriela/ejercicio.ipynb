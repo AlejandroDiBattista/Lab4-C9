{
 "cells": [
  {
   "cell_type": "markdown",
   "metadata": {},
   "source": [
    "# Trabajo práctico 1\n",
    "\n"
   ]
  },
  {
   "cell_type": "markdown",
   "metadata": {},
   "source": [
    "## Ejercicio 1 \n",
    "\n",
    "Escribe una función en Python que procese una lista de cadenas de texto y realice las siguientes acciones:\n",
    "\n",
    "1. Tomar una lista de frases y convertir cada frase en una lista de palabras.\n",
    "1. Luego, debe crear una nueva lista que contenga la cantidad de palabras en cada frase.\n",
    "1. Tambien debe crear un lista que contenga la cantidad de caracteres en cada frase.\n",
    "1. Finalmente, debe imprimir cada frase original junto con la cantidad de palabras que contiene.\n",
    "Ejemplo de uso:\n",
    "```python\n",
    "    frases = [\n",
    "        \"Python es un lenguaje de programación\",\n",
    "        \"Me gusta resolver problemas con código\",\n",
    "        \"Las listas y los bucles son muy útiles\"\n",
    "    ]\n",
    "\n",
    "    procesar_frases(frases)\n",
    "```\n",
    "\n",
    "ejemplo de salida:\n",
    "```bash\n",
    "    La frase: \"Python es un...\"\n",
    "    tiene 6 palabras y 38 caracteres\n",
    "```\n"
   ]
  },
  {
   "cell_type": "code",
   "execution_count": 6,
   "metadata": {},
   "outputs": [
    {
     "name": "stdout",
     "output_type": "stream",
     "text": [
      "La frase: \"Python es un le...\"\n",
      "Tiene 6 palabras, 32 caracteres y su longitud completa es 37.\n",
      "\n",
      "La frase: \"Me gusta resolv...\"\n",
      "Tiene 6 palabras, 33 caracteres y su longitud completa es 38.\n",
      "\n",
      "La frase: \"Las listas y lo...\"\n",
      "Tiene 8 palabras, 31 caracteres y su longitud completa es 38.\n",
      "\n"
     ]
    }
   ],
   "source": [
    "def procesar_frases(frases):\n",
    "    resultados = []\n",
    "    \n",
    "    for frase in frases:\n",
    "        palabras = frase.split()\n",
    "        num_palabras = len(palabras)\n",
    "        num_caracteres = len(frase.replace(\" \", \"\"))\n",
    "        \n",
    "        \n",
    "        resultados.append({\n",
    "            'frase': frase[:15] + \"...\" if len(frase) > 15 else frase,\n",
    "            'num_palabras': num_palabras,\n",
    "            'num_caracteres': num_caracteres,\n",
    "            'longitud_completa': len(frase)\n",
    "        })\n",
    "    \n",
    "    return resultados\n",
    "\n",
    "frases = [\n",
    "    \"Python es un lenguaje de programación\",\n",
    "    \"Me gusta resolver problemas con código\",\n",
    "    \"Las listas y los bucles son muy útiles\"\n",
    "]\n",
    "\n",
    "resultados = procesar_frases(frases)\n",
    "for resultado in resultados:\n",
    "    print(f\"La frase: \\\"{resultado['frase']}\\\"\")\n",
    "    print(f\"Tiene {resultado['num_palabras']} palabras, {resultado['num_caracteres']} caracteres y su longitud completa es {resultado['longitud_completa']}.\\n\")\n"
   ]
  },
  {
   "cell_type": "markdown",
   "metadata": {},
   "source": [
    "## Ejercicio 2\n",
    "\n",
    "Escribe una función en Python que encuentre los valores de `a`, `b`, y `c` para que la función cuadrática `f(x) = aX^2 + bX + c` pase exactamente por los siguientes puntos:\n",
    "\n",
    "| x  | y  |\n",
    "|---:|---:|\n",
    "|  0 |  0 |\n",
    "|  1 |  8 |\n",
    "|  2 | 12 |\n",
    "|  3 | 12 |\n",
    "|  5 |  0 |\n",
    "\n",
    "### Requisitos:\n",
    "- La función debe explorar posibles valores de `a`, `b`, y `c` utilizando un método de prueba y error.\n",
    "- Debe devolver los valores que hagan que la diferencia entre la función `f(x)` y los valores medidos `y` sea exactamente cero para cada punto.\n",
    "\n",
    "> **Pista**: Los valores de `a`, `b`, y `c` son números pequeños."
   ]
  },
  {
   "cell_type": "code",
   "execution_count": 12,
   "metadata": {},
   "outputs": [
    {
     "ename": "ModuleNotFoundError",
     "evalue": "No module named 'numpy'",
     "output_type": "error",
     "traceback": [
      "\u001b[1;31m---------------------------------------------------------------------------\u001b[0m",
      "\u001b[1;31mModuleNotFoundError\u001b[0m                       Traceback (most recent call last)",
      "Cell \u001b[1;32mIn[12], line 1\u001b[0m\n\u001b[1;32m----> 1\u001b[0m \u001b[38;5;28;01mimport\u001b[39;00m \u001b[38;5;21;01mnumpy\u001b[39;00m \u001b[38;5;28;01mas\u001b[39;00m \u001b[38;5;21;01mnp\u001b[39;00m\n\u001b[0;32m      2\u001b[0m \u001b[38;5;28;01mdef\u001b[39;00m \u001b[38;5;21mresolver_sistema\u001b[39m():\n\u001b[0;32m      3\u001b[0m     \u001b[38;5;66;03m# Coeficientes de las ecuaciones\u001b[39;00m\n\u001b[0;32m      4\u001b[0m     A \u001b[38;5;241m=\u001b[39m np\u001b[38;5;241m.\u001b[39marray([[\u001b[38;5;241m1\u001b[39m, \u001b[38;5;241m1\u001b[39m], [\u001b[38;5;241m4\u001b[39m, \u001b[38;5;241m2\u001b[39m], [\u001b[38;5;241m9\u001b[39m, \u001b[38;5;241m3\u001b[39m], [\u001b[38;5;241m25\u001b[39m, \u001b[38;5;241m5\u001b[39m]])\n",
      "\u001b[1;31mModuleNotFoundError\u001b[0m: No module named 'numpy'"
     ]
    }
   ],
   "source": [
    "def resolver_sistema(c=0):\n",
    "    \n",
    "    A = [[1, 1], [4, 2]]\n",
    "   \n",
    "    B = [8, 12]\n",
    "\n",
    "    \n",
    "    det_A = A[0][0] * A[1][1] - A[0][1] * A[1][0]\n",
    "    \n",
    "    if det_A == 0:\n",
    "        print(\"El sistema no tiene solución única.\")\n",
    "        return\n",
    "    \n",
    "    \n",
    "    det_a = B[0] * A[1][1] - B[1] * A[0][1]\n",
    "    \n",
    "   \n",
    "    det_b = A[0][0] * B[1] - A[1][0] * B[0]\n",
    "    \n",
    "    \n",
    "    a = det_a / det_A\n",
    "    b = det_b / det_A\n",
    "    \n",
    "    \n",
    "    print(f\"Los valores de a, b y c son: a = {a:.2f}, b = {b:.2f}, c = {c:.2f}\")\n",
    "\n",
    "\n",
    "resolver_sistema()\n",
    "\n",
    "\n",
    "resolver_sistema(c=2)\n",
    "\n",
    "\n"
   ]
  }
 ],
 "metadata": {
  "kernelspec": {
   "display_name": "Python 3",
   "language": "python",
   "name": "python3"
  },
  "language_info": {
   "codemirror_mode": {
    "name": "ipython",
    "version": 3
   },
   "file_extension": ".py",
   "mimetype": "text/x-python",
   "name": "python",
   "nbconvert_exporter": "python",
   "pygments_lexer": "ipython3",
   "version": "3.12.6"
  }
 },
 "nbformat": 4,
 "nbformat_minor": 2
}
