{
 "cells": [
  {
   "cell_type": "markdown",
   "metadata": {},
   "source": [
    "# TP6\n",
    "\n",
    "### `Resolver usando Pandas`\n",
    "\n",
    "Resolver los ejercicios del TP3 utilizando la librería Pandas."
   ]
  },
  {
   "cell_type": "markdown",
   "metadata": {},
   "source": [
    "### Ejercicio 1: Cargar Datos de ventas.\n",
    "\n",
    "El archivo datos.dat contiene el registro de las ventas realizadas.\n",
    "\n",
    "Tiene un formato de ancho fijo:\n",
    "- `fecha`:    10 lugares\n",
    "- `producto`: 30 lugares\n",
    "- `precio`:   10 lugares\n",
    "- `cantidad`:  5 lugares\n",
    "\n",
    "Hacer una funcion que cargue los datos en un DataFrame de Pandas."
   ]
  },
  {
   "cell_type": "code",
   "execution_count": null,
   "metadata": {},
   "outputs": [
    {
     "ename": "ModuleNotFoundError",
     "evalue": "No module named 'pandas'",
     "output_type": "error",
     "traceback": [
      "\u001b[1;31m---------------------------------------------------------------------------\u001b[0m",
      "\u001b[1;31mModuleNotFoundError\u001b[0m                       Traceback (most recent call last)",
      "Cell \u001b[1;32mIn[1], line 1\u001b[0m\n\u001b[1;32m----> 1\u001b[0m \u001b[38;5;28;01mimport\u001b[39;00m \u001b[38;5;21;01mpandas\u001b[39;00m \u001b[38;5;28;01mas\u001b[39;00m \u001b[38;5;21;01mpd\u001b[39;00m  \n\u001b[0;32m      3\u001b[0m \u001b[38;5;28;01mdef\u001b[39;00m \u001b[38;5;21mcargar_datos\u001b[39m():\n\u001b[0;32m      5\u001b[0m     widths \u001b[38;5;241m=\u001b[39m [\u001b[38;5;241m10\u001b[39m, \u001b[38;5;241m30\u001b[39m, \u001b[38;5;241m10\u001b[39m, \u001b[38;5;241m5\u001b[39m]\n",
      "\u001b[1;31mModuleNotFoundError\u001b[0m: No module named 'pandas'"
     ]
    }
   ],
   "source": [
    "import pandas as pd  \n",
    "\n",
    "def cargar_datos():\n",
    "    \n",
    "    widths = [10, 30, 10, 5]\n",
    "    \n",
    "    df = pd.read_fwf('datos.dat', \n",
    "                     widths=widths,\n",
    "                     names=['fecha', 'producto', 'precio', 'cantidad'])\n",
    "    \n",
    "    df['fecha'] = pd.to_datetime(df['fecha'])\n",
    "    \n",
    "    df['producto'] = df['producto'].str.strip()\n",
    "    \n",
    "    return df\n",
    "datos = cargar_datos()\n",
    "datos \n"
   ]
  },
  {
   "cell_type": "markdown",
   "metadata": {},
   "source": [
    "### Ejercicio 2: Calcular el total de ventas.\n",
    "Hacer una función que sume los importes vendidos (precio * cantidad) y las cantidades.\n"
   ]
  },
  {
   "cell_type": "code",
   "execution_count": null,
   "metadata": {},
   "outputs": [],
   "source": [
    "def calcular_totales(datos):\n",
    "    pass # implementar\n",
    "\n",
    "importe = (datos['precio'] * datos['cantidad']).sum()\n",
    "cantidad = datos['cantidad'].sum()    \n",
    "print(f\"Las ventas fueron de ${importe:.2f} en {cantidad} unidades\")\n"
   ]
  },
  {
   "cell_type": "markdown",
   "metadata": {},
   "source": [
    "### Ejercicio 3: Listar las unidades vendidas.\n",
    "Listar cuántas unidades se vendieron en total para cada producto\n"
   ]
  },
  {
   "cell_type": "code",
   "execution_count": null,
   "metadata": {},
   "outputs": [],
   "source": [
    "\n",
    "def unidades_vendidas(datos):\n",
    "    total_por_producto = datos.groupby('producto')['cantidad'].sum()\n",
    "    print(\"\\nUnidades vendidas por producto:\")\n",
    "    for producto, cantidad in total_por_producto.items():\n",
    "        print(f\"{producto}: {cantidad}\")\n",
    "unidades_vendidas(datos)"
   ]
  },
  {
   "cell_type": "markdown",
   "metadata": {},
   "source": [
    "###  Ejercicio 4: Listar el precio promedio por producto.\n",
    "Hacer un listado del precio promedio por producto.\n"
   ]
  },
  {
   "cell_type": "code",
   "execution_count": null,
   "metadata": {},
   "outputs": [],
   "source": [
    "def precio_promedio(datos):\n",
    "    \n",
    "    promedio_por_producto = datos.groupby('producto')['precio'].mean()\n",
    "    print(\"\\nPrecio promedio por producto:\")\n",
    "    for producto, precio in promedio_por_producto.items():\n",
    "        print(f\"{producto}: ${precio:.2f}\")\n",
    "        \n",
    "precio_promedio(datos)"
   ]
  },
  {
   "cell_type": "code",
   "execution_count": null,
   "metadata": {},
   "outputs": [],
   "source": []
  },
  {
   "cell_type": "markdown",
   "metadata": {},
   "source": [
    "### Ejercicio 5: Ranking de productos\n",
    "Realizar un listado de los 3 productos más vendidos ordenados por la cantidad de unidades vendidas (ordenadas de mayor a menor)\n"
   ]
  },
  {
   "cell_type": "code",
   "execution_count": null,
   "metadata": {},
   "outputs": [],
   "source": [
    "def ranking_productos(datos, top=3):\n",
    "    ranking = datos.groupby('producto')['cantidad'].sum().sort_values(ascending=False).head(top)\n",
    "    print(\"\\nTop 3 productos más vendidos:\")\n",
    "    for producto, cantidad in ranking.items():\n",
    "        print(f\"{producto}: {cantidad} unidades\")\n",
    "ranking_productos(datos)\n"
   ]
  },
  {
   "cell_type": "markdown",
   "metadata": {},
   "source": [
    "### Ejercicio 6: Listar las ventas por mes\n",
    "Realizar un listado del total de unidades vendidas por producto separado por mes.\n"
   ]
  },
  {
   "cell_type": "code",
   "execution_count": null,
   "metadata": {},
   "outputs": [],
   "source": [
    "\n",
    "def ventas_por_mes(datos):\n",
    "\n",
    "    datos['mes'] = datos['fecha'].dt.strftime('%Y-%m')\n",
    "    \n",
    "    ventas_mensual = datos.pivot_table(\n",
    "        index='producto',\n",
    "        columns='mes',\n",
    "        values='cantidad',\n",
    "        aggfunc='sum',\n",
    "        fill_value=0\n",
    "    )\n",
    "    \n",
    "    print(\"\\nVentas por mes y producto:\")\n",
    "    print(ventas_mensual)\n",
    "ventas_por_mes(datos)"
   ]
  },
  {
   "cell_type": "markdown",
   "metadata": {},
   "source": [
    "### Ejercicio 7: Informe general\n",
    "\n",
    "Mostrar un listado de productos ordenados alfabeticamente que contengan el precio promedio, la cantidad de unidades vendidas y el importe total vendido para cada producto"
   ]
  },
  {
   "cell_type": "code",
   "execution_count": null,
   "metadata": {},
   "outputs": [],
   "source": [
    "\n",
    "def resumen_ventas(datos):\n",
    "    resumen = datos.groupby('producto').agg({\n",
    "        'precio': 'mean',\n",
    "        'cantidad': 'sum'\n",
    "    }).sort_index()\n",
    "    \n",
    "    resumen['importe_total'] = resumen['precio'] * resumen['cantidad']\n",
    "    \n",
    "    print(\"\\nResumen general por producto:\")\n",
    "    for producto in resumen.index:\n",
    "        print(f\"\\n{producto}:\")\n",
    "        print(f\"Precio promedio: ${resumen.loc[producto, 'precio']:.2f}\")\n",
    "        print(f\"Unidades vendidas: {int(resumen.loc[producto, 'cantidad'])}\")\n",
    "        print(f\"Importe total: ${resumen.loc[producto, 'importe_total']:.2f}\")\n",
    "resumen_ventas(datos)"
   ]
  },
  {
   "cell_type": "markdown",
   "metadata": {},
   "source": [
    "## `Resolver usando NumPy`\n",
    "## Resolver el ejercicio 2 del tp1 usando NumPy"
   ]
  },
  {
   "cell_type": "markdown",
   "metadata": {},
   "source": [
    "### Ejercicio 8\n",
    "\n",
    "Escribe una función en Python que encuentre los valores de `a`, `b`, y `c` para que la función cuadrática `f(x) = a x^2 + b x + c` pase exactamente por los siguientes puntos:\n",
    "\n",
    "| x  | y  |\n",
    "|---:|---:|\n",
    "|  0 |  0 |\n",
    "|  1 |  8 |\n",
    "|  2 | 12 |\n",
    "|  3 | 12 |\n",
    "|  5 |  0 |\n",
    "\n",
    "### Requisitos:\n",
    "- La función debe explorar posibles valores de `a`, `b`, y `c` utilizando un método de prueba y error.\n",
    "- Debe devolver los valores que hagan que la diferencia entre la función `f(x)` y los valores medidos `y` sea exactamente cero para cada punto.\n",
    "\n",
    "> **Pista**: Los valores de `a`, `b`, y `c` son números pequeños.\n",
    "\n",
    "La idea es implementar el mismo algoritmo que se uso en el TP1 pero usando NumPy en lugar de Python puro."
   ]
  },
  {
   "cell_type": "code",
   "execution_count": null,
   "metadata": {},
   "outputs": [
    {
     "data": {
      "text/plain": [
       "(-2, 10, 0)"
      ]
     },
     "execution_count": 4,
     "metadata": {},
     "output_type": "execute_result"
    }
   ],
   "source": [
    "import numpy as np\n",
    "\n",
    "def f(x, coeficientes):\n",
    "    a, b, c = coeficientes\n",
    "    return a * x**2 + b * x + c\n",
    "\n",
    "def error(y, y_pred):\n",
    "    return y - y_pred\n",
    "\n",
    "X = np.array([0, 1, 2, 3, 5])\n",
    "Y = np.array([0, 8, 12, 12, 0])\n",
    "\n",
    "def buscar_coeficientes():\n",
    "    mejor_error = float('inf')\n",
    "    mejor_coeficientes = (0, 0, 0)\n",
    "    \n",
    "    for a in np.arange(-10, 10, 0.1):\n",
    "        for b in np.arange(-10, 10, 0.1):\n",
    "            for c in np.arange(-10, 10, 0.1):\n",
    "                Y_pred = f(X, (a, b, c))\n",
    "                \n",
    "                total_error = np.sum(np.abs(error(Y, Y_pred)))\n",
    "                \n",
    "                if total_error < mejor_error:\n",
    "                    mejor_error = total_error\n",
    "                    mejor_coeficientes = (a, b, c)\n",
    "                \n",
    "                if total_error == 0:\n",
    "                    return mejor_coeficientes\n",
    "    \n",
    "    return mejor_coeficientes\n",
    "\n",
    "coeficientes = buscar_coeficientes()\n",
    "coeficientes\n"
   ]
  },
  {
   "cell_type": "markdown",
   "metadata": {},
   "source": [
    "### Ejercicio 9: Resolver el ejercicio 3 del TP1 usando NumPy\n",
    "Buscar los coeficientes de la función que minimice la suma de los cuadrados de las diferencias entre los valores medidos y los valores de la función.\n",
    "\n",
    "1. Crear un array con los coeficientes elegidos al azar (usar `randint(-10,10,3)`).\n",
    "2. Calcular el valor de la función y el error correspondiente.\n",
    "3. Mientras que el error sea mayor a 1:\n",
    "    1. Definir nuevos coeficientes agregándoles un pequeño valor al azar a los coeficientes actuales (aprendizaje = 0.001).\n",
    "    2. Si el error para los nuevos coeficientes es menor que el anterior, reemplazar los coeficientes actuales por los nuevos.\n"
   ]
  },
  {
   "cell_type": "code",
   "execution_count": null,
   "metadata": {},
   "outputs": [
    {
     "name": "stdout",
     "output_type": "stream",
     "text": [
      "Los coeficientes son [-1.781  8.961  0.615] y el error es 0.9958049999998968\n"
     ]
    },
    {
     "data": {
      "text/plain": [
       "array([-1.781,  8.961,  0.615])"
      ]
     },
     "execution_count": 121,
     "metadata": {},
     "output_type": "execute_result"
    }
   ],
   "source": [
    "import numpy as np\n",
    "from numpy.random import randint\n",
    "\n",
    "def f(x, coeficientes):\n",
    "    a, b, c = coeficientes\n",
    "    return a * x**2 + b * x + c\n",
    "\n",
    "def error(y, y_pred):\n",
    "    return np.sum((y - y_pred)**2)\n",
    "\n",
    "X = np.array([0, 1, 2, 3, 5])\n",
    "Y = np.array([0, 8, 12, 11, 1]) \n",
    "\n",
    "def buscar_coeficientes():\n",
    "    coeficientes = randint(-10, 10, 3) \n",
    "    aprendizaje = 0.001\n",
    "    err_actual = error(Y, f(X, coeficientes))\n",
    "    \n",
    "    while err_actual > 1:  \n",
    "        nuevos_coeficientes = coeficientes + np.random.uniform(-aprendizaje, aprendizaje, 3)\n",
    "        err_nuevo = error(Y, f(X, nuevos_coeficientes))\n",
    "        \n",
    "        if err_nuevo < err_actual:\n",
    "            coeficientes = nuevos_coeficientes\n",
    "            err_actual = err_nuevo\n",
    "    \n",
    "    return coeficientes\n",
    "\n",
    "coeficientes = buscar_coeficientes()\n",
    "coeficientes\n",
    "\n"
   ]
  }
 ],
 "metadata": {
  "kernelspec": {
   "display_name": "Python 3",
   "language": "python",
   "name": "python3"
  },
  "language_info": {
   "codemirror_mode": {
    "name": "ipython",
    "version": 3
   },
   "file_extension": ".py",
   "mimetype": "text/x-python",
   "name": "python",
   "nbconvert_exporter": "python",
   "pygments_lexer": "ipython3",
   "version": "3.12.6"
  }
 },
 "nbformat": 4,
 "nbformat_minor": 2
}
