{
 "cells": [
  {
   "cell_type": "markdown",
   "metadata": {},
   "source": [
    "# Practica de colecciones y estructura de control"
   ]
  },
  {
   "cell_type": "markdown",
   "metadata": {},
   "source": [
    "## 1. Extraer token\n",
    "\n",
    "Escribe una función en Python que, dado un string que representa una expresión matemática (por ejemplo, \"(1 + 23 * 34 + (15 + 10))\"), convierta la expresión en una lista de sus componentes. La lista debe incluir cada número, operador y paréntesis como elementos separados. Recorre la expresión carácter por carácter utilizando un bucle for y utiliza condicionales if para manejar cada caso (números, operadores, paréntesis y espacios).\n",
    "\n",
    "Por ejemplo, dada la expresión \"(1 + 23 * 34 + (15 + 10))\", la función debe devolver la lista:\n",
    "\n",
    "```python\n",
    "[\"(\", \"1\", \"+\", \"23\", \"*\", \"34\", \"+\", \"(\", \"15\", \"+\", \"10\", \")\", \")\"]\n",
    "```"
   ]
  },
  {
   "cell_type": "code",
   "execution_count": 5,
   "metadata": {},
   "outputs": [
    {
     "name": "stdout",
     "output_type": "stream",
     "text": [
      "['(', '0', '+', '2', '05', '+', '(', '400', '-', '300', ')', ')']\n",
      "¡Todos los casos de prueba pasaron!\n"
     ]
    }
   ],
   "source": [
    "def dividir_en_elementos(cadena):\n",
    "    elementos = []\n",
    "    digito = ''\n",
    "\n",
    "    for caracter in cadena:\n",
    "        if caracter.isdigit():\n",
    "            digito += caracter\n",
    "        else:\n",
    "            if digito:\n",
    "                elementos.append(digito)\n",
    "                digito = ''\n",
    "            if caracter in '()+-/':\n",
    "                elementos.append(caracter)\n",
    "            elif caracter.isspace():\n",
    "                continue\n",
    "\n",
    "    if digito:\n",
    "        elementos.append(digito)\n",
    "\n",
    "    return elementos\n",
    "\n",
    "\n",
    "cadena = \"(0 + 2 05 + (400 - 300))\"\n",
    "resultado = dividir_en_elementos(cadena)\n",
    "print(resultado)\n",
    "\n",
    "print(\"¡Todos los casos de prueba pasaron!\")\n"
   ]
  },
  {
   "cell_type": "markdown",
   "metadata": {},
   "source": [
    "## 2. Comprobar parentesis\n",
    "\n",
    "Enunciado:\n",
    "\n",
    "Escribe una función en Python que verifique si los paréntesis en una lista de tokens están correctamente balanceados. La lista puede contener números, operadores y paréntesis. Unos paréntesis están balanceados si:\n",
    "\n",
    "1. Cada paréntesis de apertura ( tiene un paréntesis de cierre ) correspondiente.\n",
    "1. Los paréntesis de cierre no aparecen antes de haberse abierto.\n",
    "\n",
    "La función debe recorrer la lista utilizando un contador que se incremente al encontrar un paréntesis de apertura y se decremente al encontrar uno de cierre. Si en algún momento el contador es negativo, o si al final no es cero, los paréntesis no están balanceados.\n",
    "\n",
    "Ejemplos:\n",
    "* Para la lista [\"(\", \"1\", \"+\", \"2\", \"+\", \"(\", \"3\", \"*\", \"4\", \")\", \"+\", \"(\", \"5\", \"*\", \"6\", \")\", \")\"], la función debe devolver True (balance correcto).\n",
    "* Para la lista [\"(\", \"(\", \"1\", \"+\", \"2\", \")\", \"+\", \"3\"], la función debe devolver False (falta un paréntesis de cierre).\n",
    "* Para la lista [\"(\", \"1\", \"+\", \"3\", \")\", \"*\", \"4\", \")\"], la función debe devolver False (hay un paréntesis de cierre de más)."
   ]
  },
  {
   "cell_type": "code",
   "execution_count": 21,
   "metadata": {},
   "outputs": [
    {
     "name": "stdout",
     "output_type": "stream",
     "text": [
      "¡Todos los casos de prueba pasaron!\n"
     ]
    }
   ],
   "source": [
    "def es_balance_parentesis(tokens):\n",
    "    contador = 0\n",
    "    for token in tokens:\n",
    "        if token == \"(\":\n",
    "            contador += 1\n",
    "        elif token == \")\":\n",
    "            contador -= 1\n",
    "            if contador < 0:\n",
    "                return False\n",
    "    return contador == 0\n",
    "\n",
    "# Casos de prueba\n",
    "assert es_balance_parentesis([\"(\", \"1\", \"+\", \"2\", \"+\", \"(\", \"3\", \"\", \"4\", \")\", \"+\", \"(\", \"5\", \"\", \"6\", \")\", \")\"]) == True\n",
    "assert es_balance_parentesis([\"(\", \"(\", \"1\", \"+\", \"2\", \")\", \"+\", \"3\"]) == False\n",
    "assert es_balance_parentesis([\"(\", \"1\", \"+\", \"3\", \")\", \"*\", \"4\", \")\"]) == False\n",
    "assert es_balance_parentesis([]) == True\n",
    "assert es_balance_parentesis([\"(\", \"(\", \"(\", \"1\", \"+\", \"2\"]) == False\n",
    "assert es_balance_parentesis([\")\", \"1\", \"+\", \"2\", \")\"]) == False\n",
    "\n",
    "print(\"¡Todos los casos de prueba pasaron!\")\n"
   ]
  },
  {
   "cell_type": "markdown",
   "metadata": {},
   "source": [
    "## Ejericio 3: Comprobar expresion valida\n",
    "\n",
    "Escribe una función en Python que verifique si una lista de tokens que representa una expresión matemática simple está correctamente escrita. La expresión puede contener números, operadores aritméticos (+, -, *, /) y paréntesis, y se considera válida si cumple las siguientes reglas:\n",
    "\n",
    "1. Un número por sí solo es una expresión válida.\n",
    "1. Una expresión entre paréntesis es válida si lo que está dentro también es una expresión válida.\n",
    "1. Después de una expresión válida, puede haber un operador (+, -, *, /) seguido de otra expresión válida.\n",
    "1. No puede haber operadores seguidos sin una expresión válida entre ellos.\n",
    "\n",
    "La función debe devolver True si la expresión es válida y False si es incorrecta.\n",
    "\n",
    "#### Pistas:\n",
    "1. Considere que la funcion tiene parentesis corretamente balanceados ya que tenemos una funcion para verificarlo.\n",
    "\n",
    "Ejemplos:\n",
    "\n",
    "- Para la lista [\"(\", \"1\", \"+\", \"2\", \")\", \"*\", \"3\"], la función debe devolver True (expresión válida).\n",
    "- Para la lista [\"1\", \"+\", \"(\", \")\"], la función debe devolver False (los paréntesis están vacíos).\n",
    "- Para la lista [\"1\", \"*\", \"*\", \"2\"], la función debe devolver False (dos operadores seguidos no son válidos).\n"
   ]
  },
  {
   "cell_type": "code",
   "execution_count": 19,
   "metadata": {},
   "outputs": [
    {
     "name": "stdout",
     "output_type": "stream",
     "text": [
      "¡Todos los casos de prueba pasaron!\n"
     ]
    }
   ],
   "source": [
    "def es_expresion_valida(lista):\n",
    "    es_valida = True  \n",
    "    esperando_valido = True  \n",
    "    balance = 0  \n",
    "\n",
    "    operadores = set(\"+-/\")  \n",
    "    numeros = set(\"0123456789\")  \n",
    "\n",
    "    for i, token in enumerate(lista):\n",
    "        if token == \"\":  \n",
    "            continue\n",
    "        \n",
    "        if token in numeros:  \n",
    "            if not esperando_valido:  \n",
    "                es_valida = False\n",
    "                break\n",
    "            esperando_valido = False  \n",
    "        elif token in operadores:  \n",
    "            if esperando_valido:  \n",
    "                es_valida = False\n",
    "                break\n",
    "            esperando_valido = True  \n",
    "        elif token == \"(\":  \n",
    "            balance += 1\n",
    "            esperando_valido = True  \n",
    "        elif token == \")\":  \n",
    "            balance -= 1\n",
    "            if balance < 0 or esperando_valido:  \n",
    "                es_valida = False\n",
    "                break\n",
    "            esperando_valido = False  \n",
    "        else:  \n",
    "            es_valida = False\n",
    "            break\n",
    "\n",
    "    \n",
    "    es_valida = es_valida and not esperando_valido and balance == 0\n",
    "\n",
    "    return es_valida\n",
    "\n",
    "assert es_expresion_valida([\"(\", \"1\", \"+\", \"2\", \")\", \"/\", \"(\", \"3\", \"-\", \"4\", \")\"]) == True\n",
    "assert es_expresion_valida([\"(\", \"1\", \"+\", \"(\", \"2\", \"\", \"3\", \")\", \"-\", \"4\", \")\"]) == False\n",
    "assert es_expresion_valida([\"1\", \"+\", \"2\", \"\", \"3\", \"/\", \"4\"]) == False\n",
    "assert es_expresion_valida([\"1\", \"+\", \"+\", \"2\"]) == False\n",
    "assert es_expresion_valida([\"(\", \"1\", \"+\", \"2\", \"\", \"3\"]) == False\n",
    "assert es_expresion_valida([\"1\", \"+\", \"2\", \")\", \"\", \"3\"]) == False\n",
    "assert es_expresion_valida([\"(\", \"1\", \"+\", \"2\", \")\", \"\", \"(\", \"3\", \"/\", \"4\", \")\"]) == True\n",
    "\n",
    "print(\"¡Todos los casos de prueba pasaron!\")\n"
   ]
  },
  {
   "cell_type": "markdown",
   "metadata": {},
   "source": [
    "## Ejercicio 4: Evaluar una expresión:\n",
    "### Enunciado:\n",
    "\n",
    "Escribe una función en Python que evalúe una expresión matemática representada como una lista de tokens. La expresión puede contener números, operadores de suma (`+`), multiplicación (`*`), y paréntesis (`(` y `)`). La función debe seguir estas reglas:\n",
    "\n",
    "1. **Los paréntesis** se evalúan primero, resolviendo las expresiones más internas antes de continuar.\n",
    "1. **Las multiplicaciones** (`*`) tienen prioridad sobre las sumas (`+`) y se deben resolver antes.\n",
    "1. **Las sumas** (`+`) se resuelven después de las multiplicaciones, siguiendo el orden de izquierda a derecha.\n",
    "\n",
    "#### Pistas:\n",
    "- Puedes crear **funciones separadas** para:\n",
    "  - Evaluar las expresiones dentro de los paréntesis.\n",
    "  - Resolver las multiplicaciones una vez que no queden paréntesis.\n",
    "  - Resolver las sumas una vez que las multiplicaciones estén resueltas.\n",
    "  \n",
    "- **Convierte la lista de tokens a una nueva lista** a medida que evalúas los paréntesis o los operadores, reemplazando las subexpresiones ya resueltas por su valor.\n",
    "\n",
    "#### Pistas adicionales:\n",
    "1. Considere que la lista tiene una expresion bien formada ya que disponemos de una funcion para verificar la misma.\n",
    "1. **Evaluar paréntesis interiores**: Para resolver los paréntesis, recorre la lista de tokens mientras haya paréntesis. Cuando encuentres un paréntesis de apertura `\"(\"`, registra su posición inicial. Cuando encuentres un paréntesis de cierre `\")\"`, registra la posición final. La sublista entre estas posiciones debe pasarse recursivamente a la función `evaluar`. El resultado debe reemplazar la subexpresión dentro de la lista.\n",
    "\n",
    "1. **Evaluar multiplicaciones**: Una vez que hayas resuelto los paréntesis, ya no quedarán paréntesis en la expresión. Al evaluar las multiplicaciones, siempre habrá un número antes y otro después del operador `\"*\"`. Simplemente recorre la lista, reemplaza el token `\"*\"` y los números adyacentes con su producto.\n",
    "\n",
    "1. **Evaluar sumas**: Al evaluar las sumas, la lista solo contendrá números y el operador `\"+\"`. El resultado será el primer número, y luego, cada vez que encuentres un `\"+\"`, suma el siguiente número al resultado. Continúa así avanzando por la lista de dos tokens a la vez (número, operador, número).\n",
    "\n",
    "#### Ejemplos:\n",
    "\n",
    "- Para la lista `[\"(\", \"1\", \"+\", \"2\", \")\", \"*\", \"3\"]`, la función debe devolver `9`.\n",
    "- Para la lista `[\"1\", \"+\", \"(\", \"2\", \"*\", \"3\", \"+\", \"4\", \")\", \"*\", \"5\"]`, la función debe devolver `36`.\n",
    "- Para la lista `[\"(\", \"5\", \"*\", \"6\", \"+\", \"7\", \")\", \"*\", \"(\", \"8\", \"+\", \"9\", \")\"]`, la función debe devolver `204`.\n",
    "\n"
   ]
  },
  {
   "cell_type": "code",
   "execution_count": 23,
   "metadata": {},
   "outputs": [
    {
     "name": "stdout",
     "output_type": "stream",
     "text": [
      "¡Todos los casos de prueba pasaron!\n"
     ]
    }
   ],
   "source": [
    "def calcular(elementos):\n",
    "    # Paso 1: Resolver los paréntesis primero\n",
    "    elementos = resolver_parentesis(elementos)\n",
    "\n",
    "    # Paso 2: Resolver las multiplicaciones\n",
    "    elementos = resolver_multiplicaciones(elementos)\n",
    "\n",
    "    # Paso 3: Resolver las sumas\n",
    "    return resolver_sumas(elementos)\n",
    "\n",
    "def resolver_parentesis(elementos):\n",
    "    while \"(\" in elementos:\n",
    "        indice_apertura = -1\n",
    "        for indice, valor in enumerate(elementos):\n",
    "            if valor == \"(\":\n",
    "                indice_apertura = indice\n",
    "            elif valor == \")\":\n",
    "                sublista = elementos[indice_apertura + 1:indice]\n",
    "                valor_resuelto = calcular(sublista)  # Resolver recursivamente la subexpresión\n",
    "                elementos = elementos[:indice_apertura] + [str(valor_resuelto)] + elementos[indice+1:]\n",
    "                break\n",
    "    return elementos\n",
    "\n",
    "def resolver_multiplicaciones(elementos):\n",
    "    indice = 0\n",
    "    while indice < len(elementos):\n",
    "        if elementos[indice] == \"*\":\n",
    "            producto = int(elementos[indice-1]) * int(elementos[indice+1])\n",
    "            elementos = elementos[:indice-1] + [str(producto)] + elementos[indice+2:]\n",
    "        else:\n",
    "            indice += 1\n",
    "    return elementos\n",
    "\n",
    "def resolver_sumas(elementos):\n",
    "    total = int(elementos[0])\n",
    "    indice = 1\n",
    "    while indice < len(elementos):\n",
    "        if elementos[indice] == \"+\":\n",
    "            total += int(elementos[indice+1])\n",
    "        indice += 2\n",
    "    return total\n",
    "\n",
    "# Casos de prueba\n",
    "assert calcular([\"(\", \"1\", \"+\", \"2\", \")\", \"*\", \"3\"]) == 9\n",
    "assert calcular([\"1\", \"+\", \"2\", \"*\", \"3\"]) == 7\n",
    "assert calcular([\"(\", \"1\", \"+\", \"2\", \")\", \"+\", \"(\", \"3\", \"*\", \"4\", \")\"]) == 15\n",
    "assert calcular([\"10\", \"+\", \"(\", \"5\", \"*\", \"3\", \")\", \"+\", \"2\"]) == 27\n",
    "assert calcular([\"(\", \"2\", \"+\", \"3\", \")\", \"*\", \"(\", \"4\", \"+\", \"1\", \")\"]) == 25\n",
    "\n",
    "print(\"¡Todos los casos de prueba pasaron!\")\n"
   ]
  }
 ],
 "metadata": {
  "kernelspec": {
   "display_name": "Python 3",
   "language": "python",
   "name": "python3"
  },
  "language_info": {
   "codemirror_mode": {
    "name": "ipython",
    "version": 3
   },
   "file_extension": ".py",
   "mimetype": "text/x-python",
   "name": "python",
   "nbconvert_exporter": "python",
   "pygments_lexer": "ipython3",
   "version": "3.12.6"
  }
 },
 "nbformat": 4,
 "nbformat_minor": 2
}
