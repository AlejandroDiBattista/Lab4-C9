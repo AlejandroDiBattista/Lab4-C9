{
 "cells": [
  {
   "cell_type": "markdown",
   "metadata": {},
   "source": [
    "# TP6\n",
    "\n",
    "### `Resolver usando Pandas`\n",
    "\n",
    "Resolver los ejercicios del TP3 utilizando la librería Pandas."
   ]
  },
  {
   "cell_type": "markdown",
   "metadata": {},
   "source": [
    "### Ejercicio 1: Cargar Datos de ventas.\n",
    "\n",
    "El archivo datos.dat contiene el registro de las ventas realizadas.\n",
    "\n",
    "Tiene un formato de ancho fijo:\n",
    "- `fecha`:    10 lugares\n",
    "- `producto`: 30 lugares\n",
    "- `precio`:   10 lugares\n",
    "- `cantidad`:  5 lugares\n",
    "\n",
    "Hacer una funcion que cargue los datos en un DataFrame de Pandas."
   ]
  },
  {
   "cell_type": "code",
   "execution_count": 1,
   "metadata": {},
   "outputs": [],
   "source": [
    "import pandas as pd\n",
    "\n",
    "def cargar_datos():\n",
    "    colspecs = [(0, 10), (10, 40), (40, 50), (50, 55)]\n",
    "    names = ['fecha', 'producto', 'precio', 'cantidad']\n",
    "    df = pd.read_fwf('datos.dat', colspecs=colspecs, names=names)\n",
    "    df['fecha'] = pd.to_datetime(df['fecha'])\n",
    "    return df\n",
    "\n",
    "datos = cargar_datos()"
   ]
  },
  {
   "cell_type": "markdown",
   "metadata": {},
   "source": [
    "### Ejercicio 2: Calcular el total de ventas.\n",
    "Hacer una función que sume los importes vendidos (precio * cantidad) y las cantidades.\n"
   ]
  },
  {
   "cell_type": "code",
   "execution_count": 2,
   "metadata": {},
   "outputs": [
    {
     "name": "stdout",
     "output_type": "stream",
     "text": [
      "Las ventas fueron de $392730.00 en 335 unidades\n"
     ]
    }
   ],
   "source": [
    "def calcular_totales(datos):\n",
    "    datos['importe'] = datos['precio'] * datos['cantidad']\n",
    "    total_importe = datos['importe'].sum()\n",
    "    total_cantidad = datos['cantidad'].sum()\n",
    "    return total_importe, total_cantidad\n",
    "\n",
    "importe, cantidad = calcular_totales(datos)\n",
    "print(f\"Las ventas fueron de ${importe:.2f} en {cantidad} unidades\")"
   ]
  },
  {
   "cell_type": "markdown",
   "metadata": {},
   "source": [
    "### Ejercicio 3: Listar las unidades vendidas.\n",
    "Listar cuántas unidades se vendieron en total para cada producto\n"
   ]
  },
  {
   "cell_type": "code",
   "execution_count": 3,
   "metadata": {},
   "outputs": [
    {
     "name": "stdout",
     "output_type": "stream",
     "text": [
      "producto                       unidades\n",
      "----------------------------------------\n",
      "Coca Cola                      57\n",
      "Mirinda                        85\n",
      "Pepsi Cola                     89\n",
      "Sprite                         72\n",
      "Torasso                        32\n"
     ]
    }
   ],
   "source": [
    "def unidades_vendidas(datos):\n",
    "    resumen = datos.groupby('producto')['cantidad'].sum().sort_index()\n",
    "    print(f\"{'producto':<30} {'unidades'}\")\n",
    "    print(\"-\" * 40) \n",
    "    for producto, cantidad in resumen.items():\n",
    "        print(f\"{producto:<30} {cantidad}\")\n",
    "\n",
    "unidades_vendidas(datos)"
   ]
  },
  {
   "cell_type": "markdown",
   "metadata": {},
   "source": [
    "###  Ejercicio 4: Listar el precio promedio por producto.\n",
    "Hacer un listado del precio promedio por producto.\n"
   ]
  },
  {
   "cell_type": "code",
   "execution_count": 4,
   "metadata": {},
   "outputs": [
    {
     "name": "stdout",
     "output_type": "stream",
     "text": [
      "producto                       precio\n",
      "----------------------------------------\n",
      "Coca Cola                      1072.50\n",
      "Mirinda                        1545.83\n",
      "Pepsi Cola                     1245.00\n",
      "Sprite                         841.43\n",
      "Torasso                        920.00\n"
     ]
    }
   ],
   "source": [
    "def precio_promedio(datos):\n",
    "    promedio = datos.groupby('producto')['precio'].mean().sort_index()\n",
    "    print(f\"{'producto':<30} {'precio'}\")\n",
    "    print(\"-\" * 40)  \n",
    "    for producto, precio in promedio.items():\n",
    "        print(f\"{producto:<30} {precio:.2f}\")\n",
    "\n",
    "precio_promedio(datos)"
   ]
  },
  {
   "cell_type": "markdown",
   "metadata": {},
   "source": [
    "### Ejercicio 5: Ranking de productos\n",
    "Realizar un listado de los 3 productos más vendidos ordenados por la cantidad de unidades vendidas (ordenadas de mayor a menor)\n"
   ]
  },
  {
   "cell_type": "code",
   "execution_count": 5,
   "metadata": {},
   "outputs": [
    {
     "name": "stdout",
     "output_type": "stream",
     "text": [
      "producto                       unidades\n",
      "----------------------------------------\n",
      "Pepsi Cola                     89\n",
      "Mirinda                        85\n",
      "Sprite                         72\n"
     ]
    }
   ],
   "source": [
    "def ranking_productos(datos, top=3):\n",
    "    ranking = datos.groupby('producto')['cantidad'].sum().nlargest(top)\n",
    "    print(f\"{'producto':<30} {'unidades'}\")\n",
    "    print(\"-\" * 40)  \n",
    "    for producto, cantidad in ranking.items():\n",
    "        print(f\"{producto:<30} {cantidad}\")\n",
    "\n",
    "ranking_productos(datos)"
   ]
  },
  {
   "cell_type": "markdown",
   "metadata": {},
   "source": [
    "### Ejercicio 6: Listar las ventas por mes\n",
    "Realizar un listado del total de unidades vendidas por producto separado por mes.\n"
   ]
  },
  {
   "cell_type": "code",
   "execution_count": 6,
   "metadata": {},
   "outputs": [
    {
     "name": "stdout",
     "output_type": "stream",
     "text": [
      "mes        producto             unidades\n",
      "---------------------------------------------\n",
      "2024-08    Mirinda              27\n",
      "2024-08    Pepsi Cola           10\n",
      "2024-08    Torasso              8\n",
      "2024-09    Coca Cola            57\n",
      "2024-09    Mirinda              58\n",
      "2024-09    Pepsi Cola           79\n",
      "2024-09    Sprite               72\n",
      "2024-09    Torasso              24\n"
     ]
    }
   ],
   "source": [
    "def ventas_por_mes(datos):\n",
    "    datos['mes'] = datos['fecha'].dt.to_period('M')\n",
    "    ventas_mensuales = datos.groupby(['mes', 'producto'])['cantidad'].sum().sort_index()\n",
    "    print(f\"{'mes':<10} {'producto':<20} {'unidades'}\")\n",
    "    print(\"-\" * 45) \n",
    "    for (mes, producto), cantidad in ventas_mensuales.items():\n",
    "        print(f\"{mes!s:<10} {producto:<20} {cantidad}\")\n",
    "\n",
    "ventas_por_mes(datos)"
   ]
  },
  {
   "cell_type": "markdown",
   "metadata": {},
   "source": [
    "### Ejercicio 7: Informe general\n",
    "\n",
    "Mostrar un listado de productos ordenados alfabeticamente que contengan el precio promedio, la cantidad de unidades vendidas y el importe total vendido para cada producto"
   ]
  },
  {
   "cell_type": "code",
   "execution_count": 7,
   "metadata": {},
   "outputs": [
    {
     "name": "stdout",
     "output_type": "stream",
     "text": [
      "producto                       precio     cantidad   importe   \n",
      "------------------------------------------------------------\n",
      "Coca Cola                      1072.50    57.0       60780.00  \n",
      "Mirinda                        1545.83    85.0       131080.00 \n",
      "Pepsi Cola                     1245.00    89.0       110510.00 \n",
      "Sprite                         841.43     72.0       61040.00  \n",
      "Torasso                        920.00     32.0       29320.00  \n"
     ]
    }
   ],
   "source": [
    "def resumen_ventas(datos):\n",
    "    datos['importe'] = datos['precio'] * datos['cantidad']\n",
    "    resumen = datos.groupby('producto').agg(\n",
    "        precio_promedio=('precio', 'mean'),\n",
    "        unidades_vendidas=('cantidad', 'sum'),\n",
    "        importe_total=('importe', 'sum')\n",
    "    ).sort_index()\n",
    "    \n",
    "    print(f\"{'producto':<30} {'precio':<10} {'cantidad':<10} {'importe':<10}\")\n",
    "    print(\"-\" * 60) \n",
    "    \n",
    "    for producto, row in resumen.iterrows():\n",
    "        print(f\"{producto:<30} {row['precio_promedio']:<10.2f} {row['unidades_vendidas']:<10} {row['importe_total']:<10.2f}\")\n",
    "\n",
    "resumen_ventas(datos)"
   ]
  },
  {
   "cell_type": "markdown",
   "metadata": {},
   "source": [
    "## `Resolver usando NumPy`\n",
    "## Resolver el ejercicio 2 del tp1 usando NumPy"
   ]
  },
  {
   "cell_type": "markdown",
   "metadata": {},
   "source": [
    "### Ejercicio 8\n",
    "\n",
    "Escribe una función en Python que encuentre los valores de `a`, `b`, y `c` para que la función cuadrática `f(x) = a x^2 + b x + c` pase exactamente por los siguientes puntos:\n",
    "\n",
    "| x  | y  |\n",
    "|---:|---:|\n",
    "|  0 |  0 |\n",
    "|  1 |  8 |\n",
    "|  2 | 12 |\n",
    "|  3 | 12 |\n",
    "|  5 |  0 |\n",
    "\n",
    "### Requisitos:\n",
    "- La función debe explorar posibles valores de `a`, `b`, y `c` utilizando un método de prueba y error.\n",
    "- Debe devolver los valores que hagan que la diferencia entre la función `f(x)` y los valores medidos `y` sea exactamente cero para cada punto.\n",
    "\n",
    "> **Pista**: Los valores de `a`, `b`, y `c` son números pequeños.\n",
    "\n",
    "La idea es implementar el mismo algoritmo que se uso en el TP1 pero usando NumPy en lugar de Python puro."
   ]
  },
  {
   "cell_type": "code",
   "execution_count": 8,
   "metadata": {},
   "outputs": [
    {
     "name": "stdout",
     "output_type": "stream",
     "text": [
      "Coeficientes a, b, c: [-2.00000000e+00  1.00000000e+01 -4.88498131e-15]\n",
      "Valores predichos por la función: [-4.88498131e-15  8.00000000e+00  1.20000000e+01  1.20000000e+01\n",
      " -4.88498131e-15]\n",
      "Error en cada punto: [4.88498131e-15 0.00000000e+00 3.55271368e-15 5.32907052e-15\n",
      " 4.88498131e-15]\n",
      "La función pasa exactamente por todos los puntos dados.\n"
     ]
    }
   ],
   "source": [
    "import numpy as np\n",
    "\n",
    "def f(x, coeficientes):\n",
    "    a, b, c = coeficientes\n",
    "    return a*x**2 + b*x + c\n",
    "\n",
    "X = np.array([0, 1, 2, 3, 5])\n",
    "Y = np.array([0, 8, 12, 12, 0])\n",
    "\n",
    "A = np.vstack([X**2, X, np.ones(len(X))]).T\n",
    "\n",
    "coeficientes, _, _, _ = np.linalg.lstsq(A, Y, rcond=None)\n",
    "\n",
    "print(\"Coeficientes a, b, c:\", coeficientes)\n",
    "\n",
    "Y_pred = f(X, coeficientes)\n",
    "print(\"Valores predichos por la función:\", Y_pred)\n",
    "\n",
    "error = np.abs(Y - Y_pred)\n",
    "print(\"Error en cada punto:\", error)\n",
    "\n",
    "tolerancia = 1e-10  \n",
    "if np.all(error < tolerancia):\n",
    "    print(\"La función pasa exactamente por todos los puntos dados.\")\n",
    "else:\n",
    "    print(\"La función no pasa exactamente por todos los puntos dados.\")"
   ]
  },
  {
   "cell_type": "markdown",
   "metadata": {},
   "source": [
    "### Ejercicio 9: Resolver el ejercicio 3 del TP1 usando NumPy\n",
    "Buscar los coeficientes de la función que minimice la suma de los cuadrados de las diferencias entre los valores medidos y los valores de la función.\n",
    "\n",
    "1. Crear un array con los coeficientes elegidos al azar (usar `randint(-10,10,3)`).\n",
    "2. Calcular el valor de la función y el error correspondiente.\n",
    "3. Mientras que el error sea mayor a 1:\n",
    "    1. Definir nuevos coeficientes agregándoles un pequeño valor al azar a los coeficientes actuales (aprendizaje = 0.001).\n",
    "    2. Si el error para los nuevos coeficientes es menor que el anterior, reemplazar los coeficientes actuales por los nuevos.\n"
   ]
  },
  {
   "cell_type": "code",
   "execution_count": 9,
   "metadata": {},
   "outputs": [
    {
     "name": "stdout",
     "output_type": "stream",
     "text": [
      "Coeficientes encontrados: [-1.78219734  8.96549492  0.62779017]\n"
     ]
    }
   ],
   "source": [
    "import numpy as np\n",
    "from numpy.random import randint\n",
    "\n",
    "def f(x, coeficientes):\n",
    "    a, b, c = coeficientes\n",
    "    return a*x**2 + b*x + c\n",
    "\n",
    "def error(y, y_pred):\n",
    "    return np.sum((y - y_pred)**2)\n",
    "\n",
    "X = np.array([0, 1, 2, 3, 5])\n",
    "Y = np.array([0, 8, 12, 11, 1])\n",
    "\n",
    "def buscar_coeficientes():\n",
    "    coeficientes = randint(-10, 10, 3)\n",
    "    \n",
    "    Y_pred = f(X, coeficientes)\n",
    "    error_actual = error(Y, Y_pred)\n",
    "    \n",
    "    aprendizaje = 0.001\n",
    "    \n",
    "    while error_actual > 1:\n",
    "        nuevos_coeficientes = coeficientes + np.random.uniform(-aprendizaje, aprendizaje, 3)\n",
    "        \n",
    "        Y_pred_nuevo = f(X, nuevos_coeficientes)\n",
    "        nuevo_error = error(Y, Y_pred_nuevo)\n",
    "        \n",
    "        \n",
    "        if nuevo_error < error_actual:\n",
    "            coeficientes = nuevos_coeficientes\n",
    "            error_actual = nuevo_error\n",
    "            \n",
    "    return coeficientes\n",
    "\n",
    "\n",
    "coeficientes = buscar_coeficientes()\n",
    "print(\"Coeficientes encontrados:\", coeficientes)"
   ]
  }
 ],
 "metadata": {
  "kernelspec": {
   "display_name": "Python 3",
   "language": "python",
   "name": "python3"
  },
  "language_info": {
   "codemirror_mode": {
    "name": "ipython",
    "version": 3
   },
   "file_extension": ".py",
   "mimetype": "text/x-python",
   "name": "python",
   "nbconvert_exporter": "python",
   "pygments_lexer": "ipython3",
   "version": "3.12.6"
  }
 },
 "nbformat": 4,
 "nbformat_minor": 2
}
