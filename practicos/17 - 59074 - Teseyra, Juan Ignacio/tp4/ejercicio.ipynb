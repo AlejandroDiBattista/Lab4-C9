{
 "cells": [
  {
   "cell_type": "markdown",
   "metadata": {},
   "source": [
    "# Simulación del Truco"
   ]
  },
  {
   "cell_type": "markdown",
   "metadata": {},
   "source": [
    "Las **cartas** deben registra el numero, palo y valor de la carta. \n",
    "El valor debe reflejar la jerarquía de las cartas en el juego del truco."
   ]
  },
  {
   "cell_type": "code",
   "execution_count": 4,
   "metadata": {},
   "outputs": [],
   "source": [
    "def calcular_valor(numero, palo):\n",
    "    if numero == 1 and palo == \"espada\":\n",
    "        return 14\n",
    "    elif numero == 1 and palo == \"basto\":\n",
    "        return 13\n",
    "    elif numero == 7 and palo == \"espada\":\n",
    "        return 12\n",
    "    elif numero == 7 and palo == \"oro\":\n",
    "        return 11\n",
    "    elif numero == 3:\n",
    "        return 10\n",
    "    elif numero == 2:\n",
    "        return 9\n",
    "    elif numero == 1:  # Resto de los ases\n",
    "        return 8\n",
    "    elif numero == 12:\n",
    "        return 7\n",
    "    elif numero == 11:\n",
    "        return 6\n",
    "    elif numero == 10:\n",
    "        return 5\n",
    "    elif numero == 7:  # Resto de los 7\n",
    "        return 4\n",
    "    elif numero == 6:\n",
    "        return 3\n",
    "    elif numero == 5:\n",
    "        return 2\n",
    "    elif numero == 4:\n",
    "        return 1\n",
    "    else:\n",
    "        return 0  # En caso de un valor no reconocido\n",
    "class Carta:\n",
    "    def __init__(self, numero, palo):\n",
    "        self.numero = numero\n",
    "        self.palo = palo\n",
    "        self.valor = calcular_valor(numero, palo)\n",
    "    \n",
    "    def __str__(self):\n",
    "        return f\"Carta: {self.numero} de {self.palo}, Valor: {self.valor}\"\n",
    "\n",
    "    def __repr__(self):\n",
    "        return self.__str__() \n",
    "\n",
    "c = Carta(1, \"oro\")\n"
   ]
  },
  {
   "cell_type": "markdown",
   "metadata": {},
   "source": [
    "**Mazo**: Representan las cartas españolas de 1 al 12, en los palos de oro, copa, espada y basto.\n",
    "\n",
    "Debe existir una función que permita barajar las cartas.\n",
    "y otra función que permita repartir las cartas a los jugadores."
   ]
  },
  {
   "cell_type": "code",
   "execution_count": 5,
   "metadata": {},
   "outputs": [
    {
     "name": "stdout",
     "output_type": "stream",
     "text": [
      "None\n"
     ]
    }
   ],
   "source": [
    "import random\n",
    "\n",
    "class Mazo:\n",
    "    def __init__(self):\n",
    "        self.cartas = [Carta(numero, palo) for numero in range(1, 13) if numero != 8 and numero != 9\n",
    "                       for palo in [\"oro\", \"copa\", \"espada\", \"basto\"]]\n",
    "\n",
    "    def mezclar(self):\n",
    "        random.shuffle(self.cartas)\n",
    "\n",
    "    def repartir(self, cantidad):\n",
    "        mano = self.cartas[:cantidad]\n",
    "        self.cartas = self.cartas[cantidad:]  # Eliminar las cartas repartidas del mazo\n",
    "        return mano\n",
    "\n",
    "m = Mazo()\n",
    "m.mezclar()\n",
    "print(m.repartir(3))"
   ]
  },
  {
   "cell_type": "markdown",
   "metadata": {},
   "source": [
    "**Jugador**: Deben tener un nombre y las cartas que tiene en la mano. Debe acumular los puntos ganados.\n",
    "\n",
    "Nota: Para simplificar el problema, el jugador elige la carta a jugar de forma aleatoria."
   ]
  },
  {
   "cell_type": "code",
   "execution_count": 6,
   "metadata": {},
   "outputs": [
    {
     "name": "stdout",
     "output_type": "stream",
     "text": [
      "None\n"
     ]
    }
   ],
   "source": [
    "class Jugador:\n",
    "    def __init__(self, nombre):\n",
    "        self.nombre = nombre\n",
    "        self.mano = []\n",
    "        self.puntos = 0\n",
    "\n",
    "    def recibir_cartas(self, cartas):\n",
    "        self.mano.extend(cartas)\n",
    "\n",
    "    def jugar_carta(self):\n",
    "        if not self.mano:\n",
    "            return None  # No hay cartas para jugar\n",
    "        carta_jugada = random.choice(self.mano)\n",
    "        self.mano.remove(carta_jugada)\n",
    "        return carta_jugada  # Devolver el objeto Carta\n",
    "\n",
    "    def acumular_puntos(self, puntos):\n",
    "        self.puntos += puntos\n",
    "\n",
    "    def __str__(self):\n",
    "        return f\"Jugador: {self.nombre}, Puntos: {self.puntos}, Cartas en mano: {self.mano}\"\n",
    "\n",
    "j = Jugador(\"Juan\")\n",
    "j.recibir_cartas(m.repartir(3))\n",
    "print(j.jugar_carta())"
   ]
  },
  {
   "cell_type": "markdown",
   "metadata": {},
   "source": [
    "**Partida**: Debe tener dos jugadores, un mazo de cartas y un puntaje. Debe permitir jugar una carta por ronda y definir el ganador de la ronda. Debe permitir jugar hasta que se terminen las cartas del mazo."
   ]
  },
  {
   "cell_type": "code",
   "execution_count": null,
   "metadata": {},
   "outputs": [],
   "source": [
    "class Partida:\n",
    "    def __init__(self, jugador1, jugador2):\n",
    "        self.jugador1 = jugador1\n",
    "        self.jugador2 = jugador2\n",
    "        self.mazo = Mazo()\n",
    "        self.puntos_maximos = 15\n",
    "\n",
    "    def jugar_ronda(self):\n",
    "        # Crear un nuevo mazo y mezclarlo\n",
    "        mazo = Mazo()\n",
    "        mazo.mezclar()\n",
    "\n",
    "        # Repartir 3 cartas a cada jugador\n",
    "        self.jugador1.recibir_cartas(mazo.repartir(3))\n",
    "        self.jugador2.recibir_cartas(mazo.repartir(3))\n",
    "\n",
    "        # Ambos jugadores juegan una carta\n",
    "        carta_j1 = self.jugador1.jugar_carta()\n",
    "        carta_j2 = self.jugador2.jugar_carta()\n",
    "\n",
    "        print(f\"{self.jugador1.nombre} juega: {carta_j1}\")\n",
    "        print(f\"{self.jugador2.nombre} juega: {carta_j2}\")\n",
    "\n",
    "        # Determinar quién gana la ronda\n",
    "        if carta_j1 and carta_j2:  # Comprobar que ambos jugadores hayan jugado una carta\n",
    "            if carta_j1.valor > carta_j2.valor:\n",
    "                print(f\"Gana {self.jugador1.nombre} la ronda.\")\n",
    "                self.jugador1.acumular_puntos(1)\n",
    "            elif carta_j2.valor > carta_j1.valor:\n",
    "                print(f\"Gana {self.jugador2.nombre} la ronda.\")\n",
    "                self.jugador2.acumular_puntos(1)\n",
    "            else:\n",
    "                print(\"Empate, nadie gana puntos esta ronda.\")\n",
    "\n",
    "        \n",
    "\n",
    "    def jugar(self):\n",
    "         # Continuar el juego hasta que uno de los jugadores tenga 15 puntos\n",
    "        while self.jugador1.puntos < self.puntos_maximos and self.jugador2.puntos < self.puntos_maximos:\n",
    "            print(\"\\n--- Nueva Ronda ---\")\n",
    "            self.jugar_ronda()\n",
    "\n",
    "            # Mostrar el puntaje después de cada ronda\n",
    "            print(f\"Puntaje: {self.jugador1.nombre}: {self.jugador1.puntos}, {self.jugador2.nombre}: {self.jugador2.puntos}\")\n",
    "\n",
    "        # Determinar quién ganó la partida\n",
    "        if self.jugador1.puntos >= self.puntos_maximos:\n",
    "            print(f\"¡{self.jugador1.nombre} gana la partida!\")\n",
    "        elif self.jugador2.puntos >= self.puntos_maximos:\n",
    "            print(f\"¡{self.jugador2.nombre} gana la partida!\")\n",
    "\n",
    "p = Partida(Jugador(\"Juan\"), Jugador(\"Pedro\"))\n",
    "p.jugar()"
   ]
  }
 ],
 "metadata": {
  "kernelspec": {
   "display_name": "Python 3",
   "language": "python",
   "name": "python3"
  },
  "language_info": {
   "codemirror_mode": {
    "name": "ipython",
    "version": 3
   },
   "file_extension": ".py",
   "mimetype": "text/x-python",
   "name": "python",
   "nbconvert_exporter": "python",
   "pygments_lexer": "ipython3",
   "version": "3.12.5"
  }
 },
 "nbformat": 4,
 "nbformat_minor": 2
}
