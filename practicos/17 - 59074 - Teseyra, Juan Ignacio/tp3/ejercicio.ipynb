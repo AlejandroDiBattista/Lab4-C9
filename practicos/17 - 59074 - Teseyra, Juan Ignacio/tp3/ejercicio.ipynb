{
 "cells": [
  {
   "cell_type": "markdown",
   "metadata": {},
   "source": [
    "#TP3"
   ]
  },
  {
   "cell_type": "markdown",
   "metadata": {},
   "source": [
    "## Ejercicio 1: Cargar Datos de ventas.\n",
    "\n",
    "El archivo datos.dat contiene el registro de las ventas realizadas.\n",
    "\n",
    "Tiene un formato de ancho fijo:\n",
    "- fecha:    10 lugares\n",
    "- producto: 30 lugares\n",
    "- precio:   10 lugares\n",
    "- cantidad:  5 lugares\n",
    "\n",
    "hacer una funcion que carge los en una lista de diccionarios. \n",
    "\n",
    "nota: con \n",
    "```python\n",
    "lineas = open(\"datos.dat\", \"r\").readlines() \n",
    "```\n",
    "puede obtener la lista de string de todos los datos "
   ]
  },
  {
   "cell_type": "code",
   "execution_count": null,
   "metadata": {},
   "outputs": [],
   "source": [
    "def cargar_datos():\n",
    "    lineas = open(\"datos.dat\" ,\"r\").readlines() #Abrimos archivo y leemos texto\n",
    "    datos = [] #Lista vacía donde vamos a guardar los registros\n",
    "\n",
    "    for linea in lineas: #Recorre las lineas y extrae los datos\n",
    "        fecha = linea[0:10].strip()\n",
    "        producto = linea[10:40].strip()\n",
    "        precio = float(linea[40:50].strip())\n",
    "        cantidad = int(linea[50:55].strip())\n",
    "\n",
    "    #Creamos un diccionario para los datos extraidos\n",
    "        registro = {\n",
    "            \"fecha\": fecha, #Guardamos los datos\n",
    "            \"producto\": producto,\n",
    "            \"precio\": precio,\n",
    "            \"cantidad\": cantidad\n",
    "        }\n",
    "        datos.append(registro)#Agregamos el diccionario a la lista\n",
    "    return datos\n",
    "datos = cargar_datos()\n",
    "\n",
    "\n"
   ]
  },
  {
   "cell_type": "markdown",
   "metadata": {},
   "source": [
    "## Ejercicio 2: Calcular el total de ventas.\n",
    "\n",
    "Hacer una funcion que sume los importes vendidos (precio * cantidad) y las cantidades"
   ]
  },
  {
   "cell_type": "code",
   "execution_count": null,
   "metadata": {},
   "outputs": [],
   "source": [
    "def calcular_totales(datos):\n",
    "    total_importe = 0\n",
    "    total_cantidad = 0\n",
    "    \n",
    "    for registro in datos:\n",
    "        #Calculamos la venta de cada registro\n",
    "        importe_venta = registro ['precio'] * registro['cantidad']\n",
    "        #Acumulamos los importes de ventas en la variable total_importe\n",
    "        total_importe = importe_venta + total_importe\n",
    "        #Acumulamos las cantidades en la variable total_importe\n",
    "        total_cantidad = registro['cantidad'] + total_cantidad\n",
    "    \n",
    "    return total_importe, total_cantidad\n",
    "\n",
    "\n",
    "datos = cargar_datos()\n",
    "\n",
    "importe, cantidad = calcular_totales(datos)\n",
    "\n",
    "print(f\"Las ventas fueron de ${importe:.2f} en {cantidad} unidades\")"
   ]
  },
  {
   "cell_type": "markdown",
   "metadata": {},
   "source": [
    "## Ejercicio 3: Listar las unidades vendidas.\n",
    "\n",
    "Listar cuantas unidades se vendieron en total para cada producto"
   ]
  },
  {
   "cell_type": "code",
   "execution_count": null,
   "metadata": {},
   "outputs": [],
   "source": [
    "def unidades_vendidas(datos):\n",
    "    ventas_por_producto= {} #Lista para guardar los productos vendidos\n",
    "\n",
    "    for registro in datos:\n",
    "        producto = registro['producto']  #Guardamos los datos para luego guardarlos en la lista nueva de ventas por producto\n",
    "        cantidad = registro['cantidad']\n",
    "\n",
    "        if producto in ventas_por_producto:\n",
    "            ventas_por_producto[producto] = ventas_por_producto[producto] + cantidad #Si el producto ya se vendió se le suma la cantidad a la lista\n",
    "        else:\n",
    "            ventas_por_producto[producto] = cantidad #Si el producto no se vendió se lo agrega a la lista\n",
    "    \n",
    "    return ventas_por_producto   \n",
    "\n",
    "def listar_ventas(datos):\n",
    "    print(\"Unidades vendidas por producto:\")\n",
    "    for producto, cantidad in ventas.items():\n",
    "        print (f\"{producto}: {cantidad} unidades\")\n",
    "\n",
    "ventas = unidades_vendidas(datos)\n",
    "listar_ventas(ventas)\n"
   ]
  },
  {
   "cell_type": "markdown",
   "metadata": {},
   "source": [
    "##  Ejercicio 4: Listar el precio promedio por producto.\n",
    "\n",
    "Hacer un listado del precio promedio por productos."
   ]
  },
  {
   "cell_type": "code",
   "execution_count": null,
   "metadata": {},
   "outputs": [],
   "source": [
    "def precio_promedio(datos):\n",
    "    precios_totales = {} #Guarda los precios totales\n",
    "    cantidad_ventas = {} #Guarda las cantidades de ventas\n",
    "      \n",
    "    \n",
    "    for registro in datos: #Recorre cada producto en datos\n",
    "        producto = registro['producto']\n",
    "        precio = registro['precio']\n",
    "\n",
    "        if producto in precios_totales:\n",
    "            precios_totales[producto] = precios_totales[producto] + precio #Si el producto está en la lista, se le suma el precio nuevo \n",
    "            cantidad_ventas[producto] = cantidad_ventas[producto] + 1 #Si el producto está en la lista, se le suma 1 a la cantidad de ventas\n",
    "        else:\n",
    "            precios_totales[producto] = precio #Si el producto no está en la lista, suma le coloca el precio del producto\n",
    "            cantidad_ventas[producto] = 1   #Se le coloca 1 a la cantidad de ventas\n",
    "\n",
    "    precios_promedio = {}\n",
    "    for producto in precios_totales:\n",
    "        precios_promedio[producto] = precios_totales[producto] / cantidad_ventas[producto] #Recorre la lista precios promedios y calcula el promedio de cada producto\n",
    "    return precios_promedio\n",
    "\n",
    "def listar_precios(datos):\n",
    "    print(\"Precio promedio por producto:\")\n",
    "    for producto, precio in precios.items():\n",
    "        print(f\"{producto}: ${precio:.2f}\")\n",
    "\n",
    "\n",
    "precios = precio_promedio(datos)\n",
    "listar_precios(precios)"
   ]
  },
  {
   "cell_type": "markdown",
   "metadata": {},
   "source": [
    "### Ejercicio 5: Ranking de productos\n",
    "\n",
    "Realizar un listado de los 3 productos mas vendidos ordenados la cantidad de unidades vendidas (ordenadas de mayor a menor)\n"
   ]
  },
  {
   "cell_type": "code",
   "execution_count": null,
   "metadata": {},
   "outputs": [],
   "source": [
    "from collections import Counter\n",
    "def ranking_productos(datos, top=3):\n",
    "    #Contamos las unidades de cada producto\n",
    "    conteo = Counter(item['producto']for item in datos)\n",
    "    #Obtener los productos mas vendidos y sus cantidades\n",
    "    ranking = conteo.most_common(limite)\n",
    "    return ranking\n",
    "\n",
    "def listar_ranking(ranking):\n",
    "    print(\"Ranking de productos más vendidos:\")\n",
    "    \n",
    "    for i, (producto, cantidad) in enumerate(ranking, start=1):\n",
    "    \n",
    "        print(f\"{i}. {producto}: {cantidad} unidades\")\n",
    "\n",
    "ranking = ranking_productos(datos)\n",
    "listar_ranking(ranking)"
   ]
  },
  {
   "cell_type": "markdown",
   "metadata": {},
   "source": [
    "### Ejercicio 6: Listar las ventas por mes\n",
    "\n",
    "Realizar un listado del total de unidades vendidas por productos separada por mes."
   ]
  },
  {
   "cell_type": "code",
   "execution_count": null,
   "metadata": {},
   "outputs": [],
   "source": [
    "from datetime import datetime\n",
    "def ventas_por_mes(datos):\n",
    "    ventas = defaultdict(lambda: defaultdict(int))  # {mes: {producto: total_unidades}}\n",
    "    \n",
    "    for entrada in datos:\n",
    "        fecha = entrada['fecha']  # Extrae la fecha del registro\n",
    "        producto = entrada['producto']  # Extrae el producto del registro\n",
    "        cantidad = entrada['cantidad']  # Extrae la cantidad del registro\n",
    "\n",
    "        # Convertir la fecha a objeto datetime para extraer el mes\n",
    "        mes = datetime.strptime(fecha, '%Y-%m-%d').strftime('%Y-%m')  # Formato YYYY-MM\n",
    "        \n",
    "        # Sumar la cantidad vendida\n",
    "        ventas[mes][producto] += cantidad\n",
    "    \n",
    "    return dict(ventas)  # Convertir a dict normal para facilitar su uso\n",
    "\n",
    "def listar_ventas_mensuales(ventas):\n",
    "    print(\"Ventas por mes:\")\n",
    "    for mes, productos in sorted(ventas.items()):\n",
    "        print(f\"\\nMes: {mes}\")\n",
    "        for producto, total in productos.items():\n",
    "            print(f\"  {producto}: {total} unidades\")\n",
    "\n",
    "ventas = ventas_por_mes(datos)\n",
    "listar_ventas_mensuales(ventas)"
   ]
  },
  {
   "cell_type": "markdown",
   "metadata": {},
   "source": [
    "### Ejercicio 7: Informe general\n",
    "\n",
    "Mostrar un listado de productos ordenados alfabeticamente que contengan el precio promedio, la cantidad de unidades vendidas y el importe total vendido para cada producto"
   ]
  },
  {
   "cell_type": "code",
   "execution_count": null,
   "metadata": {},
   "outputs": [],
   "source": [
    "from collections import defaultdict\n",
    "def resumen_ventas(datos):\n",
    "    resumen = defaultdict(lambda: {'total_cantidad': 0, 'total_importe': 0.0, 'precio_promedio': 0.0})\n",
    "    \n",
    "    for entrada in datos:\n",
    "        producto = entrada['producto']\n",
    "        cantidad = entrada['cantidad']\n",
    "        precio = entrada['precio']\n",
    "\n",
    "        # Sumar cantidad y importe\n",
    "        resumen[producto]['total_cantidad'] += cantidad\n",
    "        resumen[producto]['total_importe'] += cantidad * precio\n",
    "    \n",
    "    # Calcular precio promedio\n",
    "    for producto, valores in resumen.items():\n",
    "        total_cantidad = valores['total_cantidad']\n",
    "        if total_cantidad > 0:  # Para evitar división por cero\n",
    "            valores['precio_promedio'] = valores['total_importe'] / total_cantidad\n",
    "\n",
    "    return dict(resumen)  # Convertir a dict normal para facilitar su uso\n",
    "\n",
    "def informe_ventas(datos):\n",
    "    print(\"Informe de Ventas:\")\n",
    "    print(f\"{'Producto':<30}{'Cantidad':<15}{'Precio Promedio':<20}{'Total Vendido':<15}\")\n",
    "    print(\"=\" * 80)\n",
    "    \n",
    "    # Ordenar productos alfabéticamente\n",
    "    for producto in sorted(resumen.keys()):\n",
    "        datos_producto = resumen[producto]\n",
    "        print(f\"{producto:<30}{datos_producto['total_cantidad']:<15}{datos_producto['precio_promedio']:<20.2f}{datos_producto['total_importe']:<15.2f}\")\n",
    "\n",
    "resumen = resumen_ventas(datos)\n",
    "informe_ventas(resumen)\n"
   ]
  }
 ],
 "metadata": {
  "kernelspec": {
   "display_name": "Python 3",
   "language": "python",
   "name": "python3"
  },
  "language_info": {
   "codemirror_mode": {
    "name": "ipython",
    "version": 3
   },
   "file_extension": ".py",
   "mimetype": "text/x-python",
   "name": "python",
   "nbconvert_exporter": "python",
   "pygments_lexer": "ipython3",
   "version": "3.12.5"
  }
 },
 "nbformat": 4,
 "nbformat_minor": 2
}
