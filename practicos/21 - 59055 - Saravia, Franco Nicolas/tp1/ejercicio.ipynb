{
 "cells": [
  {
   "cell_type": "markdown",
   "metadata": {},
   "source": [
    "# Trabajo práctico 1\n",
    "\n"
   ]
  },
  {
   "cell_type": "markdown",
   "metadata": {},
   "source": [
    "## Ejercicio 1 \n",
    "\n",
    "Escribe una función en Python que procese una lista de cadenas de texto y realice las siguientes acciones:\n",
    "\n",
    "1. La función debe tomar una lista de frases y convertir cada frase en una lista de palabras.\n",
    "1.  Luego, debe crear una nueva lista que contenga la cantidad de palabras en cada frase.\n",
    "1. Finalmente, la función debe imprimir cada frase original junto con la cantidad de palabras que contiene.\n",
    "Ejemplo de uso:\n",
    "```python\n",
    "    frases = [\n",
    "        \"Python es un lenguaje de programación\",\n",
    "        \"Me gusta resolver problemas con código\",\n",
    "        \"Las listas y los bucles son muy útiles\"\n",
    "    ]\n",
    "\n",
    "    procesar_frases(frases)\n",
    "```\n",
    "Requisitos:\n",
    "La función debe utilizar un bucle for para iterar sobre la lista de frases y contar las palabras en cada una.\n",
    "Debe crear y devolver una nueva lista con los conteos de palabras, y luego imprimir el resultado de forma clara."
   ]
  },
  {
   "cell_type": "code",
   "execution_count": 13,
   "metadata": {},
   "outputs": [
    {
     "name": "stdout",
     "output_type": "stream",
     "text": [
      "\"Python es un lenguaje de programación\" contiene 6 palabras.\n",
      "\"Me gusta resolver problemas con código\" contiene 6 palabras.\n",
      "\"Las listas y los bucles son muy útiles\" contiene 8 palabras.\n"
     ]
    },
    {
     "data": {
      "text/plain": [
       "[6, 6, 8]"
      ]
     },
     "execution_count": 13,
     "metadata": {},
     "output_type": "execute_result"
    }
   ],
   "source": [
    "# Implementar\n",
    "def procesar_frases(frases):\n",
    "    conteo_palabras = []\n",
    "    for frase in frases:\n",
    "        palabras = frase.split()\n",
    "        num_palabras = len(palabras)\n",
    "        conteo_palabras.append(num_palabras)\n",
    "        print(f'\"{frase}\" contiene {num_palabras} palabras.')\n",
    "    \n",
    "    return conteo_palabras\n",
    "\n",
    "frases = [\n",
    "    \"Python es un lenguaje de programación\",\n",
    "    \"Me gusta resolver problemas con código\",\n",
    "    \"Las listas y los bucles son muy útiles\"\n",
    "]\n",
    "\n",
    "procesar_frases(frases)"
   ]
  },
  {
   "cell_type": "markdown",
   "metadata": {},
   "source": [
    "## Ejercicio 2\n",
    "\n",
    "Escribe una función en Python que encuentre los valores de `a`, `b`, y `c` para que la función cuadrática `f(x) = a x^2 + b x + c` pase exactamente por los siguientes puntos:\n",
    "\n",
    "| x  | y  |\n",
    "|---:|---:|\n",
    "|  0 |  0 |\n",
    "|  1 |  8 |\n",
    "|  2 | 12 |\n",
    "|  3 | 12 |\n",
    "|  5 |  0 |\n",
    "\n",
    "### Requisitos:\n",
    "- La función debe explorar posibles valores de `a`, `b`, y `c` utilizando un método de prueba y error.\n",
    "- Debe devolver los valores que hagan que la diferencia entre la función `f(x)` y los valores medidos `y` sea exactamente cero para cada punto.\n",
    "\n",
    "> **Pista**: Los valores de `a`, `b`, y `c` son números pequeños."
   ]
  },
  {
   "cell_type": "code",
   "execution_count": 12,
   "metadata": {},
   "outputs": [
    {
     "name": "stdout",
     "output_type": "stream",
     "text": [
      "Coeficientes encontrados: a=-2, b=10, c=0\n"
     ]
    }
   ],
   "source": [
    "def buscar_coeficientes():\n",
    "    puntos = [(0, 0), (1, 8), (2, 12), (3, 12), (5, 0)]\n",
    "    for a in range(-10, 11):\n",
    "        for b in range(-10, 11):\n",
    "            for c in range(-10, 11):\n",
    "                solucion_encontrada = True\n",
    "                for x, y in puntos:\n",
    "                    valor_y_estimado = a * x**2 + b * x + c\n",
    "                    if valor_y_estimado != y:\n",
    "                        solucion_encontrada = False\n",
    "                        break\n",
    "                if solucion_encontrada:\n",
    "                    return a, b, c\n",
    "                \n",
    "    return \"No se encontró solución en el rango dado.\"\n",
    "resultado = buscar_coeficientes()\n",
    "if isinstance(resultado, tuple):\n",
    "    print(f'Coeficientes encontrados: a={resultado[0]}, b={resultado[1]}, c={resultado[2]}')\n",
    "else:\n",
    "    print(resultado)\n"
   ]
  }
 ],
 "metadata": {
  "kernelspec": {
   "display_name": "Python 3",
   "language": "python",
   "name": "python3"
  },
  "language_info": {
   "codemirror_mode": {
    "name": "ipython",
    "version": 3
   },
   "file_extension": ".py",
   "mimetype": "text/x-python",
   "name": "python",
   "nbconvert_exporter": "python",
   "pygments_lexer": "ipython3",
   "version": "3.12.7"
  }
 },
 "nbformat": 4,
 "nbformat_minor": 2
}
