{
 "cells": [
  {
   "cell_type": "markdown",
   "metadata": {},
   "source": [
    "#TP3"
   ]
  },
  {
   "cell_type": "markdown",
   "metadata": {},
   "source": [
    "## Ejercicio 1: Cargar Datos de ventas.\n",
    "\n",
    "El archivo datos.dat contiene el registro de las ventas realizadas.\n",
    "\n",
    "Tiene un formato de ancho fijo:\n",
    "- fecha:    10 lugares\n",
    "- producto: 30 lugares\n",
    "- precio:   10 lugares\n",
    "- cantidad:  5 lugares\n",
    "\n",
    "hacer una funcion que carge los en una lista de diccionarios. \n",
    "\n",
    "nota: con \n",
    "```python\n",
    "lineas = open(\"datos.dat\", \"r\").readlines() \n",
    "```\n",
    "puede obtener la lista de string de todos los datos "
   ]
  },
  {
   "cell_type": "code",
   "execution_count": 27,
   "metadata": {},
   "outputs": [
    {
     "name": "stdout",
     "output_type": "stream",
     "text": [
      "[{'fecha': '2024-08-27', 'producto': 'Mirinda', 'precio': 1510.0, 'cantidad': 14}, {'fecha': '2024-08-27', 'producto': 'Mirinda', 'precio': 1560.0, 'cantidad': 12}, {'fecha': '2024-08-28', 'producto': 'Torasso', 'precio': 940.0, 'cantidad': 8}, {'fecha': '2024-08-29', 'producto': 'Pepsi Cola', 'precio': 1210.0, 'cantidad': 10}, {'fecha': '2024-08-30', 'producto': 'Mirinda', 'precio': 1520.0, 'cantidad': 1}, {'fecha': '2024-09-01', 'producto': 'Mirinda', 'precio': 1550.0, 'cantidad': 15}, {'fecha': '2024-09-01', 'producto': 'Sprite', 'precio': 810.0, 'cantidad': 4}, {'fecha': '2024-09-02', 'producto': 'Coca Cola', 'precio': 1100.0, 'cantidad': 4}, {'fecha': '2024-09-02', 'producto': 'Pepsi Cola', 'precio': 1220.0, 'cantidad': 13}, {'fecha': '2024-09-02', 'producto': 'Torasso', 'precio': 910.0, 'cantidad': 5}, {'fecha': '2024-09-02', 'producto': 'Torasso', 'precio': 920.0, 'cantidad': 3}, {'fecha': '2024-09-03', 'producto': 'Coca Cola', 'precio': 1020.0, 'cantidad': 8}, {'fecha': '2024-09-03', 'producto': 'Mirinda', 'precio': 1570.0, 'cantidad': 7}, {'fecha': '2024-09-03', 'producto': 'Mirinda', 'precio': 1590.0, 'cantidad': 2}, {'fecha': '2024-09-04', 'producto': 'Pepsi Cola', 'precio': 1220.0, 'cantidad': 13}, {'fecha': '2024-09-05', 'producto': 'Mirinda', 'precio': 1500.0, 'cantidad': 3}, {'fecha': '2024-09-05', 'producto': 'Pepsi Cola', 'precio': 1300.0, 'cantidad': 5}, {'fecha': '2024-09-06', 'producto': 'Coca Cola', 'precio': 1080.0, 'cantidad': 1}, {'fecha': '2024-09-06', 'producto': 'Sprite', 'precio': 860.0, 'cantidad': 12}, {'fecha': '2024-09-06', 'producto': 'Torasso', 'precio': 930.0, 'cantidad': 3}, {'fecha': '2024-09-07', 'producto': 'Coca Cola', 'precio': 1080.0, 'cantidad': 14}, {'fecha': '2024-09-07', 'producto': 'Sprite', 'precio': 870.0, 'cantidad': 13}, {'fecha': '2024-09-08', 'producto': 'Coca Cola', 'precio': 1040.0, 'cantidad': 10}, {'fecha': '2024-09-08', 'producto': 'Mirinda', 'precio': 1580.0, 'cantidad': 2}, {'fecha': '2024-09-08', 'producto': 'Pepsi Cola', 'precio': 1240.0, 'cantidad': 9}, {'fecha': '2024-09-09', 'producto': 'Mirinda', 'precio': 1500.0, 'cantidad': 3}, {'fecha': '2024-09-09', 'producto': 'Sprite', 'precio': 850.0, 'cantidad': 9}, {'fecha': '2024-09-10', 'producto': 'Mirinda', 'precio': 1590.0, 'cantidad': 8}, {'fecha': '2024-09-10', 'producto': 'Pepsi Cola', 'precio': 1250.0, 'cantidad': 12}, {'fecha': '2024-09-11', 'producto': 'Sprite', 'precio': 810.0, 'cantidad': 6}, {'fecha': '2024-09-11', 'producto': 'Sprite', 'precio': 820.0, 'cantidad': 14}, {'fecha': '2024-09-12', 'producto': 'Coca Cola', 'precio': 1080.0, 'cantidad': 4}, {'fecha': '2024-09-13', 'producto': 'Mirinda', 'precio': 1580.0, 'cantidad': 5}, {'fecha': '2024-09-13', 'producto': 'Pepsi Cola', 'precio': 1250.0, 'cantidad': 13}, {'fecha': '2024-09-14', 'producto': 'Coca Cola', 'precio': 1080.0, 'cantidad': 15}, {'fecha': '2024-09-14', 'producto': 'Pepsi Cola', 'precio': 1270.0, 'cantidad': 14}, {'fecha': '2024-09-15', 'producto': 'Coca Cola', 'precio': 1100.0, 'cantidad': 1}, {'fecha': '2024-09-15', 'producto': 'Mirinda', 'precio': 1500.0, 'cantidad': 13}, {'fecha': '2024-09-15', 'producto': 'Sprite', 'precio': 870.0, 'cantidad': 14}, {'fecha': '2024-09-15', 'producto': 'Torasso', 'precio': 900.0, 'cantidad': 13}]\n"
     ]
    }
   ],
   "source": [
    "def cargar_datos():\n",
    "    lineas = open(\"datos.dat\", \"r\").readlines()\n",
    "    ventas = []\n",
    "    for linea in lineas:\n",
    "        fecha = linea[0:10].strip() \n",
    "        producto = linea[10:40].strip()  \n",
    "        precio = float(linea[40:50].strip())  \n",
    "        cantidad = int(linea[50:55].strip()) \n",
    "        venta = {\n",
    "            'fecha': fecha,\n",
    "            'producto': producto,\n",
    "            'precio': precio,\n",
    "            'cantidad': cantidad\n",
    "        }\n",
    "        ventas.append(venta)\n",
    "    return ventas\n",
    "\n",
    "datos = cargar_datos()\n",
    "print(datos) \n"
   ]
  },
  {
   "cell_type": "markdown",
   "metadata": {},
   "source": [
    "## Ejercicio 2: Calcular el total de ventas.\n",
    "\n",
    "Hacer una funcion que sume los importes vendidos (precio * cantidad) y las cantidades"
   ]
  },
  {
   "cell_type": "code",
   "execution_count": 28,
   "metadata": {},
   "outputs": [
    {
     "name": "stdout",
     "output_type": "stream",
     "text": [
      "Las ventas fueron de $392730.00 en 335 unidades\n"
     ]
    }
   ],
   "source": [
    "def calcular_totales(datos):\n",
    "    total_importe = 0.0 \n",
    "    total_cantidad = 0  \n",
    "    \n",
    "    for venta in datos:\n",
    "        importe_venta = venta['precio'] * venta['cantidad']\n",
    "        total_importe += importe_venta  \n",
    "        total_cantidad += venta['cantidad']\n",
    "    return total_importe, total_cantidad\n",
    "\n",
    "datos = cargar_datos()\n",
    "importe, cantidad = calcular_totales(datos)\n",
    "\n",
    "print(f\"Las ventas fueron de ${importe:.2f} en {cantidad} unidades\")"
   ]
  },
  {
   "cell_type": "markdown",
   "metadata": {},
   "source": [
    "## Ejercicio 3: Listar las unidades vendidas.\n",
    "\n",
    "Listar cuantas unidades se vendieron en total para cada producto"
   ]
  },
  {
   "cell_type": "code",
   "execution_count": 29,
   "metadata": {},
   "outputs": [
    {
     "name": "stdout",
     "output_type": "stream",
     "text": [
      "Unidades vendidas por producto:\n",
      "Mirinda: 85 unidades\n",
      "Torasso: 32 unidades\n",
      "Pepsi Cola: 89 unidades\n",
      "Sprite: 72 unidades\n",
      "Coca Cola: 57 unidades\n"
     ]
    }
   ],
   "source": [
    "def unidades_vendidas(datos):\n",
    "    productos = {}\n",
    "    for venta in datos:\n",
    "        producto = venta['producto'].strip()\n",
    "        cantidad = venta['cantidad']\n",
    "        if producto in productos:\n",
    "            productos[producto] += cantidad\n",
    "        else:\n",
    "            productos[producto] = cantidad\n",
    "    return productos\n",
    "\n",
    "def listar_ventas(ventas):\n",
    "    print(\"Unidades vendidas por producto:\")\n",
    "    for producto, cantidad in ventas.items():\n",
    "        print(f\"{producto}: {cantidad} unidades\")\n",
    "        \n",
    "datos = cargar_datos() \n",
    "ventas = unidades_vendidas(datos)\n",
    "listar_ventas(ventas)\n"
   ]
  },
  {
   "cell_type": "markdown",
   "metadata": {},
   "source": [
    "##  Ejercicio 4: Listar el precio promedio por producto.\n",
    "\n",
    "Hacer un listado del precio promedio por productos."
   ]
  },
  {
   "cell_type": "code",
   "execution_count": 30,
   "metadata": {},
   "outputs": [
    {
     "name": "stdout",
     "output_type": "stream",
     "text": [
      "Precio promedio por producto:\n",
      "Mirinda: $1542.12\n",
      "Torasso: $916.25\n",
      "Pepsi Cola: $1241.69\n",
      "Sprite: $847.78\n",
      "Coca Cola: $1066.32\n"
     ]
    }
   ],
   "source": [
    "def precio_promedio(datos):\n",
    "    productos = {}\n",
    "    for venta in datos:\n",
    "        producto = venta['producto'].strip() \n",
    "        precio = float(venta['precio'])\n",
    "        cantidad = venta['cantidad']\n",
    "        if producto in productos:\n",
    "            productos[producto]['total_precio'] += precio * cantidad\n",
    "            productos[producto]['total_cantidad'] += cantidad\n",
    "        else:\n",
    "            productos[producto] = {\n",
    "                'total_precio': precio * cantidad,\n",
    "                'total_cantidad': cantidad\n",
    "            }\n",
    "    precios_promedios = {producto: datos['total_precio'] / datos['total_cantidad']\n",
    "                          for producto, datos in productos.items()}\n",
    "    return precios_promedios\n",
    "\n",
    "def listar_precios(precios):\n",
    "    print(\"Precio promedio por producto:\")\n",
    "    for producto, promedio in precios.items():\n",
    "        print(f\"{producto}: ${promedio:.2f}\")\n",
    "\n",
    "datos = cargar_datos() \n",
    "precios = precio_promedio(datos)\n",
    "listar_precios(precios)\n"
   ]
  },
  {
   "cell_type": "markdown",
   "metadata": {},
   "source": [
    "### Ejercicio 5: Ranking de productos\n",
    "\n",
    "Realizar un listado de los 3 productos mas vendidos ordenados la cantidad de unidades vendidas (ordenadas de mayor a menor)\n"
   ]
  },
  {
   "cell_type": "markdown",
   "metadata": {},
   "source": []
  },
  {
   "cell_type": "code",
   "execution_count": 31,
   "metadata": {},
   "outputs": [
    {
     "name": "stdout",
     "output_type": "stream",
     "text": [
      "Ranking de los 3 productos más vendidos:\n",
      "1. Pepsi Cola: 89 unidades vendidas\n",
      "2. Mirinda: 85 unidades vendidas\n",
      "3. Sprite: 72 unidades vendidas\n"
     ]
    }
   ],
   "source": [
    "def ranking_productos(datos, top=3):\n",
    "    productos = {}\n",
    "    for venta in datos:\n",
    "        producto = venta['producto'].strip()  \n",
    "        cantidad = int(venta['cantidad']) \n",
    "        if producto in productos:\n",
    "            productos[producto] += cantidad\n",
    "        else:\n",
    "            productos[producto] = cantidad\n",
    "    ranking = sorted(productos.items(), key=lambda x: x[1], reverse=True)\n",
    "    \n",
    "    return ranking[:top]\n",
    "\n",
    "def listar_ranking(ranking):\n",
    "    print(f\"Ranking de los {len(ranking)} productos más vendidos:\")\n",
    "    for i, (producto, cantidad) in enumerate(ranking, start=1):\n",
    "        print(f\"{i}. {producto}: {cantidad} unidades vendidas\")\n",
    "\n",
    "datos = cargar_datos() \n",
    "ranking = ranking_productos(datos)\n",
    "listar_ranking(ranking)"
   ]
  },
  {
   "cell_type": "markdown",
   "metadata": {},
   "source": [
    "### Ejercicio 6: Listar las ventas por mes\n",
    "\n",
    "Realizar un listado del total de unidades vendidas por productos separada por mes."
   ]
  },
  {
   "cell_type": "code",
   "execution_count": 32,
   "metadata": {},
   "outputs": [
    {
     "name": "stdout",
     "output_type": "stream",
     "text": [
      "Total de unidades vendidas por mes:\n",
      "\n",
      "Mes: 2024-08\n",
      "Mirinda: 27 unidades\n",
      "Torasso: 8 unidades\n",
      "Pepsi Cola: 10 unidades\n",
      "\n",
      "Mes: 2024-09\n",
      "Mirinda: 58 unidades\n",
      "Sprite: 72 unidades\n",
      "Coca Cola: 57 unidades\n",
      "Pepsi Cola: 79 unidades\n",
      "Torasso: 24 unidades\n"
     ]
    }
   ],
   "source": [
    "def ventas_por_mes(datos):\n",
    "    ventas_mensuales = {}\n",
    "    for venta in datos:\n",
    "        fecha = venta['fecha'].strip()  \n",
    "        producto = venta['producto'].strip()  \n",
    "        cantidad = int(venta['cantidad'])\n",
    "        mes = fecha[:7]\n",
    "        if mes not in ventas_mensuales:\n",
    "            ventas_mensuales[mes] = {}\n",
    "        if producto in ventas_mensuales[mes]:\n",
    "            ventas_mensuales[mes][producto] += cantidad\n",
    "        else:\n",
    "            ventas_mensuales[mes][producto] = cantidad\n",
    "    return ventas_mensuales\n",
    "\n",
    "def listar_ventas_mensuales(ventas):\n",
    "    print(\"Total de unidades vendidas por mes:\")\n",
    "    for mes, productos in ventas.items():\n",
    "        print(f\"\\nMes: {mes}\")\n",
    "        for producto, cantidad in productos.items():\n",
    "            print(f\"{producto}: {cantidad} unidades\")\n",
    "\n",
    "datos = cargar_datos() \n",
    "ventas = ventas_por_mes(datos)\n",
    "listar_ventas_mensuales(ventas)\n"
   ]
  },
  {
   "cell_type": "markdown",
   "metadata": {},
   "source": [
    "### Ejercicio 7: Informe general\n",
    "\n",
    "Mostrar un listado de productos ordenados alfabeticamente que contengan el precio promedio, la cantidad de unidades vendidas y el importe total vendido para cada producto"
   ]
  },
  {
   "cell_type": "code",
   "execution_count": 33,
   "metadata": {},
   "outputs": [],
   "source": [
    "def cargar_datos():\n",
    "    lineas = open(\"datos.dat\", \"r\").readlines()\n",
    "    datos = []\n",
    "    for linea in lineas:\n",
    "        fecha = linea[0:10].strip()\n",
    "        producto = linea[10:40].strip()\n",
    "        precio = float(linea[40:50].strip())\n",
    "        cantidad = int(linea[50:55].strip())\n",
    "\n",
    "        datos.append({\n",
    "            'fecha': fecha,\n",
    "            'producto': producto,\n",
    "            'precio': precio,\n",
    "            'cantidad': cantidad\n",
    "        })\n",
    "    return datos\n",
    "\n",
    "def resumen_ventas(datos):\n",
    "    resumen = {}\n",
    "    for venta in datos:\n",
    "        producto = venta['producto']\n",
    "        precio = venta['precio'] \n",
    "        cantidad = venta['cantidad'] \n",
    "        if producto not in resumen:\n",
    "            resumen[producto] = {\n",
    "                'total_cantidad': 0,\n",
    "                'total_importe': 0.0,\n",
    "                'ventas': 0\n",
    "            }\n",
    "        resumen[producto]['total_cantidad'] += cantidad\n",
    "        resumen[producto]['total_importe'] += precio * cantidad\n",
    "        resumen[producto]['ventas'] += 1 \n",
    "\n",
    "    for producto, datos in resumen.items():\n",
    "        if datos['ventas'] > 0:\n",
    "            datos['precio_promedio'] = datos['total_importe'] / datos['total_cantidad']\n",
    "        else:\n",
    "            datos['precio_promedio'] = 0\n",
    "\n",
    "    return resumen\n"
   ]
  }
 ],
 "metadata": {
  "kernelspec": {
   "display_name": "Python 3",
   "language": "python",
   "name": "python3"
  },
  "language_info": {
   "codemirror_mode": {
    "name": "ipython",
    "version": 3
   },
   "file_extension": ".py",
   "mimetype": "text/x-python",
   "name": "python",
   "nbconvert_exporter": "python",
   "pygments_lexer": "ipython3",
   "version": "3.12.7"
  }
 },
 "nbformat": 4,
 "nbformat_minor": 2
}
