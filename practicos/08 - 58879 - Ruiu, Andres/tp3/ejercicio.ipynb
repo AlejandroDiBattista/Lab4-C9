{
 "cells": [
  {
   "cell_type": "markdown",
   "metadata": {},
   "source": [
    "#TP3"
   ]
  },
  {
   "cell_type": "markdown",
   "metadata": {},
   "source": [
    "## Ejercicio 1: Cargar Datos de ventas.\n",
    "\n",
    "El archivo datos.dat contiene el registro de las ventas realizadas.\n",
    "\n",
    "Tiene un formato de ancho fijo:\n",
    "- fecha:    10 lugares\n",
    "- producto: 30 lugares\n",
    "- precio:   10 lugares\n",
    "- cantidad:  5 lugares\n",
    "\n",
    "hacer una funcion que carge los en una lista de diccionarios. \n",
    "\n",
    "nota: con \n",
    "```python\n",
    "lineas = open(\"datos.dat\", \"r\").readlines() \n",
    "```\n",
    "puede obtener la lista de string de todos los datos "
   ]
  },
  {
   "cell_type": "code",
   "execution_count": 4,
   "metadata": {},
   "outputs": [],
   "source": [
    "def cargar_datos():\n",
    "    datos = []\n",
    "    lineas = open(\"datos.dat\", \"r\").readlines()\n",
    "    for linea in lineas:\n",
    "        if len(linea.strip()) > 0:\n",
    "            fecha = linea[:10].strip()\n",
    "            producto = linea[10:40].strip()\n",
    "            precio = int(linea[40:50].strip())\n",
    "            cantidad = int(linea[50:55].strip())\n",
    "                \n",
    "            venta = {\n",
    "                \"fecha\": fecha,\n",
    "                \"producto\": producto,\n",
    "                \"precio\": precio,\n",
    "                \"cantidad\": cantidad\n",
    "            }\n",
    "            datos.append(venta)\n",
    "    return datos\n",
    "\n",
    "datos = cargar_datos()\n"
   ]
  },
  {
   "cell_type": "markdown",
   "metadata": {},
   "source": [
    "## Ejercicio 2: Calcular el total de ventas.\n",
    "\n",
    "Hacer una funcion que sume los importes vendidos (precio * cantidad) y las cantidades"
   ]
  },
  {
   "cell_type": "code",
   "execution_count": 8,
   "metadata": {},
   "outputs": [
    {
     "name": "stdout",
     "output_type": "stream",
     "text": [
      "Las ventas fueron de $392730.00 en 335 unidades\n"
     ]
    }
   ],
   "source": [
    "\n",
    "def calcular_totales(datos):\n",
    "    importe_total = 0\n",
    "    cantidad_total = 0\n",
    "    \n",
    "    for venta in datos:\n",
    "        importe_total += venta['precio'] * venta['cantidad']\n",
    "        cantidad_total += venta['cantidad']\n",
    "    \n",
    "    return importe_total, cantidad_total\n",
    "\n",
    "\n",
    "importe, cantidad = calcular_totales(datos)\n",
    "\n",
    "print(f\"Las ventas fueron de ${importe:.2f} en {cantidad} unidades\")"
   ]
  },
  {
   "cell_type": "markdown",
   "metadata": {},
   "source": [
    "## Ejercicio 3: Listar las unidades vendidas.\n",
    "\n",
    "Listar cuantas unidades se vendieron en total para cada producto"
   ]
  },
  {
   "cell_type": "code",
   "execution_count": 6,
   "metadata": {},
   "outputs": [
    {
     "name": "stdout",
     "output_type": "stream",
     "text": [
      "Unidades vendidas por producto:\n",
      "Mirinda: 85 unidades\n",
      "Torasso: 32 unidades\n",
      "Pepsi Cola: 89 unidades\n",
      "Sprite: 72 unidades\n",
      "Coca Cola: 57 unidades\n"
     ]
    }
   ],
   "source": [
    "def unidades_vendidas(datos):\n",
    "    ventas = {}\n",
    "    for venta in datos:\n",
    "        producto = venta['producto']\n",
    "        cantidad = venta['cantidad']\n",
    "        if producto in ventas:\n",
    "            ventas[producto] += cantidad\n",
    "        else:\n",
    "            ventas[producto] = cantidad\n",
    "    return ventas\n",
    "\n",
    "def listar_ventas(ventas):\n",
    "    print(\"Unidades vendidas por producto:\")\n",
    "    ventas_lista = list(ventas.items())\n",
    "    \n",
    "    for producto, cantidad in ventas_lista:\n",
    "        print(f\"{producto}: {cantidad} unidades\")\n",
    "\n",
    "ventas = unidades_vendidas(datos)\n",
    "\n",
    "listar_ventas(ventas)\n"
   ]
  },
  {
   "cell_type": "markdown",
   "metadata": {},
   "source": [
    "##  Ejercicio 4: Listar el precio promedio por producto.\n",
    "\n",
    "Hacer un listado del precio promedio por productos."
   ]
  },
  {
   "cell_type": "code",
   "execution_count": 9,
   "metadata": {},
   "outputs": [
    {
     "name": "stdout",
     "output_type": "stream",
     "text": [
      "Precio promedio por producto:\n",
      "Mirinda: $1545.83\n",
      "Torasso: $920.00\n",
      "Pepsi Cola: $1245.00\n",
      "Sprite: $841.43\n",
      "Coca Cola: $1072.50\n"
     ]
    }
   ],
   "source": [
    "def precio_promedio(datos):\n",
    "    precios = {}\n",
    "    conteo = {}\n",
    "    for venta in datos:\n",
    "        producto = venta['producto']\n",
    "        precio = venta['precio']\n",
    "\n",
    "        if producto in precios:\n",
    "            precios[producto] += precio\n",
    "            conteo[producto] += 1\n",
    "        else:\n",
    "            precios[producto] = precio\n",
    "            conteo[producto] = 1\n",
    "    promedios = {}\n",
    "    for producto in precios:\n",
    "        promedios[producto] = precios[producto] / conteo[producto]\n",
    "    return promedios\n",
    "\n",
    "def listar_precios(datos):\n",
    "    print(\"Precio promedio por producto:\")\n",
    "    for producto, precio in datos.items():\n",
    "        print(f\"{producto}: ${precio:.2f}\")\n",
    "\n",
    "precios = precio_promedio(datos)\n",
    "listar_precios(precios)"
   ]
  },
  {
   "cell_type": "markdown",
   "metadata": {},
   "source": [
    "### Ejercicio 5: Ranking de productos\n",
    "\n",
    "Realizar un listado de los 3 productos mas vendidos ordenados la cantidad de unidades vendidas (ordenadas de mayor a menor)\n"
   ]
  },
  {
   "cell_type": "code",
   "execution_count": 13,
   "metadata": {},
   "outputs": [
    {
     "name": "stdout",
     "output_type": "stream",
     "text": [
      "Ranking de productos más vendidos:\n",
      "1. Pepsi Cola: 89 unidades\n",
      "2. Mirinda: 85 unidades\n",
      "3. Sprite: 72 unidades\n"
     ]
    }
   ],
   "source": [
    "def ranking_productos(datos, top=3):\n",
    "    ventas = {}\n",
    "    for venta in datos:\n",
    "        producto = venta['producto']\n",
    "        cantidad = venta['cantidad']\n",
    "        if producto in ventas:\n",
    "            ventas[producto] += cantidad\n",
    "        else:\n",
    "            ventas[producto] = cantidad\n",
    "    ranking = sorted(ventas.items(), key=lambda x: x[1], reverse=True)\n",
    "    return ranking[:top]\n",
    "\n",
    "def listar_ranking(ranking):\n",
    "    print(\"Ranking de productos más vendidos:\")\n",
    "    for i, (producto, cantidad) in enumerate(ranking,1):\n",
    "        print(f\"{i}. {producto}: {cantidad} unidades\")\n",
    "\n",
    "ranking = ranking_productos(datos)\n",
    "listar_ranking(ranking)"
   ]
  },
  {
   "cell_type": "markdown",
   "metadata": {},
   "source": [
    "### Ejercicio 6: Listar las ventas por mes\n",
    "\n",
    "Realizar un listado del total de unidades vendidas por productos separada por mes."
   ]
  },
  {
   "cell_type": "code",
   "execution_count": 15,
   "metadata": {},
   "outputs": [
    {
     "name": "stdout",
     "output_type": "stream",
     "text": [
      "\n",
      "Ventas para 2024-08:\n",
      "Mirinda: 14 unidades\n",
      "Pepsi Cola: 10 unidades\n",
      "Torasso: 8 unidades\n",
      "\n",
      "Ventas para 2024-09:\n",
      "Mirinda: 15 unidades\n",
      "Pepsi Cola: 13 unidades\n",
      "Torasso: 5 unidades\n",
      "Sprite: 4 unidades\n",
      "Coca Cola: 4 unidades\n"
     ]
    }
   ],
   "source": [
    "def ventas_por_mes(datos):\n",
    "    ventas_mensuales = {}\n",
    "    for venta in datos:\n",
    "        fecha = venta['fecha']\n",
    "        producto = venta['producto']\n",
    "        cantidad = venta['cantidad']\n",
    "\n",
    "        año_mes = fecha[:7]\n",
    "\n",
    "        if año_mes not in ventas_mensuales:\n",
    "            ventas_mensuales[año_mes] = {}\n",
    "        if producto not in ventas_mensuales[año_mes]:\n",
    "            ventas_mensuales[año_mes][producto] = cantidad\n",
    "    return ventas_mensuales\n",
    "\n",
    "def listar_ventas_mensuales(ventas):\n",
    "    for mes, productos in sorted(ventas.items()):\n",
    "        print(f\"\\nVentas para {mes}:\")\n",
    "        for producto, cantidad in sorted(productos.items(), key=lambda x: x[1], reverse=True):\n",
    "            print(f\"{producto}: {cantidad} unidades\")\n",
    "\n",
    "ventas = ventas_por_mes(datos)\n",
    "listar_ventas_mensuales(ventas)"
   ]
  },
  {
   "cell_type": "markdown",
   "metadata": {},
   "source": [
    "### Ejercicio 7: Informe general\n",
    "\n",
    "Mostrar un listado de productos ordenados alfabeticamente que contengan el precio promedio, la cantidad de unidades vendidas y el importe total vendido para cada producto"
   ]
  },
  {
   "cell_type": "code",
   "execution_count": 24,
   "metadata": {},
   "outputs": [
    {
     "name": "stdout",
     "output_type": "stream",
     "text": [
      "Informe General de Ventas:\n",
      "=========================\n",
      "Producto                       Precio Promedio    Unidades Vendidas   Importe Total\n",
      "-------------------------------------------------------------------------------------\n",
      "Coca Cola                      $       1072.50                   57   $      60780.00\n",
      "Mirinda                        $       1545.83                   85   $     131080.00\n",
      "Pepsi Cola                     $       1245.00                   89   $     110510.00\n",
      "Sprite                         $        841.43                   72   $      61040.00\n",
      "Torasso                        $        920.00                   32   $      29320.00\n"
     ]
    }
   ],
   "source": [
    "def resumen_ventas(datos):\n",
    "    resumen = {}\n",
    "    for venta in datos:\n",
    "        producto = venta['producto']\n",
    "        precio = venta['precio']\n",
    "        cantidad = venta['cantidad']\n",
    "        \n",
    "        if producto not in resumen:\n",
    "            resumen[producto] = {'suma_precios': 0, 'conteo_ventas': 0, 'total_cantidad': 0, 'total_importe': 0}\n",
    "        \n",
    "        resumen[producto]['suma_precios'] += precio\n",
    "        resumen[producto]['conteo_ventas'] += 1\n",
    "        resumen[producto]['total_cantidad'] += cantidad\n",
    "        resumen[producto]['total_importe'] += precio * cantidad\n",
    "    \n",
    "    for producto in resumen:\n",
    "        resumen[producto]['precio_promedio'] = resumen[producto]['suma_precios'] / resumen[producto]['conteo_ventas']\n",
    "    \n",
    "    return resumen\n",
    "\n",
    "def informe_ventas(resumen):\n",
    "    print(\"Informe General de Ventas:\")\n",
    "    print(\"=========================\")\n",
    "    print(f\"{'Producto':<30} {'Precio Promedio':>15} {'Unidades Vendidas':>20} {'Importe Total':>15}\")\n",
    "    print(\"-\" * 85)\n",
    "    \n",
    "    for producto in sorted(resumen.keys()):\n",
    "        datos_producto = resumen[producto]\n",
    "        precio_promedio = datos_producto['precio_promedio']\n",
    "        unidades_vendidas = datos_producto['total_cantidad']\n",
    "        importe_total = datos_producto['total_importe']\n",
    "        \n",
    "        print(f\"{producto:<30} ${precio_promedio:>14.2f} {unidades_vendidas:>20}   ${importe_total:>14.2f}\")\n",
    "\n",
    "resumen = resumen_ventas(datos)\n",
    "informe_ventas(resumen)"
   ]
  }
 ],
 "metadata": {
  "kernelspec": {
   "display_name": "Python 3",
   "language": "python",
   "name": "python3"
  },
  "language_info": {
   "codemirror_mode": {
    "name": "ipython",
    "version": 3
   },
   "file_extension": ".py",
   "mimetype": "text/x-python",
   "name": "python",
   "nbconvert_exporter": "python",
   "pygments_lexer": "ipython3",
   "version": "3.12.5"
  }
 },
 "nbformat": 4,
 "nbformat_minor": 2
}
