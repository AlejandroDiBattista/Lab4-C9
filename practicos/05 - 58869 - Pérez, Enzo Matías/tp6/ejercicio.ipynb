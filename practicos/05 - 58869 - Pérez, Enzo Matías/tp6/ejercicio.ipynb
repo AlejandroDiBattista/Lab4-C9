{
 "cells": [
  {
   "cell_type": "markdown",
   "metadata": {},
   "source": [
    "# TP6\n",
    "\n",
    "### `Resolver usando Pandas`\n",
    "\n",
    "Resolver los ejercicios del TP3 utilizando la librería Pandas."
   ]
  },
  {
   "cell_type": "markdown",
   "metadata": {},
   "source": [
    "### Ejercicio 1: Cargar Datos de ventas.\n",
    "\n",
    "El archivo datos.dat contiene el registro de las ventas realizadas.\n",
    "\n",
    "Tiene un formato de ancho fijo:\n",
    "- `fecha`:    10 lugares\n",
    "- `producto`: 30 lugares\n",
    "- `precio`:   10 lugares\n",
    "- `cantidad`:  5 lugares\n",
    "\n",
    "Hacer una funcion que cargue los datos en un DataFrame de Pandas."
   ]
  },
  {
   "cell_type": "code",
   "execution_count": 1,
   "metadata": {},
   "outputs": [],
   "source": [
    "import pandas as pd\n",
    "\n",
    "def cargar_datos():\n",
    "\n",
    "    columnas = {\n",
    "        'fecha': 10,\n",
    "        'producto': 30,\n",
    "        'precio': 10,\n",
    "        'cantidad': 5\n",
    "    }\n",
    "    \n",
    "\n",
    "    posiciones = [0]\n",
    "    for ancho in columnas.values():\n",
    "        posiciones.append(posiciones[-1] + ancho)\n",
    "    \n",
    "\n",
    "    df = pd.read_fwf('datos.dat', \n",
    "                     widths=list(columnas.values()),\n",
    "                     names=list(columnas.keys()),\n",
    "                     header=None)\n",
    "    \n",
    " \n",
    "    df['fecha'] = pd.to_datetime(df['fecha'])\n",
    "    df['precio'] = df['precio'].astype(float)\n",
    "    df['cantidad'] = df['cantidad'].astype(int)\n",
    "    \n",
    "    return df\n",
    "\n",
    "\n",
    "datos = cargar_datos()\n",
    "\n",
    "\n"
   ]
  },
  {
   "cell_type": "markdown",
   "metadata": {},
   "source": [
    "### Ejercicio 2: Calcular el total de ventas.\n",
    "Hacer una función que sume los importes vendidos (precio * cantidad) y las cantidades.\n"
   ]
  },
  {
   "cell_type": "code",
   "execution_count": 2,
   "metadata": {},
   "outputs": [
    {
     "name": "stdout",
     "output_type": "stream",
     "text": [
      "Las ventas fueron de $392730.00 en 335 unidades\n"
     ]
    }
   ],
   "source": [
    "def calcular_totales(datos):\n",
    "\n",
    "    importe_total = (datos['precio'] * datos['cantidad']).sum()\n",
    "    \n",
    "\n",
    "    cantidad_total = datos['cantidad'].sum()\n",
    "    \n",
    "    return importe_total, cantidad_total\n",
    "\n",
    "\n",
    "datos = cargar_datos()\n",
    "\n",
    "\n",
    "importe, cantidad = calcular_totales(datos)\n",
    "\n",
    "\n",
    "print(f\"Las ventas fueron de ${importe:.2f} en {cantidad} unidades\")"
   ]
  },
  {
   "cell_type": "markdown",
   "metadata": {},
   "source": [
    "### Ejercicio 3: Listar las unidades vendidas.\n",
    "Listar cuántas unidades se vendieron en total para cada producto\n"
   ]
  },
  {
   "cell_type": "code",
   "execution_count": 3,
   "metadata": {},
   "outputs": [],
   "source": [
    "def unidades_vendidas(datos):\n",
    "\n",
    "    unidades_por_producto = datos.groupby('producto')['cantidad'].sum().sort_values(ascending=False)\n",
    "    \n",
    "\n",
    "    print(\"Unidades vendidas por producto:\")\n",
    "    for producto, cantidad in unidades_por_producto.items():\n",
    "        print(f\"{producto}: {cantidad}\")\n",
    "    \n",
    "    return unidades_por_producto\n",
    "\n",
    "\n",
    "datos = cargar_datos()"
   ]
  },
  {
   "cell_type": "markdown",
   "metadata": {},
   "source": [
    "###  Ejercicio 4: Listar el precio promedio por producto.\n",
    "Hacer un listado del precio promedio por producto.\n"
   ]
  },
  {
   "cell_type": "code",
   "execution_count": 6,
   "metadata": {},
   "outputs": [
    {
     "name": "stdout",
     "output_type": "stream",
     "text": [
      "Precio promedio por producto:\n",
      "Mirinda: $1545.83\n",
      "Pepsi Cola: $1245.00\n",
      "Coca Cola: $1072.50\n",
      "Torasso: $920.00\n",
      "Sprite: $841.43\n"
     ]
    },
    {
     "data": {
      "text/plain": [
       "producto\n",
       "Mirinda       1545.833333\n",
       "Pepsi Cola    1245.000000\n",
       "Coca Cola     1072.500000\n",
       "Torasso        920.000000\n",
       "Sprite         841.428571\n",
       "Name: precio, dtype: float64"
      ]
     },
     "execution_count": 6,
     "metadata": {},
     "output_type": "execute_result"
    }
   ],
   "source": [
    "def precio_promedio(datos):\n",
    " \n",
    "    precio_promedio_por_producto = datos.groupby('producto')['precio'].mean().sort_values(ascending=False)\n",
    "    \n",
    "\n",
    "    print(\"Precio promedio por producto:\")\n",
    "    for producto, precio in precio_promedio_por_producto.items():\n",
    "        print(f\"{producto}: ${precio:.2f}\")\n",
    "    \n",
    "    return precio_promedio_por_producto\n",
    "\n",
    "datos = cargar_datos()\n",
    "\n",
    "\n",
    "precio_promedio(datos)"
   ]
  },
  {
   "cell_type": "markdown",
   "metadata": {},
   "source": [
    "### Ejercicio 5: Ranking de productos\n",
    "Realizar un listado de los 3 productos más vendidos ordenados por la cantidad de unidades vendidas (ordenadas de mayor a menor)\n"
   ]
  },
  {
   "cell_type": "code",
   "execution_count": 7,
   "metadata": {},
   "outputs": [
    {
     "name": "stdout",
     "output_type": "stream",
     "text": [
      "Top 3 productos más vendidos:\n",
      "1. Pepsi Cola: 89 unidades\n",
      "2. Mirinda: 85 unidades\n",
      "3. Sprite: 72 unidades\n"
     ]
    }
   ],
   "source": [
    "def ranking_productos(datos, top=3):\n",
    " \n",
    "    ventas_por_producto = datos.groupby('producto')['cantidad'].sum().sort_values(ascending=False)\n",
    "    \n",
    "\n",
    "    top_productos = ventas_por_producto.head(top)\n",
    "    \n",
    "    print(f\"Top {top} productos más vendidos:\")\n",
    "    for i, (producto, cantidad) in enumerate(top_productos.items(), 1):\n",
    "        print(f\"{i}. {producto}: {cantidad} unidades\")\n",
    "    \n",
    "    \n",
    "\n",
    "\n",
    "datos = cargar_datos()\n",
    "\n",
    "\n",
    "ranking_productos(datos)"
   ]
  },
  {
   "cell_type": "markdown",
   "metadata": {},
   "source": [
    "### Ejercicio 6: Listar las ventas por mes\n",
    "Realizar un listado del total de unidades vendidas por producto separado por mes.\n"
   ]
  },
  {
   "cell_type": "code",
   "execution_count": 8,
   "metadata": {},
   "outputs": [
    {
     "name": "stdout",
     "output_type": "stream",
     "text": [
      "Ventas por mes y producto:\n",
      "producto  Pepsi Cola  Mirinda  Sprite  Coca Cola  Torasso\n",
      "mes_año                                                  \n",
      "2024-08           10       27       0          0        8\n",
      "2024-09           79       58      72         57       24\n"
     ]
    },
    {
     "data": {
      "text/html": [
       "<div>\n",
       "<style scoped>\n",
       "    .dataframe tbody tr th:only-of-type {\n",
       "        vertical-align: middle;\n",
       "    }\n",
       "\n",
       "    .dataframe tbody tr th {\n",
       "        vertical-align: top;\n",
       "    }\n",
       "\n",
       "    .dataframe thead th {\n",
       "        text-align: right;\n",
       "    }\n",
       "</style>\n",
       "<table border=\"1\" class=\"dataframe\">\n",
       "  <thead>\n",
       "    <tr style=\"text-align: right;\">\n",
       "      <th>producto</th>\n",
       "      <th>Pepsi Cola</th>\n",
       "      <th>Mirinda</th>\n",
       "      <th>Sprite</th>\n",
       "      <th>Coca Cola</th>\n",
       "      <th>Torasso</th>\n",
       "    </tr>\n",
       "    <tr>\n",
       "      <th>mes_año</th>\n",
       "      <th></th>\n",
       "      <th></th>\n",
       "      <th></th>\n",
       "      <th></th>\n",
       "      <th></th>\n",
       "    </tr>\n",
       "  </thead>\n",
       "  <tbody>\n",
       "    <tr>\n",
       "      <th>2024-08</th>\n",
       "      <td>10</td>\n",
       "      <td>27</td>\n",
       "      <td>0</td>\n",
       "      <td>0</td>\n",
       "      <td>8</td>\n",
       "    </tr>\n",
       "    <tr>\n",
       "      <th>2024-09</th>\n",
       "      <td>79</td>\n",
       "      <td>58</td>\n",
       "      <td>72</td>\n",
       "      <td>57</td>\n",
       "      <td>24</td>\n",
       "    </tr>\n",
       "  </tbody>\n",
       "</table>\n",
       "</div>"
      ],
      "text/plain": [
       "producto  Pepsi Cola  Mirinda  Sprite  Coca Cola  Torasso\n",
       "mes_año                                                  \n",
       "2024-08           10       27       0          0        8\n",
       "2024-09           79       58      72         57       24"
      ]
     },
     "execution_count": 8,
     "metadata": {},
     "output_type": "execute_result"
    }
   ],
   "source": [
    "def ventas_por_mes(datos):\n",
    "  \n",
    "    datos['mes_año'] = datos['fecha'].dt.to_period('M')\n",
    "    \n",
    "\n",
    "    ventas_mensuales = datos.groupby(['mes_año', 'producto'])['cantidad'].sum().unstack(fill_value=0)\n",
    "\n",
    "    total_ventas = ventas_mensuales.sum().sort_values(ascending=False)\n",
    "    ventas_mensuales = ventas_mensuales[total_ventas.index]\n",
    "    \n",
    "\n",
    "    print(\"Ventas por mes y producto:\")\n",
    "    print(ventas_mensuales)\n",
    "    \n",
    "    return ventas_mensuales\n",
    "\n",
    "\n",
    "datos = cargar_datos()\n",
    "\n",
    "\n",
    "ventas_por_mes(datos)"
   ]
  },
  {
   "cell_type": "markdown",
   "metadata": {},
   "source": [
    "### Ejercicio 7: Informe general\n",
    "\n",
    "Mostrar un listado de productos ordenados alfabeticamente que contengan el precio promedio, la cantidad de unidades vendidas y el importe total vendido para cada producto"
   ]
  },
  {
   "cell_type": "code",
   "execution_count": 9,
   "metadata": {},
   "outputs": [
    {
     "name": "stdout",
     "output_type": "stream",
     "text": [
      "Resumen de ventas por producto:\n",
      "           Precio Promedio Unidades Vendidas Importe Total\n",
      "producto                                                  \n",
      "Coca Cola        $1,072.50                57    $60,780.00\n",
      "Mirinda          $1,545.83                85   $131,080.00\n",
      "Pepsi Cola       $1,245.00                89   $110,510.00\n",
      "Sprite             $841.43                72    $61,040.00\n",
      "Torasso            $920.00                32    $29,320.00\n"
     ]
    },
    {
     "name": "stderr",
     "output_type": "stream",
     "text": [
      "C:\\Users\\Enzop\\AppData\\Local\\Temp\\ipykernel_7396\\3047203912.py:9: DeprecationWarning: DataFrameGroupBy.apply operated on the grouping columns. This behavior is deprecated, and in a future version of pandas the grouping columns will be excluded from the operation. Either pass `include_groups=False` to exclude the groupings or explicitly select the grouping columns after groupby to silence this warning.\n",
      "  importe_total = datos.groupby('producto').apply(lambda x: (x['precio'] * x['cantidad']).sum())\n"
     ]
    },
    {
     "data": {
      "text/html": [
       "<div>\n",
       "<style scoped>\n",
       "    .dataframe tbody tr th:only-of-type {\n",
       "        vertical-align: middle;\n",
       "    }\n",
       "\n",
       "    .dataframe tbody tr th {\n",
       "        vertical-align: top;\n",
       "    }\n",
       "\n",
       "    .dataframe thead th {\n",
       "        text-align: right;\n",
       "    }\n",
       "</style>\n",
       "<table border=\"1\" class=\"dataframe\">\n",
       "  <thead>\n",
       "    <tr style=\"text-align: right;\">\n",
       "      <th></th>\n",
       "      <th>Precio Promedio</th>\n",
       "      <th>Unidades Vendidas</th>\n",
       "      <th>Importe Total</th>\n",
       "    </tr>\n",
       "    <tr>\n",
       "      <th>producto</th>\n",
       "      <th></th>\n",
       "      <th></th>\n",
       "      <th></th>\n",
       "    </tr>\n",
       "  </thead>\n",
       "  <tbody>\n",
       "    <tr>\n",
       "      <th>Coca Cola</th>\n",
       "      <td>$1,072.50</td>\n",
       "      <td>57</td>\n",
       "      <td>$60,780.00</td>\n",
       "    </tr>\n",
       "    <tr>\n",
       "      <th>Mirinda</th>\n",
       "      <td>$1,545.83</td>\n",
       "      <td>85</td>\n",
       "      <td>$131,080.00</td>\n",
       "    </tr>\n",
       "    <tr>\n",
       "      <th>Pepsi Cola</th>\n",
       "      <td>$1,245.00</td>\n",
       "      <td>89</td>\n",
       "      <td>$110,510.00</td>\n",
       "    </tr>\n",
       "    <tr>\n",
       "      <th>Sprite</th>\n",
       "      <td>$841.43</td>\n",
       "      <td>72</td>\n",
       "      <td>$61,040.00</td>\n",
       "    </tr>\n",
       "    <tr>\n",
       "      <th>Torasso</th>\n",
       "      <td>$920.00</td>\n",
       "      <td>32</td>\n",
       "      <td>$29,320.00</td>\n",
       "    </tr>\n",
       "  </tbody>\n",
       "</table>\n",
       "</div>"
      ],
      "text/plain": [
       "           Precio Promedio Unidades Vendidas Importe Total\n",
       "producto                                                  \n",
       "Coca Cola        $1,072.50                57    $60,780.00\n",
       "Mirinda          $1,545.83                85   $131,080.00\n",
       "Pepsi Cola       $1,245.00                89   $110,510.00\n",
       "Sprite             $841.43                72    $61,040.00\n",
       "Torasso            $920.00                32    $29,320.00"
      ]
     },
     "execution_count": 9,
     "metadata": {},
     "output_type": "execute_result"
    }
   ],
   "source": [
    "def resumen_ventas(datos):\n",
    "\n",
    "    precio_promedio = datos.groupby('producto')['precio'].mean()\n",
    "    \n",
    "\n",
    "    unidades_vendidas = datos.groupby('producto')['cantidad'].sum()\n",
    "    \n",
    "\n",
    "    importe_total = datos.groupby('producto').apply(lambda x: (x['precio'] * x['cantidad']).sum())\n",
    "    \n",
    "  \n",
    "    resumen = pd.DataFrame({\n",
    "        'Precio Promedio': precio_promedio,\n",
    "        'Unidades Vendidas': unidades_vendidas,\n",
    "        'Importe Total': importe_total\n",
    "    }).sort_index()  # Ordenar alfabéticamente por producto\n",
    "    \n",
    "    # Formatear las columnas\n",
    "    resumen['Precio Promedio'] = resumen['Precio Promedio'].map('${:,.2f}'.format)\n",
    "    resumen['Importe Total'] = resumen['Importe Total'].map('${:,.2f}'.format)\n",
    "    resumen['Unidades Vendidas'] = resumen['Unidades Vendidas'].map('{:,}'.format)\n",
    "    \n",
    "    # Mostrar los resultados\n",
    "    print(\"Resumen de ventas por producto:\")\n",
    "    print(resumen)\n",
    "    \n",
    "    return resumen\n",
    "\n",
    "\n",
    "datos = cargar_datos()\n",
    "\n",
    "\n",
    "resumen_ventas(datos)"
   ]
  },
  {
   "cell_type": "markdown",
   "metadata": {},
   "source": [
    "## `Resolver usando NumPy`\n",
    "## Resolver el ejercicio 2 del tp1 usando NumPy"
   ]
  },
  {
   "cell_type": "markdown",
   "metadata": {},
   "source": [
    "### Ejercicio 8\n",
    "\n",
    "Escribe una función en Python que encuentre los valores de `a`, `b`, y `c` para que la función cuadrática `f(x) = a x^2 + b x + c` pase exactamente por los siguientes puntos:\n",
    "\n",
    "| x  | y  |\n",
    "|---:|---:|\n",
    "|  0 |  0 |\n",
    "|  1 |  8 |\n",
    "|  2 | 12 |\n",
    "|  3 | 12 |\n",
    "|  5 |  0 |\n",
    "\n",
    "### Requisitos:\n",
    "- La función debe explorar posibles valores de `a`, `b`, y `c` utilizando un método de prueba y error.\n",
    "- Debe devolver los valores que hagan que la diferencia entre la función `f(x)` y los valores medidos `y` sea exactamente cero para cada punto.\n",
    "\n",
    "> **Pista**: Los valores de `a`, `b`, y `c` son números pequeños.\n",
    "\n",
    "La idea es implementar el mismo algoritmo que se uso en el TP1 pero usando NumPy en lugar de Python puro."
   ]
  },
  {
   "cell_type": "code",
   "execution_count": 10,
   "metadata": {},
   "outputs": [
    {
     "name": "stdout",
     "output_type": "stream",
     "text": [
      "[-2 10  0]\n",
      "Valores predichos: [ 0  8 12 12  0]\n",
      "Valores reales:    [ 0  8 12 12  0]\n",
      "Error total: 0\n"
     ]
    }
   ],
   "source": [
    "import numpy as np\n",
    "\n",
    "def f(x, coeficientes):\n",
    "    a, b, c = coeficientes\n",
    "    return a * x**2 + b * x + c\n",
    "\n",
    "def error(y, y_pred):\n",
    "    return np.sum(np.abs(y - y_pred))\n",
    "\n",
    "X = np.array([0, 1, 2, 3, 5])\n",
    "Y = np.array([0, 8, 12, 12, 0])\n",
    "\n",
    "def buscar_coeficientes():\n",
    "    for a in range(-10, 11): \n",
    "        for b in range(-20, 21):  \n",
    "            for c in range(-10, 11): \n",
    "                coeficientes = np.array([a, b, c])\n",
    "                y_pred = f(X, coeficientes)\n",
    "                if error(Y, y_pred) == 0:\n",
    "                    return coeficientes\n",
    "    return None  \n",
    "\n",
    "coeficientes = buscar_coeficientes()\n",
    "print(coeficientes)\n",
    "\n",
    "\n",
    "if coeficientes is not None:\n",
    "    y_pred = f(X, coeficientes)\n",
    "    print(\"Valores predichos:\", y_pred)\n",
    "    print(\"Valores reales:   \", Y)\n",
    "    print(\"Error total:\", error(Y, y_pred))\n",
    "else:\n",
    "    print(\"No se encontró una solución exacta.\")"
   ]
  },
  {
   "cell_type": "markdown",
   "metadata": {},
   "source": [
    "### Ejercicio 9: Resolver el ejercicio 3 del TP1 usando NumPy\n",
    "Buscar los coeficientes de la función que minimice la suma de los cuadrados de las diferencias entre los valores medidos y los valores de la función.\n",
    "\n",
    "1. Crear un array con los coeficientes elegidos al azar (usar `randint(-10,10,3)`).\n",
    "2. Calcular el valor de la función y el error correspondiente.\n",
    "3. Mientras que el error sea mayor a 1:\n",
    "    1. Definir nuevos coeficientes agregándoles un pequeño valor al azar a los coeficientes actuales (aprendizaje = 0.001).\n",
    "    2. Si el error para los nuevos coeficientes es menor que el anterior, reemplazar los coeficientes actuales por los nuevos.\n"
   ]
  },
  {
   "cell_type": "code",
   "execution_count": 11,
   "metadata": {},
   "outputs": [
    {
     "name": "stdout",
     "output_type": "stream",
     "text": [
      "Coeficientes encontrados: [-1.77887193  8.958489    0.62163317]\n",
      "Error final: 0.9994627128191851\n",
      "\n",
      "Valores predichos: [ 0.62163317  7.80125023 11.42312343 11.48725275  0.9422798 ]\n",
      "Valores reales:    [ 0  8 12 11  1]\n"
     ]
    }
   ],
   "source": [
    "import numpy as np\n",
    "from numpy.random import randint, normal\n",
    "\n",
    "def f(x, coeficientes):\n",
    "    a, b, c = coeficientes\n",
    "    return a*x**2 + b*x + c\n",
    "\n",
    "def error(y, y_pred):\n",
    "    return np.sum((y - y_pred)**2)\n",
    "\n",
    "X = np.array([0, 1, 2, 3, 5])\n",
    "Y = np.array([0, 8, 12, 11, 1])\n",
    "\n",
    "def buscar_coeficientes():\n",
    "  \n",
    "    coeficientes = randint(-10, 11, 3)\n",
    "    \n",
    "\n",
    "    y_pred = f(X, coeficientes)\n",
    "    error_actual = error(Y, y_pred)\n",
    "    \n",
    "   \n",
    "    aprendizaje = 0.001\n",
    "    \n",
    "    \n",
    "    max_iteraciones = 100000\n",
    "    for _ in range(max_iteraciones):\n",
    "        if error_actual < 1:\n",
    "            break\n",
    "       \n",
    "        nuevos_coeficientes = coeficientes + normal(0, 1, 3) * aprendizaje\n",
    "        \n",
    "\n",
    "        y_pred_nuevo = f(X, nuevos_coeficientes)\n",
    "        nuevo_error = error(Y, y_pred_nuevo)\n",
    "        \n",
    "\n",
    "        if nuevo_error < error_actual:\n",
    "            coeficientes = nuevos_coeficientes\n",
    "            error_actual = nuevo_error\n",
    "    \n",
    "    return coeficientes, error_actual\n",
    "\n",
    "\n",
    "coeficientes, error_final = buscar_coeficientes()\n",
    "\n",
    "print(\"Coeficientes encontrados:\", coeficientes)\n",
    "print(\"Error final:\", error_final)\n",
    "\n",
    "\n",
    "y_pred = f(X, coeficientes)\n",
    "print(\"\\nValores predichos:\", y_pred)\n",
    "print(\"Valores reales:   \", Y)"
   ]
  }
 ],
 "metadata": {
  "kernelspec": {
   "display_name": "Python 3",
   "language": "python",
   "name": "python3"
  },
  "language_info": {
   "codemirror_mode": {
    "name": "ipython",
    "version": 3
   },
   "file_extension": ".py",
   "mimetype": "text/x-python",
   "name": "python",
   "nbconvert_exporter": "python",
   "pygments_lexer": "ipython3",
   "version": "3.11.9"
  }
 },
 "nbformat": 4,
 "nbformat_minor": 2
}
