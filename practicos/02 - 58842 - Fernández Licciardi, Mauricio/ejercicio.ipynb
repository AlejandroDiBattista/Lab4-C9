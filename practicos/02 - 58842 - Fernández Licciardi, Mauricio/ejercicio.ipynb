{
 "cells": [
  {
   "cell_type": "markdown",
   "metadata": {},
   "source": [
    "# Trabajo práctico 1\n",
    "\n"
   ]
  },
  {
   "cell_type": "markdown",
   "metadata": {},
   "source": [
    "## Ejercicio 1 \n",
    "\n",
    "Escribe una función en Python que procese una lista de cadenas de texto y realice las siguientes acciones:\n",
    "\n",
    "1. Tomar una lista de frases y convertir cada frase en una lista de palabras.\n",
    "1. Luego, debe crear una nueva lista que contenga la cantidad de palabras en cada frase.\n",
    "1. Tambien debe crear un lista que contenga la cantidad de caracteres en cada frase.\n",
    "1. Finalmente, debe imprimir cada frase original junto con la cantidad de palabras que contiene.\n",
    "Ejemplo de uso:\n",
    "```python\n",
    "    frases = [\n",
    "        \"Python es un lenguaje de programación\",\n",
    "        \"Me gusta resolver problemas con código\",\n",
    "        \"Las listas y los bucles son muy útiles\"\n",
    "    ]\n",
    "\n",
    "    procesar_frases(frases)\n",
    "```\n",
    "\n",
    "ejemplo de salida:\n",
    "```bash\n",
    "    La frase: \"Python es un...\"\n",
    "    tiene 6 palabras y 38 caracteres\n",
    "```\n"
   ]
  },
  {
   "cell_type": "code",
   "execution_count": 5,
   "metadata": {},
   "outputs": [
    {
     "name": "stdout",
     "output_type": "stream",
     "text": [
      "La frase: 'Python es un lenguaje de programación', tiene '6' palabras y '37' caracteres\n",
      "La frase: 'Un algoritmo bien diseñado ahorra tiempo', tiene '6' palabras y '40' caracteres\n",
      "La frase: 'La creatividad impulsa la innovación tecnológica', tiene '6' palabras y '48' caracteres\n"
     ]
    }
   ],
   "source": [
    "def procesar_frases(frases):\n",
    "    cantidad_palabras = []\n",
    "    cantidad_caracteres = []\n",
    "\n",
    "    for frase in frases:\n",
    "        palabras = frase.split()\n",
    "        numero_palabras = len(palabras)\n",
    "        numero_caracter = len(frase)\n",
    "        cantidad_palabras.append(numero_palabras)\n",
    "        cantidad_caracteres.append(numero_caracter)\n",
    "        print(f\"La frase: '{frase}', tiene '{numero_palabras}' palabras y '{numero_caracter}' caracteres\")\n",
    "\n",
    "frases = [\n",
    "    \"Python es un lenguaje de programación\",\n",
    "    \"Un algoritmo bien diseñado ahorra tiempo\",\n",
    "    \"La creatividad impulsa la innovación tecnológica\"\n",
    "]\n",
    "\n",
    "procesar_frases(frases)"
   ]
  },
  {
   "cell_type": "markdown",
   "metadata": {},
   "source": [
    "## Ejercicio 2\n",
    "\n",
    "Escribe una función en Python que encuentre los valores de `a`, `b`, y `c` para que la función cuadrática `f(x) = aX^2 + bX + c` pase exactamente por los siguientes puntos:\n",
    "\n",
    "| x  | y  |\n",
    "|---:|---:|\n",
    "|  0 |  0 |\n",
    "|  1 |  8 |\n",
    "|  2 | 12 |\n",
    "|  3 | 12 |\n",
    "|  5 |  0 |\n",
    "\n",
    "### Requisitos:\n",
    "- La función debe explorar posibles valores de `a`, `b`, y `c` utilizando un método de prueba y error.\n",
    "- Debe devolver los valores que hagan que la diferencia entre la función `f(x)` y los valores medidos `y` sea exactamente cero para cada punto.\n",
    "\n",
    "> **Pista**: Los valores de `a`, `b`, y `c` son números pequeños."
   ]
  },
  {
   "cell_type": "code",
   "execution_count": 6,
   "metadata": {},
   "outputs": [
    {
     "name": "stdout",
     "output_type": "stream",
     "text": [
      "Coeficientes solucionados: a = -2, b = 10, c = 0\n"
     ]
    }
   ],
   "source": [
    "def solucionar_abc():\n",
    "    puntos = [(0, 0), (1, 8), (2, 12), (3, 12), (5, 0)]\n",
    "    rango = range(-20, 21)\n",
    "\n",
    "    for a in rango:\n",
    "        for b in rango:\n",
    "            for c in rango:\n",
    "                solucionado = True\n",
    "                for x, y_esperado in puntos:\n",
    "                    y_calculado = a * x**2 + b * x + c\n",
    "                    if round(y_calculado, 2) != y_esperado:\n",
    "                        solucionado = False\n",
    "                        break  \n",
    "                if solucionado:\n",
    "                    return a, b, c\n",
    "    return None  \n",
    "\n",
    "abc = solucionar_abc()\n",
    "if abc:\n",
    "    a, b, c = abc\n",
    "    print(f\"Coeficientes solucionados: a = {a}, b = {b}, c = {c}\")\n",
    "else:\n",
    "    print(\"No se han encontrado soluciones.\")"
   ]
  }
 ],
 "metadata": {
  "kernelspec": {
   "display_name": "Python 3",
   "language": "python",
   "name": "python3"
  },
  "language_info": {
   "codemirror_mode": {
    "name": "ipython",
    "version": 3
   },
   "file_extension": ".py",
   "mimetype": "text/x-python",
   "name": "python",
   "nbconvert_exporter": "python",
   "pygments_lexer": "ipython3",
   "version": "3.12.4"
  }
 },
 "nbformat": 4,
 "nbformat_minor": 2
}
