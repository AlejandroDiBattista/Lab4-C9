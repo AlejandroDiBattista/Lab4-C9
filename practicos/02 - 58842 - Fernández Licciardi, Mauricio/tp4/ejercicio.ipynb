{
 "cells": [
  {
   "cell_type": "markdown",
   "metadata": {},
   "source": [
    "# Simulación del Truco"
   ]
  },
  {
   "cell_type": "markdown",
   "metadata": {},
   "source": [
    "Las **cartas** deben registra el numero, palo y valor de la carta. \n",
    "El valor debe reflejar la jerarquía de las cartas en el juego del truco."
   ]
  },
  {
   "cell_type": "code",
   "execution_count": 195,
   "metadata": {},
   "outputs": [
    {
     "name": "stdout",
     "output_type": "stream",
     "text": [
      "Carta: 1 de oro, Valor: 8\n"
     ]
    }
   ],
   "source": [
    "def calcular_valor(numero, palo):\n",
    "    jerarquia = {\n",
    "        (1, 'espada'): 14, (1, 'basto'): 13,\n",
    "        (7, 'espada'): 12, (7, 'oro'): 11,\n",
    "        (3, 'espada'): 10, (3, 'basto'): 10, (3, 'oro'): 10, (3, 'copa'): 10,\n",
    "        (2, 'espada'): 9, (2, 'basto'): 9, (2, 'oro'): 9, (2, 'copa'): 9,\n",
    "        (1, 'oro'): 8, (1, 'copa'): 8,\n",
    "        (12, 'espada'): 7, (12, 'basto'): 7, (12, 'oro'): 7, (12, 'copa'): 7,\n",
    "        (11, 'espada'): 6, (11, 'basto'): 6, (11, 'oro'): 6, (11, 'copa'): 6,\n",
    "        (10, 'espada'): 5, (10, 'basto'): 5, (10, 'oro'): 5, (10, 'copa'): 5,\n",
    "        (7, 'basto'): 4, (7, 'copa'): 4,\n",
    "        (6, 'espada'): 3, (6, 'basto'): 3, (6, 'oro'): 3, (6, 'copa'): 3,\n",
    "        (5, 'espada'): 2, (5, 'basto'): 2, (5, 'oro'): 2, (5, 'copa'): 2,\n",
    "        (4, 'espada'): 1, (4, 'basto'): 1, (4, 'oro'): 1, (4, 'copa'): 1  \n",
    "    }\n",
    "    return jerarquia.get((numero, palo), 0)\n",
    "\n",
    "class Carta:\n",
    "    def __init__(self, numero, palo):\n",
    "        self.numero = numero\n",
    "        self.palo = palo\n",
    "        self.valor = calcular_valor(numero, palo)\n",
    "\n",
    "    def __str__(self):\n",
    "        return f\"Carta: {self.numero} de {self.palo}, Valor: {self.valor}\"\n",
    "    \n",
    "carta = Carta(1, 'oro')\n",
    "print(carta)"
   ]
  },
  {
   "cell_type": "markdown",
   "metadata": {},
   "source": [
    "**Mazo**: Representan las cartas españolas de 1 al 12, en los palos de oro, copa, espada y basto.\n",
    "\n",
    "Debe existir una función que permita barajar las cartas.\n",
    "y otra función que permita repartir las cartas a los jugadores."
   ]
  },
  {
   "cell_type": "code",
   "execution_count": 196,
   "metadata": {},
   "outputs": [
    {
     "name": "stdout",
     "output_type": "stream",
     "text": [
      "Cartas repartidas: ['Carta: 2 de espada, Valor: 9', 'Carta: 3 de oro, Valor: 10', 'Carta: 2 de basto, Valor: 9']\n"
     ]
    }
   ],
   "source": [
    "import random\n",
    "\n",
    "class Mazo:\n",
    "    def __init__(self):\n",
    "        self.cartas = self.crear_mazo()\n",
    "\n",
    "    def crear_mazo(self):\n",
    "        palos = ['oro', 'copa', 'espada', 'basto']\n",
    "        cartas = [Carta(numero, palo) for palo in palos for numero in range(1, 13)]\n",
    "        return cartas\n",
    "\n",
    "    def mezclar(self):\n",
    "        random.shuffle(self.cartas)\n",
    "\n",
    "    def repartir(self, cantidad):\n",
    "        if cantidad > len(self.cartas):\n",
    "            return \"No hay suficientes cartas en el mazo.\"\n",
    "        mano = self.cartas[:cantidad]\n",
    "        self.cartas = self.cartas[cantidad:]\n",
    "        return mano\n",
    "\n",
    "m = Mazo()\n",
    "m.mezclar()\n",
    "\n",
    "mano = m.repartir(3)\n",
    "print(\"Cartas repartidas:\", [str(carta) for carta in mano])"
   ]
  },
  {
   "cell_type": "markdown",
   "metadata": {},
   "source": [
    "**Jugador**: Deben tener un nombre y las cartas que tiene en la mano. Debe acumular los puntos ganados.\n",
    "\n",
    "Nota: Para simplificar el problema, el jugador elige la carta a jugar de forma aleatoria."
   ]
  },
  {
   "cell_type": "code",
   "execution_count": 197,
   "metadata": {},
   "outputs": [
    {
     "name": "stdout",
     "output_type": "stream",
     "text": [
      "Cartas en mano de Mauricio: ['Carta: 5 de copa, Valor: 2', 'Carta: 12 de copa, Valor: 7', 'Carta: 3 de espada, Valor: 10']\n",
      "Mauricio juega la carta: Carta: 3 de espada, Valor: 10\n",
      "Puntos acumulados: 10\n",
      "Cartas en mano de Micaela: ['Carta: 2 de basto, Valor: 9', 'Carta: 12 de espada, Valor: 7', 'Carta: 9 de basto, Valor: 0']\n",
      "Micaela juega la carta: Carta: 12 de espada, Valor: 7\n",
      "Puntos acumulados: 7\n"
     ]
    }
   ],
   "source": [
    "class Jugador:\n",
    "    def __init__(self, nombre):\n",
    "        self.nombre = nombre\n",
    "        self.cartas = []\n",
    "        self.puntos = 0\n",
    "\n",
    "    def recibir_cartas(self, cartas):\n",
    "        self.cartas.extend(cartas)\n",
    "\n",
    "    def jugar_carta(self):\n",
    "        if not self.cartas:\n",
    "            return \"No hay cartas en la mano.\"\n",
    "        carta_jugada = random.choice(self.cartas)\n",
    "        self.cartas.remove(carta_jugada)\n",
    "        self.puntos += carta_jugada.valor\n",
    "        return carta_jugada\n",
    "\n",
    "m = Mazo()\n",
    "m.mezclar()\n",
    "\n",
    "j1 = Jugador(\"Mauricio\")\n",
    "j1.recibir_cartas(m.repartir(3))\n",
    "print(f\"Cartas en mano de {j1.nombre}: {[str(carta) for carta in j1.cartas]}\")\n",
    "carta_jugada = j1.jugar_carta()\n",
    "print(f\"{j1.nombre} juega la carta: {carta_jugada}\")\n",
    "print(f\"Puntos acumulados: {j1.puntos}\")\n",
    "\n",
    "j2 = Jugador(\"Micaela\")\n",
    "j2.recibir_cartas(m.repartir(3))\n",
    "print(f\"Cartas en mano de {j2.nombre}: {[str(carta) for carta in j2.cartas]}\")\n",
    "carta_jugada = j2.jugar_carta()\n",
    "print(f\"{j2.nombre} juega la carta: {carta_jugada}\")\n",
    "print(f\"Puntos acumulados: {j2.puntos}\")"
   ]
  },
  {
   "cell_type": "markdown",
   "metadata": {},
   "source": [
    "**Partida**: Debe tener dos jugadores, un mazo de cartas y un puntaje. Debe permitir jugar una carta por ronda y definir el ganador de la ronda. Debe permitir jugar hasta que se terminen las cartas del mazo."
   ]
  },
  {
   "cell_type": "code",
   "execution_count": 198,
   "metadata": {},
   "outputs": [
    {
     "name": "stdout",
     "output_type": "stream",
     "text": [
      "\n",
      "--- Nueva Ronda ---\n",
      "Mauricio juega: Carta: 8 de copa, Valor: 0\n",
      "Micaela juega: Carta: 6 de copa, Valor: 3\n",
      "Micaela gana la ronda!\n",
      "Puntos - Mauricio: 10, Micaela: 11\n",
      "\n",
      "--- Nueva Ronda ---\n",
      "Mauricio juega: Carta: 7 de basto, Valor: 4\n",
      "Micaela juega: Carta: 2 de basto, Valor: 9\n",
      "Micaela gana la ronda!\n",
      "Puntos - Mauricio: 14, Micaela: 21\n",
      "\n",
      "Micaela gana la partida con 21 puntos!\n"
     ]
    }
   ],
   "source": [
    "class Partida:\n",
    "    def __init__(self, jugador1, jugador2):\n",
    "        self.jugador1 = jugador1\n",
    "        self.jugador2 = jugador2\n",
    "        self.mazo = Mazo()\n",
    "        self.mazo.mezclar()\n",
    "\n",
    "    def jugar_ronda(self):\n",
    "        print(f\"\\n--- Nueva Ronda ---\")\n",
    "        carta_jugador1 = self.jugador1.jugar_carta()\n",
    "        carta_jugador2 = self.jugador2.jugar_carta()\n",
    "\n",
    "        print(f\"{self.jugador1.nombre} juega: {carta_jugador1}\")\n",
    "        print(f\"{self.jugador2.nombre} juega: {carta_jugador2}\")\n",
    "\n",
    "        if carta_jugador1.valor > carta_jugador2.valor:\n",
    "            self.jugador1.puntos += 1\n",
    "            print(f\"{self.jugador1.nombre} gana la ronda!\")\n",
    "        elif carta_jugador2.valor > carta_jugador1.valor:\n",
    "            self.jugador2.puntos += 1\n",
    "            print(f\"{self.jugador2.nombre} gana la ronda!\")\n",
    "        else:\n",
    "            print(\"¡Empate en esta ronda!\")\n",
    "\n",
    "    def jugar(self):\n",
    "        while len(self.mazo.cartas) >= 6:\n",
    "            self.mazo.mezclar()\n",
    "            self.jugador1.recibir_cartas(self.mazo.repartir(3))\n",
    "            self.jugador2.recibir_cartas(self.mazo.repartir(3))\n",
    "            self.jugar_ronda()\n",
    "            print(f\"Puntos - {self.jugador1.nombre}: {self.jugador1.puntos}, {self.jugador2.nombre}: {self.jugador2.puntos}\")\n",
    "\n",
    "            if self.jugador1.puntos >= 15 or self.jugador2.puntos >= 15:\n",
    "                break\n",
    "\n",
    "        if self.jugador1.puntos > self.jugador2.puntos:\n",
    "            print(f\"\\n{self.jugador1.nombre} gana la partida con {self.jugador1.puntos} puntos!\")\n",
    "        elif self.jugador2.puntos > self.jugador1.puntos:\n",
    "            print(f\"\\n{self.jugador2.nombre} gana la partida con {self.jugador2.puntos} puntos!\")\n",
    "        else:\n",
    "            print(\"\\n¡La partida termina en empate!\")\n",
    "\n",
    "p = Partida(j1, j2)\n",
    "p.jugar()"
   ]
  }
 ],
 "metadata": {
  "kernelspec": {
   "display_name": "Python 3",
   "language": "python",
   "name": "python3"
  },
  "language_info": {
   "codemirror_mode": {
    "name": "ipython",
    "version": 3
   },
   "file_extension": ".py",
   "mimetype": "text/x-python",
   "name": "python",
   "nbconvert_exporter": "python",
   "pygments_lexer": "ipython3",
   "version": "3.12.4"
  }
 },
 "nbformat": 4,
 "nbformat_minor": 2
}
