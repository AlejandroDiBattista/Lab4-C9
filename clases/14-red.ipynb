{
 "cells": [
  {
   "cell_type": "code",
   "execution_count": 36,
   "metadata": {},
   "outputs": [],
   "source": [
    "import numpy as np\n",
    "import random\n",
    "\n",
    "class Perceptron:\n",
    "    def __init__(self, aprendizaje=0.001, epocas=1000):\n",
    "        self.aprendizaje = aprendizaje\n",
    "        self.epocas = epocas\n",
    "        self.w = None\n",
    "        self.b = None   \n",
    "        self.errores = []\n",
    "\n",
    "    def perceptron(self, x):\n",
    "        return np.dot(x, self.w) + self.b\n",
    "\n",
    "    def activacion(self, z): # Escalón unitario\n",
    "        return 0 if z <= 0 else 1\n",
    "\n",
    "    def error(self, y, y_pred):\n",
    "        return ((y - y_pred)**2).mean()\n",
    "    \n",
    "    def ajustar(self, X, y):\n",
    "        X = np.array(X)\n",
    "        y = np.array(y)\n",
    "        \n",
    "        self.w = np.random.rand(X.shape[1])\n",
    "        self.b = random.random()\n",
    "\n",
    "        for _ in range(self.epocas):\n",
    "            # Ajustamos los parámetros de todas las muestras en forma simultánea\n",
    "\n",
    "            # Forward propagation - Propagación hacia adelante\n",
    "            y_pred = np.array([self.predecir(x) for x in X])\n",
    "            error  = y - y_pred\n",
    "\n",
    "            # Backpropagation - Retropropagación \n",
    "            self.w += self.aprendizaje * np.dot(error, X)\n",
    "            self.b += self.aprendizaje * error.sum()\n",
    "\n",
    "            self.errores.append(self.error(y, y_pred))\n",
    "        return self \n",
    "\n",
    "    def predecir(self, x):\n",
    "        return self.activacion(self.perceptron(x))\n",
    "\n",
    "class PerceptronLineal(Perceptron):\n",
    "    def activacion(self, z):\n",
    "        return z\n"
   ]
  },
  {
   "cell_type": "code",
   "execution_count": null,
   "metadata": {},
   "outputs": [],
   "source": []
  },
  {
   "cell_type": "code",
   "execution_count": 32,
   "metadata": {},
   "outputs": [],
   "source": [
    "import pandas as pd\n",
    "def cargar():\n",
    "    datos = pd.read_csv('iris.csv')\n",
    "    X = datos[['SepalLength', 'SepalWidth', 'PetalLength','PetalWidth']].values\n",
    "    tipos = datos['Name'].values\n",
    "    y = np.array([1 if tipo == 'Iris-setosa' else 0 for tipo in tipos])\n",
    "    return X, y \n"
   ]
  },
  {
   "cell_type": "code",
   "execution_count": 38,
   "metadata": {},
   "outputs": [
    {
     "name": "stdout",
     "output_type": "stream",
     "text": [
      "-----\n",
      "[-0.1828828   0.37645597 -0.48748883  0.1774623 ] 0.7605475721003536\n",
      "Predicción: 1, Real: 1\n",
      "Predicción: 1, Real: 1\n",
      "Predicción: 0, Real: 0\n",
      "Predicción: 0, Real: 0\n",
      "Predicción: 0, Real: 0\n"
     ]
    }
   ],
   "source": [
    "X, y = cargar()\n",
    "\n",
    "print(\"-----\")\n",
    "p = Perceptron()\n",
    "\n",
    "p.ajustar(X, y)\n",
    "print(p.w, p.b)\n",
    "\n",
    "for n in [10, 40, 60, 90, 120]:\n",
    "    print(f'Predicción: {p.predecir(X[n])}, Real: {y[n]}')"
   ]
  },
  {
   "cell_type": "code",
   "execution_count": 51,
   "metadata": {},
   "outputs": [
    {
     "name": "stdout",
     "output_type": "stream",
     "text": [
      "[21.42879796] 0.9126627119144822\n"
     ]
    },
    {
     "data": {
      "text/plain": [
       "[<matplotlib.lines.Line2D at 0x14d869be0>]"
      ]
     },
     "execution_count": 51,
     "metadata": {},
     "output_type": "execute_result"
    },
    {
     "data": {
      "image/png": "[encoded data removed]",
      "text/plain": [
       "<Figure size 640x480 with 1 Axes>"
      ]
     },
     "metadata": {},
     "output_type": "display_data"
    }
   ],
   "source": [
    "import matplotlib.pyplot as plt \n",
    "datos = pd.read_csv('helados.csv')\n",
    "X = datos[['temperatura']].values\n",
    "y = datos['ventas'].values\n",
    "p = PerceptronLineal(0.00001, 10)\n",
    "p.ajustar(X, y)\n",
    "print(p.w, p.b)\n",
    "plt.scatter(datos['temperatura'], datos['ventas'])\n",
    "plt.plot(X, [p.predecir(x) for x in X], color='red')\n",
    "# plt.plot(p.errores)"
   ]
  }
 ],
 "metadata": {
  "kernelspec": {
   "display_name": "Python 3",
   "language": "python",
   "name": "python3"
  },
  "language_info": {
   "codemirror_mode": {
    "name": "ipython",
    "version": 3
   },
   "file_extension": ".py",
   "mimetype": "text/x-python",
   "name": "python",
   "nbconvert_exporter": "python",
   "pygments_lexer": "ipython3",
   "version": "3.12.5"
  }
 },
 "nbformat": 4,
 "nbformat_minor": 2
}
