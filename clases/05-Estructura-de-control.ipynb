{
 "cells": [
  {
   "cell_type": "code",
   "execution_count": 1,
   "metadata": {},
   "outputs": [
    {
     "name": "stdout",
     "output_type": "stream",
     "text": [
      "10\n"
     ]
    }
   ],
   "source": [
    "def mostrar(x):\n",
    "    print (x)\n",
    "    return \n",
    "\n",
    "a = 10\n",
    "mostrar(a) #volver a la 8\n",
    "b = 20\n"
   ]
  },
  {
   "cell_type": "code",
   "execution_count": 2,
   "metadata": {},
   "outputs": [],
   "source": [
    "# if <condicion>:\n",
    "#   <bloque>\n",
    "# [else:\n",
    "    # <bloque>\n",
    "# ]"
   ]
  },
  {
   "cell_type": "code",
   "execution_count": 1,
   "metadata": {},
   "outputs": [
    {
     "name": "stdout",
     "output_type": "stream",
     "text": [
      "joven\n"
     ]
    }
   ],
   "source": [
    "edad = 18\n",
    "# < 18 -> Menor\n",
    "# => 18 and < 65 -> Adulto\n",
    "# >= 65 -> Adulto mayor\n",
    "\n",
    "if edad < 18:\n",
    "    print('Menor')\n",
    "elif edad < 45:\n",
    "    print('joven')\n",
    "elif edad < 65:\n",
    "    print(\"Adulto\")\n",
    "else:\n",
    "    print(\"Adulto mayor\")\n",
    "        "
   ]
  },
  {
   "cell_type": "code",
   "execution_count": 2,
   "metadata": {},
   "outputs": [
    {
     "name": "stdout",
     "output_type": "stream",
     "text": [
      "Joven\n"
     ]
    }
   ],
   "source": [
    "edad = 20\n",
    "if edad < 18:\n",
    "    print(\"menor\")\n",
    "if edad >= 18 and edad < 45:\n",
    "    print(\"Joven\")\n",
    "if edad >= 45 and edad < 65:\n",
    "    print(\"Adulto\")\n",
    "if edad >= 65:\n",
    "    print(\"Adulto mayor\")"
   ]
  },
  {
   "cell_type": "code",
   "execution_count": 4,
   "metadata": {},
   "outputs": [
    {
     "name": "stdout",
     "output_type": "stream",
     "text": [
      "El menor es:  20\n"
     ]
    }
   ],
   "source": [
    "a = 20\n",
    "b = 30 \n",
    "\n",
    "if a < b:\n",
    "    c = a\n",
    "else:\n",
    "    c = b\n",
    "print(\"El menor es: \", c) \n",
    "# c = a < b ? a : b\n",
    "c = a if a < b else b\n",
    "print(\"El menor es: \", c)\n",
    "\n"
   ]
  },
  {
   "cell_type": "code",
   "execution_count": 5,
   "metadata": {},
   "outputs": [],
   "source": [
    "a = 20\n",
    "b = 30\n",
    "c = 15 \n",
    "# d?\n",
    "\n",
    "if a < b and a < c:\n",
    "    d = a   \n",
    "if b < a and b < c:\n",
    "    d = b\n",
    "if c < a and c < b:\n",
    "    d = c\n",
    "\n",
    "    "
   ]
  },
  {
   "cell_type": "code",
   "execution_count": 6,
   "metadata": {},
   "outputs": [],
   "source": [
    "a = 20\n",
    "b = 30\n",
    "c = 15 \n",
    "# d?\n",
    "if a < b:\n",
    "    if a < c:\n",
    "        d = a\n",
    "    else:\n",
    "        d = c\n",
    "else:\n",
    "    if b < c:\n",
    "        d = b\n",
    "    else:\n",
    "        d = c\n"
   ]
  },
  {
   "cell_type": "code",
   "execution_count": 9,
   "metadata": {},
   "outputs": [],
   "source": [
    "a = 20\n",
    "b = 30\n",
    "c = 15 \n",
    "\n",
    "d = 200\n",
    "if a < d:\n",
    "    d = a\n",
    "if b < d:\n",
    "    d = b\n",
    "if c < d:\n",
    "    d = c"
   ]
  },
  {
   "cell_type": "code",
   "execution_count": 13,
   "metadata": {},
   "outputs": [
    {
     "name": "stdout",
     "output_type": "stream",
     "text": [
      "5050\n"
     ]
    }
   ],
   "source": [
    "# while <condicion>:\n",
    "#    <bloque>\n",
    "s = 0\n",
    "i = 1\n",
    "while i <= 100:\n",
    "    s += i\n",
    "    i += 1\n",
    "print(s)"
   ]
  },
  {
   "cell_type": "code",
   "execution_count": 21,
   "metadata": {},
   "outputs": [
    {
     "name": "stdout",
     "output_type": "stream",
     "text": [
      "10321920\n"
     ]
    }
   ],
   "source": [
    "f = 1\n",
    "i = 1\n",
    "while True:\n",
    "    if i % 2 == 1:\n",
    "        i += 1\n",
    "        continue\n",
    "\n",
    "    f *= i\n",
    "    if f > 1000000:\n",
    "        break\n",
    "    i +=1\n",
    "print(f)\n",
    "\n"
   ]
  },
  {
   "cell_type": "code",
   "execution_count": 26,
   "metadata": {},
   "outputs": [
    {
     "name": "stdout",
     "output_type": "stream",
     "text": [
      "Ok\n"
     ]
    }
   ],
   "source": [
    "l = [10, 20, 15, 17, 30]\n",
    "\n",
    "encontrado = False \n",
    "i = 0\n",
    "while i < len(l):\n",
    "    if l[i] == 20:\n",
    "        encontrado = True \n",
    "        break\n",
    "    i +=1\n",
    "\n",
    "if encontrado:\n",
    "    print(\"Ok\")\n",
    "else:\n",
    "    print(\":(\")"
   ]
  },
  {
   "cell_type": "code",
   "execution_count": 29,
   "metadata": {},
   "outputs": [
    {
     "name": "stdout",
     "output_type": "stream",
     "text": [
      ":(\n"
     ]
    }
   ],
   "source": [
    "l = [10, 20, 15, 17, 30]\n",
    "\n",
    "i = 0\n",
    "while i < len(l):\n",
    "    if l[i] == 22:\n",
    "        print(\"Ok\")\n",
    "        break\n",
    "    i +=1\n",
    "else:\n",
    "    print(\":(\")\n",
    "    "
   ]
  },
  {
   "cell_type": "code",
   "execution_count": 35,
   "metadata": {},
   "outputs": [
    {
     "name": "stdout",
     "output_type": "stream",
     "text": [
      "75\n",
      "Ok\n"
     ]
    }
   ],
   "source": [
    "# for <v> in <secuencia>:\n",
    "#    <bloque>\n",
    "\n",
    "l = [10, 20, 30, 15]\n",
    "\n",
    "s = 0 \n",
    "for i in range(len(l)):\n",
    "    s += l[i]\n",
    "\n",
    "print(s)\n",
    "\n",
    "s = 0 \n",
    "for x in l:\n",
    "    if x == 15:\n",
    "        print(\"Ok\")\n",
    "        break \n",
    "else:\n",
    "    print(\":(\")\n"
   ]
  },
  {
   "cell_type": "code",
   "execution_count": 38,
   "metadata": {},
   "outputs": [
    {
     "name": "stdout",
     "output_type": "stream",
     "text": [
      "402387260077093773543702433923003985719374864210714632543799910429938512398629020592044208486969404800479988610197196058631666872994808558901323829669944590997424504087073759918823627727188732519779505950995276120874975462497043601418278094646496291056393887437886487337119181045825783647849977012476632889835955735432513185323958463075557409114262417474349347553428646576611667797396668820291207379143853719588249808126867838374559731746136085379534524221586593201928090878297308431392844403281231558611036976801357304216168747609675871348312025478589320767169132448426236131412508780208000261683151027341827977704784635868170164365024153691398281264810213092761244896359928705114964975419909342221566832572080821333186116811553615836546984046708975602900950537616475847728421889679646244945160765353408198901385442487984959953319101723355556602139450399736280750137837615307127761926849034352625200015888535147331611702103968175921510907788019393178114194545257223865541461062892187960223838971476088506276862967146674697562911234082439208160153780889893964518263243671616762179168909779911903754031274622289988005195444414282012187361745992642956581746628302955570299024324153181617210465832036786906117260158783520751516284225540265170483304226143974286933061690897968482590125458327168226458066526769958652682272807075781391858178889652208164348344825993266043367660176999612831860788386150279465955131156552036093988180612138558600301435694527224206344631797460594682573103790084024432438465657245014402821885252470935190620929023136493273497565513958720559654228749774011413346962715422845862377387538230483865688976461927383814900140767310446640259899490222221765904339901886018566526485061799702356193897017860040811889729918311021171229845901641921068884387121855646124960798722908519296819372388642614839657382291123125024186649353143970137428531926649875337218940694281434118520158014123344828015051399694290153483077644569099073152433278288269864602789864321139083506217095002597389863554277196742822248757586765752344220207573630569498825087968928162753848863396909959826280956121450994871701244516461260379029309120889086942028510640182154399457156805941872748998094254742173582401063677404595741785160829230135358081840096996372524230560855903700624271243416909004153690105933983835777939410970027753472000000000000000000000000000000000000000000000000000000000000000000000000000000000000000000000000000000000000000000000000000000000000000000000000000000000000000000000000000000000000000000000000000000000000000000000000000000000000000000000000000000000\n"
     ]
    }
   ],
   "source": [
    "# n! = n * (n-1)!\n",
    "# 0! = 1 \n",
    "\n",
    "def f(n):\n",
    "    if n == 0:\n",
    "        return 1\n",
    "    return n * f(n-1)\n",
    "\n",
    "print(f(10))\n"
   ]
  }
 ],
 "metadata": {
  "kernelspec": {
   "display_name": "Python 3",
   "language": "python",
   "name": "python3"
  },
  "language_info": {
   "codemirror_mode": {
    "name": "ipython",
    "version": 3
   },
   "file_extension": ".py",
   "mimetype": "text/x-python",
   "name": "python",
   "nbconvert_exporter": "python",
   "pygments_lexer": "ipython3",
   "version": "3.12.5"
  }
 },
 "nbformat": 4,
 "nbformat_minor": 2
}
