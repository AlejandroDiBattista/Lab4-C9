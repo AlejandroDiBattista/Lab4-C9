{
 "cells": [
  {
   "cell_type": "code",
   "execution_count": 18,
   "metadata": {},
   "outputs": [
    {
     "name": "stdout",
     "output_type": "stream",
     "text": [
      "Empleado: Juan         salario: $  22000.00\n",
      "Empleado: Juan         salario: $  26400.00\n"
     ]
    }
   ],
   "source": [
    "class Empleado:\n",
    "    def __init__(self, nombre, salario=10000):\n",
    "        self.nombre = nombre\n",
    "        self.salario = salario if salario > 10000 else 10000\n",
    "\n",
    "    def aumento(self, porcentaje):\n",
    "        if porcentaje < 0:\n",
    "              porcentaje = 0\n",
    "            \n",
    "        if porcentaje > 20:\n",
    "            porcentaje = 20\n",
    "\n",
    "        self.salario += self.salario * porcentaje / 100\n",
    "\n",
    "    def costoAnual(self):\n",
    "        return self.salario * 12\n",
    "    \n",
    "    def __str__(self):\n",
    "        return f\"Empleado: {self.nombre:12} salario: ${self.salario:10.2f}\"\n",
    "    \n",
    "a = Empleado(\"Juan\",20000)\n",
    "a.aumento(10)\n",
    "print(a)\n",
    "a.aumento(-10)\n",
    "a.aumento(50)\n",
    "print(a)"
   ]
  },
  {
   "cell_type": "code",
   "execution_count": 26,
   "metadata": {},
   "outputs": [
    {
     "name": "stdout",
     "output_type": "stream",
     "text": [
      "Iterando\n",
      "Empleado: Juan         salario: $  20000.00\n",
      "Empleado: Ana          salario: $  30000.00\n",
      "Empleado: Luis         salario: $  25000.00\n",
      "Gerente: Pedro, salario: 50000, empleados: 3\n",
      "Costo Anual total: 1,500,000.00\n"
     ]
    }
   ],
   "source": [
    "class Gerente(Empleado):\n",
    "    def __init__(self, nombre, salario, empleados=None):\n",
    "        super().__init__(nombre, salario)\n",
    "        self.empleados = empleados if empleados else [] \n",
    "\n",
    "    def contratar(self, empleado):\n",
    "        self.empleados.append(empleado)\n",
    "\n",
    "    def despedir(self, empleado):   \n",
    "        self.empleados.remove(empleado)\n",
    "    \n",
    "    def aumento(self, porcentaje):\n",
    "        super().aumento(porcentaje)\n",
    "        for empleado in self.empleados:\n",
    "            empleado.aumento(porcentaje)\n",
    "\n",
    "    def listar(self):\n",
    "        print(f\"Gerente {self.nombre} tiena a cargo a:\")\n",
    "        for empleado in self:\n",
    "            print(empleado)\n",
    "\n",
    "    def __str__(self):\n",
    "        return f\"Gerente: {self.nombre}, salario: {self.salario}, empleados: {len(self.empleados)}\" \n",
    "\n",
    "    def __len__(self):\n",
    "        return len(self.empleados)\n",
    "    \n",
    "    def __getitem__(self, i):\n",
    "        print(f\"getitem {i}\")   \n",
    "        return self.empleados[i]\n",
    "\n",
    "    def __iter__(self):\n",
    "        print(\"Iterando\")\n",
    "        return iter(self.empleados)\n",
    "    \n",
    "    def costoAnual(self):\n",
    "        return super().costoAnual() + sum([empleado.costoAnual() for empleado in self.empleados])\n",
    "\n",
    "g = Gerente(\"Pedro\", 50000)\n",
    "g.contratar( Empleado(\"Juan\", 20000))\n",
    "g.contratar( Empleado(\"Ana\", 30000))\n",
    "g.contratar( Empleado(\"Luis\", 25000))\n",
    "\n",
    "for e in g:\n",
    "    print(e)\n",
    "\n",
    "print(g)\n",
    "print(f\"Costo Anual total: {g.costoAnual():,.2f}\")"
   ]
  },
  {
   "cell_type": "code",
   "execution_count": null,
   "metadata": {},
   "outputs": [],
   "source": []
  }
 ],
 "metadata": {
  "kernelspec": {
   "display_name": "Python 3",
   "language": "python",
   "name": "python3"
  },
  "language_info": {
   "codemirror_mode": {
    "name": "ipython",
    "version": 3
   },
   "file_extension": ".py",
   "mimetype": "text/x-python",
   "name": "python",
   "nbconvert_exporter": "python",
   "pygments_lexer": "ipython3",
   "version": "3.12.5"
  }
 },
 "nbformat": 4,
 "nbformat_minor": 2
}
