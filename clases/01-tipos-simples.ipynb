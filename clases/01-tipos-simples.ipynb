{
 "cells": [
  {
   "cell_type": "code",
   "execution_count": 9,
   "metadata": {},
   "outputs": [
    {
     "data": {
      "text/plain": [
       "True"
      ]
     },
     "execution_count": 9,
     "metadata": {},
     "output_type": "execute_result"
    }
   ],
   "source": [
    "a = True  \n",
    "\n",
    "a"
   ]
  },
  {
   "cell_type": "code",
   "execution_count": 10,
   "metadata": {},
   "outputs": [],
   "source": [
    "#Comparacines\n",
    "a = 1 > 3"
   ]
  },
  {
   "cell_type": "code",
   "execution_count": 38,
   "metadata": {},
   "outputs": [
    {
     "name": "stdout",
     "output_type": "stream",
     "text": [
      "1 True 1\n"
     ]
    }
   ],
   "source": [
    "# Expresiones logicas\n",
    "a = True\n",
    "b = False  \n",
    "\n",
    "d = a and b and 1/0  #Shortcut evaluation\n",
    "b = 1 \n",
    "d = b and a \n",
    "print(d,a,b)"
   ]
  },
  {
   "cell_type": "code",
   "execution_count": 36,
   "metadata": {},
   "outputs": [
    {
     "data": {
      "text/plain": [
       "True"
      ]
     },
     "execution_count": 36,
     "metadata": {},
     "output_type": "execute_result"
    }
   ],
   "source": [
    "# Conversion de tipo\n",
    "#   False, 0, \"\", [], {}, None -> False\n",
    "#   Todo lo demas -> True\n",
    "\n",
    "# De numero a booleano\n",
    "bool(0)             #> False\n",
    "bool(1)             #> True\n",
    "bool(-1)            #> True\n",
    "bool(500)           #> True\n",
    "bool(0.0)           #> False\n",
    "bool(0.01)          #> True\n",
    "\n",
    "# De str a boo \n",
    "bool(\"\")            #> False\n",
    "bool(\"Hola\")        #> True\n",
    "bool(\"False\")       #> True\n",
    "\n",
    "# De listas, tuplas, diccionarios\n",
    "bool([])            #> False\n",
    "bool([False])       #> True\n",
    "\n",
    "bool({})            #> False\n",
    "bool({'x':10})      #> True"
   ]
  },
  {
   "cell_type": "code",
   "execution_count": 48,
   "metadata": {},
   "outputs": [
    {
     "data": {
      "text/plain": [
       "0.3333333333333333"
      ]
     },
     "execution_count": 48,
     "metadata": {},
     "output_type": "execute_result"
    }
   ],
   "source": [
    "# Numeros\n",
    "a = 10          # int\n",
    "b = 10.0        # float\n",
    "\n",
    "\n",
    "c = 0b10100101  # binario. Se almacena en decimal = 165 \n",
    "d = 0x10        # hexadecimal. Se almacena en decimal = 16\n",
    "\n",
    "\n",
    "e = 10 + 20.0   # int + float = float\n",
    "\n",
    "f = 1 + 2 * 3           # La multiplicacion tiene mayor prioridad que la suma\n",
    "e = 1.0 + 2.0 * 3.0     # Tambien se cumple con float\n",
    "\n",
    "# Los numeros flotantes no son precisos\n",
    "j = 0.1 + 0.2           # 0.30000000000000004\n",
    "j == 0.3                # False\n",
    "1/3                     # 0.3333333333333333 (El 3 se repite infinitamente)"
   ]
  },
  {
   "cell_type": "code",
   "execution_count": 56,
   "metadata": {},
   "outputs": [
    {
     "data": {
      "text/plain": [
       "125.345"
      ]
     },
     "execution_count": 56,
     "metadata": {},
     "output_type": "execute_result"
    }
   ],
   "source": [
    "# Los numeros enteros son de precision infinita (en teoria)\n",
    "\n",
    "2 ** 10 # K Kilobyte\n",
    "2 ** 20 # M Megabyte\n",
    "2 ** 30 # G Gigabyte\n",
    "2 ** 40 # T Terabyte    \n",
    "2 ** 50 # P Petabyte\n",
    "2 ** 60 # E Exabyte\n",
    "\n",
    "125.345"
   ]
  },
  {
   "cell_type": "code",
   "execution_count": 1,
   "metadata": {},
   "outputs": [
    {
     "name": "stdout",
     "output_type": "stream",
     "text": [
      "hola \"mundo\n",
      "H\n",
      "o\n",
      "l\n",
      "a\n"
     ]
    },
    {
     "data": {
      "text/plain": [
       "True"
      ]
     },
     "execution_count": 1,
     "metadata": {},
     "output_type": "execute_result"
    }
   ],
   "source": [
    "# String \n",
    "\n",
    "\n",
    "s = \"hola\"          # Comillas dobles\n",
    "s = 'hola'          # Comillas simples\n",
    "s = \"\"\"hola\"\"\"      # Comillas triples (multilinea)\n",
    "s = '''hola'''      # Comillas triples (multilinea)\n",
    "\n",
    "s = \"hola \\\"mundo\"  # Caracteres de escape o control  \\n \\t \\r \\b \\f \\\\ \\'\n",
    "print(s) \n",
    "\n",
    "\"\"\"\n",
    "Esto es un texto\n",
    "que tiene saltos de linea\n",
    "\"\"\"\n",
    "\n",
    "def suma(a,b): # Las comillas triples se usan para documentar funciones\n",
    "    \"\"\"\n",
    "    la funcion suma toma dos numero y me da la suma \n",
    "    \"\"\"\n",
    "    return a + b\n",
    "\n",
    "\n",
    "s=\"Hola\"\n",
    "# s[1] = \"X\"\n",
    "\n",
    "# Las cadenas son lista de caracteres. Se pueden recorrer\n",
    "for c in s:\n",
    "    print(c)\n",
    "\n",
    "# Las cadenas son inmutables\n",
    "\n",
    "\n",
    "x = list(s)         # Convierte una cadena en una lista\n",
    "x[1] = \"X\"          # Cambia el segundo caracter\n",
    "s = \"\".join(x)      # Convierte una lista en una cadena\n",
    "\n",
    "# Existen metodos que permiten modificar las cadenas (no en realidad, crean una nueva cadena)\n",
    "s = \"hola muNdo\"\n",
    "s.capitalize()      #> \"Hola mundo\"\n",
    "s.upper()           #> \"HOLA MUNDO\"\n",
    "s.lower()           #> \"hola mundo\"\n",
    "s.title()           #> \"Hola Mundo\"\n",
    "s.swapcase()        #> \"HOLA MUnDO\"\n",
    "\n",
    "\n",
    "# Busqueda\n",
    "s = \"hola muNdo\"\n",
    "\"mu\" in s           # Incluido en la cadena\n",
    "s.startswith(\"ola\") # Empieza con\n",
    "s.endswith(\"do\")    # Termina con\n"
   ]
  }
 ],
 "metadata": {
  "kernelspec": {
   "display_name": "Python 3",
   "language": "python",
   "name": "python3"
  },
  "language_info": {
   "codemirror_mode": {
    "name": "ipython",
    "version": 3
   },
   "file_extension": ".py",
   "mimetype": "text/x-python",
   "name": "python",
   "nbconvert_exporter": "python",
   "pygments_lexer": "ipython3",
   "version": "3.12.5"
  }
 },
 "nbformat": 4,
 "nbformat_minor": 2
}
