{
 "cells": [
  {
   "cell_type": "code",
   "execution_count": 1,
   "metadata": {},
   "outputs": [],
   "source": [
    "class Oferta:\n",
    "    def __init__(self,descripcion, codigos = [], tipos = []): pass \n",
    "\n",
    "class OfertaDescuento(Oferta):\n",
    "    def __init__(self, descuento, *args, **kwargs): pass \n",
    "    \n",
    "class Oferta2x1(Oferta):\n",
    "    def __init__(self, *args, **kwargs): pass"
   ]
  },
  {
   "cell_type": "code",
   "execution_count": 20,
   "metadata": {},
   "outputs": [
    {
     "name": "stdout",
     "output_type": "stream",
     "text": [
      "3\n",
      "3\n",
      "11 + 22 = 33\n",
      "77\n",
      "1 2 (3, 4, 5)\n",
      "15\n"
     ]
    }
   ],
   "source": [
    "def suma(a,b):\n",
    "    return a+b\n",
    "\n",
    "print(suma(1,2))\n",
    "print(suma(b=2, a=1))\n",
    "\n",
    "(a,b) = (11,22)\n",
    "print(f\"{a} + {b} = {suma(a,b)}\")\n",
    "c = (33,44)\n",
    "print(suma(*c))\n",
    "\n",
    "def suma2(a,b,*args):\n",
    "    print(a,b,args)\n",
    "    s = 0\n",
    "    s += a\n",
    "    s += b\n",
    "    for x in args:\n",
    "        s += x\n",
    "    return s\n",
    "\n",
    "print(suma2(1,2,3,4,5))"
   ]
  },
  {
   "cell_type": "code",
   "execution_count": 30,
   "metadata": {},
   "outputs": [
    {
     "name": "stdout",
     "output_type": "stream",
     "text": [
      "Juan Perez {'edad': 33, 'ciudad': 'Montevideo'}\n"
     ]
    }
   ],
   "source": [
    "def persona(nombre, apellido, **kwargs):    \n",
    "    print(nombre, apellido, kwargs)\n",
    "\n",
    "par = {\"nombre\":\"Juan\", \"apellido\":\"Perez\",\n",
    "       \"edad\":33, \"ciudad\":\"Montevideo\"}\n",
    "persona(**par)\n"
   ]
  },
  {
   "cell_type": "code",
   "execution_count": 33,
   "metadata": {},
   "outputs": [
    {
     "name": "stdout",
     "output_type": "stream",
     "text": [
      "(3,)\n",
      "{'nombre': 'Juan', 'apellido': 'Perez', 'edad': 33}\n"
     ]
    }
   ],
   "source": [
    "def general(a,b,*tupla,c=10,d=20, **diccionario):\n",
    "    print(tupla)\n",
    "    print(diccionario)\n",
    "\n",
    "general(1,2,3, nombre=\"Juan\", apellido=\"Perez\", edad=33)\n",
    "\n"
   ]
  },
  {
   "cell_type": "code",
   "execution_count": 37,
   "metadata": {},
   "outputs": [
    {
     "name": "stdout",
     "output_type": "stream",
     "text": [
      "7 12\n",
      "(3, 4)\n",
      "{}\n",
      "(7, 12)\n"
     ]
    }
   ],
   "source": [
    "def calcular(a,b):\n",
    "    return a+b, a*b\n",
    "\n",
    "s,p = calcular(3,4)\n",
    "print(s,p)\n",
    "\n",
    "def mostrar(funcion, *args, **kwargs):\n",
    "    print(args)\n",
    "    print(kwargs)\n",
    "    return funcion(*args, **kwargs)\n",
    "\n",
    "xxx = mostrar(calcular, 3, 4)\n",
    "print(xxx)\n"
   ]
  },
  {
   "cell_type": "code",
   "execution_count": null,
   "metadata": {},
   "outputs": [],
   "source": []
  },
  {
   "cell_type": "code",
   "execution_count": null,
   "metadata": {},
   "outputs": [],
   "source": []
  }
 ],
 "metadata": {
  "kernelspec": {
   "display_name": "Python 3",
   "language": "python",
   "name": "python3"
  },
  "language_info": {
   "codemirror_mode": {
    "name": "ipython",
    "version": 3
   },
   "file_extension": ".py",
   "mimetype": "text/x-python",
   "name": "python",
   "nbconvert_exporter": "python",
   "pygments_lexer": "ipython3",
   "version": "3.12.5"
  }
 },
 "nbformat": 4,
 "nbformat_minor": 2
}
