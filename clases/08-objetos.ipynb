{
 "cells": [
  {
   "cell_type": "code",
   "execution_count": 62,
   "metadata": {},
   "outputs": [],
   "source": [
    "# Modelamos el mundo con las estructuras de datos que conocemos, list() y dict()\n",
    "\n",
    "datos = [\n",
    "    {'producto': 'Coca Cola', 'precio': 10, 'cantidad': 2},\n",
    "    {'producto': 'Pepsi', 'precio': 10, 'cantidad': 2},\n",
    "    {'producto': 'Fanta', 'precio': 10, 'cantidad': 2},\n",
    "    {'producto': 'Sprite', 'precio': 10, 'cantidad': 2},\n",
    "    {'producto': '7up', 'precio': 10, 'cantidad': 2},\n",
    "    {'producto': 'Mirinda', 'precio': 10, 'cantidad': 2},\n",
    "    {'producto': 'Manzanita', 'precio': 10, 'cantidad': 2},\n",
    "    {'producto': 'Boing', 'precio': 10, 'cantidad': 2},\n",
    "    {'producto': 'Jumex', 'precio': 10, 'cantidad': 2},\n",
    "    {'producto': 'Del Valle', 'precio': 10, 'cantidad': 2},\n",
    "    {'producto': 'Squirt', 'precio': 10, 'cantidad': 2},\n",
    "    {'producto': 'Jarritos', 'precio': 10, 'cantidad': 2},\n",
    "    {'producto': 'Sidral Mundet', 'precio': 10, 'cantidad': 2},\n",
    "    {'producto': 'Penafiel', 'precio': 10, 'cantidad': 2},\n",
    "    {'producto': 'Ciel', 'precio': 10, 'cantidad': 2},\n",
    "    {'producto': 'Bonafont', 'precio': 10, 'cantidad': 2},\n",
    "    {'producto': 'Topo Chico', 'precio': 10, 'cantidad': 2},\n",
    "    {'producto': 'Villavicencio', 'precio': 10, 'cantidad': 2},\n",
    "    {'producto': 'E-Pura', 'precio': 10, 'cantidad': 2},\n",
    "    {'producto': 'Electropura', 'precio': 10, 'cantidad': 2},\n",
    "    {'producto': 'Epura', 'precio': 10, 'cantidad': 2},\n",
    "    {'producto': 'Evian', 'precio': 10, 'cantidad': 2},\n",
    "    {'producto': 'San Pellegrino', 'precio': 10, 'cantidad': 2},\n",
    "    {'producto': 'Perrier', 'precio': 10, 'cantidad': 2},\n",
    "    {'producto': 'Red Bull', 'precio': 10, 'cantidad': 2},\n",
    "    {'producto': 'Monster', 'precio': 10, 'cantidad': 2},\n",
    "    {'producto': 'Rockstar', 'precio': 10, 'cantidad': 2},\n",
    "    {'producto': 'Vive 100', 'precio': 10, 'cantidad': 2},\n",
    "]"
   ]
  },
  {
   "cell_type": "code",
   "execution_count": 63,
   "metadata": {},
   "outputs": [
    {
     "name": "stdout",
     "output_type": "stream",
     "text": [
      "15\n",
      "Coca Cola 15 2 30\n",
      "Pepsi 10 2 20\n",
      "Fanta 10 2 20\n",
      "Sprite 10 2 20\n",
      "7up 10 2 20\n",
      "Mirinda 10 2 20\n",
      "Manzanita 10 2 20\n",
      "Boing 10 2 20\n",
      "Jumex 10 2 20\n",
      "Del Valle 10 2 20\n",
      "Squirt 10 2 20\n",
      "Jarritos 10 2 20\n",
      "Sidral Mundet 10 2 20\n",
      "Penafiel 10 2 20\n",
      "Ciel 10 2 20\n",
      "Bonafont 10 2 20\n",
      "Topo Chico 10 2 20\n",
      "Villavicencio 10 2 20\n",
      "E-Pura 10 2 20\n",
      "Electropura 10 2 20\n",
      "Epura 10 2 20\n",
      "Evian 10 2 20\n",
      "San Pellegrino 10 2 20\n",
      "Perrier 10 2 20\n",
      "Red Bull 10 2 20\n",
      "Monster 10 2 20\n",
      "Rockstar 10 2 20\n",
      "Vive 100 10 2 20\n"
     ]
    }
   ],
   "source": [
    "# Despues podemos accedos a los datos de la siguiente manera\n",
    "\n",
    "datos[0][\"precio\"] = 15\n",
    "print(datos[0][\"precio\"])\n",
    "for producto in datos:\n",
    "    print(producto[\"producto\"], producto[\"precio\"], producto[\"cantidad\"], producto[\"precio\"] * producto[\"cantidad\"])    \n"
   ]
  },
  {
   "cell_type": "code",
   "execution_count": 64,
   "metadata": {},
   "outputs": [],
   "source": [
    "# Las clases son una forma de modelar el mundo real, con objetos que tienen propiedades y metodos\n",
    "\n",
    "class Producto:\n",
    "    def __init__(self, nombre, precio, cantidad):\n",
    "        self.nombre = nombre                # Almacenamos los atributos del objeto\n",
    "        self.precio = precio\n",
    "        self.cantidad = cantidad\n",
    "\n",
    "    @property       \n",
    "    def importe(self):                      # Propiedad que calcula el importe del producto\n",
    "        return self.precio * self.cantidad\n",
    "\n",
    "    @property \n",
    "    def precio(self):                       # Propiedad que nos permite acceder al precio del producto\n",
    "        return self._precio                 # El precio se almacena en una variable privada\n",
    "    \n",
    "    @precio.setter\n",
    "    def precio(self, precio):               # Propiedad que nos permite modificar el precio del producto\n",
    "        if precio > 0:                      \n",
    "            self._precio = precio - precio % 10 + 9 # Almacenamos el precios en forma controlada (valores positivos que terminan en 9)\n",
    "\n",
    "\n",
    "    def aumento(self, porcentaje):          # Metodo que aumenta el precio del producto (Encapsulamiento de la logica)\n",
    "        if porcentaje > 0:\n",
    "            self.precio = self.precio * (1 + porcentaje / 100)\n",
    "\n",
    "    def agregar(self,cantidad):             # Metodo que agrega productos al inventario (Encapsulamiento de la logica)\n",
    "        if cantidad > 0:\n",
    "            self.cantidad += cantidad \n",
    "            \n",
    "    def quitar(self, cantidad):             # Metodo que quita productos al inventario (Encapsulamiento de la logica)\n",
    "        if cantidad > 0:\n",
    "            if cantidad < self.cantidad:\n",
    "                self.cantidad -= cantidad \n",
    "\n",
    "\n",
    "    # def __bool__(self):                     # funciones 'especiales' que nos permiten usar el objeto en contextos booleanos\n",
    "    #     return self.cantidad > 0\n",
    "    \n",
    "    def __str__(self):                      # funciones 'especiales' que nos permiten imprimir el objeto de forma amigable\n",
    "        return f\"- {self.nombre:20} ${self.precio:>6.2f} * {self.cantidad:>2} = ${self.importe:>6.2f}\"\n",
    "    \n",
    "    def __repr__(self):                     # funciones 'especiales' que nos permiten imprimir el objeto de forma amigable\n",
    "        return f\"Producto({self.nombre!r}, {self.precio!r}, {self.cantidad!r})\"  # !r nos permite imprimir el valor de la variable de forma 'repr'\n",
    "                                                                                 # !s nos permite imprimir el valor de la variable de forma 'str'\n"
   ]
  },
  {
   "cell_type": "code",
   "execution_count": 65,
   "metadata": {},
   "outputs": [
    {
     "name": "stdout",
     "output_type": "stream",
     "text": [
      "Coca Cola 19 10 190\n",
      "Pepsi Cola 1109 20 22180\n"
     ]
    }
   ],
   "source": [
    "datos = [\n",
    "    Producto(\"Coca Cola\",  1000, 10),\n",
    "    Producto('Pepsi Cola', 1100, 20)\n",
    "]\n",
    "\n",
    "# datos[0][\"precio\"] = 15\n",
    "# print(datos[0][\"precio\"])\n",
    "# for producto in datos:\n",
    "#     print(producto[\"producto\"], producto[\"precio\"], producto[\"cantidad\"], producto[\"precio\"] * producto[\"cantidad\"])    \n",
    "\n",
    "# El accesso a los datos es mas amigable y seguro\n",
    "datos[0].precio = 15 \n",
    "for p in datos:\n",
    "    print(p.nombre, p.precio, p.cantidad, p.importe)    \n"
   ]
  },
  {
   "cell_type": "code",
   "execution_count": 66,
   "metadata": {},
   "outputs": [
    {
     "name": "stdout",
     "output_type": "stream",
     "text": [
      "10 es verdadero\n",
      "El producto tiene existencias\n"
     ]
    },
    {
     "data": {
      "text/plain": [
       "{'__dict__',\n",
       " '__module__',\n",
       " '__weakref__',\n",
       " '_precio',\n",
       " 'agregar',\n",
       " 'aumento',\n",
       " 'cantidad',\n",
       " 'importe',\n",
       " 'nombre',\n",
       " 'precio',\n",
       " 'quitar'}"
      ]
     },
     "execution_count": 66,
     "metadata": {},
     "output_type": "execute_result"
    }
   ],
   "source": [
    "# bool() nos permite usar el objeto en contextos booleanos (if, while, and, or)\n",
    "# p.e. \n",
    "bool(True)  # Convierte un valor a booleano\n",
    "bool(10)    \n",
    "bool(\"\")\n",
    "bool(\"Hola\")\n",
    "bool(0)\n",
    "bool(None)\n",
    "bool([])\n",
    "bool({})\n",
    "# bool(datos[0])\n",
    "\n",
    "if 10: print(\"10 es verdadero\")\n",
    "# Para poder usar '10' en un contexto booleano, python lo convierte a booleano llamando a bool(10) en forma implicita\n",
    "# pero bool le pide al  objeto que se convierta a booleano llamando a __bool__ o __len__ en caso de que __bool__ no exista\n",
    "\n",
    "if \"\": print(\"La cadena vacia es verdadera\")\n",
    "\n",
    "# class Producto:\n",
    "#     def __bool__(self):\n",
    "#         return self.cantidad > 0\n",
    "\n",
    "if datos[0]: print(\"El producto tiene existencias\") # llama implicitamente a bool(datos[0]) que usa el metodo __bool__ del objeto Producto datos[0].__bool__()\n",
    "set(dir(datos[0])) - set(dir(object))"
   ]
  },
  {
   "cell_type": "code",
   "execution_count": 67,
   "metadata": {},
   "outputs": [
    {
     "name": "stdout",
     "output_type": "stream",
     "text": [
      "El producto es [- Coca Cola Zero       $1509.00 * 20 = $24144.00]\n",
      "El producto es [Producto('Coca Cola Zero', 1509, 20)]\n"
     ]
    }
   ],
   "source": [
    "# HERENCIA \n",
    "# La herencia nos permite reutilizar codigo de una clase en otra clase \n",
    "\n",
    "class Oferta(Producto):\n",
    "    def __init__(self, nombre, precio, cantidad, descuento):    # La clase Oferta hereda de la clase Producto (Producto es la clase padre)\n",
    "        super().__init__(nombre, precio, cantidad)              # Llamamos al constructor de la clase padre\n",
    "        self.descuento = descuento                              # Agregamos un nuevo atributo a la clase hija\n",
    "\n",
    "    @property\n",
    "    def importe(self):                                          # Sobreescribimos el metodo importe de la clase padre\n",
    "        return super().importe * (1 - self.descuento/100)       # Llamamos al metodo importe de la clase padre 'super().importe' y lo modificamos\n",
    "\n",
    "p = Oferta(\"Coca Cola Zero\", 1500, 10, 20)\n",
    "p.agregar(10)\n",
    "print(f\"El producto es [{p!s}]\")  # Llama a str(p)  que llama a p.__str__()\n",
    "print(f\"El producto es [{p!r}]\")  # Llama a repr(p) que llama a p.__repr__() "
   ]
  },
  {
   "cell_type": "code",
   "execution_count": 68,
   "metadata": {},
   "outputs": [
    {
     "name": "stdout",
     "output_type": "stream",
     "text": [
      "30\n",
      "Hola Mundo\n",
      "- Coca Cola            $1109.00 * 20 = $22180.00\n"
     ]
    }
   ],
   "source": [
    "# Polimorfismo. \n",
    "#  El signo + se comporta de forma diferente segun el tipo de los operandos\n",
    "\n",
    "print(10 + 20)  # Suma dos numeros\n",
    "print(\"Hola\" + \" Mundo\") # Concatena dos cadenas\n",
    "\n",
    "(2 * 3) + 4  #  a.__mul__(b).__add__(c)\n",
    "\n",
    "# El polimorfismo nos permite usar el mismo operador con diferentes tipos de datos\n",
    "# usando 'funciones especiales' que python llama en forma implicita  '+' => __add__(), '-' => __sub__(), '*' => __mul__(), '/' => __truediv__(), etc\n",
    "\n",
    "# Ejemplo de polimorfismo\n",
    "(\"Hola \" * 3) + \" Mundo\"  \n",
    "\"Hola\".__mul__(3).__add__(\" Mundo\")  # Esto es lo que realmente hace python\n",
    "\n",
    "class Producto2(Producto): \n",
    "    def __init__(self, nombre, precio, cantidad):\n",
    "        super().__init__(nombre, precio, cantidad)\n",
    "\n",
    "    # p.e. al summar incrementa la cantidad de productos    \n",
    "    def __add__(self, n): # Sobreescribimos el metodo __add__ para que funcione con el operador +\n",
    "        self.cantidad += n\n",
    "        return self \n",
    "\n",
    "    # p.e al multiplicar incrementa el precio del producto\n",
    "    def __mul__(self, aumento):  # Sobreescribimos el metodo __mul__ para que funcione con el operador *\n",
    "        self.precio *= aumento\n",
    "        return self \n",
    "    \n",
    "p = Producto2(\"Coca Cola\", 1000, 10)\n",
    "p = p + 10\n",
    "p = p * 1.10\n",
    "print(p)\n"
   ]
  },
  {
   "cell_type": "code",
   "execution_count": 71,
   "metadata": {},
   "outputs": [
    {
     "name": "stdout",
     "output_type": "stream",
     "text": [
      "3\n",
      "\n",
      "Con for accediendo a los atributos internos\n",
      "- Coca Cola            $1009.00 * 10 = $10090.00\n",
      "- Pepsi Cola           $909.00 * 20 = $18180.00\n",
      "- Secco                $709.00 * 100 = $56720.00\n",
      "\n",
      "Con for in usand len y getitem\n",
      "- Coca Cola            $1009.00 * 10 = $10090.00\n",
      "- Pepsi Cola           $909.00 * 20 = $18180.00\n",
      "- Secco                $709.00 * 100 = $56720.00\n",
      "\n",
      "Con for in\n",
      "- Coca Cola            $1009.00 * 10 = $10090.00\n",
      "- Pepsi Cola           $909.00 * 20 = $18180.00\n",
      "- Secco                $709.00 * 100 = $56720.00\n",
      "\n",
      "Con slice\n",
      "[Producto('Coca Cola', 1009, 10), Producto('Pepsi Cola', 909, 20)]\n"
     ]
    }
   ],
   "source": [
    "# Ejemplo de polimorfismo, clase que se comporta como una lista \n",
    "\n",
    "class Tienda:\n",
    "    def __init__(self,nombre):\n",
    "        self.nombre = nombre\n",
    "        self.productos = []\n",
    "    \n",
    "    def agregar(self, producto):\n",
    "        self.productos.append(producto)\n",
    "\n",
    "    def __str__(self):\n",
    "        return f\"La tienda de {self.nombre} tiene {len(self.productos)} productos\"\n",
    "    \n",
    "    def __len__(self):                  # funciones 'especiales' que nos permiten usar el objeto en contextos numericos\n",
    "        return len(self.productos)      # len(t) llama a t.__len__()\n",
    "    \n",
    "    def __getitem__(self, indice):      \n",
    "        return self.productos[indice]   # t[0] llama a t.__getitem__(0)\n",
    "    \n",
    "t = Tienda(\"Gaseosas\")\n",
    "t.agregar(Producto('Coca Cola', 1000, 10))\n",
    "t.agregar(Producto('Pepsi Cola', 900, 20))\n",
    "t.agregar(Oferta('Secco', 700, 100, 20))\n",
    "print(len(t))\n",
    "\n",
    "# Listar los productos usando t.productos \n",
    "# con for accediendo a la lista de productos de la tienda (attributos internos)\n",
    "print(\"\\nCon for accediendo a los atributos internos\")\n",
    "for i in range(len(t.productos)):\n",
    "    p = t.productos[i]\n",
    "    print(p)\n",
    "\n",
    "# Listar los productos usando t[i]\n",
    "# El for in usa internamente _len_ y _getitem_ para recorrer la lista\n",
    "print(\"\\nCon for in usand len y getitem\")\n",
    "for i in range(len(t)):     # len(t) llama a t.__len__()\n",
    "    p = t[i]                # t[i] llama a t.__getitem__(i)\n",
    "    print(p)                # p.__str__()\n",
    "\n",
    "# El for in usa internamente _len_ y _getitem_ para recorrer la lista\n",
    "print(\"\\nCon for in\")\n",
    "for p in t:\n",
    "    print(p)\n",
    "\n",
    "# Incluso funciona con [::] (slice) que internamente usa len y getitem para recorrer la lista\n",
    "\n",
    "print(\"\\nCon slice\")\n",
    "print(t[0:2])  # t[0:2] llama a t.__getitem__(slice(0,2,None))"
   ]
  },
  {
   "cell_type": "code",
   "execution_count": null,
   "metadata": {},
   "outputs": [],
   "source": []
  }
 ],
 "metadata": {
  "kernelspec": {
   "display_name": "Python 3",
   "language": "python",
   "name": "python3"
  },
  "language_info": {
   "codemirror_mode": {
    "name": "ipython",
    "version": 3
   },
   "file_extension": ".py",
   "mimetype": "text/x-python",
   "name": "python",
   "nbconvert_exporter": "python",
   "pygments_lexer": "ipython3",
   "version": "3.12.5"
  }
 },
 "nbformat": 4,
 "nbformat_minor": 2
}
