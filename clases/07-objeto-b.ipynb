{
 "cells": [
  {
   "cell_type": "code",
   "execution_count": 6,
   "metadata": {},
   "outputs": [
    {
     "name": "stdout",
     "output_type": "stream",
     "text": [
      "10\n",
      "20\n"
     ]
    }
   ],
   "source": [
    "\n",
    "def Stack():\n",
    "    return {'cantidad': 0, 'items':[None,None,None,None,None,None,None,None,None,None,]}\n",
    "\n",
    "def push(pila, valor):\n",
    "    pila['items'][pila['cantidad']] = valor\n",
    "    pila['cantidad'] += 1\n",
    "\n",
    "def pop(pila):\n",
    "    pila['cantidad'] -= 1\n",
    "    return pila['items'][pila['cantidad']]\n",
    "\n",
    "def empty(pila):\n",
    "    return pila['cantidad'] == 0\n",
    "\n",
    "a = Stack()\n",
    "push(a, 10)\n",
    "push(a, 20)\n",
    "\n",
    "b = Stack()\n",
    "while not empty(a):\n",
    "    push(b, pop(a))\n",
    "\n",
    "while not empty(b):\n",
    "    print(pop(b))\n"
   ]
  },
  {
   "cell_type": "code",
   "execution_count": 8,
   "metadata": {},
   "outputs": [],
   "source": [
    "def Stack():\n",
    "    return []\n",
    "\n",
    "def push(pila, valor):\n",
    "    pila.append(valor)\n",
    "\n",
    "def pop(pila):\n",
    "    return pila.pop()\n",
    "\n",
    "def empty(pila):\n",
    "    return len(pila) == 0"
   ]
  },
  {
   "cell_type": "code",
   "execution_count": 10,
   "metadata": {},
   "outputs": [
    {
     "name": "stdout",
     "output_type": "stream",
     "text": [
      "10\n",
      "20\n"
     ]
    }
   ],
   "source": [
    "a = Stack()\n",
    "push(a, 10)\n",
    "push(a, 20)\n",
    "\n",
    "b = Stack()\n",
    "while not empty(a):\n",
    "    push(b, pop(a))\n",
    "\n",
    "while not empty(b):\n",
    "    print(pop(b))\n"
   ]
  },
  {
   "cell_type": "code",
   "execution_count": 13,
   "metadata": {},
   "outputs": [
    {
     "name": "stdout",
     "output_type": "stream",
     "text": [
      "20\n",
      "10\n"
     ]
    }
   ],
   "source": [
    "class Pila:\n",
    "    def __init__(self):\n",
    "        self.items = []\n",
    "\n",
    "    def push(self, valor):\n",
    "        self.items.append(valor)\n",
    "\n",
    "    def pop(self):\n",
    "        return self.items.pop()\n",
    "\n",
    "    def empty(self):\n",
    "        return len(self.items) == 0\n",
    "\n",
    "a = Pila()\n",
    "# Pila.push(a, 10)\n",
    "a.push(10)\n",
    "# Pila.push(a, 20)    \n",
    "a.push(20)\n",
    "while not a.empty():\n",
    "    print(a.pop())"
   ]
  },
  {
   "cell_type": "code",
   "execution_count": 15,
   "metadata": {},
   "outputs": [],
   "source": [
    "class Cola:\n",
    "    def __init__(self):\n",
    "        self.items = []\n",
    "        \n",
    "    def push(self, valor):\n",
    "        self.items.insert(0,valor)\n",
    "    \n",
    "a = Cola()\n",
    "a.push(20)\n"
   ]
  },
  {
   "cell_type": "code",
   "execution_count": 25,
   "metadata": {},
   "outputs": [
    {
     "name": "stdout",
     "output_type": "stream",
     "text": [
      "<class 'int'>\n",
      "<class 'function'>\n",
      " \n",
      "    Esta funcion toma dos numeros y me \n",
      "    returna la suma\n",
      "    \n",
      "<code object suma at 0x111245960, file \"/var/folders/6n/z412hmln0wn4g5vby875r5s00000gn/T/ipykernel_826/2936537255.py\", line 7>\n"
     ]
    }
   ],
   "source": [
    "a = 10\n",
    "print(type(a))\n",
    "\n",
    "(10).is_integer()\n",
    "dir(\"hola\")\n",
    "\n",
    "def suma(a,b): \n",
    "    \"\"\" \n",
    "    Esta funcion toma dos numeros y me \n",
    "    returna la suma\n",
    "    \"\"\"\n",
    "    return a + b\n",
    "\n",
    "print(type(suma))\n",
    "dir(suma)\n",
    "print(suma.__doc__)\n",
    "a = suma \n",
    "print(a.__code__)"
   ]
  },
  {
   "cell_type": "code",
   "execution_count": 42,
   "metadata": {},
   "outputs": [
    {
     "name": "stdout",
     "output_type": "stream",
     "text": [
      "{'nombre': 'Juan', 'edad': 30, 'apellido': 'Perez'}\n"
     ]
    }
   ],
   "source": [
    "class Persona:\n",
    "    def __init__(self, nombre, edad=0):\n",
    "        self.nombre = nombre\n",
    "        self.edad = edad \n",
    "\n",
    "    def cumplir(self):\n",
    "        self.edad += 1\n",
    "    \n",
    "    def __str__(self):\n",
    "        return f\"{self.nombre} ({self.edad})\"\n",
    "    \n",
    "    def __bool__(self):\n",
    "        return bool(self.nombre)\n",
    "\n",
    "    def __add__(self, cantidad):\n",
    "        self.edad += cantidad \n",
    "\n",
    "juan = Persona('Juan', 30)\n",
    "maria = Persona('Maria', 20)\n",
    "juan.apellido = 'Perez'\n",
    "print(juan.__dict__)"
   ]
  }
 ],
 "metadata": {
  "kernelspec": {
   "display_name": "Python 3",
   "language": "python",
   "name": "python3"
  },
  "language_info": {
   "codemirror_mode": {
    "name": "ipython",
    "version": 3
   },
   "file_extension": ".py",
   "mimetype": "text/x-python",
   "name": "python",
   "nbconvert_exporter": "python",
   "pygments_lexer": "ipython3",
   "version": "3.12.5"
  }
 },
 "nbformat": 4,
 "nbformat_minor": 2
}
